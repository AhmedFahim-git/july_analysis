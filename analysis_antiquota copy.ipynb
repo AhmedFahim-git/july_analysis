{
 "cells": [
  {
   "cell_type": "markdown",
   "metadata": {},
   "source": [
    "# antiquotadu"
   ]
  },
  {
   "cell_type": "code",
   "execution_count": 1,
   "metadata": {},
   "outputs": [],
   "source": [
    "import json\n",
    "\n",
    "# with open('antiquotadu/result.json') as f:\n",
    "with open('sup/antiquotadu_discuss/result.json') as f:\n",
    "    my_json = json.load(f)"
   ]
  },
  {
   "cell_type": "code",
   "execution_count": 2,
   "metadata": {},
   "outputs": [],
   "source": [
    "import pandas as pd\n",
    "my_keys = set()\n",
    "emojis = set()\n",
    "hashtags = set()\n",
    "for message in my_json['messages']:\n",
    "    if pd.to_datetime(message['date']) < pd.to_datetime(\"2024-08-06\"):\n",
    "        my_keys = my_keys.union(set(message.keys()))\n",
    "        if ('reactions' in message) and (len(message['reactions']) >0):\n",
    "            for rxn in message['reactions']:\n",
    "                if 'emoji' in rxn:\n",
    "                    emojis.add(rxn['emoji'])\n",
    "        if ('text_entities' in message) and (len(message['text_entities'] )> 0):\n",
    "            hashtags = hashtags.union(set([i['text'] for i in message['text_entities'] if i['type']=='hashtag']))\n"
   ]
  },
  {
   "cell_type": "code",
   "execution_count": 3,
   "metadata": {},
   "outputs": [],
   "source": [
    "import pandas as pd\n",
    "from collections import defaultdict\n",
    "import numpy as np\n",
    "\n",
    "res_dict = defaultdict(list)\n",
    "emoji_dict = defaultdict(list)\n",
    "hashtag_dict = defaultdict(list)\n",
    "\n",
    "for message in my_json['messages']:\n",
    "    \n",
    "    if (pd.to_datetime(message['date']) < pd.to_datetime(\"2024-08-06\")) and (pd.to_datetime(message['date']) > pd.to_datetime(\"2024-01-01\")) and (message['type']=='message'):\n",
    "        for k, v in message.items():\n",
    "            res_dict[k].append(str(v))\n",
    "        text_plain = ''.join([i['text'] for i in message['text_entities'] if (i['type']!='hashtag') and (i['type']!='mention')])\n",
    "        if ('photo' in message) and (pd.notnull(message['photo'])):\n",
    "            text_plain = \"media_image\\n\" + text_plain\n",
    "        if ('media_type' in message):\n",
    "            if message['media_type'] == 'video_file':\n",
    "                text_plain = \"media_video\\n\" + text_plain\n",
    "            if message['media_type'] == 'voice_message':\n",
    "                text_plain = \"media_audio\\n\" + text_plain\n",
    "        res_dict['text_plain'].append(text_plain)\n",
    "        un_list = [i for i in my_keys if i not in message]\n",
    "        for i in un_list:\n",
    "            res_dict[i].append(np.nan)\n",
    "        \n",
    "        temp_emojis = dict()\n",
    "        emoji_dict['id'].append(message['id'])\n",
    "        if ('reactions' in message) and (len(message['reactions']) > 0):\n",
    "            temp_emojis = {i['emoji']:i['count'] for i in message['reactions'] if 'emoji' in i}\n",
    "        \n",
    "        for k, v in temp_emojis.items():\n",
    "            emoji_dict[k].append(v)\n",
    "        un_emojis = [i for i in emojis if i not in temp_emojis]\n",
    "        for i in un_emojis:\n",
    "            emoji_dict[i].append(np.nan)\n",
    "        \n",
    "        temp_hashs = set()\n",
    "        hashtag_dict['id'].append(message['id'])\n",
    "        if ('text_entities' in message) and (len(message['text_entities']) > 0):\n",
    "            for j in [i['text'] for i in message['text_entities'] if i['type']=='hashtag']:\n",
    "                if j not in temp_hashs:\n",
    "                    temp_hashs.add(j)\n",
    "                    hashtag_dict[j].append(1)\n",
    "        un_hashs = [i for i in hashtags if i not in temp_hashs]\n",
    "        for i in un_hashs:\n",
    "            hashtag_dict[i].append(np.nan)"
   ]
  },
  {
   "cell_type": "code",
   "execution_count": 4,
   "metadata": {},
   "outputs": [],
   "source": [
    "result_df = pd.DataFrame(res_dict)\n",
    "result_df = result_df[result_df['text_plain'].apply(len)>0].reset_index(drop=True)\n",
    "result_df['id'] = result_df['id'].astype(int)\n",
    "result_df['date'] = pd.to_datetime(result_df['date'])\n",
    "\n",
    "emoji_df = pd.DataFrame(emoji_dict)\n",
    "emoji_df['id'] = emoji_df['id'].astype(int)\n",
    "\n",
    "hashtag_df = pd.DataFrame(hashtag_dict)\n",
    "hashtag_df['id'] = hashtag_df['id'].astype(int)\n",
    "\n",
    "\n",
    "result_df['num_reactions'] = result_df['id'].map(emoji_df.set_index('id').sum(axis=1).to_dict())\n",
    "\n",
    "result_df['Reactions'] = result_df['id'].map(emoji_df.set_index('id').apply(lambda x: \"Reactions: \" + \" \".join([i+str(int(v)) for i, v in x.sort_values(ascending=False).items() if pd.notna(v)]), axis=1))\n",
    "result_df['Text_Emotion'] = (result_df['text_plain'] + \" \" + result_df['Reactions']).str.strip()\n",
    "\n",
    "result_df['image_address'] = result_df['photo'].apply(lambda x: 'sup/antiquotadu_discuss/' + x if pd.notnull(x) else np.nan)\n",
    "\n",
    "result_df['weights'] = np.sqrt(result_df['num_reactions']+1).astype(int)"
   ]
  },
  {
   "cell_type": "code",
   "execution_count": 5,
   "metadata": {},
   "outputs": [
    {
     "name": "stdout",
     "output_type": "stream",
     "text": [
      "punkt not found. downloading...\n"
     ]
    },
    {
     "name": "stderr",
     "output_type": "stream",
     "text": [
      "[nltk_data] Downloading package punkt_tab to /home/fahim/nltk_data...\n",
      "[nltk_data]   Package punkt_tab is already up-to-date!\n",
      "/home/fahim/miniconda3/envs/llm_env/lib/python3.11/site-packages/tqdm/auto.py:21: TqdmWarning: IProgress not found. Please update jupyter and ipywidgets. See https://ipywidgets.readthedocs.io/en/stable/user_install.html\n",
      "  from .autonotebook import tqdm as notebook_tqdm\n"
     ]
    }
   ],
   "source": [
    "from bnlp import NLTKTokenizer, BengaliCorpus\n",
    "from bangla_stemmer.stemmer.stemmer import BanglaStemmer\n",
    "import os\n",
    "import nltk\n",
    "from nltk.tokenize import TweetTokenizer\n",
    "from nltk.corpus import stopwords\n",
    "from contextlib import redirect_stdout\n",
    "\n",
    "snowball_stemmer = nltk.stem.SnowballStemmer('english')\n",
    "\n",
    "stemmer = BanglaStemmer()\n",
    "\n",
    "# bnltk_tokenizer = NLTKTokenizer()\n",
    "twt_tokenizer = TweetTokenizer()\n",
    "\n",
    "ignore_words = stopwords.words('english') + BengaliCorpus.stopwords + list(BengaliCorpus.punctuations) + ['➡', \"\", \"click\", \"..\", \"...\"]\n",
    "\n",
    "def process_texts(x):\n",
    "    x = x.lower().replace(\"।\", \"\")\n",
    "    \n",
    "    nltk_tokens = twt_tokenizer.tokenize(x)\n",
    "    filtered_nltk_tokens = [i for i in nltk_tokens if (i not in ignore_words) and (len(i.strip())> 1)]\n",
    "    # filtered_tokens = [i for i in stemmed_tokens if i not in BengaliCorpus.stopwords]\n",
    "    stemmed_tokens = [snowball_stemmer.stem(i) for i in filtered_nltk_tokens]\n",
    "    # x = \" \".join(stemmed_tokens)\n",
    "    \n",
    "    \n",
    "    # tokens = bnltk_tokenizer.word_tokenize(x)\n",
    "    \n",
    "    with open(os.devnull, 'w') as f:\n",
    "        with redirect_stdout(f):\n",
    "            stemmed_tokens = [stemmer.stem(i) for i in stemmed_tokens]\n",
    "    \n",
    "    return [i for i in stemmed_tokens if len(i) >0]\n",
    "\n",
    "\n",
    "\n",
    "result_df['documents'] = result_df['text_plain'].apply(process_texts)\n",
    "\n",
    "\n",
    "result_df['documents']=result_df['documents'].apply(lambda x: [i for i in x if len(i)>1])\n"
   ]
  },
  {
   "cell_type": "code",
   "execution_count": 6,
   "metadata": {},
   "outputs": [
    {
     "name": "stdout",
     "output_type": "stream",
     "text": [
      "-8.658854947676742\n",
      "-5.53689554402531\n"
     ]
    },
    {
     "data": {
      "text/plain": [
       "[(0,\n",
       "  '0.009*\"na\" + 0.009*\"capt\" + 0.007*\"er\" + 0.005*\"ki\" + 0.004*\"vai\" + 0.004*\"pass\" + 0.004*\"ভিডি\" + 0.004*\"kore\" + 0.003*\"করুন\" + 0.003*\"pleas\"'),\n",
       " (1,\n",
       "  '0.050*\"media_imag\" + 0.025*\"media_video\" + 0.014*\"আন্দোলন\" + 0.013*\"ছাত্র\" + 0.011*\"ঢাকা\" + 0.010*\"হাসিনা\" + 0.010*\"হাসিন\" + 0.008*\"সকল\" + 0.008*\"সমন্বয়ক\" + 0.007*\"শিক্ষার্থী\"'),\n",
       " (2,\n",
       "  '0.011*\"ভাই\" + 0.009*\"সবা\" + 0.009*\"দেশ\" + 0.008*\"এক\" + 0.007*\"আপনা\" + 0.007*\"ছাত্র\" + 0.007*\"মানুষ\" + 0.006*\"করুন\" + 0.006*\"হয়\" + 0.006*\"সেনাবাহিনী\"')]"
      ]
     },
     "execution_count": 6,
     "metadata": {},
     "output_type": "execute_result"
    }
   ],
   "source": [
    "from gensim.corpora.dictionary import Dictionary\n",
    "from gensim.models import LdaModel, CoherenceModel\n",
    "\n",
    "\n",
    "result_df_subset = result_df[result_df['documents'].apply(len)>0].reset_index(drop=True)\n",
    "\n",
    "dictionary = Dictionary(result_df_subset['documents'])\n",
    "\n",
    "\n",
    "weighted_corpus = []\n",
    "for i, text in enumerate(result_df_subset['documents']):\n",
    "    bow = dictionary.doc2bow(text)\n",
    "    weighted_bow = []\n",
    "    for word_id, count in bow:\n",
    "        weighted_bow.append((word_id, count * result_df_subset['weights'].iloc[i]))\n",
    "    weighted_corpus.append(weighted_bow)\n",
    "\n",
    "lda_model = LdaModel(weighted_corpus, 3, id2word=dictionary)\n",
    "\n",
    "print(lda_model.log_perplexity(weighted_corpus))\n",
    "\n",
    "cohere_model = CoherenceModel(model=lda_model, corpus=weighted_corpus, dictionary=dictionary, coherence='u_mass')\n",
    "print(cohere_model.get_coherence())\n",
    "lda_model.print_topics()"
   ]
  },
  {
   "cell_type": "code",
   "execution_count": 7,
   "metadata": {},
   "outputs": [
    {
     "data": {
      "text/plain": [
       "(array([19921., 19925., 19929., 19933., 19936., 19940.]),\n",
       " [Text(19921.0, 0, '2024-07-17'),\n",
       "  Text(19925.0, 0, '2024-07-21'),\n",
       "  Text(19929.0, 0, '2024-07-25'),\n",
       "  Text(19933.0, 0, '2024-07-29'),\n",
       "  Text(19936.0, 0, '2024-08-01'),\n",
       "  Text(19940.0, 0, '2024-08-05')])"
      ]
     },
     "execution_count": 7,
     "metadata": {},
     "output_type": "execute_result"
    },
    {
     "data": {
      "image/png": "[encoded data removed]",
      "text/plain": [
       "<Figure size 1500x600 with 1 Axes>"
      ]
     },
     "metadata": {},
     "output_type": "display_data"
    }
   ],
   "source": [
    "import matplotlib.pyplot as plt\n",
    "import seaborn as sns\n",
    "\n",
    "plt.figure(figsize=(15,6))\n",
    "sns.lineplot(x=result_df['date'], y=result_df['num_reactions'] )\n",
    "plt.xticks(rotation=90,)"
   ]
  },
  {
   "cell_type": "code",
   "execution_count": 12,
   "metadata": {},
   "outputs": [
    {
     "data": {
      "text/html": [
       "\n",
       "<link rel=\"stylesheet\" type=\"text/css\" href=\"https://cdn.jsdelivr.net/gh/bmabey/pyLDAvis@3.4.0/pyLDAvis/js/ldavis.v1.0.0.css\">\n",
       "\n",
       "\n",
       "<div id=\"ldavis_el157241344583611620806071889163\" style=\"background-color:white;\"></div>\n",
       "<script type=\"text/javascript\">\n",
       "\n",
       "var ldavis_el157241344583611620806071889163_data = {\"mdsDat\": {\"x\": [-0.10187661653147276, -0.17357828183731738, 0.27545489836879006], \"y\": [0.17290062438950435, -0.14529183455473665, -0.027608789834767725], \"topics\": [1, 2, 3], \"cluster\": [1, 1, 1], \"Freq\": [41.913134071655236, 36.667463536296445, 21.41940239204832]}, \"tinfo\": {\"Term\": [\"media_imag\", \"media_video\", \"\\u09b9\\u09be\\u09b8\\u09bf\\u09a8\", \"\\u09a2\\u09be\\u0995\\u09be\", \"capt\", \"\\u09b9\\u09be\\u09b8\\u09bf\\u09a8\\u09be\", \"na\", \"\\u09ad\\u09be\\u0987\", \"\\u09b6\\u09b9\\u09c0\\u09a6\", \"er\", \"\\u09ac\\u09c8\\u09b7\\u09ae\\u09cd\\u09af\\u09ac\\u09bf\\u09b0\\u09cb\\u09a7\\u09c0\", \"\\u09a2\\u09be\\u0995\\u09be\\u09df\", \"\\u0996\\u09c1\\u09a8\\u09bf\", \"\\u0986\\u09a8\\u09cd\\u09a6\\u09cb\\u09b2\\u09a8\", \"\\u09b8\\u09ae\\u09a8\\u09cd\\u09ac\\u09df\\u0995\", \"\\u09a6\\u09c7\\u09b6\", \"\\u09b6\\u09c7\\u0996\", \"\\u09b6\\u09bf\\u0995\\u09cd\\u09b7\\u09be\\u09b0\\u09cd\\u09a5\\u09c0\", \"\\u099b\\u09be\\u09a4\\u09cd\\u09b0\", \"\\u09b8\\u0995\\u09b2\", \"\\u09aa\\u09a6\\u09a4\\u09cd\\u09af\\u09be\\u0997\", \"\\u09b8\\u09c7\\u09a8\\u09be\\u09ac\\u09be\\u09b9\\u09bf\\u09a8\\u09c0\", \"ki\", \"\\u0997\\u09a0\\u09a8\", \"\\u09b8\\u09b0\\u0995\\u09be\\u09b0\", \"\\u0986\\u0997\\u09be\\u09ae\\u09c0\\u0995\\u09be\\u09b2\", \"vai\", \"\\u09b8\\u09ac\\u09be\", \"\\u0998\\u09cb\\u09b7\\u09a3\\u09be\", \"pass\", \"\\u0997\\u09a8\\u09ad\\u09ac\\u09a8\", \"\\u09a6\\u09be\\u09df\\u09bf\\u09a4\\u09cd\\u09ac\", \"\\u0995\\u0987\", \"\\u09af\\u09be\\u09ac\\u09c7\\u09a8\\u09be\", \"\\u0995\\u09cd\\u09b7\\u09ae\\u09a4\\u09be\\u09df\", \"\\u09ac\\u09bf\\u099c\\u09af\\u09bc\", \"\\u09ae\\u09c1\\u09b8\\u09b2\\u09bf\\u09ae\", \"\\u09a6\\u09c3\\u09b6\\u09cd\\u09af\", \"\\u09b8\\u09b0\\u0995\\u09be\\u09b0\", \"\\u09a8\\u09b7\\u09cd\\u099f\", \"\\u09a8\\u09be\\u099f\\u0995\", \"\\u099a\\u09be\\u0987\\u09a8\\u09be\", \"\\u09ae\\u09be\\u09b8\", \"\\u09ad\\u09be\\u0982\\u099a\\u09c1\\u09b0\", \"\\u0995\\u0987\\u09b0\", \"\\u0997\\u09c1\\u09aa\\u09a8\\u09c7\", \"\\u0996\\u09c1\\u09ac\", \"\\u09ad\\u09be\\u09ac\", \"\\u09a7\\u09cd\\u09ac\\u0982\\u09b8\", \"\\u09b2\\u09cb\\u0995\", \"\\u09b9\\u0993\", \"\\u0987\\u09a8\\u09b6\\u09be\\u0986\\u09b2\\u09cd\\u09b2\\u09be\\u09b9\", \"\\u09af\\u09be\\u0987\", \"\\u0986\\u099c\\u0995\\u09c7\", \"\\u0998\\u09c7\\u09b0\\u09be\", \"\\u098f\\u09a4\", \"\\u099c\\u09be\\u09df\\u0997\\u09be\", \"\\u099a\\u09bf\\u09a8\\u09cd\\u09a4\\u09be\", \"\\u0985\\u09ad\\u09cd\\u09af\\u09c1\\u09a4\\u09cd\\u09a5\\u09be\\u09a8\", \"\\u0995\\u09cd\\u09b7\\u09a4\\u09bf\", \"\\u0986\\u09b2\\u09cd\\u09b2\\u09be\\u09b9\", \"\\u0997\\u09a3\\u09ad\\u09ac\\u09a8\", \"\\u09b2\\u09c0\\u0997\", \"\\u09b8\\u09ae\\u09cd\\u09aa\\u09a6\", \"\\u0995\\u09be\\u09b0\", \"\\u09a6\\u09c7\\u09b0\", \"\\u0996\\u09be\\u09b0\\u09be\\u09aa\", \"\\u0993\\u09aa\\u09b0\", \"\\u09aa\\u09be\", \"\\u09b8\\u09c7\\u09a8\\u09be\\u09ac\\u09be\\u09b9\\u09bf\\u09a8\\u09c0\", \"\\u0986\\u09b2\\u09cd\\u09b2\\u09be\\u09b9\\u09b0\", \"\\u09a5\\u09be\\u0995\\u09c1\\u09a8\", \"\\u09ad\\u09be\\u09b0\\u09a4\", \"\\u0995\\u09bf\\u09ad\\u09be\\u09ac\\u09c7\", \"\\u09ad\\u09be\\u0987\", \"\\u09b9\\u09bf\\u09a8\\u09cd\\u09a6\\u09c1\", \"\\u0995\\u09cd\\u09b7\\u09ae\\u09a4\\u09be\", \"\\u09ae\\u09be\\u09b0\", \"\\u09b6\\u09be\\u09b8\\u09a8\", \"\\u09a6\\u09c7\\u09b6\", \"\\u0986\\u09b2\\u09b9\\u09be\\u09ae\\u09a6\\u09c1\\u09b2\\u09bf\\u09b2\\u09cd\\u09b2\\u09be\\u09b9\", \"\\u09b8\\u09ac\\u09be\", \"\\u09b8\\u0982\\u0996\\u09cd\\u09af\\u09be\\u09b2\\u0998\\u09c1\", \"\\u098f\\u0987\", \"\\u099a\\u09be\\u09df\", \"\\u098f\\u09b8\\u09ac\", \"\\u09b8\\u09c1\\u09af\\u09cb\\u0997\", \"\\u09ad\\u09be\\u09b2\\u09cb\", \"\\u09b8\\u09ac\\u09be\\u0987\\u0995\\u09c7\", \"\\u09b9\\u09be\\u09a4\", \"\\u09ae\\u09be\\u09a8\\u09c1\\u09b7\", \"\\u09b8\\u09b0\\u0995\", \"\\u098f\\u0995\", \"\\u09a6\\u09b2\", \"\\u09b0\\u09be\\u0996\", \"\\u0986\\u09aa\\u09a8\\u09be\", \"\\u09a6\\u09bf\\u09df\\u09c7\", \"\\u09a6\\u09c7\\u09b6\\u09c7\\u09b0\", \"\\u09ac\\u09c7\\u09b0\", \"\\u09b8\\u09be\\u09a5\\u09c7\", \"\\u09b9\\u09df\", \"\\u0995\\u09b0\\u09c1\\u09a8\", \"\\u0995\\u09a5\\u09be\", \"\\u09a8\\u09be\\u09ae\", \"\\u099b\\u09be\\u09a4\\u09cd\\u09b0\", \"\\u09aa\\u09c1\\u09b2\\u09bf\\u09b6\", \"\\u0986\\u09a8\\u09cd\\u09a6\\u09cb\\u09b2\\u09a8\", \"\\u09b8\\u09ae\\u09df\", \"\\u09ac\\u09be\\u0982\\u09b2\\u09be\\u09a6\\u09c7\\u09b6\", \"\\u09a2\\u09be\\u0995\\u09be\\u09df\", \"\\u09b9\\u09be\\u09b8\\u09bf\\u09a8\", \"\\u099b\\u09be\\u09a4\\u09cd\\u09b0-\\u099c\\u09a8\\u09a4\", \"ab\", \"\\u09ae\\u09c1\\u0995\\u09cd\\u09a4\\u09bf\", \"\\u09a4\\u09be\\u09b0\\u09bf\\u0996\", \"negat\", \"\\u09b8\\u09a8\\u09cd\\u09a4\\u09cd\\u09b0\\u09be\\u09b8\\u09c0\\u09b0\\u09be\", \"\\u09a8\\u09cb\\u09df\\u09be\\u0996\\u09be\\u09b2\\u09c0\", \"\\u0986\\u0997\\u09b8\\u09cd\\u099f\", \"\\u09b0\\u0993\\u09a8\\u09be\", \"\\u09ae\\u09c7\\u09a1\\u09bf\\u0995\\u09cd\\u09af\\u09be\\u09b2\", \"\\u0986\\u09b8\\u09be\", \"\\u0985\\u09a8\\u09c1\\u09b7\\u09cd\\u09a0\\u09bf\\u09a4\", \"\\u09b8\\u09cd\\u09ae\\u09b0\\u09a3\\u09c7\", \"\\u09aa\\u09a6\\u09a4\\u09cd\\u09af\\u09be\\u0997\", \"\\u09ac\\u09bf\\u09b0\\u09cb\\u09a7\\u09c0\", \"\\u0997\\u09c1\\u09b2\\u09bf\", \"\\u0995\\u09be\\u09a4\\u09be\\u09b0\\u09c7\", \"\\u09a8\\u09be\\u09b0\\u09be\\u09df\\u09a3\\u0997\\u099e\\u09cd\\u099c\", \"\\u09aa\\u09cd\\u09b0\\u09a6\\u09be\\u09a8\", \"\\u09b0\\u09b9\\u09ae\\u09be\\u09a8\", \"\\u0985\\u09ab\\u09bf\\u09b8-\\u09b6\\u09bf\\u0995\\u09cd\\u09b7\\u09be\\u09aa\\u09cd\\u09b0\\u09a4\\u09bf\\u09b7\\u09cd\\u09a0\\u09be\\u09a8\", \"\\u09ae\\u09bf\\u09a8\\u09be\\u09b0\\u09c7\", \"01626804795\", \"01925582350\", \"\\u0997\\u09be\\u099f\", \"\\u09af\\u09b6\\u09cb\\u09b0\", \"\\u09a4\\u09c1\\u09b2\\u09c1\\u09a8\", \"\\u09b6\\u09b9\\u09c0\\u09a6\", \"media_imag\", \"media_video\", \"\\u09ac\\u09c8\\u09b7\\u09ae\\u09cd\\u09af\\u09ac\\u09bf\\u09b0\\u09cb\\u09a7\\u09c0\", \"\\u09b8\\u09ae\\u09be\\u09ac\\u09c7\\u09b6\", \"\\u0995\\u09c1\\u09ae\\u09bf\\u09b2\\u09cd\\u09b2\\u09be\", \"\\u09ac\\u09c8\\u09b7\\u09ae\\u09cd\\u09af\", \"\\u09a8\\u09c7\\u09a4\\u09c3\\u09a4\\u09cd\\u09ac\", \"\\u0996\\u09c1\\u09a8\\u09bf\", \"\\u09a2\\u09be\\u0995\\u09be\", \"\\u09b8\\u09be\\u09b0\\u09be\\u09a6\\u09c7\\u09b6\", \"\\u0997\\u09a0\\u09a8\", \"\\u0995\\u09b0\\u09cd\\u09ae\\u09b8\\u09c2\\u099a\\u09bf\", \"\\u09ae\\u09c1\\u0995\\u09cd\\u09a4\\u09bf\\u0995\\u09be\\u09ae\\u09c0\", \"\\u099b\\u09be\\u09a4\\u09cd\\u09b0-\\u09a8\\u09be\\u0997\\u09b0\\u09bf\\u0995\", \"\\u0995\\u09b2\\u09c7\\u099c\", \"\\u09b6\\u09c7\\u0996\", \"\\u09b9\\u09be\\u09b8\\u09bf\\u09a8\\u09be\", \"\\u099c\\u09c1\\u09b2\\u09be\", \"\\u0989\\u09a6\\u09cd\\u09a6\\u09c7\\u09b6\\u09cd\\u09af\\u09c7\", \"\\u09ac\\u09bf\\u09b6\\u09cd\\u09ac\\u09ac\\u09bf\\u09a6\\u09cd\\u09af\\u09be\\u09b2\\u09df\", \"\\u09b8\\u09c7\\u09a8\\u09be\\u09ac\\u09be\\u09b9\\u09bf\\u09a8\\u09c0\\u09b0\", \"\\u09b6\\u09bf\\u0995\\u09cd\\u09b7\\u09be\\u09b0\\u09cd\\u09a5\\u09c0\", \"\\u09b8\\u09ae\\u09a8\\u09cd\\u09ac\\u09df\\u0995\", \"\\u0998\\u09cb\\u09b7\\u09a3\\u09be\", \"\\u0986\\u0997\\u09be\\u09ae\\u09c0\\u0995\\u09be\\u09b2\", \"\\u09ae\\u09bf\\u099b\\u09bf\\u09b2\", \"\\u09b8\\u0995\\u09b2\", \"\\u0986\\u09a8\\u09cd\\u09a6\\u09cb\\u09b2\\u09a8\", \"\\u09a6\\u09ab\\u09be\", \"\\u099b\\u09be\\u09a4\\u09cd\\u09b0\", \"\\u09ac\\u09be\\u0982\\u09b2\\u09be\\u09a6\\u09c7\\u09b6\\u09c7\\u09b0\", \"\\u0986\\u09b9\\u09cd\\u09ac\\u09be\\u09a8\", \"\\u09a6\\u09be\\u09ac\\u09bf\", \"\\u09b9\\u09df\", \"\\u099a\\u09be\\u0987\", \"\\u0995\\u09b0\\u09c1\\u09a8\", \"\\u0986\\u09b8\", \"\\u098f\\u0995\", \"capt\", \"pass\", \"lt\", \"adjt\", \"ki\", \"ta\", \"koren\", \"er\", \"\\u09a8\\u09c7\\u099f\", \"bn\", \"allah\", \"den\", \"password\", \"kora\", \"desh\", \"dr\", \"14\", \"ei\", \"victori\", \"kore\", \"rangpur\", \"jabe\", \"video\", \"sourc\", \"group\", \"ami\", \"kew\", \"amad\", \"te\", \"na\", \"vai\", \"kono\", \"bhai\", \"hobe\", \"ar\", \"880\", \"vpn\", \"pleas\", \"\\u0997\\u09c1\\u099c\\u09ac\", \"theke\", \"wifi\", \"nai\", \"10\", \"\\u09b8\\u09cb\\u09b0\\u09cd\\u09b8\", \"sobai\", \"eta\", \"hasina\", \"dhaka\", \"student\", \"\\u09ad\\u09bf\\u09a1\\u09bf\", \"\\u0987\\u09a8\\u09cd\\u099f\\u09be\\u09b0\\u09a8\\u09c7\\u099f\", \"\\u09ac\\u09be\\u09b8\\u09be\\u09df\", \"\\u0997\\u09cd\\u09b0\\u09c1\\u09aa\", \"\\u09ac\\u09bf\\u09b6\\u09cd\\u09ac\\u09be\\u09b8\", \"\\u0995\\u09b0\\u09c1\\u09a8\", \"\\u09a6\\u09bf\\u09df\\u09c7\", \"\\u09af\\u09be\\u09ac\", \"\\u0986\\u09aa\\u09a8\\u09be\", \"\\u09aa\\u09cb\\u09b8\\u09cd\\u099f\", \"\\u09ac\\u09a8\\u09cd\\u09a7\"], \"Freq\": [13193.0, 6705.0, 2648.0, 2986.0, 1408.0, 2930.0, 1417.0, 3490.0, 1796.0, 1068.0, 1711.0, 1518.0, 1710.0, 5059.0, 2524.0, 3094.0, 1721.0, 2037.0, 5519.0, 2703.0, 1330.0, 1715.0, 795.0, 1342.0, 1215.0, 1501.0, 654.0, 3333.0, 1497.0, 625.0, 367.5077039223929, 386.5140465590277, 278.3545147871824, 238.0297861482573, 363.74679958765876, 243.77801983043435, 222.9211283053502, 276.4136454349308, 1210.2205209882818, 275.7278763658417, 215.82468243826978, 451.6649170069166, 206.92372896224046, 210.71429232507273, 172.91886815586523, 174.31378458677955, 190.3402323309383, 293.42346442541225, 271.46782803470387, 456.3383772967675, 148.21753851573305, 766.9101683738793, 316.4093158803512, 165.31146702060326, 586.6644385955857, 252.6654871719226, 143.03824350166929, 184.0439695954571, 473.49581101474183, 601.2921316816645, 1173.6210011714504, 680.75892649086, 1021.440388428277, 776.2781643100178, 403.14114196163405, 572.6459768396157, 349.80255518788255, 308.17673732575577, 363.8462096712487, 1663.8083898051812, 726.4940550354378, 618.9046395695862, 512.6867273489385, 368.37765555597116, 3187.3579098014957, 673.3189767389424, 676.5940313004556, 939.1810391052627, 593.2636770263324, 2737.7147615075896, 591.6609729338603, 2812.3991252684045, 880.6669868213695, 955.4182055208148, 825.5501145088052, 724.913542874578, 520.8211519670164, 688.0522559650503, 1118.7912282508755, 1199.251286464589, 1989.2774919802705, 1480.5654233262178, 2312.2476989126862, 858.9118454606041, 1326.7227186484276, 2040.3220052700965, 1568.487483651564, 1257.7313529915791, 764.539190774744, 1511.5820672657626, 1930.3838739226703, 1933.9202070752406, 962.954669239461, 1037.8255708405256, 1990.8109684118642, 1022.4781054819676, 1260.8555303325088, 968.7596040047667, 858.3250852059014, 1517.4844930659742, 2646.124968661465, 787.788145165713, 568.0904938314096, 643.9901954152054, 487.4920904422397, 348.7294517860967, 208.97349978418876, 246.76257057018182, 821.3089601048025, 658.7674866736985, 176.2335225441772, 332.6566406015353, 153.51390657022105, 140.25654651810956, 1323.7119537451301, 604.0547252870452, 330.63930483729973, 371.4158250362195, 108.11035178803907, 217.59728507527743, 303.5472480610284, 100.20196426102576, 336.11541017606646, 93.24719875593505, 93.2467484986563, 95.48128379526595, 139.14923413455236, 546.3380915440105, 1780.4879810467507, 13001.67582435017, 6615.599243171696, 1680.3571116468893, 551.6816533502845, 265.717699908825, 557.9611397779831, 325.69059577003827, 1661.6764713557297, 2862.555431077599, 623.56096953486, 1288.4431637351986, 1052.1723203815527, 607.5598332038896, 1051.1024480354442, 633.3555763802453, 1621.6257353642136, 2694.208172401943, 811.36996567105, 739.1273910717663, 969.723832728499, 1156.9381229457524, 1847.3501185317798, 2209.0641660368265, 1348.623788462974, 1344.722454140843, 760.3095692258253, 2226.6087537933827, 3647.0312089676836, 1001.8177441938811, 3459.3876633027303, 1153.5136034503223, 852.3177973173093, 907.3735479096483, 1500.5352827985328, 924.8863887123142, 1192.8838556955634, 952.5948248087357, 908.8834818781462, 1407.6648909384776, 624.2446250891276, 312.62263721012715, 312.16368232231366, 793.243091612849, 334.3497948391713, 286.3221754734353, 1064.7770515801526, 337.6431857840795, 221.0590329388483, 279.5535092159253, 307.5597610127709, 199.91023193546826, 253.53628780241434, 215.58409948966232, 215.53572181421598, 202.52833258581217, 269.8312369768797, 242.218818331493, 536.2954376717361, 186.91637704383695, 246.62409338063316, 223.96650805183256, 209.7000688675718, 181.1903718400308, 278.6597436985196, 197.7014246078372, 231.51042967893537, 262.11391891924234, 1409.2877274615223, 649.0452362325767, 361.3701798677154, 288.33538577859275, 318.6178312781198, 386.81123796705504, 260.25208277068793, 284.30666486598057, 429.5722528118172, 322.6251718616276, 298.6000657329818, 385.37634862396015, 320.60386591892774, 311.0301147483645, 363.42875427399173, 281.30587593964924, 271.736333074064, 278.4817466633905, 389.06546289120723, 300.4118836804205, 602.6842661243388, 379.11510408871374, 345.4515173527667, 336.0990944931655, 359.11114035735955, 460.58064875185147, 396.57578940568897, 334.6385986841875, 387.43674187391343, 333.35360345823307, 313.6915466745413], \"Total\": [13193.0, 6705.0, 2648.0, 2986.0, 1408.0, 2930.0, 1417.0, 3490.0, 1796.0, 1068.0, 1711.0, 1518.0, 1710.0, 5059.0, 2524.0, 3094.0, 1721.0, 2037.0, 5519.0, 2703.0, 1330.0, 1715.0, 795.0, 1342.0, 1215.0, 1501.0, 654.0, 3333.0, 1497.0, 625.0, 368.464238440858, 387.637730489377, 279.3480224162979, 238.96480189235393, 365.2006071252097, 244.7957129269931, 223.8770643421276, 277.6086044007192, 1215.568892947917, 277.0181631332296, 216.87284999193037, 453.8667979460182, 207.96676727904085, 211.782375691126, 173.81566456485285, 175.22150091580718, 191.39740880896937, 295.1324895206542, 273.0521570366813, 459.07664585411766, 149.13733208191468, 771.685600806044, 318.3925591885871, 166.3715502667111, 590.688986081654, 254.40687436530823, 144.06508417663917, 185.41702074763023, 477.0898296578089, 605.8631730670965, 1186.426413408743, 687.1417934171262, 1037.136045791714, 788.2796999874835, 407.0766053318035, 580.3009398563071, 352.9462645937177, 310.7151811399556, 367.7085704028986, 1715.9507948257833, 739.6177289457704, 633.1554194321135, 523.3972185711588, 373.86275895025926, 3490.272879686436, 698.3476166751643, 704.1619262056398, 992.472500034147, 618.505740975408, 3094.3611680258655, 621.7990679193827, 3333.9194882213974, 955.2606934103511, 1044.5132927989273, 892.9933110339091, 784.8917554466503, 543.9353381542238, 748.611864831973, 1318.731920731071, 1439.7081660653096, 2672.374849418284, 1902.8552902949452, 3321.1127769826867, 987.1322006619324, 1711.6219188627035, 2957.4292605326877, 2158.4576420528356, 1761.5877496750732, 864.5631463801651, 2418.9211950478166, 3536.5622515776345, 3587.384711522656, 1281.8537890608313, 1470.4920611364364, 5519.66157791618, 1990.8867337515273, 5059.974756382813, 1890.8482562120194, 1438.587660575622, 1518.3519820937272, 2648.3306996615556, 788.5592945646019, 568.867587970509, 645.0105105379828, 488.44284475244257, 349.4466597975296, 209.7598786480867, 247.70734224064455, 824.4983340462098, 661.4578738709555, 176.97395602864782, 334.1282256968704, 154.24570749269125, 140.93512958331473, 1330.8270332722916, 607.5369623541177, 332.56830382307913, 373.72213507889614, 108.80013284518652, 218.9943846912593, 305.62820484508603, 100.9082113641001, 338.6416952612927, 93.9532573506031, 93.95302731796727, 96.2424251160622, 140.2802563331441, 551.0737271739965, 1796.4499964503298, 13193.190828611398, 6705.800417551281, 1711.4137305429408, 557.0581486020997, 268.1925097118341, 567.7252330739303, 329.7520932993185, 1710.8809391810146, 2986.222378892034, 638.8964981106282, 1342.006729361403, 1094.072614423156, 623.2815622880534, 1096.7405967483412, 651.6146451119544, 1721.7974873060643, 2930.327884892128, 845.2350064696196, 769.1384675676119, 1023.7039050813105, 1238.4850917405354, 2037.859595042469, 2524.787130086869, 1497.30635413389, 1501.1614150272594, 798.6486698387517, 2703.112627647737, 5059.974756382813, 1133.7869251621275, 5519.66157791618, 1416.307231637706, 1000.9275265609252, 1141.1836938858814, 3536.5622515776345, 1312.2146340203378, 3587.384711522656, 1645.2526211164407, 3321.1127769826867, 1408.605891025032, 625.6744778032544, 313.5651441819878, 313.10497936338356, 795.9876558527271, 335.55418737237835, 287.39982753660763, 1068.9451868631636, 338.9680907297724, 221.98321356886254, 280.7684250830346, 308.937692027117, 200.80598209225178, 254.6756294950456, 216.56771490669465, 216.53260083220837, 203.48789651319376, 271.12390966940393, 243.39357057008178, 538.9467249592368, 187.84706458024993, 247.85223160008493, 225.1053526231181, 210.77315950373097, 182.12629043093912, 280.1254170536428, 198.79738813114236, 232.82937658583464, 263.68174156000657, 1417.9235738616255, 654.0785438601438, 363.5905505629801, 290.23000650160606, 321.0619978979557, 390.5442060661216, 261.8921595738349, 286.40620202349794, 436.4911567083587, 326.1974216579574, 301.800655721528, 392.6106725845417, 325.404130074037, 316.75146945853544, 376.112205301434, 285.0256662424088, 275.66783431662094, 284.5582050480312, 442.0685072725307, 315.31308076211315, 877.5056172285836, 524.599556197466, 454.39555342039864, 464.02992742578334, 794.1524691842044, 3587.384711522656, 2158.4576420528356, 741.5236143919024, 2957.4292605326877, 836.0194565326523, 1178.8565708322853], \"Category\": [\"Default\", \"Default\", \"Default\", \"Default\", \"Default\", \"Default\", \"Default\", \"Default\", \"Default\", \"Default\", \"Default\", \"Default\", \"Default\", \"Default\", \"Default\", \"Default\", \"Default\", \"Default\", \"Default\", \"Default\", \"Default\", \"Default\", \"Default\", \"Default\", \"Default\", \"Default\", \"Default\", \"Default\", \"Default\", \"Default\", \"Topic1\", \"Topic1\", \"Topic1\", \"Topic1\", \"Topic1\", \"Topic1\", \"Topic1\", \"Topic1\", \"Topic1\", \"Topic1\", \"Topic1\", \"Topic1\", \"Topic1\", \"Topic1\", \"Topic1\", \"Topic1\", \"Topic1\", \"Topic1\", \"Topic1\", \"Topic1\", \"Topic1\", \"Topic1\", \"Topic1\", \"Topic1\", \"Topic1\", \"Topic1\", \"Topic1\", \"Topic1\", \"Topic1\", \"Topic1\", \"Topic1\", \"Topic1\", \"Topic1\", \"Topic1\", \"Topic1\", \"Topic1\", \"Topic1\", \"Topic1\", \"Topic1\", \"Topic1\", \"Topic1\", \"Topic1\", \"Topic1\", \"Topic1\", \"Topic1\", \"Topic1\", \"Topic1\", \"Topic1\", \"Topic1\", \"Topic1\", \"Topic1\", \"Topic1\", \"Topic1\", \"Topic1\", \"Topic1\", \"Topic1\", \"Topic1\", \"Topic1\", \"Topic1\", \"Topic1\", \"Topic1\", \"Topic1\", \"Topic1\", \"Topic1\", \"Topic1\", \"Topic1\", \"Topic1\", \"Topic1\", \"Topic1\", \"Topic1\", \"Topic1\", \"Topic1\", \"Topic1\", \"Topic1\", \"Topic1\", \"Topic1\", \"Topic1\", \"Topic1\", \"Topic1\", \"Topic2\", \"Topic2\", \"Topic2\", \"Topic2\", \"Topic2\", \"Topic2\", \"Topic2\", \"Topic2\", \"Topic2\", \"Topic2\", \"Topic2\", \"Topic2\", \"Topic2\", \"Topic2\", \"Topic2\", \"Topic2\", \"Topic2\", \"Topic2\", \"Topic2\", \"Topic2\", \"Topic2\", \"Topic2\", \"Topic2\", \"Topic2\", \"Topic2\", \"Topic2\", \"Topic2\", \"Topic2\", \"Topic2\", \"Topic2\", \"Topic2\", \"Topic2\", \"Topic2\", \"Topic2\", \"Topic2\", \"Topic2\", \"Topic2\", \"Topic2\", \"Topic2\", \"Topic2\", \"Topic2\", \"Topic2\", \"Topic2\", \"Topic2\", \"Topic2\", \"Topic2\", \"Topic2\", \"Topic2\", \"Topic2\", \"Topic2\", \"Topic2\", \"Topic2\", \"Topic2\", \"Topic2\", \"Topic2\", \"Topic2\", \"Topic2\", \"Topic2\", \"Topic2\", \"Topic2\", \"Topic2\", \"Topic2\", \"Topic2\", \"Topic2\", \"Topic2\", \"Topic2\", \"Topic2\", \"Topic2\", \"Topic3\", \"Topic3\", \"Topic3\", \"Topic3\", \"Topic3\", \"Topic3\", \"Topic3\", \"Topic3\", \"Topic3\", \"Topic3\", \"Topic3\", \"Topic3\", \"Topic3\", \"Topic3\", \"Topic3\", \"Topic3\", \"Topic3\", \"Topic3\", \"Topic3\", \"Topic3\", \"Topic3\", \"Topic3\", \"Topic3\", \"Topic3\", \"Topic3\", \"Topic3\", \"Topic3\", \"Topic3\", \"Topic3\", \"Topic3\", \"Topic3\", \"Topic3\", \"Topic3\", \"Topic3\", \"Topic3\", \"Topic3\", \"Topic3\", \"Topic3\", \"Topic3\", \"Topic3\", \"Topic3\", \"Topic3\", \"Topic3\", \"Topic3\", \"Topic3\", \"Topic3\", \"Topic3\", \"Topic3\", \"Topic3\", \"Topic3\", \"Topic3\", \"Topic3\", \"Topic3\", \"Topic3\", \"Topic3\", \"Topic3\", \"Topic3\", \"Topic3\", \"Topic3\", \"Topic3\"], \"logprob\": [30.0, 29.0, 28.0, 27.0, 26.0, 25.0, 24.0, 23.0, 22.0, 21.0, 20.0, 19.0, 18.0, 17.0, 16.0, 15.0, 14.0, 13.0, 12.0, 11.0, 10.0, 9.0, 8.0, 7.0, 6.0, 5.0, 4.0, 3.0, 2.0, 1.0, -6.7039, -6.6535, -6.9817, -7.1382, -6.7142, -7.1144, -7.2038, -6.9887, -5.5121, -6.9912, -7.2362, -6.4977, -7.2783, -7.2601, -7.4578, -7.4498, -7.3618, -6.929, -7.0068, -6.4874, -7.612, -5.9683, -6.8536, -7.5028, -6.2362, -7.0786, -7.6475, -7.3955, -6.4505, -6.2116, -5.5428, -6.0874, -5.6817, -5.9561, -6.6113, -6.2604, -6.7533, -6.88, -6.7139, -5.1938, -6.0224, -6.1827, -6.371, -6.7015, -4.5437, -6.0984, -6.0936, -5.7656, -6.225, -4.6958, -6.2277, -4.6688, -5.83, -5.7485, -5.8946, -6.0246, -6.3552, -6.0768, -5.5906, -5.5212, -5.0151, -5.3105, -4.8647, -5.855, -5.4202, -4.9898, -5.2528, -5.4736, -5.9714, -5.2897, -5.0452, -5.0433, -5.7406, -5.6657, -5.0143, -5.6806, -5.4711, -5.7346, -5.8556, -5.1521, -4.5961, -5.8077, -6.1346, -6.0092, -6.2876, -6.6226, -7.1347, -6.9685, -5.766, -5.9866, -7.3051, -6.6698, -7.4431, -7.5334, -5.2887, -6.0733, -6.6759, -6.5596, -7.7938, -7.0943, -6.7614, -7.8697, -6.6595, -7.9417, -7.9417, -7.918, -7.5414, -6.1737, -4.9923, -3.0041, -3.6797, -5.0502, -6.164, -6.8945, -6.1526, -6.691, -5.0613, -4.5175, -6.0415, -5.3157, -5.5183, -6.0675, -5.5193, -6.0259, -5.0857, -4.5781, -5.7782, -5.8715, -5.5999, -5.4234, -4.9554, -4.7766, -5.2701, -5.273, -5.8432, -4.7687, -4.2753, -5.5674, -4.3281, -5.4264, -5.729, -5.6664, -5.1633, -5.6473, -5.3928, -5.6177, -5.6647, -4.6896, -5.5028, -6.1943, -6.1958, -5.2632, -6.1271, -6.2822, -4.9688, -6.1173, -6.5409, -6.3061, -6.2107, -6.6415, -6.4038, -6.566, -6.5662, -6.6285, -6.3415, -6.4495, -5.6546, -6.7087, -6.4315, -6.5278, -6.5937, -6.7398, -6.3093, -6.6526, -6.4947, -6.3706, -4.6885, -5.4638, -6.0494, -6.2752, -6.1753, -5.9814, -6.3777, -6.2893, -5.8765, -6.1628, -6.2402, -5.9851, -6.1691, -6.1994, -6.0437, -6.2999, -6.3345, -6.31, -5.9756, -6.2342, -5.5379, -6.0015, -6.0945, -6.1219, -6.0557, -5.8068, -5.9565, -6.1263, -5.9798, -6.1301, -6.1909], \"loglift\": [30.0, 29.0, 28.0, 27.0, 26.0, 25.0, 24.0, 23.0, 22.0, 21.0, 20.0, 19.0, 18.0, 17.0, 16.0, 15.0, 14.0, 13.0, 12.0, 11.0, 10.0, 9.0, 8.0, 7.0, 6.0, 5.0, 4.0, 3.0, 2.0, 1.0, 0.867, 0.8667, 0.866, 0.8657, 0.8656, 0.8654, 0.8653, 0.8653, 0.8652, 0.8649, 0.8647, 0.8647, 0.8645, 0.8645, 0.8644, 0.8644, 0.864, 0.8638, 0.8638, 0.8636, 0.8634, 0.8634, 0.8633, 0.8632, 0.8627, 0.8627, 0.8624, 0.8621, 0.862, 0.862, 0.8587, 0.8602, 0.8543, 0.8542, 0.8599, 0.8563, 0.8606, 0.8614, 0.859, 0.8387, 0.8517, 0.8468, 0.8489, 0.8548, 0.7788, 0.8331, 0.8296, 0.8144, 0.8279, 0.7471, 0.8199, 0.6995, 0.7883, 0.7804, 0.791, 0.7901, 0.8261, 0.7852, 0.7051, 0.6868, 0.5744, 0.6186, 0.5075, 0.7304, 0.6148, 0.4984, 0.5503, 0.5327, 0.7466, 0.3994, 0.2641, 0.2517, 0.5835, 0.5211, -0.1502, 0.2032, -0.52, 0.2008, 0.3531, 1.0027, 1.0024, 1.0023, 1.0019, 1.0017, 1.0013, 1.0012, 0.9995, 0.9995, 0.9994, 0.9992, 0.9991, 0.9989, 0.9985, 0.9985, 0.9979, 0.9975, 0.9975, 0.9971, 0.9969, 0.9969, 0.9964, 0.9963, 0.9958, 0.9957, 0.9957, 0.9953, 0.9952, 0.9946, 0.9944, 0.9887, 0.9897, 0.985, 0.9936, 0.994, 0.9859, 0.9909, 0.9741, 0.961, 0.979, 0.9625, 0.9642, 0.9777, 0.9608, 0.9749, 0.9433, 0.9193, 0.9624, 0.9635, 0.9491, 0.9352, 0.9051, 0.8697, 0.8987, 0.8932, 0.9541, 0.8094, 0.6758, 0.8795, 0.5361, 0.798, 0.8426, 0.774, 0.1459, 0.6535, -0.0978, 0.4568, -0.2926, 1.5402, 1.5386, 1.5379, 1.5379, 1.5374, 1.5373, 1.5371, 1.537, 1.537, 1.5367, 1.5365, 1.5364, 1.5364, 1.5364, 1.5363, 1.5363, 1.5361, 1.5361, 1.536, 1.5359, 1.5359, 1.5359, 1.5358, 1.5358, 1.5357, 1.5356, 1.5353, 1.5352, 1.5349, 1.5348, 1.5331, 1.5347, 1.5343, 1.5332, 1.5313, 1.5346, 1.5335, 1.5249, 1.5299, 1.5302, 1.5223, 1.526, 1.5226, 1.5066, 1.5277, 1.5265, 1.5193, 1.4132, 1.4925, 1.1652, 1.2161, 1.2668, 1.2183, 0.7472, -0.5118, -0.1534, 0.7452, -0.4917, 0.6214, 0.217]}, \"token.table\": {\"Topic\": [2, 2, 1, 2, 3, 2, 3, 2, 3, 2, 2, 3, 2, 3, 1, 2, 3, 1, 2, 3, 1, 2, 3, 1, 2, 3, 2, 3, 2, 3, 2, 3, 2, 3, 1, 2, 3, 2, 3, 1, 2, 3, 1, 2, 3, 1, 2, 3, 2, 3, 1, 2, 3, 1, 2, 3, 1, 2, 3, 2, 3, 1, 2, 3, 1, 2, 3, 1, 2, 3, 1, 2, 3, 2, 3, 2, 3, 1, 2, 3, 1, 2, 3, 1, 2, 3, 1, 2, 3, 2, 1, 2, 3, 2, 3, 1, 2, 3, 2, 3, 1, 2, 3, 1, 2, 3, 1, 2, 3, 1, 2, 3, 2, 3, 1, 2, 3, 1, 2, 3, 2, 3, 1, 2, 3, 1, 2, 3, 1, 2, 3, 2, 2, 1, 2, 3, 1, 2, 1, 2, 3, 1, 2, 1, 2, 3, 1, 2, 3, 1, 2, 3, 1, 2, 3, 1, 2, 3, 1, 2, 3, 1, 2, 3, 1, 2, 3, 1, 2, 3, 1, 2, 3, 1, 2, 3, 1, 2, 3, 1, 2, 3, 1, 2, 3, 1, 2, 3, 1, 2, 1, 2, 1, 2, 1, 2, 3, 1, 2, 3, 1, 2, 3, 1, 2, 3, 1, 2, 1, 2, 3, 1, 2, 3, 1, 2, 1, 2, 3, 1, 2, 3, 1, 2, 3, 1, 2, 1, 2, 3, 1, 2, 1, 2, 3, 1, 2, 3, 1, 2, 2, 1, 2, 3, 1, 2, 1, 2, 3, 1, 2, 3, 1, 2, 1, 2, 3, 1, 2, 3, 1, 2, 3, 1, 2, 3, 1, 2, 3, 1, 2, 3, 2, 1, 2, 3, 1, 2, 1, 2, 3, 1, 2, 3, 1, 2, 1, 2, 1, 2, 3, 1, 2, 3, 1, 2, 3, 1, 2, 3, 1, 2, 3, 1, 2, 1, 2, 3, 1, 2, 3, 1, 2, 3, 1, 2, 3, 1, 2, 3, 1, 2, 3, 1, 2, 1, 2, 1, 2, 3, 2, 1, 2, 3, 1, 2, 3, 1, 2, 1, 2, 1, 2, 3, 1, 2, 3, 1, 2, 3, 1, 2, 3, 1, 2, 3, 1, 2, 3, 1, 2, 3, 1, 2, 3, 1, 2, 1, 2, 1, 2, 3, 1, 2, 3, 1, 2, 3, 1, 2, 3, 1, 2, 3, 1, 2, 1, 2, 3, 1, 2, 1, 2, 3, 1, 2, 3, 1, 2, 3, 1, 2, 3, 1, 2, 3, 1, 2, 1, 2, 3, 1, 2, 3, 1, 2, 1, 2, 3, 1, 2, 2, 1, 2, 1, 2, 1, 2, 3, 1, 2, 1, 2, 1, 2, 1, 2, 3, 1, 2, 3, 1, 2, 3, 1, 2, 3, 1, 2, 3, 1, 2, 3, 1, 2, 3, 1, 2, 3, 1, 2, 3, 2, 1, 2, 3, 1, 2, 3, 1, 2, 3, 1, 2, 3, 1, 2, 3, 1, 2, 3, 1, 2, 3, 1, 2, 3, 1, 2, 3, 1, 2, 3, 1, 2, 3, 1, 2, 3, 1, 2, 3, 1, 2, 3, 2, 1, 2, 1, 2, 3, 1, 2, 1, 2, 1, 2, 3, 1, 2, 3], \"Freq\": [0.9898539190924924, 0.9898563426302176, 0.006314098568883865, 0.01262819713776773, 0.9818423274614411, 0.004914297199662496, 0.9976023315314868, 0.0038183655502602837, 0.9927750430676737, 0.9984748859157115, 0.003193816981234972, 0.9964708981453113, 0.003561654056022359, 0.9972631356862606, 0.004294990669406964, 0.004294990669406964, 0.9964378353024156, 0.0035698295803286723, 0.0035698295803286723, 0.9959824529116995, 0.007681588801991037, 0.002560529600663679, 0.9909249554568439, 0.003445543112698329, 0.003445543112698329, 0.9923164164571188, 0.004504845136363363, 0.9955707751363031, 0.0007099217789528819, 0.9995698647656577, 0.003236898655642915, 0.9969647859380179, 0.004617493426621031, 0.9973785801501427, 0.01583464979939087, 0.10405627011028286, 0.8799541102804355, 0.004618242223834472, 0.9975403203482459, 0.0036883504712636895, 0.0036883504712636895, 0.9958546272411962, 0.00280650498909448, 0.0009355016630314934, 0.9963092711285405, 0.010882662489212729, 0.0036275541630709095, 0.9866947323552874, 0.005490695481876035, 0.9938158822195623, 0.02108531714623111, 0.0035142195243718513, 0.9769530277753747, 0.006229326463718286, 0.003114663231859143, 0.9935775709630666, 0.004034662078869325, 0.004034662078869325, 0.9965615334807232, 0.005030247174778381, 0.9959889406061193, 0.0012563008894010022, 0.0025126017788020044, 0.9962466052949948, 0.005500693010044456, 0.002750346505022228, 0.9928750883130243, 0.003926563377825885, 0.003926563377825885, 0.997347097967775, 0.0018554709652900015, 0.0018554709652900015, 0.9945324373954407, 0.0034794732083568308, 0.9951293375900536, 0.003189129973641513, 0.9981976817497935, 0.011066314578227526, 0.9855083708637965, 0.0034108503837002647, 0.010289599407015508, 0.9866085460407913, 0.003280741839917988, 0.004936796403586084, 0.0007052566290837263, 0.9937065903789704, 0.012292406980482722, 0.0030731017451206804, 0.9864656601837384, 0.9987218083647204, 0.0015982751981685494, 0.0015982751981685494, 0.9973237236571748, 0.004979931322666436, 0.9959862645332871, 0.013745982954722027, 0.002290997159120338, 0.9851287784217453, 0.005323479513691262, 0.995490669060266, 0.010525367906511823, 0.003508455968837274, 0.9858761272432741, 0.004744437111226673, 0.004744437111226673, 0.9963317933576012, 0.03805741255959298, 0.009514353139898245, 0.9514353139898245, 0.0029801446014746306, 0.0029801446014746306, 0.9953682968925266, 0.0037924506796858668, 0.9936220780776971, 0.00994033625549212, 0.003313445418497373, 0.9907201801307145, 0.00611547349710234, 0.001528868374275585, 0.9922355749048547, 0.00410857196292317, 0.9942744150274071, 0.004442364378932591, 0.004442364378932591, 0.9950896208809004, 0.003491544501951658, 0.003491544501951658, 0.9915986385542708, 0.015282315074376912, 0.002547052512396152, 0.9806152172725185, 0.9984070383760735, 0.9909996287534713, 0.9914275480138776, 0.006288123983174699, 0.0020960413277248996, 0.0036385761815643184, 0.9957570150214351, 0.10258723576185412, 0.8959729357122973, 0.001998452644711444, 0.9917561009408619, 0.0060106430360052235, 0.24921072944273773, 0.7207545838839529, 0.03003967555534983, 0.6897882655129199, 0.17920969643227821, 0.13085689154583333, 0.9520760492306718, 0.00643294627858562, 0.041814150810806534, 0.9895261827718076, 0.006742938213095793, 0.004214336383184871, 0.981588152348402, 0.009464348576362002, 0.008112298779738859, 0.37258715903702894, 0.5792423532826894, 0.048624751587214216, 0.002992862988196709, 0.9966233750695042, 0.002992862988196709, 0.13987026661263308, 0.8512104796711671, 0.007992586663579033, 0.9939280961039706, 0.0038875935962345656, 0.002591729064156377, 0.11437295226650027, 0.1620283490442087, 0.72245581515006, 0.029903588196202348, 0.9608152903040666, 0.009101092059713758, 0.9143014326231663, 0.0028721510972455487, 0.08233499812103906, 0.6961522101939909, 0.2737034425027412, 0.03011038971427296, 0.9944699829011379, 0.003930711394866158, 0.003930711394866158, 0.923694248243736, 0.020384976512965208, 0.05605868541065433, 0.9912615111691869, 0.006436763059540175, 0.995174397854555, 0.0035797640210595504, 0.9953073011750991, 0.005753221394075718, 0.7512557268372674, 0.19503004331185547, 0.053048171780824695, 0.5391114016258153, 0.33255424102357684, 0.1285058718456571, 0.03564662846493288, 0.9615449524387021, 0.0018280322289709165, 0.0214850910810862, 0.9714330467376832, 0.0061385974517389145, 0.005351569554684744, 0.99271615239402, 0.9899856555783139, 0.0024565400882836574, 0.007369620264850971, 0.9843184195004583, 0.005349556627719881, 0.008024334941579822, 0.007457329819348602, 0.9918248659733642, 0.9919731495768634, 0.006602150745935864, 0.001650537686483966, 0.9614265906820592, 0.03266294178092668, 0.007100639517592756, 0.9967124722637768, 0.0027382210776477384, 0.0027382210776477384, 0.9916523706601367, 0.008499877462801172, 0.02513325095584019, 0.9714293741536372, 0.0035069652496521196, 0.9926989146944821, 0.005224731129970958, 0.014903054926942914, 0.9597567372951236, 0.025335193375802954, 0.9910618252652289, 0.008731822249032854, 0.0014553037081721425, 0.9987400719189943, 0.0027139675867363976, 0.9870906711404673, 0.009196884465707782, 0.0030656281552359273, 0.9901978941412046, 0.9930288183275288, 0.005707062174296142, 0.003006901104237473, 0.9952842655026035, 0.003006901104237473, 0.07542616958816278, 0.20041810776283253, 0.7240912280463626, 0.9937547742236994, 0.006771753146328446, 0.0894940435068892, 0.9009512290357726, 0.01001798994480103, 0.29034884242427594, 0.7049151686153681, 0.005334493167900083, 0.9958869034825494, 0.004406579218949333, 0.0022032896094746667, 0.9249789329817666, 0.042553510234028, 0.032475047283863474, 0.9923576555058614, 0.005393248127749247, 0.005393248127749247, 0.360710520363398, 0.6266688548151651, 0.012500766401343276, 0.9992907387327027, 0.0382952907228229, 0.9582940607068301, 0.0036471705450307522, 0.9926069235809194, 0.006941307157908527, 0.020112749554713375, 0.9594964640513264, 0.020112749554713375, 0.032482510574443395, 0.9587363688106333, 0.00904152356195847, 0.0006586088152109847, 0.9991095726750638, 0.0020473224467170356, 0.9970460315511964, 0.00544391766848427, 0.9907930156641371, 0.00362927844565618, 0.9776430573005129, 0.014214519411477571, 0.00947634627431838, 0.11377799226389337, 0.8837639399102415, 0.0026459998200905437, 0.8701975271640293, 0.12662944225320566, 0.003039106614076936, 0.2032976822600832, 0.7947887836633426, 0.0008762831131900138, 0.9983548286474283, 0.0025797282393990395, 0.7264446470715675, 0.08941569954388555, 0.18392763066799256, 0.9942054951639856, 0.0036021938230579188, 0.0036021938230579188, 0.9874187006174504, 0.0017232438056150967, 0.01033946283369058, 0.8848353024500963, 0.10470658801819986, 0.010664559890742577, 0.7141284901828135, 0.26396641330286824, 0.022139118535079275, 0.9924843771279726, 0.0036623039746419652, 0.0036623039746419652, 0.9963245618203744, 0.003609871600798458, 0.9959752915500357, 0.004610996720139054, 0.7058861638449141, 0.2794982787478417, 0.01496097842445868, 0.992645846799424, 0.002950130196170018, 0.002950130196170018, 0.9971440063054661, 0.003032581203638614, 0.9886214723861882, 0.009097743610915842, 0.0040370220396152515, 0.9971444437849671, 0.0052598871415980445, 0.9948700822108302, 0.9899143759449633, 0.005439089977719579, 0.005439089977719579, 0.5133390979376282, 0.42041568001349783, 0.065799825665195, 0.5131459521040999, 0.08851468637693098, 0.3983160886961894, 0.0045663271293910615, 0.9954593142072514, 0.0045663271293910615, 0.708313479909164, 0.025448388499730447, 0.266359799630512, 0.5964182951886912, 0.3781486626837389, 0.025719670072239596, 0.18498811144037147, 0.8147949641304912, 0.0007060614940472194, 0.20466749575332677, 0.035211612172615356, 0.7592503874720186, 0.9967494817720505, 0.004085038859721518, 0.004937971162076189, 0.9941781939646726, 0.03516641855258001, 0.9475396110000724, 0.017583209276290004, 0.28583931777381044, 0.2619144409557382, 0.4520542514572597, 0.8848399370282836, 0.10525546963342981, 0.010409881612097454, 0.015852739099281855, 0.9828698241554751, 0.0017614154554757618, 0.01577643063050238, 0.9816445725645926, 0.002337248982296649, 0.9963057563757475, 0.004721828229268946, 0.9131091206502794, 0.07248716897537517, 0.014325527465489164, 0.9927744670736939, 0.0033883087613436652, 0.9801351283456521, 0.0038211895841935755, 0.015284758336774302, 0.9190343251564983, 0.03473094833440255, 0.045417393975757184, 0.24729186427928374, 0.06609644298708967, 0.6871750882968115, 0.7442818137706095, 0.23088078385946006, 0.02469713409193576, 0.9461219328169725, 0.030227537789679636, 0.023174445638754388, 0.9953513376599076, 0.00480846056840535, 0.04632825596199935, 0.9516074197599866, 0.0025042300519999647, 0.005905947282884995, 0.9921991435246792, 0.0029529736414424974, 0.001550362333112885, 0.9984333425246978, 0.022461758612923342, 0.9754820883326709, 0.0016044113294945246, 0.9960823841213708, 0.004466737148526327, 0.9944966137927653, 0.00712858691692973, 0.9908735814532325, 0.9924855053312664, 0.006281553831210547, 0.1712689893283416, 0.37760092135382395, 0.45177253090546793, 0.9959625773975342, 0.004184716711754345, 0.00302362414751477, 0.9962841566061167, 0.006543898659528957, 0.9946725962484014, 0.7752880384248247, 0.1600820817847792, 0.06485077035806748, 0.984441726948757, 0.010606130260956246, 0.0038567746403477257, 0.9932981869543951, 0.002178285497707007, 0.002178285497707007, 0.007793147612047708, 0.9908430535317799, 0.001113306801721101, 0.9587623213728228, 0.04041999668519489, 0.0016167998674077955, 0.08538370377590898, 0.9063431084718614, 0.008342086001094555, 0.05807883954834936, 0.9420387774742266, 0.0005807883954834936, 0.9222613325109872, 0.0711847566523804, 0.00732784259656857, 0.16647475040342377, 0.823865042552055, 0.00961854113442004, 0.9963773880258505, 0.8434516820021246, 0.08368528423847538, 0.072587235791079, 0.8485424386934193, 0.05763112184155484, 0.09402972510990527, 0.09901824871524846, 0.8749252456479355, 0.026140817660825596, 0.007180578921675832, 0.9909198911912648, 0.001795144730418958, 0.9844221537257924, 0.010148681997173118, 0.005074340998586559, 0.5124684103108413, 0.4569377776146201, 0.030674063775055518, 0.7783040610357937, 0.22072093560772002, 0.0010510520743224764, 0.9954186940944074, 0.000822660077763973, 0.003290640311055892, 0.6250720375246086, 0.3588376511715346, 0.01612288985678554, 0.021912782495132458, 0.9766840197830466, 0.0031303974993046367, 0.9578344399684492, 0.016546084375654593, 0.027576807292757653, 0.9697247759187304, 0.029721131954239935, 0.0005827672932203909, 0.05975041645111956, 0.9342058355938558, 0.006459504481202114, 0.010635124156085847, 0.021270248312171693, 0.9651375171647906, 0.9933648226238588, 0.9923739276676212, 0.006705229240997441, 0.8328076677350802, 0.13961162736843297, 0.027088823220740722, 0.0007551926956310972, 0.9991199363199417, 0.08053706249622905, 0.9193510439188181, 0.9637034392759233, 0.027207080752217748, 0.008591709711226657, 0.5457277046767779, 0.4244234635854112, 0.02997260968691112], \"Term\": [\"01626804795\", \"01925582350\", \"10\", \"10\", \"10\", \"14\", \"14\", \"880\", \"880\", \"ab\", \"adjt\", \"adjt\", \"allah\", \"allah\", \"amad\", \"amad\", \"amad\", \"ami\", \"ami\", \"ami\", \"ar\", \"ar\", \"ar\", \"bhai\", \"bhai\", \"bhai\", \"bn\", \"bn\", \"capt\", \"capt\", \"den\", \"den\", \"desh\", \"desh\", \"dhaka\", \"dhaka\", \"dhaka\", \"dr\", \"dr\", \"ei\", \"ei\", \"ei\", \"er\", \"er\", \"er\", \"eta\", \"eta\", \"eta\", \"group\", \"group\", \"hasina\", \"hasina\", \"hasina\", \"hobe\", \"hobe\", \"hobe\", \"jabe\", \"jabe\", \"jabe\", \"kew\", \"kew\", \"ki\", \"ki\", \"ki\", \"kono\", \"kono\", \"kono\", \"kora\", \"kora\", \"kora\", \"kore\", \"kore\", \"kore\", \"koren\", \"koren\", \"lt\", \"lt\", \"media_imag\", \"media_imag\", \"media_imag\", \"media_video\", \"media_video\", \"media_video\", \"na\", \"na\", \"na\", \"nai\", \"nai\", \"nai\", \"negat\", \"pass\", \"pass\", \"pass\", \"password\", \"password\", \"pleas\", \"pleas\", \"pleas\", \"rangpur\", \"rangpur\", \"sobai\", \"sobai\", \"sobai\", \"sourc\", \"sourc\", \"sourc\", \"student\", \"student\", \"student\", \"ta\", \"ta\", \"ta\", \"te\", \"te\", \"theke\", \"theke\", \"theke\", \"vai\", \"vai\", \"vai\", \"victori\", \"victori\", \"video\", \"video\", \"video\", \"vpn\", \"vpn\", \"vpn\", \"wifi\", \"wifi\", \"wifi\", \"\\u0985\\u09a8\\u09c1\\u09b7\\u09cd\\u09a0\\u09bf\\u09a4\", \"\\u0985\\u09ab\\u09bf\\u09b8-\\u09b6\\u09bf\\u0995\\u09cd\\u09b7\\u09be\\u09aa\\u09cd\\u09b0\\u09a4\\u09bf\\u09b7\\u09cd\\u09a0\\u09be\\u09a8\", \"\\u0985\\u09ad\\u09cd\\u09af\\u09c1\\u09a4\\u09cd\\u09a5\\u09be\\u09a8\", \"\\u0985\\u09ad\\u09cd\\u09af\\u09c1\\u09a4\\u09cd\\u09a5\\u09be\\u09a8\", \"\\u0985\\u09ad\\u09cd\\u09af\\u09c1\\u09a4\\u09cd\\u09a5\\u09be\\u09a8\", \"\\u0986\\u0997\\u09b8\\u09cd\\u099f\", \"\\u0986\\u0997\\u09b8\\u09cd\\u099f\", \"\\u0986\\u0997\\u09be\\u09ae\\u09c0\\u0995\\u09be\\u09b2\", \"\\u0986\\u0997\\u09be\\u09ae\\u09c0\\u0995\\u09be\\u09b2\", \"\\u0986\\u0997\\u09be\\u09ae\\u09c0\\u0995\\u09be\\u09b2\", \"\\u0986\\u099c\\u0995\\u09c7\", \"\\u0986\\u099c\\u0995\\u09c7\", \"\\u0986\\u09a8\\u09cd\\u09a6\\u09cb\\u09b2\\u09a8\", \"\\u0986\\u09a8\\u09cd\\u09a6\\u09cb\\u09b2\\u09a8\", \"\\u0986\\u09a8\\u09cd\\u09a6\\u09cb\\u09b2\\u09a8\", \"\\u0986\\u09aa\\u09a8\\u09be\", \"\\u0986\\u09aa\\u09a8\\u09be\", \"\\u0986\\u09aa\\u09a8\\u09be\", \"\\u0986\\u09b2\\u09b9\\u09be\\u09ae\\u09a6\\u09c1\\u09b2\\u09bf\\u09b2\\u09cd\\u09b2\\u09be\\u09b9\", \"\\u0986\\u09b2\\u09b9\\u09be\\u09ae\\u09a6\\u09c1\\u09b2\\u09bf\\u09b2\\u09cd\\u09b2\\u09be\\u09b9\", \"\\u0986\\u09b2\\u09b9\\u09be\\u09ae\\u09a6\\u09c1\\u09b2\\u09bf\\u09b2\\u09cd\\u09b2\\u09be\\u09b9\", \"\\u0986\\u09b2\\u09cd\\u09b2\\u09be\\u09b9\", \"\\u0986\\u09b2\\u09cd\\u09b2\\u09be\\u09b9\", \"\\u0986\\u09b2\\u09cd\\u09b2\\u09be\\u09b9\", \"\\u0986\\u09b2\\u09cd\\u09b2\\u09be\\u09b9\\u09b0\", \"\\u0986\\u09b2\\u09cd\\u09b2\\u09be\\u09b9\\u09b0\", \"\\u0986\\u09b2\\u09cd\\u09b2\\u09be\\u09b9\\u09b0\", \"\\u0986\\u09b8\", \"\\u0986\\u09b8\", \"\\u0986\\u09b8\", \"\\u0986\\u09b8\\u09be\", \"\\u0986\\u09b8\\u09be\", \"\\u0986\\u09b8\\u09be\", \"\\u0986\\u09b9\\u09cd\\u09ac\\u09be\\u09a8\", \"\\u0986\\u09b9\\u09cd\\u09ac\\u09be\\u09a8\", \"\\u0986\\u09b9\\u09cd\\u09ac\\u09be\\u09a8\", \"\\u0987\\u09a8\\u09b6\\u09be\\u0986\\u09b2\\u09cd\\u09b2\\u09be\\u09b9\", \"\\u0987\\u09a8\\u09b6\\u09be\\u0986\\u09b2\\u09cd\\u09b2\\u09be\\u09b9\", \"\\u0987\\u09a8\\u09b6\\u09be\\u0986\\u09b2\\u09cd\\u09b2\\u09be\\u09b9\", \"\\u0987\\u09a8\\u09cd\\u099f\\u09be\\u09b0\\u09a8\\u09c7\\u099f\", \"\\u0987\\u09a8\\u09cd\\u099f\\u09be\\u09b0\\u09a8\\u09c7\\u099f\", \"\\u0987\\u09a8\\u09cd\\u099f\\u09be\\u09b0\\u09a8\\u09c7\\u099f\", \"\\u0989\\u09a6\\u09cd\\u09a6\\u09c7\\u09b6\\u09cd\\u09af\\u09c7\", \"\\u0989\\u09a6\\u09cd\\u09a6\\u09c7\\u09b6\\u09cd\\u09af\\u09c7\", \"\\u0989\\u09a6\\u09cd\\u09a6\\u09c7\\u09b6\\u09cd\\u09af\\u09c7\", \"\\u098f\\u0987\", \"\\u098f\\u0987\", \"\\u098f\\u0987\", \"\\u098f\\u0995\", \"\\u098f\\u0995\", \"\\u098f\\u0995\", \"\\u098f\\u09a4\", \"\\u098f\\u09a4\", \"\\u098f\\u09a4\", \"\\u098f\\u09b8\\u09ac\", \"\\u098f\\u09b8\\u09ac\", \"\\u098f\\u09b8\\u09ac\", \"\\u0993\\u09aa\\u09b0\", \"\\u0993\\u09aa\\u09b0\", \"\\u0995\\u0987\", \"\\u0995\\u0987\", \"\\u0995\\u0987\\u09b0\", \"\\u0995\\u0987\\u09b0\", \"\\u0995\\u09a5\\u09be\", \"\\u0995\\u09a5\\u09be\", \"\\u0995\\u09a5\\u09be\", \"\\u0995\\u09b0\\u09c1\\u09a8\", \"\\u0995\\u09b0\\u09c1\\u09a8\", \"\\u0995\\u09b0\\u09c1\\u09a8\", \"\\u0995\\u09b0\\u09cd\\u09ae\\u09b8\\u09c2\\u099a\\u09bf\", \"\\u0995\\u09b0\\u09cd\\u09ae\\u09b8\\u09c2\\u099a\\u09bf\", \"\\u0995\\u09b0\\u09cd\\u09ae\\u09b8\\u09c2\\u099a\\u09bf\", \"\\u0995\\u09b2\\u09c7\\u099c\", \"\\u0995\\u09b2\\u09c7\\u099c\", \"\\u0995\\u09b2\\u09c7\\u099c\", \"\\u0995\\u09be\\u09a4\\u09be\\u09b0\\u09c7\", \"\\u0995\\u09be\\u09a4\\u09be\\u09b0\\u09c7\", \"\\u0995\\u09be\\u09b0\", \"\\u0995\\u09be\\u09b0\", \"\\u0995\\u09be\\u09b0\", \"\\u0995\\u09bf\\u09ad\\u09be\\u09ac\\u09c7\", \"\\u0995\\u09bf\\u09ad\\u09be\\u09ac\\u09c7\", \"\\u0995\\u09bf\\u09ad\\u09be\\u09ac\\u09c7\", \"\\u0995\\u09c1\\u09ae\\u09bf\\u09b2\\u09cd\\u09b2\\u09be\", \"\\u0995\\u09c1\\u09ae\\u09bf\\u09b2\\u09cd\\u09b2\\u09be\", \"\\u0995\\u09cd\\u09b7\\u09a4\\u09bf\", \"\\u0995\\u09cd\\u09b7\\u09a4\\u09bf\", \"\\u0995\\u09cd\\u09b7\\u09a4\\u09bf\", \"\\u0995\\u09cd\\u09b7\\u09ae\\u09a4\\u09be\", \"\\u0995\\u09cd\\u09b7\\u09ae\\u09a4\\u09be\", \"\\u0995\\u09cd\\u09b7\\u09ae\\u09a4\\u09be\", \"\\u0995\\u09cd\\u09b7\\u09ae\\u09a4\\u09be\\u09df\", \"\\u0995\\u09cd\\u09b7\\u09ae\\u09a4\\u09be\\u09df\", \"\\u0995\\u09cd\\u09b7\\u09ae\\u09a4\\u09be\\u09df\", \"\\u0996\\u09be\\u09b0\\u09be\\u09aa\", \"\\u0996\\u09be\\u09b0\\u09be\\u09aa\", \"\\u0996\\u09c1\\u09a8\\u09bf\", \"\\u0996\\u09c1\\u09a8\\u09bf\", \"\\u0996\\u09c1\\u09a8\\u09bf\", \"\\u0996\\u09c1\\u09ac\", \"\\u0996\\u09c1\\u09ac\", \"\\u0997\\u09a0\\u09a8\", \"\\u0997\\u09a0\\u09a8\", \"\\u0997\\u09a0\\u09a8\", \"\\u0997\\u09a3\\u09ad\\u09ac\\u09a8\", \"\\u0997\\u09a3\\u09ad\\u09ac\\u09a8\", \"\\u0997\\u09a3\\u09ad\\u09ac\\u09a8\", \"\\u0997\\u09a8\\u09ad\\u09ac\\u09a8\", \"\\u0997\\u09a8\\u09ad\\u09ac\\u09a8\", \"\\u0997\\u09be\\u099f\", \"\\u0997\\u09c1\\u099c\\u09ac\", \"\\u0997\\u09c1\\u099c\\u09ac\", \"\\u0997\\u09c1\\u099c\\u09ac\", \"\\u0997\\u09c1\\u09aa\\u09a8\\u09c7\", \"\\u0997\\u09c1\\u09aa\\u09a8\\u09c7\", \"\\u0997\\u09c1\\u09b2\\u09bf\", \"\\u0997\\u09c1\\u09b2\\u09bf\", \"\\u0997\\u09c1\\u09b2\\u09bf\", \"\\u0997\\u09cd\\u09b0\\u09c1\\u09aa\", \"\\u0997\\u09cd\\u09b0\\u09c1\\u09aa\", \"\\u0997\\u09cd\\u09b0\\u09c1\\u09aa\", \"\\u0998\\u09c7\\u09b0\\u09be\", \"\\u0998\\u09c7\\u09b0\\u09be\", \"\\u0998\\u09cb\\u09b7\\u09a3\\u09be\", \"\\u0998\\u09cb\\u09b7\\u09a3\\u09be\", \"\\u0998\\u09cb\\u09b7\\u09a3\\u09be\", \"\\u099a\\u09be\\u0987\", \"\\u099a\\u09be\\u0987\", \"\\u099a\\u09be\\u0987\", \"\\u099a\\u09be\\u0987\\u09a8\\u09be\", \"\\u099a\\u09be\\u0987\\u09a8\\u09be\", \"\\u099a\\u09be\\u0987\\u09a8\\u09be\", \"\\u099a\\u09be\\u09df\", \"\\u099a\\u09be\\u09df\", \"\\u099a\\u09be\\u09df\", \"\\u099a\\u09bf\\u09a8\\u09cd\\u09a4\\u09be\", \"\\u099a\\u09bf\\u09a8\\u09cd\\u09a4\\u09be\", \"\\u099a\\u09bf\\u09a8\\u09cd\\u09a4\\u09be\", \"\\u099b\\u09be\\u09a4\\u09cd\\u09b0\", \"\\u099b\\u09be\\u09a4\\u09cd\\u09b0\", \"\\u099b\\u09be\\u09a4\\u09cd\\u09b0\", \"\\u099b\\u09be\\u09a4\\u09cd\\u09b0-\\u099c\\u09a8\\u09a4\", \"\\u099b\\u09be\\u09a4\\u09cd\\u09b0-\\u09a8\\u09be\\u0997\\u09b0\\u09bf\\u0995\", \"\\u099b\\u09be\\u09a4\\u09cd\\u09b0-\\u09a8\\u09be\\u0997\\u09b0\\u09bf\\u0995\", \"\\u099b\\u09be\\u09a4\\u09cd\\u09b0-\\u09a8\\u09be\\u0997\\u09b0\\u09bf\\u0995\", \"\\u099c\\u09be\\u09df\\u0997\\u09be\", \"\\u099c\\u09be\\u09df\\u0997\\u09be\", \"\\u099c\\u09c1\\u09b2\\u09be\", \"\\u099c\\u09c1\\u09b2\\u09be\", \"\\u099c\\u09c1\\u09b2\\u09be\", \"\\u09a2\\u09be\\u0995\\u09be\", \"\\u09a2\\u09be\\u0995\\u09be\", \"\\u09a2\\u09be\\u0995\\u09be\", \"\\u09a2\\u09be\\u0995\\u09be\\u09df\", \"\\u09a2\\u09be\\u0995\\u09be\\u09df\", \"\\u09a4\\u09be\\u09b0\\u09bf\\u0996\", \"\\u09a4\\u09be\\u09b0\\u09bf\\u0996\", \"\\u09a4\\u09c1\\u09b2\\u09c1\\u09a8\", \"\\u09a4\\u09c1\\u09b2\\u09c1\\u09a8\", \"\\u09a4\\u09c1\\u09b2\\u09c1\\u09a8\", \"\\u09a5\\u09be\\u0995\\u09c1\\u09a8\", \"\\u09a5\\u09be\\u0995\\u09c1\\u09a8\", \"\\u09a5\\u09be\\u0995\\u09c1\\u09a8\", \"\\u09a6\\u09ab\\u09be\", \"\\u09a6\\u09ab\\u09be\", \"\\u09a6\\u09ab\\u09be\", \"\\u09a6\\u09b2\", \"\\u09a6\\u09b2\", \"\\u09a6\\u09b2\", \"\\u09a6\\u09be\\u09ac\\u09bf\", \"\\u09a6\\u09be\\u09ac\\u09bf\", \"\\u09a6\\u09be\\u09ac\\u09bf\", \"\\u09a6\\u09be\\u09df\\u09bf\\u09a4\\u09cd\\u09ac\", \"\\u09a6\\u09be\\u09df\\u09bf\\u09a4\\u09cd\\u09ac\", \"\\u09a6\\u09bf\\u09df\\u09c7\", \"\\u09a6\\u09bf\\u09df\\u09c7\", \"\\u09a6\\u09bf\\u09df\\u09c7\", \"\\u09a6\\u09c3\\u09b6\\u09cd\\u09af\", \"\\u09a6\\u09c3\\u09b6\\u09cd\\u09af\", \"\\u09a6\\u09c3\\u09b6\\u09cd\\u09af\", \"\\u09a6\\u09c7\\u09b0\", \"\\u09a6\\u09c7\\u09b0\", \"\\u09a6\\u09c7\\u09b0\", \"\\u09a6\\u09c7\\u09b6\", \"\\u09a6\\u09c7\\u09b6\", \"\\u09a6\\u09c7\\u09b6\", \"\\u09a6\\u09c7\\u09b6\\u09c7\\u09b0\", \"\\u09a6\\u09c7\\u09b6\\u09c7\\u09b0\", \"\\u09a6\\u09c7\\u09b6\\u09c7\\u09b0\", \"\\u09a7\\u09cd\\u09ac\\u0982\\u09b8\", \"\\u09a7\\u09cd\\u09ac\\u0982\\u09b8\", \"\\u09a7\\u09cd\\u09ac\\u0982\\u09b8\", \"\\u09a8\\u09b7\\u09cd\\u099f\", \"\\u09a8\\u09b7\\u09cd\\u099f\", \"\\u09a8\\u09be\\u099f\\u0995\", \"\\u09a8\\u09be\\u099f\\u0995\", \"\\u09a8\\u09be\\u09ae\", \"\\u09a8\\u09be\\u09ae\", \"\\u09a8\\u09be\\u09ae\", \"\\u09a8\\u09be\\u09b0\\u09be\\u09df\\u09a3\\u0997\\u099e\\u09cd\\u099c\", \"\\u09a8\\u09c7\\u099f\", \"\\u09a8\\u09c7\\u099f\", \"\\u09a8\\u09c7\\u099f\", \"\\u09a8\\u09c7\\u09a4\\u09c3\\u09a4\\u09cd\\u09ac\", \"\\u09a8\\u09c7\\u09a4\\u09c3\\u09a4\\u09cd\\u09ac\", \"\\u09a8\\u09c7\\u09a4\\u09c3\\u09a4\\u09cd\\u09ac\", \"\\u09a8\\u09cb\\u09df\\u09be\\u0996\\u09be\\u09b2\\u09c0\", \"\\u09a8\\u09cb\\u09df\\u09be\\u0996\\u09be\\u09b2\\u09c0\", \"\\u09aa\\u09a6\\u09a4\\u09cd\\u09af\\u09be\\u0997\", \"\\u09aa\\u09a6\\u09a4\\u09cd\\u09af\\u09be\\u0997\", \"\\u09aa\\u09be\", \"\\u09aa\\u09be\", \"\\u09aa\\u09be\", \"\\u09aa\\u09c1\\u09b2\\u09bf\\u09b6\", \"\\u09aa\\u09c1\\u09b2\\u09bf\\u09b6\", \"\\u09aa\\u09c1\\u09b2\\u09bf\\u09b6\", \"\\u09aa\\u09cb\\u09b8\\u09cd\\u099f\", \"\\u09aa\\u09cb\\u09b8\\u09cd\\u099f\", \"\\u09aa\\u09cb\\u09b8\\u09cd\\u099f\", \"\\u09aa\\u09cd\\u09b0\\u09a6\\u09be\\u09a8\", \"\\u09aa\\u09cd\\u09b0\\u09a6\\u09be\\u09a8\", \"\\u09aa\\u09cd\\u09b0\\u09a6\\u09be\\u09a8\", \"\\u09ac\\u09a8\\u09cd\\u09a7\", \"\\u09ac\\u09a8\\u09cd\\u09a7\", \"\\u09ac\\u09a8\\u09cd\\u09a7\", \"\\u09ac\\u09be\\u0982\\u09b2\\u09be\\u09a6\\u09c7\\u09b6\", \"\\u09ac\\u09be\\u0982\\u09b2\\u09be\\u09a6\\u09c7\\u09b6\", \"\\u09ac\\u09be\\u0982\\u09b2\\u09be\\u09a6\\u09c7\\u09b6\", \"\\u09ac\\u09be\\u0982\\u09b2\\u09be\\u09a6\\u09c7\\u09b6\\u09c7\\u09b0\", \"\\u09ac\\u09be\\u0982\\u09b2\\u09be\\u09a6\\u09c7\\u09b6\\u09c7\\u09b0\", \"\\u09ac\\u09be\\u0982\\u09b2\\u09be\\u09a6\\u09c7\\u09b6\\u09c7\\u09b0\", \"\\u09ac\\u09be\\u09b8\\u09be\\u09df\", \"\\u09ac\\u09be\\u09b8\\u09be\\u09df\", \"\\u09ac\\u09be\\u09b8\\u09be\\u09df\", \"\\u09ac\\u09bf\\u099c\\u09af\\u09bc\", \"\\u09ac\\u09bf\\u099c\\u09af\\u09bc\", \"\\u09ac\\u09bf\\u09b0\\u09cb\\u09a7\\u09c0\", \"\\u09ac\\u09bf\\u09b0\\u09cb\\u09a7\\u09c0\", \"\\u09ac\\u09bf\\u09b6\\u09cd\\u09ac\\u09ac\\u09bf\\u09a6\\u09cd\\u09af\\u09be\\u09b2\\u09df\", \"\\u09ac\\u09bf\\u09b6\\u09cd\\u09ac\\u09ac\\u09bf\\u09a6\\u09cd\\u09af\\u09be\\u09b2\\u09df\", \"\\u09ac\\u09bf\\u09b6\\u09cd\\u09ac\\u09ac\\u09bf\\u09a6\\u09cd\\u09af\\u09be\\u09b2\\u09df\", \"\\u09ac\\u09bf\\u09b6\\u09cd\\u09ac\\u09be\\u09b8\", \"\\u09ac\\u09bf\\u09b6\\u09cd\\u09ac\\u09be\\u09b8\", \"\\u09ac\\u09bf\\u09b6\\u09cd\\u09ac\\u09be\\u09b8\", \"\\u09ac\\u09c7\\u09b0\", \"\\u09ac\\u09c7\\u09b0\", \"\\u09ac\\u09c7\\u09b0\", \"\\u09ac\\u09c8\\u09b7\\u09ae\\u09cd\\u09af\", \"\\u09ac\\u09c8\\u09b7\\u09ae\\u09cd\\u09af\", \"\\u09ac\\u09c8\\u09b7\\u09ae\\u09cd\\u09af\", \"\\u09ac\\u09c8\\u09b7\\u09ae\\u09cd\\u09af\\u09ac\\u09bf\\u09b0\\u09cb\\u09a7\\u09c0\", \"\\u09ac\\u09c8\\u09b7\\u09ae\\u09cd\\u09af\\u09ac\\u09bf\\u09b0\\u09cb\\u09a7\\u09c0\", \"\\u09ac\\u09c8\\u09b7\\u09ae\\u09cd\\u09af\\u09ac\\u09bf\\u09b0\\u09cb\\u09a7\\u09c0\", \"\\u09ad\\u09be\\u0982\\u099a\\u09c1\\u09b0\", \"\\u09ad\\u09be\\u0982\\u099a\\u09c1\\u09b0\", \"\\u09ad\\u09be\\u0987\", \"\\u09ad\\u09be\\u0987\", \"\\u09ad\\u09be\\u0987\", \"\\u09ad\\u09be\\u09ac\", \"\\u09ad\\u09be\\u09ac\", \"\\u09ad\\u09be\\u09b0\\u09a4\", \"\\u09ad\\u09be\\u09b0\\u09a4\", \"\\u09ad\\u09be\\u09b0\\u09a4\", \"\\u09ad\\u09be\\u09b2\\u09cb\", \"\\u09ad\\u09be\\u09b2\\u09cb\", \"\\u09ad\\u09be\\u09b2\\u09cb\", \"\\u09ad\\u09bf\\u09a1\\u09bf\", \"\\u09ad\\u09bf\\u09a1\\u09bf\", \"\\u09ad\\u09bf\\u09a1\\u09bf\", \"\\u09ae\\u09be\\u09a8\\u09c1\\u09b7\", \"\\u09ae\\u09be\\u09a8\\u09c1\\u09b7\", \"\\u09ae\\u09be\\u09a8\\u09c1\\u09b7\", \"\\u09ae\\u09be\\u09b0\", \"\\u09ae\\u09be\\u09b0\", \"\\u09ae\\u09be\\u09b0\", \"\\u09ae\\u09be\\u09b8\", \"\\u09ae\\u09be\\u09b8\", \"\\u09ae\\u09bf\\u099b\\u09bf\\u09b2\", \"\\u09ae\\u09bf\\u099b\\u09bf\\u09b2\", \"\\u09ae\\u09bf\\u099b\\u09bf\\u09b2\", \"\\u09ae\\u09bf\\u09a8\\u09be\\u09b0\\u09c7\", \"\\u09ae\\u09bf\\u09a8\\u09be\\u09b0\\u09c7\", \"\\u09ae\\u09bf\\u09a8\\u09be\\u09b0\\u09c7\", \"\\u09ae\\u09c1\\u0995\\u09cd\\u09a4\\u09bf\", \"\\u09ae\\u09c1\\u0995\\u09cd\\u09a4\\u09bf\", \"\\u09ae\\u09c1\\u0995\\u09cd\\u09a4\\u09bf\\u0995\\u09be\\u09ae\\u09c0\", \"\\u09ae\\u09c1\\u0995\\u09cd\\u09a4\\u09bf\\u0995\\u09be\\u09ae\\u09c0\", \"\\u09ae\\u09c1\\u0995\\u09cd\\u09a4\\u09bf\\u0995\\u09be\\u09ae\\u09c0\", \"\\u09ae\\u09c1\\u09b8\\u09b2\\u09bf\\u09ae\", \"\\u09ae\\u09c1\\u09b8\\u09b2\\u09bf\\u09ae\", \"\\u09ae\\u09c7\\u09a1\\u09bf\\u0995\\u09cd\\u09af\\u09be\\u09b2\", \"\\u09af\\u09b6\\u09cb\\u09b0\", \"\\u09af\\u09b6\\u09cb\\u09b0\", \"\\u09af\\u09be\\u0987\", \"\\u09af\\u09be\\u0987\", \"\\u09af\\u09be\\u09ac\", \"\\u09af\\u09be\\u09ac\", \"\\u09af\\u09be\\u09ac\", \"\\u09af\\u09be\\u09ac\\u09c7\\u09a8\\u09be\", \"\\u09af\\u09be\\u09ac\\u09c7\\u09a8\\u09be\", \"\\u09b0\\u0993\\u09a8\\u09be\", \"\\u09b0\\u0993\\u09a8\\u09be\", \"\\u09b0\\u09b9\\u09ae\\u09be\\u09a8\", \"\\u09b0\\u09b9\\u09ae\\u09be\\u09a8\", \"\\u09b0\\u09be\\u0996\", \"\\u09b0\\u09be\\u0996\", \"\\u09b0\\u09be\\u0996\", \"\\u09b2\\u09c0\\u0997\", \"\\u09b2\\u09c0\\u0997\", \"\\u09b2\\u09c0\\u0997\", \"\\u09b2\\u09cb\\u0995\", \"\\u09b2\\u09cb\\u0995\", \"\\u09b2\\u09cb\\u0995\", \"\\u09b6\\u09b9\\u09c0\\u09a6\", \"\\u09b6\\u09b9\\u09c0\\u09a6\", \"\\u09b6\\u09b9\\u09c0\\u09a6\", \"\\u09b6\\u09be\\u09b8\\u09a8\", \"\\u09b6\\u09be\\u09b8\\u09a8\", \"\\u09b6\\u09be\\u09b8\\u09a8\", \"\\u09b6\\u09bf\\u0995\\u09cd\\u09b7\\u09be\\u09b0\\u09cd\\u09a5\\u09c0\", \"\\u09b6\\u09bf\\u0995\\u09cd\\u09b7\\u09be\\u09b0\\u09cd\\u09a5\\u09c0\", \"\\u09b6\\u09bf\\u0995\\u09cd\\u09b7\\u09be\\u09b0\\u09cd\\u09a5\\u09c0\", \"\\u09b6\\u09c7\\u0996\", \"\\u09b6\\u09c7\\u0996\", \"\\u09b6\\u09c7\\u0996\", \"\\u09b8\\u0982\\u0996\\u09cd\\u09af\\u09be\\u09b2\\u0998\\u09c1\", \"\\u09b8\\u0982\\u0996\\u09cd\\u09af\\u09be\\u09b2\\u0998\\u09c1\", \"\\u09b8\\u0982\\u0996\\u09cd\\u09af\\u09be\\u09b2\\u0998\\u09c1\", \"\\u09b8\\u0995\\u09b2\", \"\\u09b8\\u0995\\u09b2\", \"\\u09b8\\u0995\\u09b2\", \"\\u09b8\\u09a8\\u09cd\\u09a4\\u09cd\\u09b0\\u09be\\u09b8\\u09c0\\u09b0\\u09be\", \"\\u09b8\\u09ac\\u09be\", \"\\u09b8\\u09ac\\u09be\", \"\\u09b8\\u09ac\\u09be\", \"\\u09b8\\u09ac\\u09be\\u0987\\u0995\\u09c7\", \"\\u09b8\\u09ac\\u09be\\u0987\\u0995\\u09c7\", \"\\u09b8\\u09ac\\u09be\\u0987\\u0995\\u09c7\", \"\\u09b8\\u09ae\\u09a8\\u09cd\\u09ac\\u09df\\u0995\", \"\\u09b8\\u09ae\\u09a8\\u09cd\\u09ac\\u09df\\u0995\", \"\\u09b8\\u09ae\\u09a8\\u09cd\\u09ac\\u09df\\u0995\", \"\\u09b8\\u09ae\\u09be\\u09ac\\u09c7\\u09b6\", \"\\u09b8\\u09ae\\u09be\\u09ac\\u09c7\\u09b6\", \"\\u09b8\\u09ae\\u09be\\u09ac\\u09c7\\u09b6\", \"\\u09b8\\u09ae\\u09cd\\u09aa\\u09a6\", \"\\u09b8\\u09ae\\u09cd\\u09aa\\u09a6\", \"\\u09b8\\u09ae\\u09cd\\u09aa\\u09a6\", \"\\u09b8\\u09ae\\u09df\", \"\\u09b8\\u09ae\\u09df\", \"\\u09b8\\u09ae\\u09df\", \"\\u09b8\\u09b0\\u0995\", \"\\u09b8\\u09b0\\u0995\", \"\\u09b8\\u09b0\\u0995\", \"\\u09b8\\u09b0\\u0995\\u09be\\u09b0\", \"\\u09b8\\u09b0\\u0995\\u09be\\u09b0\", \"\\u09b8\\u09b0\\u0995\\u09be\\u09b0\", \"\\u09b8\\u09be\\u09a5\\u09c7\", \"\\u09b8\\u09be\\u09a5\\u09c7\", \"\\u09b8\\u09be\\u09a5\\u09c7\", \"\\u09b8\\u09be\\u09b0\\u09be\\u09a6\\u09c7\\u09b6\", \"\\u09b8\\u09be\\u09b0\\u09be\\u09a6\\u09c7\\u09b6\", \"\\u09b8\\u09be\\u09b0\\u09be\\u09a6\\u09c7\\u09b6\", \"\\u09b8\\u09c1\\u09af\\u09cb\\u0997\", \"\\u09b8\\u09c1\\u09af\\u09cb\\u0997\", \"\\u09b8\\u09c1\\u09af\\u09cb\\u0997\", \"\\u09b8\\u09c7\\u09a8\\u09be\\u09ac\\u09be\\u09b9\\u09bf\\u09a8\\u09c0\", \"\\u09b8\\u09c7\\u09a8\\u09be\\u09ac\\u09be\\u09b9\\u09bf\\u09a8\\u09c0\", \"\\u09b8\\u09c7\\u09a8\\u09be\\u09ac\\u09be\\u09b9\\u09bf\\u09a8\\u09c0\", \"\\u09b8\\u09c7\\u09a8\\u09be\\u09ac\\u09be\\u09b9\\u09bf\\u09a8\\u09c0\\u09b0\", \"\\u09b8\\u09c7\\u09a8\\u09be\\u09ac\\u09be\\u09b9\\u09bf\\u09a8\\u09c0\\u09b0\", \"\\u09b8\\u09c7\\u09a8\\u09be\\u09ac\\u09be\\u09b9\\u09bf\\u09a8\\u09c0\\u09b0\", \"\\u09b8\\u09cb\\u09b0\\u09cd\\u09b8\", \"\\u09b8\\u09cb\\u09b0\\u09cd\\u09b8\", \"\\u09b8\\u09cb\\u09b0\\u09cd\\u09b8\", \"\\u09b8\\u09cd\\u09ae\\u09b0\\u09a3\\u09c7\", \"\\u09b9\\u0993\", \"\\u09b9\\u0993\", \"\\u09b9\\u09be\\u09a4\", \"\\u09b9\\u09be\\u09a4\", \"\\u09b9\\u09be\\u09a4\", \"\\u09b9\\u09be\\u09b8\\u09bf\\u09a8\", \"\\u09b9\\u09be\\u09b8\\u09bf\\u09a8\", \"\\u09b9\\u09be\\u09b8\\u09bf\\u09a8\\u09be\", \"\\u09b9\\u09be\\u09b8\\u09bf\\u09a8\\u09be\", \"\\u09b9\\u09bf\\u09a8\\u09cd\\u09a6\\u09c1\", \"\\u09b9\\u09bf\\u09a8\\u09cd\\u09a6\\u09c1\", \"\\u09b9\\u09bf\\u09a8\\u09cd\\u09a6\\u09c1\", \"\\u09b9\\u09df\", \"\\u09b9\\u09df\", \"\\u09b9\\u09df\"]}, \"R\": 30, \"lambda.step\": 0.01, \"plot.opts\": {\"xlab\": \"PC1\", \"ylab\": \"PC2\"}, \"topic.order\": [3, 2, 1]};\n",
       "\n",
       "function LDAvis_load_lib(url, callback){\n",
       "  var s = document.createElement('script');\n",
       "  s.src = url;\n",
       "  s.async = true;\n",
       "  s.onreadystatechange = s.onload = callback;\n",
       "  s.onerror = function(){console.warn(\"failed to load library \" + url);};\n",
       "  document.getElementsByTagName(\"head\")[0].appendChild(s);\n",
       "}\n",
       "\n",
       "if(typeof(LDAvis) !== \"undefined\"){\n",
       "   // already loaded: just create the visualization\n",
       "   !function(LDAvis){\n",
       "       new LDAvis(\"#\" + \"ldavis_el157241344583611620806071889163\", ldavis_el157241344583611620806071889163_data);\n",
       "   }(LDAvis);\n",
       "}else if(typeof define === \"function\" && define.amd){\n",
       "   // require.js is available: use it to load d3/LDAvis\n",
       "   require.config({paths: {d3: \"https://d3js.org/d3.v5\"}});\n",
       "   require([\"d3\"], function(d3){\n",
       "      window.d3 = d3;\n",
       "      LDAvis_load_lib(\"https://cdn.jsdelivr.net/gh/bmabey/pyLDAvis@3.4.0/pyLDAvis/js/ldavis.v3.0.0.js\", function(){\n",
       "        new LDAvis(\"#\" + \"ldavis_el157241344583611620806071889163\", ldavis_el157241344583611620806071889163_data);\n",
       "      });\n",
       "    });\n",
       "}else{\n",
       "    // require.js not available: dynamically load d3 & LDAvis\n",
       "    LDAvis_load_lib(\"https://d3js.org/d3.v5.js\", function(){\n",
       "         LDAvis_load_lib(\"https://cdn.jsdelivr.net/gh/bmabey/pyLDAvis@3.4.0/pyLDAvis/js/ldavis.v3.0.0.js\", function(){\n",
       "                 new LDAvis(\"#\" + \"ldavis_el157241344583611620806071889163\", ldavis_el157241344583611620806071889163_data);\n",
       "            })\n",
       "         });\n",
       "}\n",
       "</script>"
      ],
      "text/plain": [
       "PreparedData(topic_coordinates=              x         y  topics  cluster       Freq\n",
       "topic                                                \n",
       "2     -0.101877  0.172901       1        1  41.913134\n",
       "1     -0.173578 -0.145292       2        1  36.667464\n",
       "0      0.275455 -0.027609       3        1  21.419402, topic_info=              Term          Freq         Total Category  logprob  loglift\n",
       "17      media_imag  13193.000000  13193.000000  Default  30.0000  30.0000\n",
       "34     media_video   6705.000000   6705.000000  Default  29.0000  29.0000\n",
       "782          হাসিন   2648.000000   2648.000000  Default  28.0000  28.0000\n",
       "6             ঢাকা   2986.000000   2986.000000  Default  27.0000  27.0000\n",
       "37615         capt   1408.000000   1408.000000  Default  26.0000  26.0000\n",
       "...            ...           ...           ...      ...      ...      ...\n",
       "418           দিয়ে    396.575789   2158.457642   Topic3  -5.9565  -0.1534\n",
       "3657           যাব    334.638599    741.523614   Topic3  -6.1263   0.7452\n",
       "3             আপনা    387.436742   2957.429261   Topic3  -5.9798  -0.4917\n",
       "541          পোস্ট    333.353603    836.019457   Topic3  -6.1301   0.6214\n",
       "619           বন্ধ    313.691547   1178.856571   Topic3  -6.1909   0.2170\n",
       "\n",
       "[237 rows x 6 columns], token_table=       Topic      Freq         Term\n",
       "term                               \n",
       "652        2  0.989854  01626804795\n",
       "692        2  0.989856  01925582350\n",
       "181        1  0.006314           10\n",
       "181        2  0.012628           10\n",
       "181        3  0.981842           10\n",
       "...      ...       ...          ...\n",
       "12959      2  0.027207       হিন্দু\n",
       "12959      3  0.008592       হিন্দু\n",
       "59         1  0.545728           হয়\n",
       "59         2  0.424423           হয়\n",
       "59         3  0.029973           হয়\n",
       "\n",
       "[521 rows x 3 columns], R=30, lambda_step=0.01, plot_opts={'xlab': 'PC1', 'ylab': 'PC2'}, topic_order=[3, 2, 1])"
      ]
     },
     "execution_count": 12,
     "metadata": {},
     "output_type": "execute_result"
    }
   ],
   "source": [
    "import pyLDAvis\n",
    "import pyLDAvis.gensim_models as gensimvis\n",
    "\n",
    "# Visualize the topics\n",
    "pyLDAvis.enable_notebook()\n",
    "p = gensimvis.prepare(lda_model, weighted_corpus, dictionary)\n",
    "p"
   ]
  },
  {
   "cell_type": "code",
   "execution_count": 13,
   "metadata": {},
   "outputs": [
    {
     "data": {
      "text/html": [
       "\n",
       "<link rel=\"stylesheet\" type=\"text/css\" href=\"https://cdn.jsdelivr.net/gh/bmabey/pyLDAvis@3.4.0/pyLDAvis/js/ldavis.v1.0.0.css\">\n",
       "\n",
       "\n",
       "<div id=\"ldavis_el157241344583611604004112134734\" style=\"background-color:white;\"></div>\n",
       "<script type=\"text/javascript\">\n",
       "\n",
       "var ldavis_el157241344583611604004112134734_data = {\"mdsDat\": {\"x\": [-0.10187661653147276, -0.17357828183731738, 0.27545489836879006], \"y\": [0.17290062438950435, -0.14529183455473665, -0.027608789834767725], \"topics\": [1, 2, 3], \"cluster\": [1, 1, 1], \"Freq\": [41.91308593286455, 36.66703042628533, 21.419883640850138]}, \"tinfo\": {\"Term\": [\"media_imag\", \"media_video\", \"\\u09b9\\u09be\\u09b8\\u09bf\\u09a8\", \"\\u09a2\\u09be\\u0995\\u09be\", \"capt\", \"\\u09b9\\u09be\\u09b8\\u09bf\\u09a8\\u09be\", \"na\", \"\\u09ad\\u09be\\u0987\", \"\\u09b6\\u09b9\\u09c0\\u09a6\", \"er\", \"\\u09ac\\u09c8\\u09b7\\u09ae\\u09cd\\u09af\\u09ac\\u09bf\\u09b0\\u09cb\\u09a7\\u09c0\", \"\\u09a2\\u09be\\u0995\\u09be\\u09df\", \"\\u0996\\u09c1\\u09a8\\u09bf\", \"\\u0986\\u09a8\\u09cd\\u09a6\\u09cb\\u09b2\\u09a8\", \"\\u09b8\\u09ae\\u09a8\\u09cd\\u09ac\\u09df\\u0995\", \"\\u09a6\\u09c7\\u09b6\", \"\\u09b6\\u09c7\\u0996\", \"\\u09b6\\u09bf\\u0995\\u09cd\\u09b7\\u09be\\u09b0\\u09cd\\u09a5\\u09c0\", \"\\u099b\\u09be\\u09a4\\u09cd\\u09b0\", \"\\u09b8\\u0995\\u09b2\", \"\\u09aa\\u09a6\\u09a4\\u09cd\\u09af\\u09be\\u0997\", \"\\u09b8\\u09c7\\u09a8\\u09be\\u09ac\\u09be\\u09b9\\u09bf\\u09a8\\u09c0\", \"ki\", \"\\u0997\\u09a0\\u09a8\", \"\\u09b8\\u09b0\\u0995\\u09be\\u09b0\", \"\\u0986\\u0997\\u09be\\u09ae\\u09c0\\u0995\\u09be\\u09b2\", \"vai\", \"\\u09b8\\u09ac\\u09be\", \"\\u0998\\u09cb\\u09b7\\u09a3\\u09be\", \"pass\", \"\\u0997\\u09a8\\u09ad\\u09ac\\u09a8\", \"\\u09a6\\u09be\\u09df\\u09bf\\u09a4\\u09cd\\u09ac\", \"\\u0995\\u0987\", \"\\u09af\\u09be\\u09ac\\u09c7\\u09a8\\u09be\", \"\\u0995\\u09cd\\u09b7\\u09ae\\u09a4\\u09be\\u09df\", \"\\u09ac\\u09bf\\u099c\\u09af\\u09bc\", \"\\u09ae\\u09c1\\u09b8\\u09b2\\u09bf\\u09ae\", \"\\u09a6\\u09c3\\u09b6\\u09cd\\u09af\", \"\\u09b8\\u09b0\\u0995\\u09be\\u09b0\", \"\\u09a8\\u09b7\\u09cd\\u099f\", \"\\u09a8\\u09be\\u099f\\u0995\", \"\\u099a\\u09be\\u0987\\u09a8\\u09be\", \"\\u09ae\\u09be\\u09b8\", \"\\u09ad\\u09be\\u0982\\u099a\\u09c1\\u09b0\", \"\\u0995\\u0987\\u09b0\", \"\\u0997\\u09c1\\u09aa\\u09a8\\u09c7\", \"\\u0996\\u09c1\\u09ac\", \"\\u09ad\\u09be\\u09ac\", \"\\u09a7\\u09cd\\u09ac\\u0982\\u09b8\", \"\\u09b2\\u09cb\\u0995\", \"\\u09b9\\u0993\", \"\\u0987\\u09a8\\u09b6\\u09be\\u0986\\u09b2\\u09cd\\u09b2\\u09be\\u09b9\", \"\\u09af\\u09be\\u0987\", \"\\u0986\\u099c\\u0995\\u09c7\", \"\\u0998\\u09c7\\u09b0\\u09be\", \"\\u098f\\u09a4\", \"\\u099c\\u09be\\u09df\\u0997\\u09be\", \"\\u099a\\u09bf\\u09a8\\u09cd\\u09a4\\u09be\", \"\\u0985\\u09ad\\u09cd\\u09af\\u09c1\\u09a4\\u09cd\\u09a5\\u09be\\u09a8\", \"\\u0995\\u09cd\\u09b7\\u09a4\\u09bf\", \"\\u0986\\u09b2\\u09cd\\u09b2\\u09be\\u09b9\", \"\\u0997\\u09a3\\u09ad\\u09ac\\u09a8\", \"\\u09b2\\u09c0\\u0997\", \"\\u09b8\\u09ae\\u09cd\\u09aa\\u09a6\", \"\\u0995\\u09be\\u09b0\", \"\\u09a6\\u09c7\\u09b0\", \"\\u0996\\u09be\\u09b0\\u09be\\u09aa\", \"\\u0993\\u09aa\\u09b0\", \"\\u09aa\\u09be\", \"\\u09b8\\u09c7\\u09a8\\u09be\\u09ac\\u09be\\u09b9\\u09bf\\u09a8\\u09c0\", \"\\u0986\\u09b2\\u09cd\\u09b2\\u09be\\u09b9\\u09b0\", \"\\u09a5\\u09be\\u0995\\u09c1\\u09a8\", \"\\u09ad\\u09be\\u09b0\\u09a4\", \"\\u0995\\u09bf\\u09ad\\u09be\\u09ac\\u09c7\", \"\\u09ad\\u09be\\u0987\", \"\\u09b9\\u09bf\\u09a8\\u09cd\\u09a6\\u09c1\", \"\\u0995\\u09cd\\u09b7\\u09ae\\u09a4\\u09be\", \"\\u09ae\\u09be\\u09b0\", \"\\u09b6\\u09be\\u09b8\\u09a8\", \"\\u09a6\\u09c7\\u09b6\", \"\\u0986\\u09b2\\u09b9\\u09be\\u09ae\\u09a6\\u09c1\\u09b2\\u09bf\\u09b2\\u09cd\\u09b2\\u09be\\u09b9\", \"\\u09b8\\u09ac\\u09be\", \"\\u09b8\\u0982\\u0996\\u09cd\\u09af\\u09be\\u09b2\\u0998\\u09c1\", \"\\u098f\\u0987\", \"\\u099a\\u09be\\u09df\", \"\\u098f\\u09b8\\u09ac\", \"\\u09b8\\u09c1\\u09af\\u09cb\\u0997\", \"\\u09ad\\u09be\\u09b2\\u09cb\", \"\\u09b8\\u09ac\\u09be\\u0987\\u0995\\u09c7\", \"\\u09b9\\u09be\\u09a4\", \"\\u09ae\\u09be\\u09a8\\u09c1\\u09b7\", \"\\u09b8\\u09b0\\u0995\", \"\\u098f\\u0995\", \"\\u09a6\\u09b2\", \"\\u09b0\\u09be\\u0996\", \"\\u0986\\u09aa\\u09a8\\u09be\", \"\\u09a6\\u09bf\\u09df\\u09c7\", \"\\u09a6\\u09c7\\u09b6\\u09c7\\u09b0\", \"\\u09ac\\u09c7\\u09b0\", \"\\u09b8\\u09be\\u09a5\\u09c7\", \"\\u09b9\\u09df\", \"\\u0995\\u09b0\\u09c1\\u09a8\", \"\\u0995\\u09a5\\u09be\", \"\\u09a8\\u09be\\u09ae\", \"\\u099b\\u09be\\u09a4\\u09cd\\u09b0\", \"\\u09aa\\u09c1\\u09b2\\u09bf\\u09b6\", \"\\u0986\\u09a8\\u09cd\\u09a6\\u09cb\\u09b2\\u09a8\", \"\\u09b8\\u09ae\\u09df\", \"\\u09ac\\u09be\\u0982\\u09b2\\u09be\\u09a6\\u09c7\\u09b6\", \"\\u09a2\\u09be\\u0995\\u09be\\u09df\", \"\\u09b9\\u09be\\u09b8\\u09bf\\u09a8\", \"\\u099b\\u09be\\u09a4\\u09cd\\u09b0-\\u099c\\u09a8\\u09a4\", \"ab\", \"\\u09ae\\u09c1\\u0995\\u09cd\\u09a4\\u09bf\", \"\\u09a4\\u09be\\u09b0\\u09bf\\u0996\", \"negat\", \"\\u09b8\\u09a8\\u09cd\\u09a4\\u09cd\\u09b0\\u09be\\u09b8\\u09c0\\u09b0\\u09be\", \"\\u09a8\\u09cb\\u09df\\u09be\\u0996\\u09be\\u09b2\\u09c0\", \"\\u0986\\u0997\\u09b8\\u09cd\\u099f\", \"\\u09b0\\u0993\\u09a8\\u09be\", \"\\u09ae\\u09c7\\u09a1\\u09bf\\u0995\\u09cd\\u09af\\u09be\\u09b2\", \"\\u0986\\u09b8\\u09be\", \"\\u0985\\u09a8\\u09c1\\u09b7\\u09cd\\u09a0\\u09bf\\u09a4\", \"\\u09b8\\u09cd\\u09ae\\u09b0\\u09a3\\u09c7\", \"\\u09aa\\u09a6\\u09a4\\u09cd\\u09af\\u09be\\u0997\", \"\\u09ac\\u09bf\\u09b0\\u09cb\\u09a7\\u09c0\", \"\\u0997\\u09c1\\u09b2\\u09bf\", \"\\u0995\\u09be\\u09a4\\u09be\\u09b0\\u09c7\", \"\\u09a8\\u09be\\u09b0\\u09be\\u09df\\u09a3\\u0997\\u099e\\u09cd\\u099c\", \"\\u09aa\\u09cd\\u09b0\\u09a6\\u09be\\u09a8\", \"\\u09b0\\u09b9\\u09ae\\u09be\\u09a8\", \"\\u0985\\u09ab\\u09bf\\u09b8-\\u09b6\\u09bf\\u0995\\u09cd\\u09b7\\u09be\\u09aa\\u09cd\\u09b0\\u09a4\\u09bf\\u09b7\\u09cd\\u09a0\\u09be\\u09a8\", \"\\u09ae\\u09bf\\u09a8\\u09be\\u09b0\\u09c7\", \"01626804795\", \"01925582350\", \"\\u0997\\u09be\\u099f\", \"\\u09af\\u09b6\\u09cb\\u09b0\", \"\\u09a4\\u09c1\\u09b2\\u09c1\\u09a8\", \"\\u09b6\\u09b9\\u09c0\\u09a6\", \"media_imag\", \"media_video\", \"\\u09ac\\u09c8\\u09b7\\u09ae\\u09cd\\u09af\\u09ac\\u09bf\\u09b0\\u09cb\\u09a7\\u09c0\", \"\\u09b8\\u09ae\\u09be\\u09ac\\u09c7\\u09b6\", \"\\u0995\\u09c1\\u09ae\\u09bf\\u09b2\\u09cd\\u09b2\\u09be\", \"\\u09ac\\u09c8\\u09b7\\u09ae\\u09cd\\u09af\", \"\\u09a8\\u09c7\\u09a4\\u09c3\\u09a4\\u09cd\\u09ac\", \"\\u0996\\u09c1\\u09a8\\u09bf\", \"\\u09a2\\u09be\\u0995\\u09be\", \"\\u09b8\\u09be\\u09b0\\u09be\\u09a6\\u09c7\\u09b6\", \"\\u0997\\u09a0\\u09a8\", \"\\u0995\\u09b0\\u09cd\\u09ae\\u09b8\\u09c2\\u099a\\u09bf\", \"\\u09ae\\u09c1\\u0995\\u09cd\\u09a4\\u09bf\\u0995\\u09be\\u09ae\\u09c0\", \"\\u099b\\u09be\\u09a4\\u09cd\\u09b0-\\u09a8\\u09be\\u0997\\u09b0\\u09bf\\u0995\", \"\\u0995\\u09b2\\u09c7\\u099c\", \"\\u09b6\\u09c7\\u0996\", \"\\u09b9\\u09be\\u09b8\\u09bf\\u09a8\\u09be\", \"\\u099c\\u09c1\\u09b2\\u09be\", \"\\u0989\\u09a6\\u09cd\\u09a6\\u09c7\\u09b6\\u09cd\\u09af\\u09c7\", \"\\u09ac\\u09bf\\u09b6\\u09cd\\u09ac\\u09ac\\u09bf\\u09a6\\u09cd\\u09af\\u09be\\u09b2\\u09df\", \"\\u09b8\\u09c7\\u09a8\\u09be\\u09ac\\u09be\\u09b9\\u09bf\\u09a8\\u09c0\\u09b0\", \"\\u09b6\\u09bf\\u0995\\u09cd\\u09b7\\u09be\\u09b0\\u09cd\\u09a5\\u09c0\", \"\\u09b8\\u09ae\\u09a8\\u09cd\\u09ac\\u09df\\u0995\", \"\\u0998\\u09cb\\u09b7\\u09a3\\u09be\", \"\\u0986\\u0997\\u09be\\u09ae\\u09c0\\u0995\\u09be\\u09b2\", \"\\u09ae\\u09bf\\u099b\\u09bf\\u09b2\", \"\\u09b8\\u0995\\u09b2\", \"\\u0986\\u09a8\\u09cd\\u09a6\\u09cb\\u09b2\\u09a8\", \"\\u09a6\\u09ab\\u09be\", \"\\u099b\\u09be\\u09a4\\u09cd\\u09b0\", \"\\u09ac\\u09be\\u0982\\u09b2\\u09be\\u09a6\\u09c7\\u09b6\\u09c7\\u09b0\", \"\\u0986\\u09b9\\u09cd\\u09ac\\u09be\\u09a8\", \"\\u09a6\\u09be\\u09ac\\u09bf\", \"\\u09b9\\u09df\", \"\\u099a\\u09be\\u0987\", \"\\u0995\\u09b0\\u09c1\\u09a8\", \"\\u0986\\u09b8\", \"\\u098f\\u0995\", \"capt\", \"pass\", \"lt\", \"adjt\", \"ki\", \"ta\", \"koren\", \"er\", \"\\u09a8\\u09c7\\u099f\", \"bn\", \"allah\", \"den\", \"password\", \"kora\", \"desh\", \"dr\", \"14\", \"ei\", \"victori\", \"kore\", \"rangpur\", \"jabe\", \"video\", \"sourc\", \"group\", \"ami\", \"kew\", \"amad\", \"te\", \"na\", \"vai\", \"kono\", \"bhai\", \"hobe\", \"ar\", \"880\", \"vpn\", \"pleas\", \"\\u0997\\u09c1\\u099c\\u09ac\", \"theke\", \"wifi\", \"nai\", \"10\", \"\\u09b8\\u09cb\\u09b0\\u09cd\\u09b8\", \"sobai\", \"eta\", \"hasina\", \"dhaka\", \"student\", \"\\u09ad\\u09bf\\u09a1\\u09bf\", \"\\u0987\\u09a8\\u09cd\\u099f\\u09be\\u09b0\\u09a8\\u09c7\\u099f\", \"\\u09ac\\u09be\\u09b8\\u09be\\u09df\", \"\\u0997\\u09cd\\u09b0\\u09c1\\u09aa\", \"\\u09ac\\u09bf\\u09b6\\u09cd\\u09ac\\u09be\\u09b8\", \"\\u0995\\u09b0\\u09c1\\u09a8\", \"\\u09a6\\u09bf\\u09df\\u09c7\", \"\\u09af\\u09be\\u09ac\", \"\\u0986\\u09aa\\u09a8\\u09be\", \"\\u09aa\\u09cb\\u09b8\\u09cd\\u099f\", \"\\u09ac\\u09a8\\u09cd\\u09a7\"], \"Freq\": [13193.0, 6705.0, 2648.0, 2986.0, 1408.0, 2930.0, 1417.0, 3490.0, 1796.0, 1068.0, 1711.0, 1518.0, 1710.0, 5059.0, 2524.0, 3094.0, 1721.0, 2037.0, 5519.0, 2703.0, 1330.0, 1715.0, 796.0, 1341.0, 1215.0, 1501.0, 654.0, 3333.0, 1497.0, 625.0, 367.50728153391026, 386.5136023259411, 278.3541948653416, 238.02951257293049, 363.746381521705, 243.7777396484768, 222.92087209489222, 276.4133277437939, 1210.2191300427203, 275.72755946288135, 215.8244343839864, 451.6643978938288, 206.9234911381106, 210.71405014432588, 172.918669414621, 174.31358424231277, 190.34001356675714, 293.42312718434056, 271.46751602795473, 456.33785281232076, 148.21736816452534, 766.9092869392348, 316.4089522208975, 165.31127702279102, 586.6637643231843, 252.66519677531156, 143.03807910319276, 184.04375806777418, 473.49526681070193, 601.2914405971827, 1173.6196522909001, 680.7581440726224, 1021.4392144538236, 776.2772721084328, 403.1406786184893, 572.6453186790856, 349.8021531484996, 308.17638312827074, 363.84579149103973, 1663.8064775364214, 726.4932200523388, 618.9039282424798, 512.6861381015117, 368.3772321676249, 3187.354246468028, 673.3182028716794, 676.5932536690667, 939.1799596741383, 593.262995169213, 2737.7116149635262, 591.6602929187806, 2812.395892887188, 880.6659746423368, 955.4171074277903, 825.5491656773753, 724.9127097080126, 520.8205533704324, 688.0514651643534, 1118.7899423879555, 1199.2499081263234, 1989.2752056393517, 1480.563721664522, 2312.2450413716697, 858.9108582854585, 1326.721193803125, 2040.3196602620687, 1568.4856809382024, 1257.729907440283, 764.5383120651408, 1511.5803299556353, 1930.3816552700903, 1933.9179843582388, 962.9535624845352, 1037.8243780340526, 1990.8086803084716, 1022.4769303148325, 1260.8540811904945, 968.7584905780417, 858.3240987051382, 1517.466567583594, 2646.0937109670913, 787.7788393160783, 568.0837831887744, 643.9825881975016, 487.4863318786975, 348.7253323742201, 208.97103125762038, 246.75965565531382, 821.299258286194, 658.7597048973253, 176.23144076283603, 332.65271105182524, 153.51209316729017, 140.25488971946365, 1323.6963172260016, 604.0475898122617, 330.6353991176301, 371.4114376386166, 108.10907472048753, 217.59471467912684, 303.543662369793, 100.20078061232753, 336.11143976919226, 93.24609726130632, 93.2456470093463, 95.48015591021796, 139.1475904161776, 546.3316378544483, 1780.4669488015595, 13001.52224036828, 6615.521095547646, 1680.3372622105792, 551.6751365392056, 265.7145610840334, 557.9545487896563, 325.68674850763625, 1661.6568425869057, 2862.521616770319, 623.5536036400365, 1288.4279438332262, 1052.1598914595597, 607.5526563245643, 1051.0900317514572, 633.3480947853582, 1621.6065796999026, 2694.176346718489, 811.3603812581022, 739.1186600336003, 969.7123777399595, 1156.9244564641294, 1847.328296468918, 2209.038071179867, 1348.607857669567, 1344.7065694324535, 760.3005879704327, 2226.582451688705, 3646.9881279385368, 1001.80591009185, 3459.3467988373027, 1153.49997742128, 852.3077292027897, 907.3628294419345, 1500.5175575308972, 924.8754633718971, 1192.8697646003106, 952.5835721588237, 908.8727455741415, 1407.6965170806561, 624.2586500530194, 312.6296609329154, 312.1706957337184, 793.2609134815046, 334.3573067080948, 286.32860830122604, 1064.8009740283424, 337.65077164593345, 221.06399949335332, 279.5597899714417, 307.5666709874338, 199.91472333783176, 253.54198402652074, 215.58894303831215, 215.54056427595992, 202.5328828092942, 269.83729930117283, 242.22426028492683, 536.307486672795, 186.92057651201574, 246.62963430780422, 223.9715399288599, 209.704780219141, 181.19444266150123, 278.6660043737204, 197.7058663847145, 231.5156310459738, 262.11980785781014, 1409.319390064125, 649.0598183941789, 361.3782988062222, 288.34186383737256, 318.6249896955085, 386.8199284922553, 260.2579298792043, 284.31305241110107, 429.5819040528412, 322.6324203123217, 298.60677440931113, 385.3850069113639, 320.61106895674726, 311.0371026917978, 363.4369194626872, 281.31219606575695, 271.74243820033394, 278.48800333951476, 389.0742040622952, 300.4186330630375, 602.6978066895771, 379.1236217041357, 345.4592786451552, 336.1066456637722, 359.11920854180886, 460.5909966614825, 396.5846993120034, 334.64611704169477, 387.44544645237, 333.36109294562925, 313.69859441262105], \"Total\": [13193.0, 6705.0, 2648.0, 2986.0, 1408.0, 2930.0, 1417.0, 3490.0, 1796.0, 1068.0, 1711.0, 1518.0, 1710.0, 5059.0, 2524.0, 3094.0, 1721.0, 2037.0, 5519.0, 2703.0, 1330.0, 1715.0, 796.0, 1341.0, 1215.0, 1501.0, 654.0, 3333.0, 1497.0, 625.0, 368.46381779984694, 387.6372844215794, 279.3477027772295, 238.96452914446047, 365.2001916964676, 244.79543228460759, 223.87680839676852, 277.6082899763095, 1215.5675750807925, 277.017843860789, 216.87260280483287, 453.8662755290163, 207.96652826529896, 211.78213283068192, 173.8154669528832, 175.2213014834464, 191.39719282786885, 295.13214781290145, 273.0518590550057, 459.076131897513, 149.13716165987591, 771.684737154519, 318.3921835894177, 166.37135890041154, 590.6882756159978, 254.40658649486153, 144.0649222278924, 185.41681776863746, 477.08926409086, 605.8624621334704, 1186.4250829926978, 687.1409657914364, 1037.1348380619677, 788.2787996913763, 407.0761893262465, 580.3004130132441, 352.94583834095283, 310.7148098107403, 367.70818210079676, 1715.9482963164935, 739.6169486840275, 633.1547296226087, 523.396787324402, 373.8623819421317, 3490.2673615799185, 698.3467669637233, 704.1609803177485, 992.471596278714, 618.5047857097345, 3094.3549264152134, 621.7989177248197, 3333.9183947113024, 955.2590254097425, 1044.5140936080177, 892.9925748064084, 784.8917131766538, 543.9349651767476, 748.6115381486027, 1318.7325297787247, 1439.705285732563, 2672.366748437774, 1902.8486807441122, 3321.101629433781, 987.1298117838644, 1711.619661695981, 2957.4293633014836, 2158.462464749723, 1761.581685882694, 864.5613813190406, 2418.910088514576, 3536.5446811509687, 3587.378745620032, 1281.8512600482823, 1470.4865140437494, 5519.619985978038, 1990.8786187498345, 5059.9336431877255, 1890.8382329455426, 1438.5810741233147, 1518.3340636744224, 2648.2994492825205, 788.5499954310004, 568.8608858869069, 645.0029105376105, 488.4370944639707, 349.44254768438043, 209.7574168022577, 247.70443371572384, 824.488636815485, 661.4500969327019, 176.9718818832773, 334.1243166555661, 154.24390086322967, 140.93347949289702, 1330.8113976417224, 607.5298314333838, 332.5644253254007, 373.71775261434686, 108.79886248599597, 218.9918277709623, 305.6246246000679, 100.90703480351762, 338.63774233597786, 93.95216325490011, 93.95193322989611, 96.24130449111478, 140.2786197856582, 551.067319781651, 1796.428995375992, 13193.038093785763, 6705.7226785331395, 1711.3939338886978, 557.0516530796365, 268.18937945657296, 567.7186481488649, 329.7483049373255, 1710.861395957628, 2986.1890613720316, 638.8891518372814, 1341.9922511396849, 1094.0601955380139, 623.2743984837368, 1096.728224926883, 651.6072442991654, 1721.7782310221448, 2930.2957966777526, 845.2257909713534, 769.1298645228309, 1023.6928092547123, 1238.4715191356142, 2037.83794424105, 2524.762235934323, 1497.2906018620313, 1501.14541721302, 798.6396808545455, 2703.0864034122546, 5059.9336431877255, 1133.7750092418785, 5519.619985978038, 1416.2933166375874, 1000.9174836979463, 1141.1727393822084, 3536.5446811509687, 1312.2034199615407, 3587.378745620032, 1645.2424530584576, 3321.101629433781, 1408.637510109651, 625.6884946720717, 313.57216096259083, 313.11198581063536, 796.0054564804483, 335.5616913771093, 287.4062524486841, 1068.9690959031511, 338.9756670886196, 221.98817324307362, 280.77469584154835, 308.9445899436546, 200.81046674547088, 254.68131823052906, 216.57255132447665, 216.53743537356542, 203.4924398023587, 271.1299641748181, 243.3990034889071, 538.9587566616063, 187.85125719925546, 247.85776538440967, 225.11037748459387, 210.7778636041562, 182.1303541317077, 280.1316698658018, 198.80182159324295, 232.83457026709465, 263.6876171159734, 1417.9552140852227, 654.0931105014195, 363.5986609793861, 290.2364731954776, 321.06914488844075, 390.5528852688336, 261.89799130739453, 286.4125797516367, 436.50078587405994, 326.20465733255406, 301.807353998194, 392.6193144488987, 325.41132101469236, 316.7584079103186, 376.12026753733426, 285.0319743612469, 275.6739237939905, 284.5644489133528, 442.0766971968774, 315.3197807150938, 877.5182240545649, 524.6069958712897, 454.40301550808863, 464.03634169981206, 794.1578161971702, 3587.378745620032, 2158.462464749723, 741.5276759168348, 2957.4293633014836, 836.0255820997963, 1178.8623021898659], \"Category\": [\"Default\", \"Default\", \"Default\", \"Default\", \"Default\", \"Default\", \"Default\", \"Default\", \"Default\", \"Default\", \"Default\", \"Default\", \"Default\", \"Default\", \"Default\", \"Default\", \"Default\", \"Default\", \"Default\", \"Default\", \"Default\", \"Default\", \"Default\", \"Default\", \"Default\", \"Default\", \"Default\", \"Default\", \"Default\", \"Default\", \"Topic1\", \"Topic1\", \"Topic1\", \"Topic1\", \"Topic1\", \"Topic1\", \"Topic1\", \"Topic1\", \"Topic1\", \"Topic1\", \"Topic1\", \"Topic1\", \"Topic1\", \"Topic1\", \"Topic1\", \"Topic1\", \"Topic1\", \"Topic1\", \"Topic1\", \"Topic1\", \"Topic1\", \"Topic1\", \"Topic1\", \"Topic1\", \"Topic1\", \"Topic1\", \"Topic1\", \"Topic1\", \"Topic1\", \"Topic1\", \"Topic1\", \"Topic1\", \"Topic1\", \"Topic1\", \"Topic1\", \"Topic1\", \"Topic1\", \"Topic1\", \"Topic1\", \"Topic1\", \"Topic1\", \"Topic1\", \"Topic1\", \"Topic1\", \"Topic1\", \"Topic1\", \"Topic1\", \"Topic1\", \"Topic1\", \"Topic1\", \"Topic1\", \"Topic1\", \"Topic1\", \"Topic1\", \"Topic1\", \"Topic1\", \"Topic1\", \"Topic1\", \"Topic1\", \"Topic1\", \"Topic1\", \"Topic1\", \"Topic1\", \"Topic1\", \"Topic1\", \"Topic1\", \"Topic1\", \"Topic1\", \"Topic1\", \"Topic1\", \"Topic1\", \"Topic1\", \"Topic1\", \"Topic1\", \"Topic1\", \"Topic1\", \"Topic1\", \"Topic1\", \"Topic1\", \"Topic2\", \"Topic2\", \"Topic2\", \"Topic2\", \"Topic2\", \"Topic2\", \"Topic2\", \"Topic2\", \"Topic2\", \"Topic2\", \"Topic2\", \"Topic2\", \"Topic2\", \"Topic2\", \"Topic2\", \"Topic2\", \"Topic2\", \"Topic2\", \"Topic2\", \"Topic2\", \"Topic2\", \"Topic2\", \"Topic2\", \"Topic2\", \"Topic2\", \"Topic2\", \"Topic2\", \"Topic2\", \"Topic2\", \"Topic2\", \"Topic2\", \"Topic2\", \"Topic2\", \"Topic2\", \"Topic2\", \"Topic2\", \"Topic2\", \"Topic2\", \"Topic2\", \"Topic2\", \"Topic2\", \"Topic2\", \"Topic2\", \"Topic2\", \"Topic2\", \"Topic2\", \"Topic2\", \"Topic2\", \"Topic2\", \"Topic2\", \"Topic2\", \"Topic2\", \"Topic2\", \"Topic2\", \"Topic2\", \"Topic2\", \"Topic2\", \"Topic2\", \"Topic2\", \"Topic2\", \"Topic2\", \"Topic2\", \"Topic2\", \"Topic2\", \"Topic2\", \"Topic2\", \"Topic2\", \"Topic2\", \"Topic3\", \"Topic3\", \"Topic3\", \"Topic3\", \"Topic3\", \"Topic3\", \"Topic3\", \"Topic3\", \"Topic3\", \"Topic3\", \"Topic3\", \"Topic3\", \"Topic3\", \"Topic3\", \"Topic3\", \"Topic3\", \"Topic3\", \"Topic3\", \"Topic3\", \"Topic3\", \"Topic3\", \"Topic3\", \"Topic3\", \"Topic3\", \"Topic3\", \"Topic3\", \"Topic3\", \"Topic3\", \"Topic3\", \"Topic3\", \"Topic3\", \"Topic3\", \"Topic3\", \"Topic3\", \"Topic3\", \"Topic3\", \"Topic3\", \"Topic3\", \"Topic3\", \"Topic3\", \"Topic3\", \"Topic3\", \"Topic3\", \"Topic3\", \"Topic3\", \"Topic3\", \"Topic3\", \"Topic3\", \"Topic3\", \"Topic3\", \"Topic3\", \"Topic3\", \"Topic3\", \"Topic3\", \"Topic3\", \"Topic3\", \"Topic3\", \"Topic3\", \"Topic3\", \"Topic3\"], \"logprob\": [30.0, 29.0, 28.0, 27.0, 26.0, 25.0, 24.0, 23.0, 22.0, 21.0, 20.0, 19.0, 18.0, 17.0, 16.0, 15.0, 14.0, 13.0, 12.0, 11.0, 10.0, 9.0, 8.0, 7.0, 6.0, 5.0, 4.0, 3.0, 2.0, 1.0, -6.7039, -6.6535, -6.9817, -7.1382, -6.7142, -7.1144, -7.2038, -6.9887, -5.5121, -6.9912, -7.2362, -6.4977, -7.2783, -7.2601, -7.4578, -7.4498, -7.3618, -6.929, -7.0068, -6.4874, -7.612, -5.9683, -6.8536, -7.5028, -6.2362, -7.0786, -7.6475, -7.3955, -6.4505, -6.2116, -5.5428, -6.0874, -5.6817, -5.9561, -6.6113, -6.2604, -6.7533, -6.88, -6.7139, -5.1938, -6.0224, -6.1827, -6.371, -6.7015, -4.5437, -6.0984, -6.0936, -5.7656, -6.225, -4.6958, -6.2277, -4.6688, -5.83, -5.7485, -5.8946, -6.0246, -6.3552, -6.0768, -5.5906, -5.5212, -5.0151, -5.3105, -4.8647, -5.855, -5.4202, -4.9898, -5.2528, -5.4736, -5.9714, -5.2897, -5.0452, -5.0433, -5.7406, -5.6657, -5.0143, -5.6806, -5.4711, -5.7346, -5.8556, -5.1521, -4.5961, -5.8077, -6.1346, -6.0092, -6.2876, -6.6226, -7.1347, -6.9685, -5.766, -5.9866, -7.3051, -6.6698, -7.4431, -7.5334, -5.2887, -6.0733, -6.6759, -6.5596, -7.7938, -7.0943, -6.7614, -7.8697, -6.6595, -7.9417, -7.9417, -7.918, -7.5414, -6.1737, -4.9923, -3.0041, -3.6797, -5.0502, -6.164, -6.8945, -6.1526, -6.691, -5.0613, -4.5175, -6.0415, -5.3157, -5.5183, -6.0675, -5.5193, -6.0259, -5.0857, -4.5781, -5.7782, -5.8715, -5.5999, -5.4234, -4.9554, -4.7766, -5.2701, -5.273, -5.8432, -4.7687, -4.2753, -5.5674, -4.3281, -5.4264, -5.729, -5.6664, -5.1633, -5.6473, -5.3928, -5.6177, -5.6647, -4.6896, -5.5028, -6.1943, -6.1958, -5.2632, -6.1271, -6.2822, -4.9688, -6.1173, -6.5409, -6.3061, -6.2107, -6.6415, -6.4038, -6.566, -6.5662, -6.6285, -6.3415, -6.4495, -5.6546, -6.7087, -6.4315, -6.5278, -6.5937, -6.7398, -6.3093, -6.6526, -6.4947, -6.3706, -4.6885, -5.4638, -6.0494, -6.2752, -6.1753, -5.9814, -6.3777, -6.2893, -5.8765, -6.1628, -6.2402, -5.9851, -6.1691, -6.1994, -6.0437, -6.2999, -6.3345, -6.31, -5.9756, -6.2342, -5.5379, -6.0015, -6.0945, -6.1219, -6.0557, -5.8068, -5.9565, -6.1263, -5.9798, -6.1301, -6.1909], \"loglift\": [30.0, 29.0, 28.0, 27.0, 26.0, 25.0, 24.0, 23.0, 22.0, 21.0, 20.0, 19.0, 18.0, 17.0, 16.0, 15.0, 14.0, 13.0, 12.0, 11.0, 10.0, 9.0, 8.0, 7.0, 6.0, 5.0, 4.0, 3.0, 2.0, 1.0, 0.867, 0.8667, 0.866, 0.8657, 0.8656, 0.8654, 0.8653, 0.8653, 0.8652, 0.8649, 0.8647, 0.8647, 0.8645, 0.8645, 0.8644, 0.8644, 0.864, 0.8638, 0.8638, 0.8636, 0.8634, 0.8634, 0.8633, 0.8632, 0.8627, 0.8627, 0.8624, 0.8621, 0.862, 0.862, 0.8587, 0.8602, 0.8543, 0.8542, 0.8599, 0.8563, 0.8606, 0.8614, 0.859, 0.8387, 0.8517, 0.8468, 0.8489, 0.8548, 0.7788, 0.8331, 0.8296, 0.8144, 0.8279, 0.7471, 0.8199, 0.6995, 0.7883, 0.7804, 0.791, 0.7901, 0.8261, 0.7852, 0.7051, 0.6868, 0.5744, 0.6186, 0.5075, 0.7304, 0.6148, 0.4984, 0.5503, 0.5327, 0.7466, 0.3994, 0.2641, 0.2517, 0.5835, 0.5211, -0.1502, 0.2032, -0.52, 0.2008, 0.3531, 1.0027, 1.0025, 1.0023, 1.0019, 1.0017, 1.0013, 1.0012, 0.9995, 0.9995, 0.9994, 0.9992, 0.9991, 0.9989, 0.9985, 0.9985, 0.9979, 0.9975, 0.9975, 0.9971, 0.9969, 0.9969, 0.9965, 0.9963, 0.9958, 0.9957, 0.9957, 0.9954, 0.9952, 0.9947, 0.9944, 0.9887, 0.9897, 0.985, 0.9936, 0.994, 0.9859, 0.9909, 0.9741, 0.961, 0.979, 0.9626, 0.9642, 0.9777, 0.9608, 0.9749, 0.9434, 0.9193, 0.9624, 0.9635, 0.9491, 0.9352, 0.9051, 0.8697, 0.8987, 0.8932, 0.9541, 0.8094, 0.6758, 0.8795, 0.5361, 0.798, 0.8426, 0.774, 0.146, 0.6535, -0.0978, 0.4568, -0.2926, 1.5402, 1.5386, 1.5378, 1.5378, 1.5374, 1.5373, 1.5371, 1.5369, 1.5369, 1.5367, 1.5365, 1.5364, 1.5364, 1.5364, 1.5363, 1.5362, 1.5361, 1.5361, 1.536, 1.5359, 1.5359, 1.5359, 1.5358, 1.5357, 1.5357, 1.5356, 1.5353, 1.5352, 1.5349, 1.5347, 1.5331, 1.5347, 1.5343, 1.5332, 1.5312, 1.5346, 1.5335, 1.5249, 1.5298, 1.5302, 1.5223, 1.526, 1.5226, 1.5065, 1.5277, 1.5265, 1.5193, 1.4131, 1.4924, 1.1652, 1.2161, 1.2667, 1.2183, 0.7472, -0.5118, -0.1534, 0.7452, -0.4917, 0.6214, 0.217]}, \"token.table\": {\"Topic\": [2, 2, 1, 2, 3, 2, 3, 2, 3, 2, 2, 3, 2, 3, 1, 2, 3, 1, 2, 3, 1, 2, 3, 1, 2, 3, 2, 3, 2, 3, 2, 3, 2, 3, 1, 2, 3, 2, 3, 1, 2, 3, 1, 2, 3, 1, 2, 3, 2, 3, 1, 2, 3, 1, 2, 3, 1, 2, 3, 2, 3, 1, 2, 3, 1, 2, 3, 1, 2, 3, 1, 2, 3, 2, 3, 2, 3, 1, 2, 3, 1, 2, 3, 1, 2, 3, 1, 2, 3, 2, 1, 2, 3, 2, 3, 1, 2, 3, 2, 3, 1, 2, 3, 1, 2, 3, 1, 2, 3, 1, 2, 3, 2, 3, 1, 2, 3, 1, 2, 3, 2, 3, 1, 2, 3, 1, 2, 3, 1, 2, 3, 2, 2, 1, 2, 3, 1, 2, 1, 2, 3, 1, 2, 1, 2, 3, 1, 2, 3, 1, 2, 3, 1, 2, 3, 1, 2, 3, 1, 2, 3, 1, 2, 3, 1, 2, 3, 1, 2, 3, 1, 2, 3, 1, 2, 3, 1, 2, 3, 1, 2, 3, 1, 2, 3, 1, 2, 3, 1, 2, 1, 2, 1, 2, 1, 2, 3, 1, 2, 3, 1, 2, 3, 1, 2, 3, 1, 2, 1, 2, 3, 1, 2, 3, 1, 2, 1, 2, 3, 1, 2, 3, 1, 2, 3, 1, 2, 1, 2, 3, 1, 2, 1, 2, 3, 1, 2, 3, 1, 2, 2, 1, 2, 3, 1, 2, 1, 2, 3, 1, 2, 3, 1, 2, 1, 2, 3, 1, 2, 3, 1, 2, 3, 1, 2, 3, 1, 2, 3, 1, 2, 3, 2, 1, 2, 3, 1, 2, 1, 2, 3, 1, 2, 3, 1, 2, 1, 2, 1, 2, 3, 1, 2, 3, 1, 2, 3, 1, 2, 3, 1, 2, 3, 1, 2, 1, 2, 3, 1, 2, 3, 1, 2, 3, 1, 2, 3, 1, 2, 3, 1, 2, 3, 1, 2, 1, 2, 1, 2, 3, 2, 1, 2, 3, 1, 2, 3, 1, 2, 1, 2, 1, 2, 3, 1, 2, 3, 1, 2, 3, 1, 2, 3, 1, 2, 3, 1, 2, 3, 1, 2, 3, 1, 2, 3, 1, 2, 1, 2, 1, 2, 3, 1, 2, 3, 1, 2, 3, 1, 2, 3, 1, 2, 3, 1, 2, 1, 2, 3, 1, 2, 1, 2, 3, 1, 2, 3, 1, 2, 3, 1, 2, 3, 1, 2, 3, 1, 2, 1, 2, 3, 1, 2, 3, 1, 2, 1, 2, 3, 1, 2, 2, 1, 2, 1, 2, 1, 2, 3, 1, 2, 1, 2, 1, 2, 1, 2, 3, 1, 2, 3, 1, 2, 3, 1, 2, 3, 1, 2, 3, 1, 2, 3, 1, 2, 3, 1, 2, 3, 1, 2, 3, 2, 1, 2, 3, 1, 2, 3, 1, 2, 3, 1, 2, 3, 1, 2, 3, 1, 2, 3, 1, 2, 3, 1, 2, 3, 1, 2, 3, 1, 2, 3, 1, 2, 3, 1, 2, 3, 1, 2, 3, 1, 2, 3, 2, 1, 2, 1, 2, 3, 1, 2, 1, 2, 1, 2, 3, 1, 2, 3], \"Freq\": [0.9898654461811931, 0.9898678696949559, 0.006313960261368167, 0.012627920522736334, 0.98182082064275, 0.004914187480238807, 0.9975800584884776, 0.003818280525971203, 0.9927529367525129, 0.9984866495337174, 0.003193745513800875, 0.9964486003058731, 0.003561574510846723, 0.9972408630370825, 0.0042948948639923035, 0.0042948948639923035, 0.9964156084462145, 0.003569749898249826, 0.003569749898249826, 0.9959602216117015, 0.0076814180951063175, 0.0025604726983687724, 0.9909029342687149, 0.0034454663433237374, 0.0034454663433237374, 0.9922943068772363, 0.004504744488820201, 0.9955485320292645, 0.0007099058436418877, 0.999547427847778, 0.0032368263842470274, 0.9969425263480844, 0.004617390310472746, 0.9973563070621132, 0.015834356446258406, 0.10405434236112666, 0.8799378082277884, 0.004618139114259033, 0.9975180486799511, 0.0036882681080399656, 0.0036882681080399656, 0.9958323891707908, 0.0028064422175510684, 0.0009354807391836894, 0.9962869872306293, 0.010882422097499081, 0.0036274740324996934, 0.9866729368399166, 0.005490572973228006, 0.9937937081542692, 0.021084854495745334, 0.0035141424159575553, 0.9769315916362005, 0.006229187799079614, 0.003114593899539807, 0.9935554539531984, 0.0040345719991829645, 0.0040345719991829645, 0.9965392837981923, 0.00503013499567445, 0.9959667291435412, 0.0012562727954422788, 0.0025125455908845576, 0.9962243267857271, 0.0055005703118180295, 0.0027502851559090147, 0.9928529412831544, 0.003926475671430416, 0.003926475671430416, 0.9973248205433256, 0.001855429543800632, 0.001855429543800632, 0.9945102354771387, 0.0034793954253954456, 0.9951070916630974, 0.003189058610720548, 0.9981753451555315, 0.011066442692132413, 0.9855197800212715, 0.0034108898708627303, 0.01028971869368949, 0.9866199837311546, 0.003280779873350272, 0.004936686244012276, 0.0007052408920017537, 0.9936844168304709, 0.01229213534282478, 0.003073033835706195, 0.9864438612616886, 0.9987335609606987, 0.001598239393109039, 0.001598239393109039, 0.9973013813000403, 0.0049798201070241485, 0.9959640214048298, 0.013745679719649191, 0.002290946619941532, 0.9851070465748587, 0.005323360699892954, 0.9954684508799826, 0.01052513496678035, 0.0035083783222601165, 0.9858543085550927, 0.004744331225778121, 0.004744331225778121, 0.9963095574134054, 0.03805660391107071, 0.009514150977767678, 0.9514150977767679, 0.0029800779579340743, 0.0029800779579340743, 0.9953460379499809, 0.0037923661753148856, 0.9935999379325, 0.009940115640846684, 0.0033133718802822276, 0.9906981922043862, 0.0061153373056225145, 0.0015288343264056286, 0.992213477837253, 0.004108480255325182, 0.9942522217886941, 0.004442265217508411, 0.004442265217508411, 0.9950674087218842, 0.003491466753545365, 0.003491466753545365, 0.9915765580068837, 0.015281978698429339, 0.002546996449738223, 0.9805936331492159, 0.998418732527739, 0.9910111836574748, 0.9914287233047415, 0.0062881314374507915, 0.0020960438124835975, 0.0036386189767117186, 0.9957687266267736, 0.10258832904137404, 0.8959824841600524, 0.0019984739423644293, 0.9917572416942725, 0.0060106499496622575, 0.2492127543407028, 0.7207604401907559, 0.0300399196350411, 0.6897882415432149, 0.17920969020485486, 0.1308568869986393, 0.952076279203163, 0.006432947832453803, 0.04181416091094972, 0.9895272923922376, 0.006742945774393442, 0.004214341108995902, 0.9815891878785963, 0.00946435856081291, 0.008112307337839639, 0.3725894617297596, 0.5792459331622527, 0.04862505210176308, 0.0029928980027839626, 0.9966350349270595, 0.0029928980027839626, 0.13987167002294942, 0.8512190204253779, 0.007992666858454253, 0.9939292084850696, 0.0038875979471384727, 0.002591731964758982, 0.1143713302952612, 0.16202605125162003, 0.7224455696983999, 0.02990392268055958, 0.9608260374318927, 0.009101193859300742, 0.9143007316456466, 0.0028721488952219267, 0.0823349349963619, 0.6961545468857501, 0.27370436121070363, 0.030110490782255625, 0.9944711081806448, 0.003930715842611244, 0.003930715842611244, 0.9236942979888818, 0.020384977610789116, 0.05605868842967007, 0.9912626958065053, 0.006436770751990294, 0.9951755365666843, 0.0035797681171463465, 0.9953084327466424, 0.00575322793495169, 0.7512572090179384, 0.19503042809396115, 0.05304827644155743, 0.5391122981818673, 0.33255479406978683, 0.12850608555420934, 0.03564703309658515, 0.961555867118143, 0.001828052979312059, 0.021485335104058992, 0.9714440800620958, 0.006138667172588283, 0.005351632310771904, 0.9927277936481883, 0.9899866672796731, 0.0024565425987088663, 0.007369627796126599, 0.9843194121011107, 0.005349562022288645, 0.008024343033432968, 0.0074574168598792465, 0.9918364423639398, 0.9919743135820829, 0.006602158493058788, 0.001650539623264697, 0.9614278821506238, 0.032662985656520455, 0.0071006490557653165, 0.9967136060611241, 0.0027382241924756158, 0.0027382241924756158, 0.9916535682789179, 0.008499887728105011, 0.025133538053754154, 0.9714404708218467, 0.0035070053098261614, 0.9927000349000656, 0.005224737025789819, 0.014903215710087021, 0.9597670917296043, 0.02533546670714794, 0.9910630189478467, 0.008731832766060323, 0.0014553054610100538, 0.9987412120880241, 0.0027139706850218045, 0.9871021647339644, 0.009196680465973871, 0.0030655601553246235, 0.9901759301698534, 0.9930299485672877, 0.00570706866992694, 0.003006936171905762, 0.9952958729008072, 0.003006936171905762, 0.07542512698852737, 0.20041533742665843, 0.7240812190898627, 0.9937559694880493, 0.00677176129123032, 0.08949498503053284, 0.9009607075088717, 0.010018095339238751, 0.2903513237384846, 0.7049211928034076, 0.005334538756350111, 0.9958880497854989, 0.004406584291086279, 0.0022032921455431395, 0.9249796955804122, 0.04255354531725867, 0.032475074057907935, 0.9923587418569261, 0.00539325403183112, 0.00539325403183112, 0.36071323842183106, 0.6266735769468176, 0.012500860598245275, 0.9993025230686866, 0.03829572271909029, 0.9583048708991403, 0.0036472116875324086, 0.9926080394073457, 0.006941314960890529, 0.020112968844056688, 0.9595069254429396, 0.020112968844056688, 0.032482872988434455, 0.9587470656277097, 0.009041624440079693, 0.0006586165876960992, 0.9991213635349826, 0.0020473465495028337, 0.99705776960788, 0.005443980966225121, 0.990804535852972, 0.0036293206441500806, 0.9776441224232099, 0.014214534897914199, 0.009476356598609466, 0.11377918806506279, 0.8837732282263017, 0.002646027629420065, 0.8701996330631346, 0.12662974869952484, 0.003039113968788596, 0.20329963378339794, 0.7947964131100945, 0.0008762915249284394, 0.9983559774892904, 0.0025797312079826624, 0.7264430239614159, 0.08941549976055693, 0.18392721971472076, 0.9942066212199688, 0.0036021979029709017, 0.0036021979029709017, 0.987419597075011, 0.0017232453701134572, 0.010339472220680743, 0.8848370872477619, 0.10470679922142982, 0.010664581402182667, 0.7141309483866716, 0.26396732193942946, 0.022139194743306986, 0.9924854602268341, 0.003662307971316731, 0.003662307971316731, 0.9963257101181521, 0.0036098757612976528, 0.9959764267429476, 0.004611001975661794, 0.705888826647966, 0.27949933309471486, 0.014961034861517583, 0.9926574371483085, 0.0029500642585609735, 0.0029500642585609735, 0.997121719393609, 0.003032616043894654, 0.9886328303096572, 0.009097848131683961, 0.004037069441993286, 0.9971561521723415, 0.005259948939725359, 0.9948817708851964, 0.9899154213006327, 0.0054390957214320475, 0.0054390957214320475, 0.5133411903543178, 0.42041739366591385, 0.06580009387124816, 0.5131421922789802, 0.08851403782900823, 0.39831317023053703, 0.004566380445236858, 0.9954709370616349, 0.004566380445236858, 0.7083100362518133, 0.02544826477551425, 0.26635850465038247, 0.5964210258520699, 0.3781503940134336, 0.025719787828119567, 0.18498992893789296, 0.8140969010129411, 0.0007060684310606601, 0.2046641347571439, 0.03521103393671293, 0.7592379192603725, 0.996750624481903, 0.004085043542958619, 0.004938029121832436, 0.994189863195597, 0.035166799722085945, 0.9475498814006491, 0.017583399861042973, 0.28583739323625995, 0.26191267750282854, 0.4520512078053627, 0.8848417434894649, 0.10525568451966184, 0.01040990286458194, 0.015852922973987032, 0.9828812243871959, 0.001761435885998559, 0.015776613125330834, 0.9816559277983631, 0.002337276018567531, 0.9963068988860018, 0.004721833644009487, 0.913110564274182, 0.07248728357746095, 0.014325550114122718, 0.9927756165205929, 0.0033883126843706245, 0.9801359359167062, 0.003821192732618738, 0.015284770930474952, 0.9190347262099359, 0.03473096349049176, 0.04541741379525846, 0.2472883115718708, 0.06609549341552308, 0.6871652160269037, 0.7442840699775732, 0.2308814837486992, 0.024697208958531842, 0.9461227943658977, 0.030227565315204402, 0.02317446674165671, 0.9953524816067228, 0.004808466094718468, 0.046328777403609536, 0.9516181304525202, 0.002504258238032948, 0.005906016223128812, 0.9922107254856405, 0.002953008111564406, 0.0015503806008665898, 0.998445106958084, 0.022462016784354256, 0.9754933003490992, 0.0016044297703110184, 0.9960835228845384, 0.004466742255087616, 0.9945082694892836, 0.007128670081926754, 0.9908851413878187, 0.9924866761412003, 0.006281561241400002, 0.17126805124700906, 0.3775988531430121, 0.45177005643896095, 0.9959637141632958, 0.0041847214880810744, 0.0030236596974956473, 0.9962958703248158, 0.006543975318144426, 0.9946842483579528, 0.7752890608215639, 0.16008229289005915, 0.06485085587881959, 0.9844428733180751, 0.010606142611654091, 0.0038567791315105783, 0.9932992989968824, 0.002178287936396672, 0.002178287936396672, 0.00779323871749788, 0.9908546369390162, 0.0011133198167854114, 0.9587638021580257, 0.04042005911290159, 0.0016168023645160637, 0.08538461092636228, 0.906352737821788, 0.008342174630736544, 0.05807948909926359, 0.9420493131900554, 0.0005807948909926358, 0.9222629428935357, 0.07118488094978483, 0.007327855391889614, 0.1664763654731644, 0.8238730353527491, 0.00961863444956061, 0.9963890821416259, 0.8434519586504464, 0.08368531168686862, 0.07258725959936274, 0.8485420467998628, 0.057631095225013015, 0.09402968168291598, 0.09901922503505921, 0.8749338724097832, 0.026141075409255633, 0.007180662651095584, 0.9909314458511906, 0.001795165662773896, 0.9844232780379434, 0.010148693588020034, 0.005074346794010017, 0.5124711268877267, 0.4569401998255891, 0.030674226377180747, 0.7783067644773795, 0.22072170228257892, 0.0010510557251551377, 0.9954197732853951, 0.0008226609696573514, 0.0032906438786294056, 0.625074907570666, 0.35883929879056753, 0.016122963885751306, 0.021913034459482665, 0.9766952501940845, 0.0031304334942118097, 0.9578350967577621, 0.016546095721343298, 0.027576826202238832, 0.9697261878880574, 0.029721175229742144, 0.0005827681417596499, 0.059751071265367474, 0.9342160737031103, 0.006459575271931618, 0.0106348961894295, 0.021269792378859, 0.965116829190727, 0.9933764532298796, 0.9923750616732981, 0.006705236903197961, 0.8328093338838544, 0.1396119066811132, 0.027088877415738382, 0.0007552016070319547, 0.999131726103276, 0.08053794441761374, 0.9193611112756416, 0.9637046118593401, 0.02720711385635581, 0.008591720165164993, 0.5457304159866804, 0.4244255722259105, 0.029972758598232185], \"Term\": [\"01626804795\", \"01925582350\", \"10\", \"10\", \"10\", \"14\", \"14\", \"880\", \"880\", \"ab\", \"adjt\", \"adjt\", \"allah\", \"allah\", \"amad\", \"amad\", \"amad\", \"ami\", \"ami\", \"ami\", \"ar\", \"ar\", \"ar\", \"bhai\", \"bhai\", \"bhai\", \"bn\", \"bn\", \"capt\", \"capt\", \"den\", \"den\", \"desh\", \"desh\", \"dhaka\", \"dhaka\", \"dhaka\", \"dr\", \"dr\", \"ei\", \"ei\", \"ei\", \"er\", \"er\", \"er\", \"eta\", \"eta\", \"eta\", \"group\", \"group\", \"hasina\", \"hasina\", \"hasina\", \"hobe\", \"hobe\", \"hobe\", \"jabe\", \"jabe\", \"jabe\", \"kew\", \"kew\", \"ki\", \"ki\", \"ki\", \"kono\", \"kono\", \"kono\", \"kora\", \"kora\", \"kora\", \"kore\", \"kore\", \"kore\", \"koren\", \"koren\", \"lt\", \"lt\", \"media_imag\", \"media_imag\", \"media_imag\", \"media_video\", \"media_video\", \"media_video\", \"na\", \"na\", \"na\", \"nai\", \"nai\", \"nai\", \"negat\", \"pass\", \"pass\", \"pass\", \"password\", \"password\", \"pleas\", \"pleas\", \"pleas\", \"rangpur\", \"rangpur\", \"sobai\", \"sobai\", \"sobai\", \"sourc\", \"sourc\", \"sourc\", \"student\", \"student\", \"student\", \"ta\", \"ta\", \"ta\", \"te\", \"te\", \"theke\", \"theke\", \"theke\", \"vai\", \"vai\", \"vai\", \"victori\", \"victori\", \"video\", \"video\", \"video\", \"vpn\", \"vpn\", \"vpn\", \"wifi\", \"wifi\", \"wifi\", \"\\u0985\\u09a8\\u09c1\\u09b7\\u09cd\\u09a0\\u09bf\\u09a4\", \"\\u0985\\u09ab\\u09bf\\u09b8-\\u09b6\\u09bf\\u0995\\u09cd\\u09b7\\u09be\\u09aa\\u09cd\\u09b0\\u09a4\\u09bf\\u09b7\\u09cd\\u09a0\\u09be\\u09a8\", \"\\u0985\\u09ad\\u09cd\\u09af\\u09c1\\u09a4\\u09cd\\u09a5\\u09be\\u09a8\", \"\\u0985\\u09ad\\u09cd\\u09af\\u09c1\\u09a4\\u09cd\\u09a5\\u09be\\u09a8\", \"\\u0985\\u09ad\\u09cd\\u09af\\u09c1\\u09a4\\u09cd\\u09a5\\u09be\\u09a8\", \"\\u0986\\u0997\\u09b8\\u09cd\\u099f\", \"\\u0986\\u0997\\u09b8\\u09cd\\u099f\", \"\\u0986\\u0997\\u09be\\u09ae\\u09c0\\u0995\\u09be\\u09b2\", \"\\u0986\\u0997\\u09be\\u09ae\\u09c0\\u0995\\u09be\\u09b2\", \"\\u0986\\u0997\\u09be\\u09ae\\u09c0\\u0995\\u09be\\u09b2\", \"\\u0986\\u099c\\u0995\\u09c7\", \"\\u0986\\u099c\\u0995\\u09c7\", \"\\u0986\\u09a8\\u09cd\\u09a6\\u09cb\\u09b2\\u09a8\", \"\\u0986\\u09a8\\u09cd\\u09a6\\u09cb\\u09b2\\u09a8\", \"\\u0986\\u09a8\\u09cd\\u09a6\\u09cb\\u09b2\\u09a8\", \"\\u0986\\u09aa\\u09a8\\u09be\", \"\\u0986\\u09aa\\u09a8\\u09be\", \"\\u0986\\u09aa\\u09a8\\u09be\", \"\\u0986\\u09b2\\u09b9\\u09be\\u09ae\\u09a6\\u09c1\\u09b2\\u09bf\\u09b2\\u09cd\\u09b2\\u09be\\u09b9\", \"\\u0986\\u09b2\\u09b9\\u09be\\u09ae\\u09a6\\u09c1\\u09b2\\u09bf\\u09b2\\u09cd\\u09b2\\u09be\\u09b9\", \"\\u0986\\u09b2\\u09b9\\u09be\\u09ae\\u09a6\\u09c1\\u09b2\\u09bf\\u09b2\\u09cd\\u09b2\\u09be\\u09b9\", \"\\u0986\\u09b2\\u09cd\\u09b2\\u09be\\u09b9\", \"\\u0986\\u09b2\\u09cd\\u09b2\\u09be\\u09b9\", \"\\u0986\\u09b2\\u09cd\\u09b2\\u09be\\u09b9\", \"\\u0986\\u09b2\\u09cd\\u09b2\\u09be\\u09b9\\u09b0\", \"\\u0986\\u09b2\\u09cd\\u09b2\\u09be\\u09b9\\u09b0\", \"\\u0986\\u09b2\\u09cd\\u09b2\\u09be\\u09b9\\u09b0\", \"\\u0986\\u09b8\", \"\\u0986\\u09b8\", \"\\u0986\\u09b8\", \"\\u0986\\u09b8\\u09be\", \"\\u0986\\u09b8\\u09be\", \"\\u0986\\u09b8\\u09be\", \"\\u0986\\u09b9\\u09cd\\u09ac\\u09be\\u09a8\", \"\\u0986\\u09b9\\u09cd\\u09ac\\u09be\\u09a8\", \"\\u0986\\u09b9\\u09cd\\u09ac\\u09be\\u09a8\", \"\\u0987\\u09a8\\u09b6\\u09be\\u0986\\u09b2\\u09cd\\u09b2\\u09be\\u09b9\", \"\\u0987\\u09a8\\u09b6\\u09be\\u0986\\u09b2\\u09cd\\u09b2\\u09be\\u09b9\", \"\\u0987\\u09a8\\u09b6\\u09be\\u0986\\u09b2\\u09cd\\u09b2\\u09be\\u09b9\", \"\\u0987\\u09a8\\u09cd\\u099f\\u09be\\u09b0\\u09a8\\u09c7\\u099f\", \"\\u0987\\u09a8\\u09cd\\u099f\\u09be\\u09b0\\u09a8\\u09c7\\u099f\", \"\\u0987\\u09a8\\u09cd\\u099f\\u09be\\u09b0\\u09a8\\u09c7\\u099f\", \"\\u0989\\u09a6\\u09cd\\u09a6\\u09c7\\u09b6\\u09cd\\u09af\\u09c7\", \"\\u0989\\u09a6\\u09cd\\u09a6\\u09c7\\u09b6\\u09cd\\u09af\\u09c7\", \"\\u0989\\u09a6\\u09cd\\u09a6\\u09c7\\u09b6\\u09cd\\u09af\\u09c7\", \"\\u098f\\u0987\", \"\\u098f\\u0987\", \"\\u098f\\u0987\", \"\\u098f\\u0995\", \"\\u098f\\u0995\", \"\\u098f\\u0995\", \"\\u098f\\u09a4\", \"\\u098f\\u09a4\", \"\\u098f\\u09a4\", \"\\u098f\\u09b8\\u09ac\", \"\\u098f\\u09b8\\u09ac\", \"\\u098f\\u09b8\\u09ac\", \"\\u0993\\u09aa\\u09b0\", \"\\u0993\\u09aa\\u09b0\", \"\\u0995\\u0987\", \"\\u0995\\u0987\", \"\\u0995\\u0987\\u09b0\", \"\\u0995\\u0987\\u09b0\", \"\\u0995\\u09a5\\u09be\", \"\\u0995\\u09a5\\u09be\", \"\\u0995\\u09a5\\u09be\", \"\\u0995\\u09b0\\u09c1\\u09a8\", \"\\u0995\\u09b0\\u09c1\\u09a8\", \"\\u0995\\u09b0\\u09c1\\u09a8\", \"\\u0995\\u09b0\\u09cd\\u09ae\\u09b8\\u09c2\\u099a\\u09bf\", \"\\u0995\\u09b0\\u09cd\\u09ae\\u09b8\\u09c2\\u099a\\u09bf\", \"\\u0995\\u09b0\\u09cd\\u09ae\\u09b8\\u09c2\\u099a\\u09bf\", \"\\u0995\\u09b2\\u09c7\\u099c\", \"\\u0995\\u09b2\\u09c7\\u099c\", \"\\u0995\\u09b2\\u09c7\\u099c\", \"\\u0995\\u09be\\u09a4\\u09be\\u09b0\\u09c7\", \"\\u0995\\u09be\\u09a4\\u09be\\u09b0\\u09c7\", \"\\u0995\\u09be\\u09b0\", \"\\u0995\\u09be\\u09b0\", \"\\u0995\\u09be\\u09b0\", \"\\u0995\\u09bf\\u09ad\\u09be\\u09ac\\u09c7\", \"\\u0995\\u09bf\\u09ad\\u09be\\u09ac\\u09c7\", \"\\u0995\\u09bf\\u09ad\\u09be\\u09ac\\u09c7\", \"\\u0995\\u09c1\\u09ae\\u09bf\\u09b2\\u09cd\\u09b2\\u09be\", \"\\u0995\\u09c1\\u09ae\\u09bf\\u09b2\\u09cd\\u09b2\\u09be\", \"\\u0995\\u09cd\\u09b7\\u09a4\\u09bf\", \"\\u0995\\u09cd\\u09b7\\u09a4\\u09bf\", \"\\u0995\\u09cd\\u09b7\\u09a4\\u09bf\", \"\\u0995\\u09cd\\u09b7\\u09ae\\u09a4\\u09be\", \"\\u0995\\u09cd\\u09b7\\u09ae\\u09a4\\u09be\", \"\\u0995\\u09cd\\u09b7\\u09ae\\u09a4\\u09be\", \"\\u0995\\u09cd\\u09b7\\u09ae\\u09a4\\u09be\\u09df\", \"\\u0995\\u09cd\\u09b7\\u09ae\\u09a4\\u09be\\u09df\", \"\\u0995\\u09cd\\u09b7\\u09ae\\u09a4\\u09be\\u09df\", \"\\u0996\\u09be\\u09b0\\u09be\\u09aa\", \"\\u0996\\u09be\\u09b0\\u09be\\u09aa\", \"\\u0996\\u09c1\\u09a8\\u09bf\", \"\\u0996\\u09c1\\u09a8\\u09bf\", \"\\u0996\\u09c1\\u09a8\\u09bf\", \"\\u0996\\u09c1\\u09ac\", \"\\u0996\\u09c1\\u09ac\", \"\\u0997\\u09a0\\u09a8\", \"\\u0997\\u09a0\\u09a8\", \"\\u0997\\u09a0\\u09a8\", \"\\u0997\\u09a3\\u09ad\\u09ac\\u09a8\", \"\\u0997\\u09a3\\u09ad\\u09ac\\u09a8\", \"\\u0997\\u09a3\\u09ad\\u09ac\\u09a8\", \"\\u0997\\u09a8\\u09ad\\u09ac\\u09a8\", \"\\u0997\\u09a8\\u09ad\\u09ac\\u09a8\", \"\\u0997\\u09be\\u099f\", \"\\u0997\\u09c1\\u099c\\u09ac\", \"\\u0997\\u09c1\\u099c\\u09ac\", \"\\u0997\\u09c1\\u099c\\u09ac\", \"\\u0997\\u09c1\\u09aa\\u09a8\\u09c7\", \"\\u0997\\u09c1\\u09aa\\u09a8\\u09c7\", \"\\u0997\\u09c1\\u09b2\\u09bf\", \"\\u0997\\u09c1\\u09b2\\u09bf\", \"\\u0997\\u09c1\\u09b2\\u09bf\", \"\\u0997\\u09cd\\u09b0\\u09c1\\u09aa\", \"\\u0997\\u09cd\\u09b0\\u09c1\\u09aa\", \"\\u0997\\u09cd\\u09b0\\u09c1\\u09aa\", \"\\u0998\\u09c7\\u09b0\\u09be\", \"\\u0998\\u09c7\\u09b0\\u09be\", \"\\u0998\\u09cb\\u09b7\\u09a3\\u09be\", \"\\u0998\\u09cb\\u09b7\\u09a3\\u09be\", \"\\u0998\\u09cb\\u09b7\\u09a3\\u09be\", \"\\u099a\\u09be\\u0987\", \"\\u099a\\u09be\\u0987\", \"\\u099a\\u09be\\u0987\", \"\\u099a\\u09be\\u0987\\u09a8\\u09be\", \"\\u099a\\u09be\\u0987\\u09a8\\u09be\", \"\\u099a\\u09be\\u0987\\u09a8\\u09be\", \"\\u099a\\u09be\\u09df\", \"\\u099a\\u09be\\u09df\", \"\\u099a\\u09be\\u09df\", \"\\u099a\\u09bf\\u09a8\\u09cd\\u09a4\\u09be\", \"\\u099a\\u09bf\\u09a8\\u09cd\\u09a4\\u09be\", \"\\u099a\\u09bf\\u09a8\\u09cd\\u09a4\\u09be\", \"\\u099b\\u09be\\u09a4\\u09cd\\u09b0\", \"\\u099b\\u09be\\u09a4\\u09cd\\u09b0\", \"\\u099b\\u09be\\u09a4\\u09cd\\u09b0\", \"\\u099b\\u09be\\u09a4\\u09cd\\u09b0-\\u099c\\u09a8\\u09a4\", \"\\u099b\\u09be\\u09a4\\u09cd\\u09b0-\\u09a8\\u09be\\u0997\\u09b0\\u09bf\\u0995\", \"\\u099b\\u09be\\u09a4\\u09cd\\u09b0-\\u09a8\\u09be\\u0997\\u09b0\\u09bf\\u0995\", \"\\u099b\\u09be\\u09a4\\u09cd\\u09b0-\\u09a8\\u09be\\u0997\\u09b0\\u09bf\\u0995\", \"\\u099c\\u09be\\u09df\\u0997\\u09be\", \"\\u099c\\u09be\\u09df\\u0997\\u09be\", \"\\u099c\\u09c1\\u09b2\\u09be\", \"\\u099c\\u09c1\\u09b2\\u09be\", \"\\u099c\\u09c1\\u09b2\\u09be\", \"\\u09a2\\u09be\\u0995\\u09be\", \"\\u09a2\\u09be\\u0995\\u09be\", \"\\u09a2\\u09be\\u0995\\u09be\", \"\\u09a2\\u09be\\u0995\\u09be\\u09df\", \"\\u09a2\\u09be\\u0995\\u09be\\u09df\", \"\\u09a4\\u09be\\u09b0\\u09bf\\u0996\", \"\\u09a4\\u09be\\u09b0\\u09bf\\u0996\", \"\\u09a4\\u09c1\\u09b2\\u09c1\\u09a8\", \"\\u09a4\\u09c1\\u09b2\\u09c1\\u09a8\", \"\\u09a4\\u09c1\\u09b2\\u09c1\\u09a8\", \"\\u09a5\\u09be\\u0995\\u09c1\\u09a8\", \"\\u09a5\\u09be\\u0995\\u09c1\\u09a8\", \"\\u09a5\\u09be\\u0995\\u09c1\\u09a8\", \"\\u09a6\\u09ab\\u09be\", \"\\u09a6\\u09ab\\u09be\", \"\\u09a6\\u09ab\\u09be\", \"\\u09a6\\u09b2\", \"\\u09a6\\u09b2\", \"\\u09a6\\u09b2\", \"\\u09a6\\u09be\\u09ac\\u09bf\", \"\\u09a6\\u09be\\u09ac\\u09bf\", \"\\u09a6\\u09be\\u09ac\\u09bf\", \"\\u09a6\\u09be\\u09df\\u09bf\\u09a4\\u09cd\\u09ac\", \"\\u09a6\\u09be\\u09df\\u09bf\\u09a4\\u09cd\\u09ac\", \"\\u09a6\\u09bf\\u09df\\u09c7\", \"\\u09a6\\u09bf\\u09df\\u09c7\", \"\\u09a6\\u09bf\\u09df\\u09c7\", \"\\u09a6\\u09c3\\u09b6\\u09cd\\u09af\", \"\\u09a6\\u09c3\\u09b6\\u09cd\\u09af\", \"\\u09a6\\u09c3\\u09b6\\u09cd\\u09af\", \"\\u09a6\\u09c7\\u09b0\", \"\\u09a6\\u09c7\\u09b0\", \"\\u09a6\\u09c7\\u09b0\", \"\\u09a6\\u09c7\\u09b6\", \"\\u09a6\\u09c7\\u09b6\", \"\\u09a6\\u09c7\\u09b6\", \"\\u09a6\\u09c7\\u09b6\\u09c7\\u09b0\", \"\\u09a6\\u09c7\\u09b6\\u09c7\\u09b0\", \"\\u09a6\\u09c7\\u09b6\\u09c7\\u09b0\", \"\\u09a7\\u09cd\\u09ac\\u0982\\u09b8\", \"\\u09a7\\u09cd\\u09ac\\u0982\\u09b8\", \"\\u09a7\\u09cd\\u09ac\\u0982\\u09b8\", \"\\u09a8\\u09b7\\u09cd\\u099f\", \"\\u09a8\\u09b7\\u09cd\\u099f\", \"\\u09a8\\u09be\\u099f\\u0995\", \"\\u09a8\\u09be\\u099f\\u0995\", \"\\u09a8\\u09be\\u09ae\", \"\\u09a8\\u09be\\u09ae\", \"\\u09a8\\u09be\\u09ae\", \"\\u09a8\\u09be\\u09b0\\u09be\\u09df\\u09a3\\u0997\\u099e\\u09cd\\u099c\", \"\\u09a8\\u09c7\\u099f\", \"\\u09a8\\u09c7\\u099f\", \"\\u09a8\\u09c7\\u099f\", \"\\u09a8\\u09c7\\u09a4\\u09c3\\u09a4\\u09cd\\u09ac\", \"\\u09a8\\u09c7\\u09a4\\u09c3\\u09a4\\u09cd\\u09ac\", \"\\u09a8\\u09c7\\u09a4\\u09c3\\u09a4\\u09cd\\u09ac\", \"\\u09a8\\u09cb\\u09df\\u09be\\u0996\\u09be\\u09b2\\u09c0\", \"\\u09a8\\u09cb\\u09df\\u09be\\u0996\\u09be\\u09b2\\u09c0\", \"\\u09aa\\u09a6\\u09a4\\u09cd\\u09af\\u09be\\u0997\", \"\\u09aa\\u09a6\\u09a4\\u09cd\\u09af\\u09be\\u0997\", \"\\u09aa\\u09be\", \"\\u09aa\\u09be\", \"\\u09aa\\u09be\", \"\\u09aa\\u09c1\\u09b2\\u09bf\\u09b6\", \"\\u09aa\\u09c1\\u09b2\\u09bf\\u09b6\", \"\\u09aa\\u09c1\\u09b2\\u09bf\\u09b6\", \"\\u09aa\\u09cb\\u09b8\\u09cd\\u099f\", \"\\u09aa\\u09cb\\u09b8\\u09cd\\u099f\", \"\\u09aa\\u09cb\\u09b8\\u09cd\\u099f\", \"\\u09aa\\u09cd\\u09b0\\u09a6\\u09be\\u09a8\", \"\\u09aa\\u09cd\\u09b0\\u09a6\\u09be\\u09a8\", \"\\u09aa\\u09cd\\u09b0\\u09a6\\u09be\\u09a8\", \"\\u09ac\\u09a8\\u09cd\\u09a7\", \"\\u09ac\\u09a8\\u09cd\\u09a7\", \"\\u09ac\\u09a8\\u09cd\\u09a7\", \"\\u09ac\\u09be\\u0982\\u09b2\\u09be\\u09a6\\u09c7\\u09b6\", \"\\u09ac\\u09be\\u0982\\u09b2\\u09be\\u09a6\\u09c7\\u09b6\", \"\\u09ac\\u09be\\u0982\\u09b2\\u09be\\u09a6\\u09c7\\u09b6\", \"\\u09ac\\u09be\\u0982\\u09b2\\u09be\\u09a6\\u09c7\\u09b6\\u09c7\\u09b0\", \"\\u09ac\\u09be\\u0982\\u09b2\\u09be\\u09a6\\u09c7\\u09b6\\u09c7\\u09b0\", \"\\u09ac\\u09be\\u0982\\u09b2\\u09be\\u09a6\\u09c7\\u09b6\\u09c7\\u09b0\", \"\\u09ac\\u09be\\u09b8\\u09be\\u09df\", \"\\u09ac\\u09be\\u09b8\\u09be\\u09df\", \"\\u09ac\\u09be\\u09b8\\u09be\\u09df\", \"\\u09ac\\u09bf\\u099c\\u09af\\u09bc\", \"\\u09ac\\u09bf\\u099c\\u09af\\u09bc\", \"\\u09ac\\u09bf\\u09b0\\u09cb\\u09a7\\u09c0\", \"\\u09ac\\u09bf\\u09b0\\u09cb\\u09a7\\u09c0\", \"\\u09ac\\u09bf\\u09b6\\u09cd\\u09ac\\u09ac\\u09bf\\u09a6\\u09cd\\u09af\\u09be\\u09b2\\u09df\", \"\\u09ac\\u09bf\\u09b6\\u09cd\\u09ac\\u09ac\\u09bf\\u09a6\\u09cd\\u09af\\u09be\\u09b2\\u09df\", \"\\u09ac\\u09bf\\u09b6\\u09cd\\u09ac\\u09ac\\u09bf\\u09a6\\u09cd\\u09af\\u09be\\u09b2\\u09df\", \"\\u09ac\\u09bf\\u09b6\\u09cd\\u09ac\\u09be\\u09b8\", \"\\u09ac\\u09bf\\u09b6\\u09cd\\u09ac\\u09be\\u09b8\", \"\\u09ac\\u09bf\\u09b6\\u09cd\\u09ac\\u09be\\u09b8\", \"\\u09ac\\u09c7\\u09b0\", \"\\u09ac\\u09c7\\u09b0\", \"\\u09ac\\u09c7\\u09b0\", \"\\u09ac\\u09c8\\u09b7\\u09ae\\u09cd\\u09af\", \"\\u09ac\\u09c8\\u09b7\\u09ae\\u09cd\\u09af\", \"\\u09ac\\u09c8\\u09b7\\u09ae\\u09cd\\u09af\", \"\\u09ac\\u09c8\\u09b7\\u09ae\\u09cd\\u09af\\u09ac\\u09bf\\u09b0\\u09cb\\u09a7\\u09c0\", \"\\u09ac\\u09c8\\u09b7\\u09ae\\u09cd\\u09af\\u09ac\\u09bf\\u09b0\\u09cb\\u09a7\\u09c0\", \"\\u09ac\\u09c8\\u09b7\\u09ae\\u09cd\\u09af\\u09ac\\u09bf\\u09b0\\u09cb\\u09a7\\u09c0\", \"\\u09ad\\u09be\\u0982\\u099a\\u09c1\\u09b0\", \"\\u09ad\\u09be\\u0982\\u099a\\u09c1\\u09b0\", \"\\u09ad\\u09be\\u0987\", \"\\u09ad\\u09be\\u0987\", \"\\u09ad\\u09be\\u0987\", \"\\u09ad\\u09be\\u09ac\", \"\\u09ad\\u09be\\u09ac\", \"\\u09ad\\u09be\\u09b0\\u09a4\", \"\\u09ad\\u09be\\u09b0\\u09a4\", \"\\u09ad\\u09be\\u09b0\\u09a4\", \"\\u09ad\\u09be\\u09b2\\u09cb\", \"\\u09ad\\u09be\\u09b2\\u09cb\", \"\\u09ad\\u09be\\u09b2\\u09cb\", \"\\u09ad\\u09bf\\u09a1\\u09bf\", \"\\u09ad\\u09bf\\u09a1\\u09bf\", \"\\u09ad\\u09bf\\u09a1\\u09bf\", \"\\u09ae\\u09be\\u09a8\\u09c1\\u09b7\", \"\\u09ae\\u09be\\u09a8\\u09c1\\u09b7\", \"\\u09ae\\u09be\\u09a8\\u09c1\\u09b7\", \"\\u09ae\\u09be\\u09b0\", \"\\u09ae\\u09be\\u09b0\", \"\\u09ae\\u09be\\u09b0\", \"\\u09ae\\u09be\\u09b8\", \"\\u09ae\\u09be\\u09b8\", \"\\u09ae\\u09bf\\u099b\\u09bf\\u09b2\", \"\\u09ae\\u09bf\\u099b\\u09bf\\u09b2\", \"\\u09ae\\u09bf\\u099b\\u09bf\\u09b2\", \"\\u09ae\\u09bf\\u09a8\\u09be\\u09b0\\u09c7\", \"\\u09ae\\u09bf\\u09a8\\u09be\\u09b0\\u09c7\", \"\\u09ae\\u09bf\\u09a8\\u09be\\u09b0\\u09c7\", \"\\u09ae\\u09c1\\u0995\\u09cd\\u09a4\\u09bf\", \"\\u09ae\\u09c1\\u0995\\u09cd\\u09a4\\u09bf\", \"\\u09ae\\u09c1\\u0995\\u09cd\\u09a4\\u09bf\\u0995\\u09be\\u09ae\\u09c0\", \"\\u09ae\\u09c1\\u0995\\u09cd\\u09a4\\u09bf\\u0995\\u09be\\u09ae\\u09c0\", \"\\u09ae\\u09c1\\u0995\\u09cd\\u09a4\\u09bf\\u0995\\u09be\\u09ae\\u09c0\", \"\\u09ae\\u09c1\\u09b8\\u09b2\\u09bf\\u09ae\", \"\\u09ae\\u09c1\\u09b8\\u09b2\\u09bf\\u09ae\", \"\\u09ae\\u09c7\\u09a1\\u09bf\\u0995\\u09cd\\u09af\\u09be\\u09b2\", \"\\u09af\\u09b6\\u09cb\\u09b0\", \"\\u09af\\u09b6\\u09cb\\u09b0\", \"\\u09af\\u09be\\u0987\", \"\\u09af\\u09be\\u0987\", \"\\u09af\\u09be\\u09ac\", \"\\u09af\\u09be\\u09ac\", \"\\u09af\\u09be\\u09ac\", \"\\u09af\\u09be\\u09ac\\u09c7\\u09a8\\u09be\", \"\\u09af\\u09be\\u09ac\\u09c7\\u09a8\\u09be\", \"\\u09b0\\u0993\\u09a8\\u09be\", \"\\u09b0\\u0993\\u09a8\\u09be\", \"\\u09b0\\u09b9\\u09ae\\u09be\\u09a8\", \"\\u09b0\\u09b9\\u09ae\\u09be\\u09a8\", \"\\u09b0\\u09be\\u0996\", \"\\u09b0\\u09be\\u0996\", \"\\u09b0\\u09be\\u0996\", \"\\u09b2\\u09c0\\u0997\", \"\\u09b2\\u09c0\\u0997\", \"\\u09b2\\u09c0\\u0997\", \"\\u09b2\\u09cb\\u0995\", \"\\u09b2\\u09cb\\u0995\", \"\\u09b2\\u09cb\\u0995\", \"\\u09b6\\u09b9\\u09c0\\u09a6\", \"\\u09b6\\u09b9\\u09c0\\u09a6\", \"\\u09b6\\u09b9\\u09c0\\u09a6\", \"\\u09b6\\u09be\\u09b8\\u09a8\", \"\\u09b6\\u09be\\u09b8\\u09a8\", \"\\u09b6\\u09be\\u09b8\\u09a8\", \"\\u09b6\\u09bf\\u0995\\u09cd\\u09b7\\u09be\\u09b0\\u09cd\\u09a5\\u09c0\", \"\\u09b6\\u09bf\\u0995\\u09cd\\u09b7\\u09be\\u09b0\\u09cd\\u09a5\\u09c0\", \"\\u09b6\\u09bf\\u0995\\u09cd\\u09b7\\u09be\\u09b0\\u09cd\\u09a5\\u09c0\", \"\\u09b6\\u09c7\\u0996\", \"\\u09b6\\u09c7\\u0996\", \"\\u09b6\\u09c7\\u0996\", \"\\u09b8\\u0982\\u0996\\u09cd\\u09af\\u09be\\u09b2\\u0998\\u09c1\", \"\\u09b8\\u0982\\u0996\\u09cd\\u09af\\u09be\\u09b2\\u0998\\u09c1\", \"\\u09b8\\u0982\\u0996\\u09cd\\u09af\\u09be\\u09b2\\u0998\\u09c1\", \"\\u09b8\\u0995\\u09b2\", \"\\u09b8\\u0995\\u09b2\", \"\\u09b8\\u0995\\u09b2\", \"\\u09b8\\u09a8\\u09cd\\u09a4\\u09cd\\u09b0\\u09be\\u09b8\\u09c0\\u09b0\\u09be\", \"\\u09b8\\u09ac\\u09be\", \"\\u09b8\\u09ac\\u09be\", \"\\u09b8\\u09ac\\u09be\", \"\\u09b8\\u09ac\\u09be\\u0987\\u0995\\u09c7\", \"\\u09b8\\u09ac\\u09be\\u0987\\u0995\\u09c7\", \"\\u09b8\\u09ac\\u09be\\u0987\\u0995\\u09c7\", \"\\u09b8\\u09ae\\u09a8\\u09cd\\u09ac\\u09df\\u0995\", \"\\u09b8\\u09ae\\u09a8\\u09cd\\u09ac\\u09df\\u0995\", \"\\u09b8\\u09ae\\u09a8\\u09cd\\u09ac\\u09df\\u0995\", \"\\u09b8\\u09ae\\u09be\\u09ac\\u09c7\\u09b6\", \"\\u09b8\\u09ae\\u09be\\u09ac\\u09c7\\u09b6\", \"\\u09b8\\u09ae\\u09be\\u09ac\\u09c7\\u09b6\", \"\\u09b8\\u09ae\\u09cd\\u09aa\\u09a6\", \"\\u09b8\\u09ae\\u09cd\\u09aa\\u09a6\", \"\\u09b8\\u09ae\\u09cd\\u09aa\\u09a6\", \"\\u09b8\\u09ae\\u09df\", \"\\u09b8\\u09ae\\u09df\", \"\\u09b8\\u09ae\\u09df\", \"\\u09b8\\u09b0\\u0995\", \"\\u09b8\\u09b0\\u0995\", \"\\u09b8\\u09b0\\u0995\", \"\\u09b8\\u09b0\\u0995\\u09be\\u09b0\", \"\\u09b8\\u09b0\\u0995\\u09be\\u09b0\", \"\\u09b8\\u09b0\\u0995\\u09be\\u09b0\", \"\\u09b8\\u09be\\u09a5\\u09c7\", \"\\u09b8\\u09be\\u09a5\\u09c7\", \"\\u09b8\\u09be\\u09a5\\u09c7\", \"\\u09b8\\u09be\\u09b0\\u09be\\u09a6\\u09c7\\u09b6\", \"\\u09b8\\u09be\\u09b0\\u09be\\u09a6\\u09c7\\u09b6\", \"\\u09b8\\u09be\\u09b0\\u09be\\u09a6\\u09c7\\u09b6\", \"\\u09b8\\u09c1\\u09af\\u09cb\\u0997\", \"\\u09b8\\u09c1\\u09af\\u09cb\\u0997\", \"\\u09b8\\u09c1\\u09af\\u09cb\\u0997\", \"\\u09b8\\u09c7\\u09a8\\u09be\\u09ac\\u09be\\u09b9\\u09bf\\u09a8\\u09c0\", \"\\u09b8\\u09c7\\u09a8\\u09be\\u09ac\\u09be\\u09b9\\u09bf\\u09a8\\u09c0\", \"\\u09b8\\u09c7\\u09a8\\u09be\\u09ac\\u09be\\u09b9\\u09bf\\u09a8\\u09c0\", \"\\u09b8\\u09c7\\u09a8\\u09be\\u09ac\\u09be\\u09b9\\u09bf\\u09a8\\u09c0\\u09b0\", \"\\u09b8\\u09c7\\u09a8\\u09be\\u09ac\\u09be\\u09b9\\u09bf\\u09a8\\u09c0\\u09b0\", \"\\u09b8\\u09c7\\u09a8\\u09be\\u09ac\\u09be\\u09b9\\u09bf\\u09a8\\u09c0\\u09b0\", \"\\u09b8\\u09cb\\u09b0\\u09cd\\u09b8\", \"\\u09b8\\u09cb\\u09b0\\u09cd\\u09b8\", \"\\u09b8\\u09cb\\u09b0\\u09cd\\u09b8\", \"\\u09b8\\u09cd\\u09ae\\u09b0\\u09a3\\u09c7\", \"\\u09b9\\u0993\", \"\\u09b9\\u0993\", \"\\u09b9\\u09be\\u09a4\", \"\\u09b9\\u09be\\u09a4\", \"\\u09b9\\u09be\\u09a4\", \"\\u09b9\\u09be\\u09b8\\u09bf\\u09a8\", \"\\u09b9\\u09be\\u09b8\\u09bf\\u09a8\", \"\\u09b9\\u09be\\u09b8\\u09bf\\u09a8\\u09be\", \"\\u09b9\\u09be\\u09b8\\u09bf\\u09a8\\u09be\", \"\\u09b9\\u09bf\\u09a8\\u09cd\\u09a6\\u09c1\", \"\\u09b9\\u09bf\\u09a8\\u09cd\\u09a6\\u09c1\", \"\\u09b9\\u09bf\\u09a8\\u09cd\\u09a6\\u09c1\", \"\\u09b9\\u09df\", \"\\u09b9\\u09df\", \"\\u09b9\\u09df\"]}, \"R\": 30, \"lambda.step\": 0.01, \"plot.opts\": {\"xlab\": \"PC1\", \"ylab\": \"PC2\"}, \"topic.order\": [3, 2, 1]};\n",
       "\n",
       "function LDAvis_load_lib(url, callback){\n",
       "  var s = document.createElement('script');\n",
       "  s.src = url;\n",
       "  s.async = true;\n",
       "  s.onreadystatechange = s.onload = callback;\n",
       "  s.onerror = function(){console.warn(\"failed to load library \" + url);};\n",
       "  document.getElementsByTagName(\"head\")[0].appendChild(s);\n",
       "}\n",
       "\n",
       "if(typeof(LDAvis) !== \"undefined\"){\n",
       "   // already loaded: just create the visualization\n",
       "   !function(LDAvis){\n",
       "       new LDAvis(\"#\" + \"ldavis_el157241344583611604004112134734\", ldavis_el157241344583611604004112134734_data);\n",
       "   }(LDAvis);\n",
       "}else if(typeof define === \"function\" && define.amd){\n",
       "   // require.js is available: use it to load d3/LDAvis\n",
       "   require.config({paths: {d3: \"https://d3js.org/d3.v5\"}});\n",
       "   require([\"d3\"], function(d3){\n",
       "      window.d3 = d3;\n",
       "      LDAvis_load_lib(\"https://cdn.jsdelivr.net/gh/bmabey/pyLDAvis@3.4.0/pyLDAvis/js/ldavis.v3.0.0.js\", function(){\n",
       "        new LDAvis(\"#\" + \"ldavis_el157241344583611604004112134734\", ldavis_el157241344583611604004112134734_data);\n",
       "      });\n",
       "    });\n",
       "}else{\n",
       "    // require.js not available: dynamically load d3 & LDAvis\n",
       "    LDAvis_load_lib(\"https://d3js.org/d3.v5.js\", function(){\n",
       "         LDAvis_load_lib(\"https://cdn.jsdelivr.net/gh/bmabey/pyLDAvis@3.4.0/pyLDAvis/js/ldavis.v3.0.0.js\", function(){\n",
       "                 new LDAvis(\"#\" + \"ldavis_el157241344583611604004112134734\", ldavis_el157241344583611604004112134734_data);\n",
       "            })\n",
       "         });\n",
       "}\n",
       "</script>"
      ],
      "text/plain": [
       "PreparedData(topic_coordinates=              x         y  topics  cluster       Freq\n",
       "topic                                                \n",
       "2     -0.101877  0.172901       1        1  41.913086\n",
       "1     -0.173578 -0.145292       2        1  36.667030\n",
       "0      0.275455 -0.027609       3        1  21.419884, topic_info=              Term          Freq         Total Category  logprob  loglift\n",
       "17      media_imag  13193.000000  13193.000000  Default  30.0000  30.0000\n",
       "34     media_video   6705.000000   6705.000000  Default  29.0000  29.0000\n",
       "782          হাসিন   2648.000000   2648.000000  Default  28.0000  28.0000\n",
       "6             ঢাকা   2986.000000   2986.000000  Default  27.0000  27.0000\n",
       "37615         capt   1408.000000   1408.000000  Default  26.0000  26.0000\n",
       "...            ...           ...           ...      ...      ...      ...\n",
       "418           দিয়ে    396.584699   2158.462465   Topic3  -5.9565  -0.1534\n",
       "3657           যাব    334.646117    741.527676   Topic3  -6.1263   0.7452\n",
       "3             আপনা    387.445446   2957.429363   Topic3  -5.9798  -0.4917\n",
       "541          পোস্ট    333.361093    836.025582   Topic3  -6.1301   0.6214\n",
       "619           বন্ধ    313.698594   1178.862302   Topic3  -6.1909   0.2170\n",
       "\n",
       "[237 rows x 6 columns], token_table=       Topic      Freq         Term\n",
       "term                               \n",
       "652        2  0.989865  01626804795\n",
       "692        2  0.989868  01925582350\n",
       "181        1  0.006314           10\n",
       "181        2  0.012628           10\n",
       "181        3  0.981821           10\n",
       "...      ...       ...          ...\n",
       "12959      2  0.027207       হিন্দু\n",
       "12959      3  0.008592       হিন্দু\n",
       "59         1  0.545730           হয়\n",
       "59         2  0.424426           হয়\n",
       "59         3  0.029973           হয়\n",
       "\n",
       "[521 rows x 3 columns], R=30, lambda_step=0.01, plot_opts={'xlab': 'PC1', 'ylab': 'PC2'}, topic_order=[3, 2, 1])"
      ]
     },
     "execution_count": 13,
     "metadata": {},
     "output_type": "execute_result"
    }
   ],
   "source": [
    "\n",
    "pyLDAvis.enable_notebook()\n",
    "p = gensimvis.prepare(lda_model, weighted_corpus, dictionary)\n",
    "p"
   ]
  },
  {
   "cell_type": "code",
   "execution_count": 14,
   "metadata": {},
   "outputs": [
    {
     "data": {
      "text/plain": [
       "6704"
      ]
     },
     "execution_count": 14,
     "metadata": {},
     "output_type": "execute_result"
    }
   ],
   "source": [
    "result_df_subset['text_plain'].str.contains('media_').sum()"
   ]
  },
  {
   "cell_type": "code",
   "execution_count": 15,
   "metadata": {},
   "outputs": [
    {
     "data": {
      "text/plain": [
       "33504"
      ]
     },
     "execution_count": 15,
     "metadata": {},
     "output_type": "execute_result"
    }
   ],
   "source": [
    "len(result_df_subset)"
   ]
  },
  {
   "cell_type": "code",
   "execution_count": 16,
   "metadata": {},
   "outputs": [
    {
     "data": {
      "text/plain": [
       "4934"
      ]
     },
     "execution_count": 16,
     "metadata": {},
     "output_type": "execute_result"
    }
   ],
   "source": [
    "result_df['image_address'].notna().sum()"
   ]
  },
  {
   "cell_type": "code",
   "execution_count": 19,
   "metadata": {},
   "outputs": [
    {
     "data": {
      "text/plain": [
       "0        আপডেট পেলে আপনারা গ্রুপে জানিয়ে দিন। \\nযারা ঢা...\n",
       "1        প্লিজ আন্দোলনকারীদের অস্ত্র হাতে নিয়ে নামতে বল...\n",
       "2                       media_image\\n Reactions: 🤬27 😢3 🔥1\n",
       "3                                          😪 Reactions: 🤬1\n",
       "4        media_image\\nপ্রোফাইল চেঞ্জ করে প্রতিবাদ জানান...\n",
       "                               ...                        \n",
       "34202    কারো বাসায়/মন্দিরে/পূজা মন্ডপে/ ধর্মীয় উপাসনাল...\n",
       "34203    দেশ স্বাধীন করলো শিক্ষিত সমাজ। আর বিজয় উদযাপনে...\n",
       "34204    Bangladesh er future ki? vote a student ra ki ...\n",
       "34205    বাংলাদেশ স্বাধীন করার পরে ২টি আইন অবশ্যই সংসদে...\n",
       "34206    হামলা বাজ্ঞচুর লুটপাট হচ্ছে খুব বেশি।। Reactions:\n",
       "Name: Text_Emotion, Length: 34207, dtype: object"
      ]
     },
     "execution_count": 19,
     "metadata": {},
     "output_type": "execute_result"
    }
   ],
   "source": [
    "# result_df['date']\n",
    "result_df['Text_Emotion']"
   ]
  },
  {
   "cell_type": "code",
   "execution_count": 18,
   "metadata": {},
   "outputs": [
    {
     "data": {
      "text/plain": [
       "❤      94732.0\n",
       "🔥      47716.0\n",
       "😢      32519.0\n",
       "👍      24686.0\n",
       "🤬      20378.0\n",
       "🫡       1904.0\n",
       "🖕       1669.0\n",
       "😭       1308.0\n",
       "🤣       1307.0\n",
       "💯        902.0\n",
       "😁        843.0\n",
       "👎        443.0\n",
       "💩        386.0\n",
       "😱        222.0\n",
       "❤‍🔥      115.0\n",
       "👏         97.0\n",
       "🤡         82.0\n",
       "🥰         76.0\n",
       "💔         71.0\n",
       "🤝         55.0\n",
       "⚡         53.0\n",
       "😡         48.0\n",
       "🤯         32.0\n",
       "👌         30.0\n",
       "🎉         25.0\n",
       "🤔         22.0\n",
       "🌚         20.0\n",
       "😐         18.0\n",
       "😨         17.0\n",
       "🤮         14.0\n",
       "🙊         12.0\n",
       "🤩         12.0\n",
       "🥴         12.0\n",
       "😘          8.0\n",
       "🙏          7.0\n",
       "🤨          6.0\n",
       "🕊          6.0\n",
       "👀          5.0\n",
       "😍          4.0\n",
       "🤓          4.0\n",
       "🙈          3.0\n",
       "🍌          3.0\n",
       "🥱          3.0\n",
       "😎          3.0\n",
       "💋          1.0\n",
       "🤷‍♂        1.0\n",
       "✍          1.0\n",
       "🤪          1.0\n",
       "🤷‍♀        1.0\n",
       "dtype: float64"
      ]
     },
     "execution_count": 18,
     "metadata": {},
     "output_type": "execute_result"
    }
   ],
   "source": [
    "emoji_df.set_index('id').sum().sort_values(ascending=False)"
   ]
  },
  {
   "cell_type": "code",
   "execution_count": 22,
   "metadata": {},
   "outputs": [],
   "source": [
    "from openai import OpenAI\n",
    "from dotenv import load_dotenv\n",
    "import json\n",
    "import io\n",
    "from PIL import Image, ImageOps\n",
    "import base64\n",
    "\n",
    "load_dotenv()\n",
    "\n",
    "def count_openai_embedding_tokens(text: str) -> int:\n",
    "    \"\"\"Counts the number of tokens in a text string for OpenAI embedding models.\"\"\"\n",
    "    encoding = tiktoken.get_encoding(\"cl100k_base\")\n",
    "    num_tokens = len(encoding.encode(text))\n",
    "    return num_tokens\n",
    "\n",
    "\n",
    "system_prompt = \"\"\"You are an expert emotion analysis AI. Your task is to analyze the provided Telegram post and identify the **primary Ekman emotion** expressed.\n",
    "\n",
    "The Ekman emotions you must choose from are:\n",
    "- **Anger**: Feeling of antagonism provoked by ill-treatment or opposition.\n",
    "- **Disgust**: Feeling of revulsion or strong disapproval aroused by something unpleasant or offensive.\n",
    "- **Fear**: Unpleasant emotion caused by the belief that someone or something is dangerous, likely to cause pain, or a threat.\n",
    "- **Happiness**: State of well-being and contentment; joy.\n",
    "- **Sadness**: Emotional pain associated with, or characterized by, feelings of disadvantage, loss, despair, grief, helplessness, disappointment, and sorrow.\n",
    "- **Surprise**: Feeling caused by something unexpected or unusual.\n",
    "\n",
    "Please analyze the following telegram post and provide the primary Ekman emtion.\n",
    "\n",
    "**If the primary emotion doesn't match any of the Ekman emotion then please provide the closest emotion outside the Ekman classification.\n",
    "\n",
    "If no emotion could be found at all, then please return 'NA'.\"\"\"\n",
    "\n",
    "# system_prompt = \"\"\"You are an expert emotion analysis AI. Your task is to analyze the provided Telegram post and identify the **primary Ekman emotion** expressed.\n",
    "\n",
    "# The Ekman emotions you must choose from are:\n",
    "# - **Anger**: Feeling of antagonism provoked by ill-treatment or opposition.\n",
    "# - **Disgust**: Feeling of revulsion or strong disapproval aroused by something unpleasant or offensive.\n",
    "# - **Fear**: Unpleasant emotion caused by the belief that someone or something is dangerous, likely to cause pain, or a threat.\n",
    "# - **Happiness**: State of well-being and contentment; joy.\n",
    "# - **Sadness**: Emotional pain associated with, or characterized by, feelings of disadvantage, loss, despair, grief, helplessness, disappointment, and sorrow.\n",
    "# - **Surprise**: Feeling caused by something unexpected or unusual.\n",
    "\n",
    "# Please analyze the following telegram post and return the dominant Ekman emotion in structured JSON format. If no emotion could be found, then please return 'N/A'. In addition to the emotion label, provide a short explanation for why this emotion was identified.\n",
    "\n",
    "# Format your output as a valid JSON object with the following fields:\n",
    "# {\n",
    "#   \"explanation\": \"<brief explanation (1-2 sentences) of which Ekman emotion is most dominant in the post>\"\n",
    "#   \"emotion\": \"<one of: Anger, Disgust, Fear, Happiness, Sadness, Surprise, N/A>\",\n",
    "# }\n",
    "# Ensure the output is strictly valid JSON.\"\"\"\n",
    "\n",
    "\n",
    "# response_format = {\n",
    "#     \"type\": \"json_schema\",\n",
    "#     \"name\": \"ekman_emotion\",\n",
    "#     \"schema\": {\n",
    "#         \"type\": \"object\",\n",
    "#         \"properties\": {\n",
    "#             \"emotion\": {\n",
    "#                 \"type\": \"string\",\n",
    "#                 \"description\": \"The primary Ekman emotion expressed in the text.\",\n",
    "#                 \"enum\": [\n",
    "#                     \"Anger\",\n",
    "#                     \"Disgust\",\n",
    "#                     \"Fear\",\n",
    "#                     \"Happiness\",\n",
    "#                     \"Sadness\",\n",
    "#                     \"Surprise\",\n",
    "#                     \"NA\",\n",
    "#                 ],\n",
    "#             }\n",
    "#         },\n",
    "#         \"required\": [\"emotion\"],\n",
    "#         \"additionalProperties\": False,\n",
    "#     },\n",
    "#     \"strict\": True,\n",
    "# }\n",
    "\n",
    "tool = [\n",
    "      {\n",
    "        \"type\": \"function\",\n",
    "        \"function\": {\n",
    "          \"name\": \"classify_ekman_emotion\",\n",
    "          \"description\": \"Classify the dominant Ekman emotion from a Telegram post\",\n",
    "          \"parameters\": {\n",
    "            \"type\": \"object\",\n",
    "            \"properties\": {\n",
    "              \"explanation\": {\n",
    "                \"type\": \"string\",\n",
    "                \"description\": \"A brief explanation for which Ekman emotion is dominant\"\n",
    "              },\n",
    "              \"emotion\": {\n",
    "                \"type\": \"string\",\n",
    "                # \"enum\": [\n",
    "                #     \"Anger\",\n",
    "                #     \"Disgust\",\n",
    "                #     \"Fear\",\n",
    "                #     \"Happiness\",\n",
    "                #     \"Sadness\",\n",
    "                #     \"Surprise\",\n",
    "                #     \"NA\",\n",
    "                # ],\n",
    "                \"description\": \"The dominant Ekman emotion\"\n",
    "              },\n",
    "            },\n",
    "            \"required\": [\"explanation\", \"emotion\"]\n",
    "          }\n",
    "        }\n",
    "      }\n",
    "    ]\n",
    "\n",
    "my_texts = [\"some text\", \"Doesn't look fun at all\", \"some other text\", \"This is so fun\"]\n",
    "\n",
    "# with open(\"my_test.jsonl\", \"w\") as f:\n",
    "#     for i, x in enumerate(my_texts):\n",
    "#         json.dump(\n",
    "#             {\n",
    "#                 \"custom_id\": f\"random_id{i}\",\n",
    "#                 \"method\": \"POST\",\n",
    "#                 \"url\": \"/v1/chat/completions\",\n",
    "#                 \"body\": {\n",
    "#                     \"model\": \"gpt-4.1-nano\",\n",
    "#                     \"messages\": [\n",
    "#                         {\"role\": \"system\", \"content\": system_prompt},\n",
    "#                         {\"role\": \"user\", \"content\": x},\n",
    "#                     ],\n",
    "#                 \"tools\":tool,\n",
    "#                 \"tool_choice\":'required'\n",
    "                \n",
    "#                 },\n",
    "#             },\n",
    "#             f,\n",
    "#         )\n",
    "#         f.write(\"\\n\")\n",
    "\n",
    "for i in range(0, len(result_df), 1000):\n",
    "  \n",
    "  with open(f\"discuss_aqd/antiquotadu_discuss_{i}_{i+1000-1}.jsonl\", \"w\") as f:\n",
    "      for _, row in result_df.iloc[i:i+1000].iterrows():\n",
    "      # for i, x in enumerate(my_texts):\n",
    "          if pd.isnull(row['image_address']):\n",
    "            json.dump(\n",
    "                {\n",
    "                    \"custom_id\": f\"antiquotadu_discuss_{row['id']}\",\n",
    "                    \"method\": \"POST\",\n",
    "                    \"url\": \"/v1/chat/completions\",\n",
    "                    \"body\": {\n",
    "                        \"model\": \"gpt-4.1-nano\",\n",
    "                        \"messages\": [\n",
    "                            {\"role\": \"system\", \"content\": system_prompt},\n",
    "                            {\"role\": \"user\", \"content\": row['Text_Emotion']},\n",
    "                        ],\n",
    "                    \"tools\":tool,\n",
    "                    \"tool_choice\":'required'\n",
    "                    \n",
    "                    },\n",
    "                },\n",
    "                f,\n",
    "            )\n",
    "          else:\n",
    "            img = Image.open(row['image_address'])\n",
    "            \n",
    "            min_size = min(img.size)\n",
    "            buffer = io.BytesIO()\n",
    "            if min_size > 128:\n",
    "              img_small = ImageOps.scale(img, 128/min_size)\n",
    "              img_small.save(buffer, format=\"jpeg\")\n",
    "            else:\n",
    "              img.save(buffer, format='jpeg')\n",
    "\n",
    "\n",
    "\n",
    "            encoded_img = base64.b64encode(buffer.getvalue()).decode(\"utf-8\")\n",
    "            \n",
    "            json.dump(\n",
    "                {\n",
    "                    \"custom_id\": f\"antiquotadu_discuss_{row['id']}\",\n",
    "                    \"method\": \"POST\",\n",
    "                    \"url\": \"/v1/chat/completions\",\n",
    "                    \"body\": {\n",
    "                        \"model\": \"gpt-4.1-nano\",\n",
    "                        \"messages\": [\n",
    "                            {\"role\": \"system\", \"content\": system_prompt},\n",
    "                            {\"role\": \"user\", \"content\": [{\"type\":\"text\", \"text\":row['Text_Emotion']},\n",
    "                                                        {\"type\":\"image_url\", \"image_url\": {\"url\": f\"data:image/jpeg;base64,{encoded_img}\"}}]},\n",
    "                        ],\n",
    "                    \"tools\":tool,\n",
    "                    \"tool_choice\":'required'\n",
    "                    \n",
    "                    },\n",
    "                },\n",
    "                f,\n",
    "            )\n",
    "          f.write(\"\\n\")\n",
    "\n",
    "client = OpenAI()\n"
   ]
  },
  {
   "cell_type": "code",
   "execution_count": 13,
   "metadata": {},
   "outputs": [
    {
     "name": "stdout",
     "output_type": "stream",
     "text": [
      "FileObject(id='file-1pCDmqFrQHbrhgJK73FgHo', bytes=8518837, created_at=1751710216, filename='antiquotadu.jsonl', object='file', purpose='batch', status='processed', expires_at=None, status_details=None)\n"
     ]
    }
   ],
   "source": [
    "batch_input_file = client.files.create(\n",
    "    file=open(\"antiquotadu.jsonl\", \"rb\"), purpose=\"batch\"\n",
    ")\n",
    "\n",
    "print(batch_input_file)"
   ]
  },
  {
   "cell_type": "code",
   "execution_count": 14,
   "metadata": {},
   "outputs": [
    {
     "data": {
      "text/plain": [
       "Batch(id='batch_6868fa1cf0b881908fcb0cc8f6ea749f', completion_window='24h', created_at=1751710236, endpoint='/v1/chat/completions', input_file_id='file-1pCDmqFrQHbrhgJK73FgHo', object='batch', status='validating', cancelled_at=None, cancelling_at=None, completed_at=None, error_file_id=None, errors=None, expired_at=None, expires_at=1751796636, failed_at=None, finalizing_at=None, in_progress_at=None, metadata={'description': 'Antiquotadu emotion analysis'}, output_file_id=None, request_counts=BatchRequestCounts(completed=0, failed=0, total=0))"
      ]
     },
     "execution_count": 14,
     "metadata": {},
     "output_type": "execute_result"
    }
   ],
   "source": [
    "batch_input_file_id = batch_input_file.id\n",
    "\n",
    "client.batches.create(\n",
    "    input_file_id=batch_input_file_id,\n",
    "    endpoint=\"/v1/chat/completions\",\n",
    "    completion_window=\"24h\",\n",
    "    metadata={\"description\": \"Antiquotadu emotion analysis\"},\n",
    ")"
   ]
  },
  {
   "cell_type": "code",
   "execution_count": 27,
   "metadata": {},
   "outputs": [
    {
     "data": {
      "text/plain": [
       "Batch(id='batch_6868fa1cf0b881908fcb0cc8f6ea749f', completion_window='24h', created_at=1751710236, endpoint='/v1/chat/completions', input_file_id='file-1pCDmqFrQHbrhgJK73FgHo', object='batch', status='completed', cancelled_at=None, cancelling_at=None, completed_at=1751712477, error_file_id=None, errors=None, expired_at=None, expires_at=1751796636, failed_at=None, finalizing_at=1751711791, in_progress_at=1751710238, metadata={'description': 'Antiquotadu emotion analysis'}, output_file_id='file-JXP7JdbhuntJUw9vK67YEP', request_counts=BatchRequestCounts(completed=1348, failed=0, total=1348))"
      ]
     },
     "execution_count": 27,
     "metadata": {},
     "output_type": "execute_result"
    }
   ],
   "source": [
    "client.batches.retrieve('batch_6868fa1cf0b881908fcb0cc8f6ea749f')"
   ]
  },
  {
   "cell_type": "code",
   "execution_count": 28,
   "metadata": {},
   "outputs": [],
   "source": [
    "file_response = client.files.content('file-JXP7JdbhuntJUw9vK67YEP')"
   ]
  },
  {
   "cell_type": "code",
   "execution_count": 30,
   "metadata": {},
   "outputs": [],
   "source": [
    "my_res_dict = defaultdict(list)\n",
    "\n",
    "for i in file_response.iter_lines():\n",
    "    # print(i)\n",
    "    # break\n",
    "    my_res_dict['id'].append(int(json.loads(i)['custom_id'].split(\"_\")[-1]))\n",
    "    j = json.loads(json.loads(i)['response']['body']['choices'][0]['message']['tool_calls'][0]['function']['arguments'])\n",
    "    try:\n",
    "        my_res_dict['ekman_emotion'].append(j['emotion'])\n",
    "    except:\n",
    "        # print(j)\n",
    "        my_res_dict['ekman_emotion'].append('NA')\n",
    "        \n",
    "    my_res_dict['emotion_explanation'].append(j['explanation'])\n",
    "    # print(j['emotion'], j['explanation'])"
   ]
  },
  {
   "cell_type": "code",
   "execution_count": 31,
   "metadata": {},
   "outputs": [
    {
     "data": {
      "text/plain": [
       "ekman_emotion\n",
       "Happiness                                                                                           432\n",
       "Anger                                                                                               420\n",
       "Sadness                                                                                             229\n",
       "Fear                                                                                                119\n",
       "NA                                                                                                   92\n",
       "Surprise                                                                                             27\n",
       "Disgust                                                                                              25\n",
       "The dominant emotion expressed in the post is a form of collective distress and call for action.      1\n",
       "disapproval or worry about the situation.                                                             1\n",
       "neutral                                                                                               1\n",
       "Joy                                                                                                   1\n",
       "Name: count, dtype: int64"
      ]
     },
     "execution_count": 31,
     "metadata": {},
     "output_type": "execute_result"
    }
   ],
   "source": [
    "pd.DataFrame(my_res_dict)['ekman_emotion'].value_counts()"
   ]
  },
  {
   "cell_type": "code",
   "execution_count": 32,
   "metadata": {},
   "outputs": [],
   "source": [
    "pd.DataFrame(my_res_dict).to_csv('antiquotadu_emotion.csv', index=False)"
   ]
  },
  {
   "cell_type": "code",
   "execution_count": null,
   "metadata": {},
   "outputs": [],
   "source": []
  }
 ],
 "metadata": {
  "kernelspec": {
   "display_name": "llm_env",
   "language": "python",
   "name": "python3"
  },
  "language_info": {
   "codemirror_mode": {
    "name": "ipython",
    "version": 3
   },
   "file_extension": ".py",
   "mimetype": "text/x-python",
   "name": "python",
   "nbconvert_exporter": "python",
   "pygments_lexer": "ipython3",
   "version": "3.11.9"
  }
 },
 "nbformat": 4,
 "nbformat_minor": 2
}
