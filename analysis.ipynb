{
 "cells": [
  {
   "cell_type": "code",
   "execution_count": 35,
   "metadata": {},
   "outputs": [],
   "source": [
    "\n",
    "import pandas as pd\n",
    "import numpy as np\n",
    "\n",
    "sad_main = pd.read_csv('myfolder/sad_main.csv', parse_dates=['date'])\n",
    "sad_main['id'] = sad_main['id'].apply(lambda x: f\"sad_{x}\")\n",
    "sad_emoji = pd.read_csv('myfolder/sad_emoji.csv')\n",
    "sad_emoji['id'] = sad_emoji['id'].apply(lambda x: f\"sad_{x}\")\n",
    "sad_emotion = pd.read_csv('StudentsAgainstDiscrimination_emotion.csv')\n",
    "sad_emotion['id'] = sad_emotion['id'].apply(lambda x: f\"sad_{x}\")\n",
    "\n",
    "\n",
    "aqd_main = pd.read_csv('myfolder/aqd_main.csv', parse_dates=['date'])\n",
    "aqd_main['id'] = aqd_main['id'].apply(lambda x: f\"aqd_{x}\")\n",
    "aqd_emoji = pd.read_csv('myfolder/aqd_emoji.csv')\n",
    "aqd_emoji['id'] = aqd_emoji['id'].apply(lambda x: f\"aqd_{x}\")\n",
    "aqd_emotion = pd.read_csv('antiquotadu_emotion.csv')\n",
    "aqd_emotion['id'] = aqd_emotion['id'].apply(lambda x: f\"aqd_{x}\")\n",
    "\n",
    "\n",
    "pusab_main = pd.read_csv('myfolder/pusab_main.csv', parse_dates=['date'])\n",
    "pusab_main['id'] = pusab_main['id'].apply(lambda x: f\"pusab_{x}\")\n",
    "pusab_emoji = pd.read_csv('myfolder/pusab_emoji.csv')\n",
    "pusab_emoji['id'] = pusab_emoji['id'].apply(lambda x: f\"pusab_{x}\")\n",
    "pusab_emotion = pd.read_csv('pusab_emotion.csv')\n",
    "pusab_emotion['id'] = pusab_emotion['id'].apply(lambda x: f\"pusab_{x}\")\n",
    "\n",
    "\n",
    "combined_main = pd.concat([sad_main, aqd_main, pusab_main], ignore_index=True)\n",
    "combined_emoji = pd.concat([sad_emoji, aqd_emoji, pusab_emoji], ignore_index=True)\n",
    "combined_emotion = pd.concat([sad_emotion, aqd_emotion, pusab_emotion], ignore_index=True)"
   ]
  },
  {
   "cell_type": "code",
   "execution_count": 60,
   "metadata": {},
   "outputs": [],
   "source": [
    "emotion_list = ['Happiness', \"Anger\", \"Sadness\", \"Fear\", \"Disgust\", \"Surprise\"]\n",
    "\n",
    "\n",
    "combined_emotion_analysis = combined_emotion.merge(combined_main[['id', 'date']], on='id', validate='one_to_one')\n",
    "\n",
    "combined_emotion_analysis['date'] = combined_emotion_analysis['date'].dt.date\n",
    "combined_emotion_analysis['dataset'] = combined_emotion_analysis['id'].str.split(\"_\").apply(lambda x: x[0]).map({'aqd':\"antiquotadu\",\"sad\":'StudentsAgainstDiscrimination', 'pusab':'pusab'})\n",
    "combined_emotion_analysis['ekman_emotion'] = combined_emotion_analysis['ekman_emotion'].replace({'Joy':\"Happiness\", \"anger\":\"Anger\"}).apply(lambda x: x if x in emotion_list else np.nan)\n",
    "\n",
    "combined_emotion_analysis = pd.concat([combined_emotion_analysis, combined_emotion_analysis.assign(dataset='Combined')], ignore_index=True)\n",
    "\n",
    "\n",
    "\n",
    "# combined_emotion[combined_emotion['ekman_emotion'].isin(emotion_list)]['ekman_emotion'].value_counts()\n",
    "emotion_show_df = combined_emotion_analysis.drop(columns=['id']).groupby(['dataset', 'date', 'ekman_emotion'], dropna=False)['ekman_emotion'].count().rename('counts').reset_index()\n",
    "\n",
    "\n",
    "emotion_show_df['Percentage'] = emotion_show_df.groupby(['dataset', 'date'])['counts'].transform(lambda x: x/x.sum()*100)\n"
   ]
  },
  {
   "cell_type": "code",
   "execution_count": 25,
   "metadata": {},
   "outputs": [],
   "source": [
    "# sad_main['date'].dtype\n",
    "combined_emoji_analysis = combined_emoji.merge(combined_main[['id', 'date']], on='id', validate='one_to_one')\n",
    "\n",
    "combined_emoji_analysis['date'] = combined_emoji_analysis['date'].dt.date\n",
    "combined_emoji_analysis['dataset'] = combined_emoji_analysis['id'].str.split(\"_\").apply(lambda x: x[0]).map({'aqd':\"antiquotadu\",\"sad\":'StudentsAgainstDiscrimination', 'pusab':'pusab'})\n",
    "combined_emoji_analysis = pd.concat([combined_emoji_analysis, combined_emoji_analysis.assign(dataset='Combined')], ignore_index=True)\n",
    "\n",
    "my_set =set()\n",
    "for i, j in combined_emoji_analysis.drop(columns='id').groupby(['dataset', 'date']):\n",
    "    # print(i)\n",
    "    # print(j.drop(columns=['date', 'dataset']).sum().sort_values(ascending=False)[:5])\n",
    "    my_set.update(j.drop(columns=['date', 'dataset']).sum().sort_values(ascending=False)[:5].index)\n",
    "\n",
    "emoji_show_df = combined_emoji_analysis.drop(columns='id').groupby(['dataset', 'date'])[list(my_set)].sum().fillna(0).astype(int).melt(value_name=\"count\", var_name=\"emoji\", ignore_index=False).reset_index()\n",
    "\n",
    "def foo(x):\n",
    "    temp = x.sum()\n",
    "    return temp/temp.sum() * 100\n",
    "\n",
    "emoji_perc = combined_emoji_analysis.drop(columns='id').groupby(['dataset', 'date']).apply(foo, include_groups=False)[list(my_set)].fillna(0).melt(value_name=\"Percentage\", var_name=\"emoji\", ignore_index=False).reset_index()\n",
    "\n",
    "# print(pusab_emoji.shape, pusab_main.shape, pusab_emotion.shape)\n",
    "# combined_emoji.dropna(how='all').shape\n",
    "# sad_emoji\n",
    "# sad_main\n",
    "# pd.read_csv('myfolder/sad_main.csv', parse_dates=['date'])['id']\n",
    "# my_set"
   ]
  },
  {
   "cell_type": "code",
   "execution_count": 14,
   "metadata": {},
   "outputs": [
    {
     "data": {
      "application/vnd.plotly.v1+json": {
       "config": {
        "plotlyServerURL": "https://plot.ly"
       },
       "data": [
        {
         "hovertemplate": "emoji=🔥<br>dataset=Combined<br>date=%{x}<br>count=%{y}<extra></extra>",
         "legendgroup": "🔥",
         "line": {
          "color": "#636efa",
          "dash": "solid"
         },
         "marker": {
          "symbol": "circle"
         },
         "mode": "lines",
         "name": "🔥",
         "orientation": "v",
         "showlegend": true,
         "type": "scatter",
         "x": [
          "2024-07-15",
          "2024-07-16",
          "2024-07-17",
          "2024-07-18",
          "2024-07-23",
          "2024-07-24",
          "2024-07-25",
          "2024-07-26",
          "2024-07-27",
          "2024-07-28",
          "2024-07-29",
          "2024-07-30",
          "2024-07-31",
          "2024-08-01",
          "2024-08-02",
          "2024-08-03",
          "2024-08-04",
          "2024-08-05"
         ],
         "xaxis": "x4",
         "y": {
          "bdata": "WwAAAEIKAACEPQAA+yMAADEAAABmAQAAcgUAAH4FAAAnCQAAhhEAAAM0AAAdEQAAjyMAAOwgAAD3SAAA9rYAANTeAAA4jAAA",
          "dtype": "i4"
         },
         "yaxis": "y4"
        },
        {
         "hovertemplate": "emoji=🔥<br>dataset=StudentsAgainstDiscrimination<br>date=%{x}<br>count=%{y}<extra></extra>",
         "legendgroup": "🔥",
         "line": {
          "color": "#636efa",
          "dash": "solid"
         },
         "marker": {
          "symbol": "circle"
         },
         "mode": "lines",
         "name": "🔥",
         "orientation": "v",
         "showlegend": false,
         "type": "scatter",
         "x": [
          "2024-07-16",
          "2024-07-17",
          "2024-07-18",
          "2024-07-23",
          "2024-07-24",
          "2024-07-25",
          "2024-07-26",
          "2024-07-27",
          "2024-07-28",
          "2024-07-29",
          "2024-07-30",
          "2024-07-31",
          "2024-08-01",
          "2024-08-02",
          "2024-08-03",
          "2024-08-04",
          "2024-08-05"
         ],
         "xaxis": "x3",
         "y": {
          "bdata": "XAAAANolAACgGQAAGAAAAG0AAADMAwAAMQQAAB0FAADSDgAAECgAALoOAAA2GAAAQRsAALg2AAAZjwAACLUAAC5jAAA=",
          "dtype": "i4"
         },
         "yaxis": "y3"
        },
        {
         "hovertemplate": "emoji=🔥<br>dataset=antiquotadu<br>date=%{x}<br>count=%{y}<extra></extra>",
         "legendgroup": "🔥",
         "line": {
          "color": "#636efa",
          "dash": "solid"
         },
         "marker": {
          "symbol": "circle"
         },
         "mode": "lines",
         "name": "🔥",
         "orientation": "v",
         "showlegend": false,
         "type": "scatter",
         "x": [
          "2024-07-15",
          "2024-07-16",
          "2024-07-17",
          "2024-07-18",
          "2024-07-24",
          "2024-07-25",
          "2024-07-26",
          "2024-07-27",
          "2024-07-28",
          "2024-07-29",
          "2024-07-30",
          "2024-07-31",
          "2024-08-01",
          "2024-08-02",
          "2024-08-03",
          "2024-08-04",
          "2024-08-05"
         ],
         "xaxis": "x2",
         "y": {
          "bdata": "WwDmCaoXWwopADwBAQH2A7QC5QipARoKqwXzDb8eJSCDFg==",
          "dtype": "i2"
         },
         "yaxis": "y2"
        },
        {
         "hovertemplate": "emoji=🔥<br>dataset=pusab<br>date=%{x}<br>count=%{y}<extra></extra>",
         "legendgroup": "🔥",
         "line": {
          "color": "#636efa",
          "dash": "solid"
         },
         "marker": {
          "symbol": "circle"
         },
         "mode": "lines",
         "name": "🔥",
         "orientation": "v",
         "showlegend": false,
         "type": "scatter",
         "x": [
          "2024-07-23",
          "2024-07-24",
          "2024-07-25",
          "2024-07-26",
          "2024-07-27",
          "2024-07-29",
          "2024-07-30",
          "2024-07-31",
          "2024-08-02",
          "2024-08-03",
          "2024-08-04",
          "2024-08-05"
         ],
         "xaxis": "x",
         "y": {
          "bdata": "GQDQAGoATAAUAA4DugA/AUwEHgmnCYcS",
          "dtype": "i2"
         },
         "yaxis": "y"
        },
        {
         "hovertemplate": "emoji=😱<br>dataset=Combined<br>date=%{x}<br>count=%{y}<extra></extra>",
         "legendgroup": "😱",
         "line": {
          "color": "#EF553B",
          "dash": "solid"
         },
         "marker": {
          "symbol": "circle"
         },
         "mode": "lines",
         "name": "😱",
         "orientation": "v",
         "showlegend": true,
         "type": "scatter",
         "x": [
          "2024-07-15",
          "2024-07-16",
          "2024-07-17",
          "2024-07-18",
          "2024-07-23",
          "2024-07-24",
          "2024-07-25",
          "2024-07-26",
          "2024-07-27",
          "2024-07-28",
          "2024-07-29",
          "2024-07-30",
          "2024-07-31",
          "2024-08-01",
          "2024-08-02",
          "2024-08-03",
          "2024-08-04",
          "2024-08-05"
         ],
         "xaxis": "x4",
         "y": {
          "bdata": "AAASAHcAIQAAAB0AKgANAAcAAgAMAAQACAAXADkAeABvAO8A",
          "dtype": "i2"
         },
         "yaxis": "y4"
        },
        {
         "hovertemplate": "emoji=😱<br>dataset=StudentsAgainstDiscrimination<br>date=%{x}<br>count=%{y}<extra></extra>",
         "legendgroup": "😱",
         "line": {
          "color": "#EF553B",
          "dash": "solid"
         },
         "marker": {
          "symbol": "circle"
         },
         "mode": "lines",
         "name": "😱",
         "orientation": "v",
         "showlegend": false,
         "type": "scatter",
         "x": [
          "2024-07-16",
          "2024-07-17",
          "2024-07-18",
          "2024-07-23",
          "2024-07-24",
          "2024-07-25",
          "2024-07-26",
          "2024-07-27",
          "2024-07-28",
          "2024-07-29",
          "2024-07-30",
          "2024-07-31",
          "2024-08-01",
          "2024-08-02",
          "2024-08-03",
          "2024-08-04",
          "2024-08-05"
         ],
         "xaxis": "x3",
         "y": {
          "bdata": "EnchAB0cDAACDAQIFy9mXhQ=",
          "dtype": "i1"
         },
         "yaxis": "y3"
        },
        {
         "hovertemplate": "emoji=😱<br>dataset=antiquotadu<br>date=%{x}<br>count=%{y}<extra></extra>",
         "legendgroup": "😱",
         "line": {
          "color": "#EF553B",
          "dash": "solid"
         },
         "marker": {
          "symbol": "circle"
         },
         "mode": "lines",
         "name": "😱",
         "orientation": "v",
         "showlegend": false,
         "type": "scatter",
         "x": [
          "2024-07-15",
          "2024-07-16",
          "2024-07-17",
          "2024-07-18",
          "2024-07-24",
          "2024-07-25",
          "2024-07-26",
          "2024-07-27",
          "2024-07-28",
          "2024-07-29",
          "2024-07-30",
          "2024-07-31",
          "2024-08-01",
          "2024-08-02",
          "2024-08-03",
          "2024-08-04",
          "2024-08-05"
         ],
         "xaxis": "x2",
         "y": {
          "bdata": "AAAAAAAAAAAAAAAAAAAAAAAAAAAAAAAAAAAAAAAAAgCjAA==",
          "dtype": "i2"
         },
         "yaxis": "y2"
        },
        {
         "hovertemplate": "emoji=😱<br>dataset=pusab<br>date=%{x}<br>count=%{y}<extra></extra>",
         "legendgroup": "😱",
         "line": {
          "color": "#EF553B",
          "dash": "solid"
         },
         "marker": {
          "symbol": "circle"
         },
         "mode": "lines",
         "name": "😱",
         "orientation": "v",
         "showlegend": false,
         "type": "scatter",
         "x": [
          "2024-07-23",
          "2024-07-24",
          "2024-07-25",
          "2024-07-26",
          "2024-07-27",
          "2024-07-29",
          "2024-07-30",
          "2024-07-31",
          "2024-08-02",
          "2024-08-03",
          "2024-08-04",
          "2024-08-05"
         ],
         "xaxis": "x",
         "y": {
          "bdata": "AAAOAQcAAAAKEg84",
          "dtype": "i1"
         },
         "yaxis": "y"
        },
        {
         "hovertemplate": "emoji=🫡<br>dataset=Combined<br>date=%{x}<br>count=%{y}<extra></extra>",
         "legendgroup": "🫡",
         "line": {
          "color": "#00cc96",
          "dash": "solid"
         },
         "marker": {
          "symbol": "circle"
         },
         "mode": "lines",
         "name": "🫡",
         "orientation": "v",
         "showlegend": true,
         "type": "scatter",
         "x": [
          "2024-07-15",
          "2024-07-16",
          "2024-07-17",
          "2024-07-18",
          "2024-07-23",
          "2024-07-24",
          "2024-07-25",
          "2024-07-26",
          "2024-07-27",
          "2024-07-28",
          "2024-07-29",
          "2024-07-30",
          "2024-07-31",
          "2024-08-01",
          "2024-08-02",
          "2024-08-03",
          "2024-08-04",
          "2024-08-05"
         ],
         "xaxis": "x4",
         "y": {
          "bdata": "AAAAABIANgAWAJEADQAHAE0AGwCWAEcAsAEGAWIBJAErBPgC",
          "dtype": "i2"
         },
         "yaxis": "y4"
        },
        {
         "hovertemplate": "emoji=🫡<br>dataset=StudentsAgainstDiscrimination<br>date=%{x}<br>count=%{y}<extra></extra>",
         "legendgroup": "🫡",
         "line": {
          "color": "#00cc96",
          "dash": "solid"
         },
         "marker": {
          "symbol": "circle"
         },
         "mode": "lines",
         "name": "🫡",
         "orientation": "v",
         "showlegend": false,
         "type": "scatter",
         "x": [
          "2024-07-16",
          "2024-07-17",
          "2024-07-18",
          "2024-07-23",
          "2024-07-24",
          "2024-07-25",
          "2024-07-26",
          "2024-07-27",
          "2024-07-28",
          "2024-07-29",
          "2024-07-30",
          "2024-07-31",
          "2024-08-01",
          "2024-08-02",
          "2024-08-03",
          "2024-08-04",
          "2024-08-05"
         ],
         "xaxis": "x3",
         "y": {
          "bdata": "AAASADYAAABHAA0AAABLABsAZwBHAEgAkwBwAIAATwHoAA==",
          "dtype": "i2"
         },
         "yaxis": "y3"
        },
        {
         "hovertemplate": "emoji=🫡<br>dataset=antiquotadu<br>date=%{x}<br>count=%{y}<extra></extra>",
         "legendgroup": "🫡",
         "line": {
          "color": "#00cc96",
          "dash": "solid"
         },
         "marker": {
          "symbol": "circle"
         },
         "mode": "lines",
         "name": "🫡",
         "orientation": "v",
         "showlegend": false,
         "type": "scatter",
         "x": [
          "2024-07-15",
          "2024-07-16",
          "2024-07-17",
          "2024-07-18",
          "2024-07-24",
          "2024-07-25",
          "2024-07-26",
          "2024-07-27",
          "2024-07-28",
          "2024-07-29",
          "2024-07-30",
          "2024-07-31",
          "2024-08-01",
          "2024-08-02",
          "2024-08-03",
          "2024-08-04",
          "2024-08-05"
         ],
         "xaxis": "x2",
         "y": {
          "bdata": "AAAAAAAAAAAAAAAAAAAAAAAAAAAAAGgBcwDnAIwASQK6AQ==",
          "dtype": "i2"
         },
         "yaxis": "y2"
        },
        {
         "hovertemplate": "emoji=🫡<br>dataset=pusab<br>date=%{x}<br>count=%{y}<extra></extra>",
         "legendgroup": "🫡",
         "line": {
          "color": "#00cc96",
          "dash": "solid"
         },
         "marker": {
          "symbol": "circle"
         },
         "mode": "lines",
         "name": "🫡",
         "orientation": "v",
         "showlegend": false,
         "type": "scatter",
         "x": [
          "2024-07-23",
          "2024-07-24",
          "2024-07-25",
          "2024-07-26",
          "2024-07-27",
          "2024-07-29",
          "2024-07-30",
          "2024-07-31",
          "2024-08-02",
          "2024-08-03",
          "2024-08-04",
          "2024-08-05"
         ],
         "xaxis": "x",
         "y": {
          "bdata": "FgBKAAAABwACAC8AAAAAAAsAGACTAFYA",
          "dtype": "i2"
         },
         "yaxis": "y"
        },
        {
         "hovertemplate": "emoji=🤣<br>dataset=Combined<br>date=%{x}<br>count=%{y}<extra></extra>",
         "legendgroup": "🤣",
         "line": {
          "color": "#ab63fa",
          "dash": "solid"
         },
         "marker": {
          "symbol": "circle"
         },
         "mode": "lines",
         "name": "🤣",
         "orientation": "v",
         "showlegend": true,
         "type": "scatter",
         "x": [
          "2024-07-15",
          "2024-07-16",
          "2024-07-17",
          "2024-07-18",
          "2024-07-23",
          "2024-07-24",
          "2024-07-25",
          "2024-07-26",
          "2024-07-27",
          "2024-07-28",
          "2024-07-29",
          "2024-07-30",
          "2024-07-31",
          "2024-08-01",
          "2024-08-02",
          "2024-08-03",
          "2024-08-04",
          "2024-08-05"
         ],
         "xaxis": "x4",
         "y": {
          "bdata": "CAAAAP8JqgUAAKEBUgA5BNsFUAMdAicA1gaLBt4ESBlUG2sZ",
          "dtype": "i2"
         },
         "yaxis": "y4"
        },
        {
         "hovertemplate": "emoji=🤣<br>dataset=StudentsAgainstDiscrimination<br>date=%{x}<br>count=%{y}<extra></extra>",
         "legendgroup": "🤣",
         "line": {
          "color": "#ab63fa",
          "dash": "solid"
         },
         "marker": {
          "symbol": "circle"
         },
         "mode": "lines",
         "name": "🤣",
         "orientation": "v",
         "showlegend": false,
         "type": "scatter",
         "x": [
          "2024-07-16",
          "2024-07-17",
          "2024-07-18",
          "2024-07-23",
          "2024-07-24",
          "2024-07-25",
          "2024-07-26",
          "2024-07-27",
          "2024-07-28",
          "2024-07-29",
          "2024-07-30",
          "2024-07-31",
          "2024-08-01",
          "2024-08-02",
          "2024-08-03",
          "2024-08-04",
          "2024-08-05"
         ],
         "xaxis": "x3",
         "y": {
          "bdata": "AAD/CaoFAAChAVIAOQTbBVADEgInANYGiwbeBMkYTxq+EA==",
          "dtype": "i2"
         },
         "yaxis": "y3"
        },
        {
         "hovertemplate": "emoji=🤣<br>dataset=antiquotadu<br>date=%{x}<br>count=%{y}<extra></extra>",
         "legendgroup": "🤣",
         "line": {
          "color": "#ab63fa",
          "dash": "solid"
         },
         "marker": {
          "symbol": "circle"
         },
         "mode": "lines",
         "name": "🤣",
         "orientation": "v",
         "showlegend": false,
         "type": "scatter",
         "x": [
          "2024-07-15",
          "2024-07-16",
          "2024-07-17",
          "2024-07-18",
          "2024-07-24",
          "2024-07-25",
          "2024-07-26",
          "2024-07-27",
          "2024-07-28",
          "2024-07-29",
          "2024-07-30",
          "2024-07-31",
          "2024-08-01",
          "2024-08-02",
          "2024-08-03",
          "2024-08-04",
          "2024-08-05"
         ],
         "xaxis": "x2",
         "y": {
          "bdata": "CAAAAAAAAAAAAAAAAAAAAAI=",
          "dtype": "i1"
         },
         "yaxis": "y2"
        },
        {
         "hovertemplate": "emoji=🤣<br>dataset=pusab<br>date=%{x}<br>count=%{y}<extra></extra>",
         "legendgroup": "🤣",
         "line": {
          "color": "#ab63fa",
          "dash": "solid"
         },
         "marker": {
          "symbol": "circle"
         },
         "mode": "lines",
         "name": "🤣",
         "orientation": "v",
         "showlegend": false,
         "type": "scatter",
         "x": [
          "2024-07-23",
          "2024-07-24",
          "2024-07-25",
          "2024-07-26",
          "2024-07-27",
          "2024-07-29",
          "2024-07-30",
          "2024-07-31",
          "2024-08-02",
          "2024-08-03",
          "2024-08-04",
          "2024-08-05"
         ],
         "xaxis": "x",
         "y": {
          "bdata": "AAAAAAAAAAAAAAsAAAAAAAAAfwAFAasI",
          "dtype": "i2"
         },
         "yaxis": "y"
        },
        {
         "hovertemplate": "emoji=🖕<br>dataset=Combined<br>date=%{x}<br>count=%{y}<extra></extra>",
         "legendgroup": "🖕",
         "line": {
          "color": "#FFA15A",
          "dash": "solid"
         },
         "marker": {
          "symbol": "circle"
         },
         "mode": "lines",
         "name": "🖕",
         "orientation": "v",
         "showlegend": true,
         "type": "scatter",
         "x": [
          "2024-07-15",
          "2024-07-16",
          "2024-07-17",
          "2024-07-18",
          "2024-07-23",
          "2024-07-24",
          "2024-07-25",
          "2024-07-26",
          "2024-07-27",
          "2024-07-28",
          "2024-07-29",
          "2024-07-30",
          "2024-07-31",
          "2024-08-01",
          "2024-08-02",
          "2024-08-03",
          "2024-08-04",
          "2024-08-05"
         ],
         "xaxis": "x4",
         "y": {
          "bdata": "AABhAK0BZAAAAH8AugBGAQwCCgAGABAAIwApAMMBgwHmACQA",
          "dtype": "i2"
         },
         "yaxis": "y4"
        },
        {
         "hovertemplate": "emoji=🖕<br>dataset=StudentsAgainstDiscrimination<br>date=%{x}<br>count=%{y}<extra></extra>",
         "legendgroup": "🖕",
         "line": {
          "color": "#FFA15A",
          "dash": "solid"
         },
         "marker": {
          "symbol": "circle"
         },
         "mode": "lines",
         "name": "🖕",
         "orientation": "v",
         "showlegend": false,
         "type": "scatter",
         "x": [
          "2024-07-16",
          "2024-07-17",
          "2024-07-18",
          "2024-07-23",
          "2024-07-24",
          "2024-07-25",
          "2024-07-26",
          "2024-07-27",
          "2024-07-28",
          "2024-07-29",
          "2024-07-30",
          "2024-07-31",
          "2024-08-01",
          "2024-08-02",
          "2024-08-03",
          "2024-08-04",
          "2024-08-05"
         ],
         "xaxis": "x3",
         "y": {
          "bdata": "AAAvABsAAABCAAcABQAOAAoAAwAQACMAKQDCAUoB0gAYAA==",
          "dtype": "i2"
         },
         "yaxis": "y3"
        },
        {
         "hovertemplate": "emoji=🖕<br>dataset=antiquotadu<br>date=%{x}<br>count=%{y}<extra></extra>",
         "legendgroup": "🖕",
         "line": {
          "color": "#FFA15A",
          "dash": "solid"
         },
         "marker": {
          "symbol": "circle"
         },
         "mode": "lines",
         "name": "🖕",
         "orientation": "v",
         "showlegend": false,
         "type": "scatter",
         "x": [
          "2024-07-15",
          "2024-07-16",
          "2024-07-17",
          "2024-07-18",
          "2024-07-24",
          "2024-07-25",
          "2024-07-26",
          "2024-07-27",
          "2024-07-28",
          "2024-07-29",
          "2024-07-30",
          "2024-07-31",
          "2024-08-01",
          "2024-08-02",
          "2024-08-03",
          "2024-08-04",
          "2024-08-05"
         ],
         "xaxis": "x2",
         "y": {
          "bdata": "AABhAH4BSQA9AK0APgH+AQAAAAAAAAAAAAAAAAAAAAAAAA==",
          "dtype": "i2"
         },
         "yaxis": "y2"
        },
        {
         "hovertemplate": "emoji=🖕<br>dataset=pusab<br>date=%{x}<br>count=%{y}<extra></extra>",
         "legendgroup": "🖕",
         "line": {
          "color": "#FFA15A",
          "dash": "solid"
         },
         "marker": {
          "symbol": "circle"
         },
         "mode": "lines",
         "name": "🖕",
         "orientation": "v",
         "showlegend": false,
         "type": "scatter",
         "x": [
          "2024-07-23",
          "2024-07-24",
          "2024-07-25",
          "2024-07-26",
          "2024-07-27",
          "2024-07-29",
          "2024-07-30",
          "2024-07-31",
          "2024-08-02",
          "2024-08-03",
          "2024-08-04",
          "2024-08-05"
         ],
         "xaxis": "x",
         "y": {
          "bdata": "AAAGAwADAAABORQM",
          "dtype": "i1"
         },
         "yaxis": "y"
        },
        {
         "hovertemplate": "emoji=❤‍🔥<br>dataset=Combined<br>date=%{x}<br>count=%{y}<extra></extra>",
         "legendgroup": "❤‍🔥",
         "line": {
          "color": "#19d3f3",
          "dash": "solid"
         },
         "marker": {
          "symbol": "circle"
         },
         "mode": "lines",
         "name": "❤‍🔥",
         "orientation": "v",
         "showlegend": true,
         "type": "scatter",
         "x": [
          "2024-07-15",
          "2024-07-16",
          "2024-07-17",
          "2024-07-18",
          "2024-07-23",
          "2024-07-24",
          "2024-07-25",
          "2024-07-26",
          "2024-07-27",
          "2024-07-28",
          "2024-07-29",
          "2024-07-30",
          "2024-07-31",
          "2024-08-01",
          "2024-08-02",
          "2024-08-03",
          "2024-08-04",
          "2024-08-05"
         ],
         "xaxis": "x4",
         "y": {
          "bdata": "AAAAAFEDoQEYABcADAADAAIADgBtAKUCCwCKAswA7gEbBMYI",
          "dtype": "i2"
         },
         "yaxis": "y4"
        },
        {
         "hovertemplate": "emoji=❤‍🔥<br>dataset=StudentsAgainstDiscrimination<br>date=%{x}<br>count=%{y}<extra></extra>",
         "legendgroup": "❤‍🔥",
         "line": {
          "color": "#19d3f3",
          "dash": "solid"
         },
         "marker": {
          "symbol": "circle"
         },
         "mode": "lines",
         "name": "❤‍🔥",
         "orientation": "v",
         "showlegend": false,
         "type": "scatter",
         "x": [
          "2024-07-16",
          "2024-07-17",
          "2024-07-18",
          "2024-07-23",
          "2024-07-24",
          "2024-07-25",
          "2024-07-26",
          "2024-07-27",
          "2024-07-28",
          "2024-07-29",
          "2024-07-30",
          "2024-07-31",
          "2024-08-01",
          "2024-08-02",
          "2024-08-03",
          "2024-08-04",
          "2024-08-05"
         ],
         "xaxis": "x3",
         "y": {
          "bdata": "AABRA6EBAAACAAAAAAACAA4AXgCDAgsAigLHAGYB8wNgCA==",
          "dtype": "i2"
         },
         "yaxis": "y3"
        },
        {
         "hovertemplate": "emoji=❤‍🔥<br>dataset=antiquotadu<br>date=%{x}<br>count=%{y}<extra></extra>",
         "legendgroup": "❤‍🔥",
         "line": {
          "color": "#19d3f3",
          "dash": "solid"
         },
         "marker": {
          "symbol": "circle"
         },
         "mode": "lines",
         "name": "❤‍🔥",
         "orientation": "v",
         "showlegend": false,
         "type": "scatter",
         "x": [
          "2024-07-15",
          "2024-07-16",
          "2024-07-17",
          "2024-07-18",
          "2024-07-24",
          "2024-07-25",
          "2024-07-26",
          "2024-07-27",
          "2024-07-28",
          "2024-07-29",
          "2024-07-30",
          "2024-07-31",
          "2024-08-01",
          "2024-08-02",
          "2024-08-03",
          "2024-08-04",
          "2024-08-05"
         ],
         "xaxis": "x2",
         "y": {
          "bdata": "AAAAAAAAAAAAAAAAAAAAAAA=",
          "dtype": "i1"
         },
         "yaxis": "y2"
        },
        {
         "hovertemplate": "emoji=❤‍🔥<br>dataset=pusab<br>date=%{x}<br>count=%{y}<extra></extra>",
         "legendgroup": "❤‍🔥",
         "line": {
          "color": "#19d3f3",
          "dash": "solid"
         },
         "marker": {
          "symbol": "circle"
         },
         "mode": "lines",
         "name": "❤‍🔥",
         "orientation": "v",
         "showlegend": false,
         "type": "scatter",
         "x": [
          "2024-07-23",
          "2024-07-24",
          "2024-07-25",
          "2024-07-26",
          "2024-07-27",
          "2024-07-29",
          "2024-07-30",
          "2024-07-31",
          "2024-08-02",
          "2024-08-03",
          "2024-08-04",
          "2024-08-05"
         ],
         "xaxis": "x",
         "y": {
          "bdata": "GAAVAAwAAwAAAA8AIgAAAAUAiAAoAGYA",
          "dtype": "i2"
         },
         "yaxis": "y"
        },
        {
         "hovertemplate": "emoji=😡<br>dataset=Combined<br>date=%{x}<br>count=%{y}<extra></extra>",
         "legendgroup": "😡",
         "line": {
          "color": "#FF6692",
          "dash": "solid"
         },
         "marker": {
          "symbol": "circle"
         },
         "mode": "lines",
         "name": "😡",
         "orientation": "v",
         "showlegend": true,
         "type": "scatter",
         "x": [
          "2024-07-15",
          "2024-07-16",
          "2024-07-17",
          "2024-07-18",
          "2024-07-23",
          "2024-07-24",
          "2024-07-25",
          "2024-07-26",
          "2024-07-27",
          "2024-07-28",
          "2024-07-29",
          "2024-07-30",
          "2024-07-31",
          "2024-08-01",
          "2024-08-02",
          "2024-08-03",
          "2024-08-04",
          "2024-08-05"
         ],
         "xaxis": "x4",
         "y": {
          "bdata": "AwAAADMBaAIAAD0APQC7AFcAEwAYAAIADgJOAjcDjAMkAUQC",
          "dtype": "i2"
         },
         "yaxis": "y4"
        },
        {
         "hovertemplate": "emoji=😡<br>dataset=StudentsAgainstDiscrimination<br>date=%{x}<br>count=%{y}<extra></extra>",
         "legendgroup": "😡",
         "line": {
          "color": "#FF6692",
          "dash": "solid"
         },
         "marker": {
          "symbol": "circle"
         },
         "mode": "lines",
         "name": "😡",
         "orientation": "v",
         "showlegend": false,
         "type": "scatter",
         "x": [
          "2024-07-16",
          "2024-07-17",
          "2024-07-18",
          "2024-07-23",
          "2024-07-24",
          "2024-07-25",
          "2024-07-26",
          "2024-07-27",
          "2024-07-28",
          "2024-07-29",
          "2024-07-30",
          "2024-07-31",
          "2024-08-01",
          "2024-08-02",
          "2024-08-03",
          "2024-08-04",
          "2024-08-05"
         ],
         "xaxis": "x3",
         "y": {
          "bdata": "AAAzAWgCAAA9AAMAtgALABMAGAACAA4CTgJ/AmoAMwBsAA==",
          "dtype": "i2"
         },
         "yaxis": "y3"
        },
        {
         "hovertemplate": "emoji=😡<br>dataset=antiquotadu<br>date=%{x}<br>count=%{y}<extra></extra>",
         "legendgroup": "😡",
         "line": {
          "color": "#FF6692",
          "dash": "solid"
         },
         "marker": {
          "symbol": "circle"
         },
         "mode": "lines",
         "name": "😡",
         "orientation": "v",
         "showlegend": false,
         "type": "scatter",
         "x": [
          "2024-07-15",
          "2024-07-16",
          "2024-07-17",
          "2024-07-18",
          "2024-07-24",
          "2024-07-25",
          "2024-07-26",
          "2024-07-27",
          "2024-07-28",
          "2024-07-29",
          "2024-07-30",
          "2024-07-31",
          "2024-08-01",
          "2024-08-02",
          "2024-08-03",
          "2024-08-04",
          "2024-08-05"
         ],
         "xaxis": "x2",
         "y": {
          "bdata": "AwAAAAAAAAAAAAAAAAAAAAA=",
          "dtype": "i1"
         },
         "yaxis": "y2"
        },
        {
         "hovertemplate": "emoji=😡<br>dataset=pusab<br>date=%{x}<br>count=%{y}<extra></extra>",
         "legendgroup": "😡",
         "line": {
          "color": "#FF6692",
          "dash": "solid"
         },
         "marker": {
          "symbol": "circle"
         },
         "mode": "lines",
         "name": "😡",
         "orientation": "v",
         "showlegend": false,
         "type": "scatter",
         "x": [
          "2024-07-23",
          "2024-07-24",
          "2024-07-25",
          "2024-07-26",
          "2024-07-27",
          "2024-07-29",
          "2024-07-30",
          "2024-07-31",
          "2024-08-02",
          "2024-08-03",
          "2024-08-04",
          "2024-08-05"
         ],
         "xaxis": "x",
         "y": {
          "bdata": "AAAAADoABQBMAAAAAAAAALgAIgPxANgB",
          "dtype": "i2"
         },
         "yaxis": "y"
        },
        {
         "hovertemplate": "emoji=❤<br>dataset=Combined<br>date=%{x}<br>count=%{y}<extra></extra>",
         "legendgroup": "❤",
         "line": {
          "color": "#B6E880",
          "dash": "solid"
         },
         "marker": {
          "symbol": "circle"
         },
         "mode": "lines",
         "name": "❤",
         "orientation": "v",
         "showlegend": true,
         "type": "scatter",
         "x": [
          "2024-07-15",
          "2024-07-16",
          "2024-07-17",
          "2024-07-18",
          "2024-07-23",
          "2024-07-24",
          "2024-07-25",
          "2024-07-26",
          "2024-07-27",
          "2024-07-28",
          "2024-07-29",
          "2024-07-30",
          "2024-07-31",
          "2024-08-01",
          "2024-08-02",
          "2024-08-03",
          "2024-08-04",
          "2024-08-05"
         ],
         "xaxis": "x4",
         "y": {
          "bdata": "DAUAAP8cAABr1QAAFIgAAGgEAACzIQAAOB8AAPYVAAC0HgAAszUAAKStAAC0WwAAH3QAAAVvAADE7QAA8KoBAP/nAQCz1gEA",
          "dtype": "i4"
         },
         "yaxis": "y4"
        },
        {
         "hovertemplate": "emoji=❤<br>dataset=StudentsAgainstDiscrimination<br>date=%{x}<br>count=%{y}<extra></extra>",
         "legendgroup": "❤",
         "line": {
          "color": "#B6E880",
          "dash": "solid"
         },
         "marker": {
          "symbol": "circle"
         },
         "mode": "lines",
         "name": "❤",
         "orientation": "v",
         "showlegend": false,
         "type": "scatter",
         "x": [
          "2024-07-16",
          "2024-07-17",
          "2024-07-18",
          "2024-07-23",
          "2024-07-24",
          "2024-07-25",
          "2024-07-26",
          "2024-07-27",
          "2024-07-28",
          "2024-07-29",
          "2024-07-30",
          "2024-07-31",
          "2024-08-01",
          "2024-08-02",
          "2024-08-03",
          "2024-08-04",
          "2024-08-05"
         ],
         "xaxis": "x3",
         "y": {
          "bdata": "UgAAALaqAADGbgAAmgEAAAsPAADrEAAAdAwAAA8QAAAjKQAAl4UAAD1DAACCVAAATVoAAA2uAADuDwEA1C8BAGsDAQA=",
          "dtype": "i4"
         },
         "yaxis": "y3"
        },
        {
         "hovertemplate": "emoji=❤<br>dataset=antiquotadu<br>date=%{x}<br>count=%{y}<extra></extra>",
         "legendgroup": "❤",
         "line": {
          "color": "#B6E880",
          "dash": "solid"
         },
         "marker": {
          "symbol": "circle"
         },
         "mode": "lines",
         "name": "❤",
         "orientation": "v",
         "showlegend": false,
         "type": "scatter",
         "x": [
          "2024-07-15",
          "2024-07-16",
          "2024-07-17",
          "2024-07-18",
          "2024-07-24",
          "2024-07-25",
          "2024-07-26",
          "2024-07-27",
          "2024-07-28",
          "2024-07-29",
          "2024-07-30",
          "2024-07-31",
          "2024-08-01",
          "2024-08-02",
          "2024-08-03",
          "2024-08-04",
          "2024-08-05"
         ],
         "xaxis": "x2",
         "y": {
          "bdata": "DAWtHLUqThkcA+8E+QO5CZAMvQrnBpcRuBRKFQwgSzHxNg==",
          "dtype": "i2"
         },
         "yaxis": "y2"
        },
        {
         "hovertemplate": "emoji=❤<br>dataset=pusab<br>date=%{x}<br>count=%{y}<extra></extra>",
         "legendgroup": "❤",
         "line": {
          "color": "#B6E880",
          "dash": "solid"
         },
         "marker": {
          "symbol": "circle"
         },
         "mode": "lines",
         "name": "❤",
         "orientation": "v",
         "showlegend": false,
         "type": "scatter",
         "x": [
          "2024-07-23",
          "2024-07-24",
          "2024-07-25",
          "2024-07-26",
          "2024-07-27",
          "2024-07-29",
          "2024-07-30",
          "2024-07-31",
          "2024-08-02",
          "2024-08-03",
          "2024-08-04",
          "2024-08-05"
         ],
         "xaxis": "x",
         "y": {
          "bdata": "zgIAAIwPAABeCQAAiQUAAOwEAABQHQAAkBEAAAYOAABtKgAA9noAAOCGAABXnAAA",
          "dtype": "i4"
         },
         "yaxis": "y"
        },
        {
         "hovertemplate": "emoji=🤬<br>dataset=Combined<br>date=%{x}<br>count=%{y}<extra></extra>",
         "legendgroup": "🤬",
         "line": {
          "color": "#FF97FF",
          "dash": "solid"
         },
         "marker": {
          "symbol": "circle"
         },
         "mode": "lines",
         "name": "🤬",
         "orientation": "v",
         "showlegend": true,
         "type": "scatter",
         "x": [
          "2024-07-15",
          "2024-07-16",
          "2024-07-17",
          "2024-07-18",
          "2024-07-23",
          "2024-07-24",
          "2024-07-25",
          "2024-07-26",
          "2024-07-27",
          "2024-07-28",
          "2024-07-29",
          "2024-07-30",
          "2024-07-31",
          "2024-08-01",
          "2024-08-02",
          "2024-08-03",
          "2024-08-04",
          "2024-08-05"
         ],
         "xaxis": "x4",
         "y": {
          "bdata": "FAHeCP02UyMAAKoIeQeCDSIISwvLDYYEnB1MF6ZUIz4gMfEj",
          "dtype": "i2"
         },
         "yaxis": "y4"
        },
        {
         "hovertemplate": "emoji=🤬<br>dataset=StudentsAgainstDiscrimination<br>date=%{x}<br>count=%{y}<extra></extra>",
         "legendgroup": "🤬",
         "line": {
          "color": "#FF97FF",
          "dash": "solid"
         },
         "marker": {
          "symbol": "circle"
         },
         "mode": "lines",
         "name": "🤬",
         "orientation": "v",
         "showlegend": false,
         "type": "scatter",
         "x": [
          "2024-07-16",
          "2024-07-17",
          "2024-07-18",
          "2024-07-23",
          "2024-07-24",
          "2024-07-25",
          "2024-07-26",
          "2024-07-27",
          "2024-07-28",
          "2024-07-29",
          "2024-07-30",
          "2024-07-31",
          "2024-08-01",
          "2024-08-02",
          "2024-08-03",
          "2024-08-04",
          "2024-08-05"
         ],
         "xaxis": "x3",
         "y": {
          "bdata": "AwA5JEwdAABgCDMF/QqWBv0F+wxMBO4ZPhVaTZUqVRbbDA==",
          "dtype": "i2"
         },
         "yaxis": "y3"
        },
        {
         "hovertemplate": "emoji=🤬<br>dataset=antiquotadu<br>date=%{x}<br>count=%{y}<extra></extra>",
         "legendgroup": "🤬",
         "line": {
          "color": "#FF97FF",
          "dash": "solid"
         },
         "marker": {
          "symbol": "circle"
         },
         "mode": "lines",
         "name": "🤬",
         "orientation": "v",
         "showlegend": false,
         "type": "scatter",
         "x": [
          "2024-07-15",
          "2024-07-16",
          "2024-07-17",
          "2024-07-18",
          "2024-07-24",
          "2024-07-25",
          "2024-07-26",
          "2024-07-27",
          "2024-07-28",
          "2024-07-29",
          "2024-07-30",
          "2024-07-31",
          "2024-08-01",
          "2024-08-02",
          "2024-08-03",
          "2024-08-04",
          "2024-08-05"
         ],
         "xaxis": "x2",
         "y": {
          "bdata": "FAHbCMQSBwZKAOABCgJjAU4FdgA3AGYDDgI5AtsDoQlSCg==",
          "dtype": "i2"
         },
         "yaxis": "y2"
        },
        {
         "hovertemplate": "emoji=🤬<br>dataset=pusab<br>date=%{x}<br>count=%{y}<extra></extra>",
         "legendgroup": "🤬",
         "line": {
          "color": "#FF97FF",
          "dash": "solid"
         },
         "marker": {
          "symbol": "circle"
         },
         "mode": "lines",
         "name": "🤬",
         "orientation": "v",
         "showlegend": false,
         "type": "scatter",
         "x": [
          "2024-07-23",
          "2024-07-24",
          "2024-07-25",
          "2024-07-26",
          "2024-07-27",
          "2024-07-29",
          "2024-07-30",
          "2024-07-31",
          "2024-08-02",
          "2024-08-03",
          "2024-08-04",
          "2024-08-05"
         ],
         "xaxis": "x",
         "y": {
          "bdata": "AAAAAGYAewApAFoAAwBIABMFsw8qEcQM",
          "dtype": "i2"
         },
         "yaxis": "y"
        },
        {
         "hovertemplate": "emoji=👏<br>dataset=Combined<br>date=%{x}<br>count=%{y}<extra></extra>",
         "legendgroup": "👏",
         "line": {
          "color": "#FECB52",
          "dash": "solid"
         },
         "marker": {
          "symbol": "circle"
         },
         "mode": "lines",
         "name": "👏",
         "orientation": "v",
         "showlegend": true,
         "type": "scatter",
         "x": [
          "2024-07-15",
          "2024-07-16",
          "2024-07-17",
          "2024-07-18",
          "2024-07-23",
          "2024-07-24",
          "2024-07-25",
          "2024-07-26",
          "2024-07-27",
          "2024-07-28",
          "2024-07-29",
          "2024-07-30",
          "2024-07-31",
          "2024-08-01",
          "2024-08-02",
          "2024-08-03",
          "2024-08-04",
          "2024-08-05"
         ],
         "xaxis": "x4",
         "y": {
          "bdata": "CgAAAJoC4gEBAI4AJgB/AB0AJAB5AB8AQgBAAFUBZwXbAkIB",
          "dtype": "i2"
         },
         "yaxis": "y4"
        },
        {
         "hovertemplate": "emoji=👏<br>dataset=StudentsAgainstDiscrimination<br>date=%{x}<br>count=%{y}<extra></extra>",
         "legendgroup": "👏",
         "line": {
          "color": "#FECB52",
          "dash": "solid"
         },
         "marker": {
          "symbol": "circle"
         },
         "mode": "lines",
         "name": "👏",
         "orientation": "v",
         "showlegend": false,
         "type": "scatter",
         "x": [
          "2024-07-16",
          "2024-07-17",
          "2024-07-18",
          "2024-07-23",
          "2024-07-24",
          "2024-07-25",
          "2024-07-26",
          "2024-07-27",
          "2024-07-28",
          "2024-07-29",
          "2024-07-30",
          "2024-07-31",
          "2024-08-01",
          "2024-08-02",
          "2024-08-03",
          "2024-08-04",
          "2024-08-05"
         ],
         "xaxis": "x3",
         "y": {
          "bdata": "AACaAuIBAQB4ABUAfQAdACQARgAfAEIAQAAxAQcFUwKHAA==",
          "dtype": "i2"
         },
         "yaxis": "y3"
        },
        {
         "hovertemplate": "emoji=👏<br>dataset=antiquotadu<br>date=%{x}<br>count=%{y}<extra></extra>",
         "legendgroup": "👏",
         "line": {
          "color": "#FECB52",
          "dash": "solid"
         },
         "marker": {
          "symbol": "circle"
         },
         "mode": "lines",
         "name": "👏",
         "orientation": "v",
         "showlegend": false,
         "type": "scatter",
         "x": [
          "2024-07-15",
          "2024-07-16",
          "2024-07-17",
          "2024-07-18",
          "2024-07-24",
          "2024-07-25",
          "2024-07-26",
          "2024-07-27",
          "2024-07-28",
          "2024-07-29",
          "2024-07-30",
          "2024-07-31",
          "2024-08-01",
          "2024-08-02",
          "2024-08-03",
          "2024-08-04",
          "2024-08-05"
         ],
         "xaxis": "x2",
         "y": {
          "bdata": "CgAAAAAAAAAAAAAAAAAAAAA=",
          "dtype": "i1"
         },
         "yaxis": "y2"
        },
        {
         "hovertemplate": "emoji=👏<br>dataset=pusab<br>date=%{x}<br>count=%{y}<extra></extra>",
         "legendgroup": "👏",
         "line": {
          "color": "#FECB52",
          "dash": "solid"
         },
         "marker": {
          "symbol": "circle"
         },
         "mode": "lines",
         "name": "👏",
         "orientation": "v",
         "showlegend": false,
         "type": "scatter",
         "x": [
          "2024-07-23",
          "2024-07-24",
          "2024-07-25",
          "2024-07-26",
          "2024-07-27",
          "2024-07-29",
          "2024-07-30",
          "2024-07-31",
          "2024-08-02",
          "2024-08-03",
          "2024-08-04",
          "2024-08-05"
         ],
         "xaxis": "x",
         "y": {
          "bdata": "AAAWABEAAgAAADMAAAAAACQAYACIALsA",
          "dtype": "i2"
         },
         "yaxis": "y"
        },
        {
         "hovertemplate": "emoji=😢<br>dataset=Combined<br>date=%{x}<br>count=%{y}<extra></extra>",
         "legendgroup": "😢",
         "line": {
          "color": "#636efa",
          "dash": "solid"
         },
         "marker": {
          "symbol": "circle"
         },
         "mode": "lines",
         "name": "😢",
         "orientation": "v",
         "showlegend": true,
         "type": "scatter",
         "x": [
          "2024-07-15",
          "2024-07-16",
          "2024-07-17",
          "2024-07-18",
          "2024-07-23",
          "2024-07-24",
          "2024-07-25",
          "2024-07-26",
          "2024-07-27",
          "2024-07-28",
          "2024-07-29",
          "2024-07-30",
          "2024-07-31",
          "2024-08-01",
          "2024-08-02",
          "2024-08-03",
          "2024-08-04",
          "2024-08-05"
         ],
         "xaxis": "x4",
         "y": {
          "bdata": "KAG5FDtTPzw9AGIVUxlZHdcRLxLHEMMO4BXzGf9F0DHrKm4g",
          "dtype": "i2"
         },
         "yaxis": "y4"
        },
        {
         "hovertemplate": "emoji=😢<br>dataset=StudentsAgainstDiscrimination<br>date=%{x}<br>count=%{y}<extra></extra>",
         "legendgroup": "😢",
         "line": {
          "color": "#636efa",
          "dash": "solid"
         },
         "marker": {
          "symbol": "circle"
         },
         "mode": "lines",
         "name": "😢",
         "orientation": "v",
         "showlegend": false,
         "type": "scatter",
         "x": [
          "2024-07-16",
          "2024-07-17",
          "2024-07-18",
          "2024-07-23",
          "2024-07-24",
          "2024-07-25",
          "2024-07-26",
          "2024-07-27",
          "2024-07-28",
          "2024-07-29",
          "2024-07-30",
          "2024-07-31",
          "2024-08-01",
          "2024-08-02",
          "2024-08-03",
          "2024-08-04",
          "2024-08-05"
         ],
         "xaxis": "x3",
         "y": {
          "bdata": "AADdOGEnPQDnEhYRwBMTDJ0OUw0hDUoTMBeqNlofRBQzBw==",
          "dtype": "i2"
         },
         "yaxis": "y3"
        },
        {
         "hovertemplate": "emoji=😢<br>dataset=antiquotadu<br>date=%{x}<br>count=%{y}<extra></extra>",
         "legendgroup": "😢",
         "line": {
          "color": "#636efa",
          "dash": "solid"
         },
         "marker": {
          "symbol": "circle"
         },
         "mode": "lines",
         "name": "😢",
         "orientation": "v",
         "showlegend": false,
         "type": "scatter",
         "x": [
          "2024-07-15",
          "2024-07-16",
          "2024-07-17",
          "2024-07-18",
          "2024-07-24",
          "2024-07-25",
          "2024-07-26",
          "2024-07-27",
          "2024-07-28",
          "2024-07-29",
          "2024-07-30",
          "2024-07-31",
          "2024-08-01",
          "2024-08-02",
          "2024-08-03",
          "2024-08-04",
          "2024-08-05"
         ],
         "xaxis": "x2",
         "y": {
          "bdata": "KAG5FF4a3hTFASkGcAQPA5IDFQCiAVkAwwKOCXsEPAnIAw==",
          "dtype": "i2"
         },
         "yaxis": "y2"
        },
        {
         "hovertemplate": "emoji=😢<br>dataset=pusab<br>date=%{x}<br>count=%{y}<extra></extra>",
         "legendgroup": "😢",
         "line": {
          "color": "#636efa",
          "dash": "solid"
         },
         "marker": {
          "symbol": "circle"
         },
         "mode": "lines",
         "name": "😢",
         "orientation": "v",
         "showlegend": false,
         "type": "scatter",
         "x": [
          "2024-07-23",
          "2024-07-24",
          "2024-07-25",
          "2024-07-26",
          "2024-07-27",
          "2024-07-29",
          "2024-07-30",
          "2024-07-31",
          "2024-08-02",
          "2024-08-03",
          "2024-08-04",
          "2024-08-05"
         ],
         "xaxis": "x",
         "y": {
          "bdata": "AAC2ABQCKQW1Al8DAAA9AscF+w1rDXMV",
          "dtype": "i2"
         },
         "yaxis": "y"
        },
        {
         "hovertemplate": "emoji=😁<br>dataset=Combined<br>date=%{x}<br>count=%{y}<extra></extra>",
         "legendgroup": "😁",
         "line": {
          "color": "#EF553B",
          "dash": "solid"
         },
         "marker": {
          "symbol": "circle"
         },
         "mode": "lines",
         "name": "😁",
         "orientation": "v",
         "showlegend": true,
         "type": "scatter",
         "x": [
          "2024-07-15",
          "2024-07-16",
          "2024-07-17",
          "2024-07-18",
          "2024-07-23",
          "2024-07-24",
          "2024-07-25",
          "2024-07-26",
          "2024-07-27",
          "2024-07-28",
          "2024-07-29",
          "2024-07-30",
          "2024-07-31",
          "2024-08-01",
          "2024-08-02",
          "2024-08-03",
          "2024-08-04",
          "2024-08-05"
         ],
         "xaxis": "x4",
         "y": {
          "bdata": "AAAAAMwWyhUAAGoBPgIRA9kDSAqnCRAAuge1Bt8RgyiqTKAs",
          "dtype": "i2"
         },
         "yaxis": "y4"
        },
        {
         "hovertemplate": "emoji=😁<br>dataset=StudentsAgainstDiscrimination<br>date=%{x}<br>count=%{y}<extra></extra>",
         "legendgroup": "😁",
         "line": {
          "color": "#EF553B",
          "dash": "solid"
         },
         "marker": {
          "symbol": "circle"
         },
         "mode": "lines",
         "name": "😁",
         "orientation": "v",
         "showlegend": false,
         "type": "scatter",
         "x": [
          "2024-07-16",
          "2024-07-17",
          "2024-07-18",
          "2024-07-23",
          "2024-07-24",
          "2024-07-25",
          "2024-07-26",
          "2024-07-27",
          "2024-07-28",
          "2024-07-29",
          "2024-07-30",
          "2024-07-31",
          "2024-08-01",
          "2024-08-02",
          "2024-08-03",
          "2024-08-04",
          "2024-08-05"
         ],
         "xaxis": "x3",
         "y": {
          "bdata": "AADMFsoVAABXASQCDgPPA0gKkQkQALoHtQbWEc4nSUsoHQ==",
          "dtype": "i2"
         },
         "yaxis": "y3"
        },
        {
         "hovertemplate": "emoji=😁<br>dataset=antiquotadu<br>date=%{x}<br>count=%{y}<extra></extra>",
         "legendgroup": "😁",
         "line": {
          "color": "#EF553B",
          "dash": "solid"
         },
         "marker": {
          "symbol": "circle"
         },
         "mode": "lines",
         "name": "😁",
         "orientation": "v",
         "showlegend": false,
         "type": "scatter",
         "x": [
          "2024-07-15",
          "2024-07-16",
          "2024-07-17",
          "2024-07-18",
          "2024-07-24",
          "2024-07-25",
          "2024-07-26",
          "2024-07-27",
          "2024-07-28",
          "2024-07-29",
          "2024-07-30",
          "2024-07-31",
          "2024-08-01",
          "2024-08-02",
          "2024-08-03",
          "2024-08-04",
          "2024-08-05"
         ],
         "xaxis": "x2",
         "y": {
          "bdata": "AAAAAAAAAAAAAAAAAAAAAAI=",
          "dtype": "i1"
         },
         "yaxis": "y2"
        },
        {
         "hovertemplate": "emoji=😁<br>dataset=pusab<br>date=%{x}<br>count=%{y}<extra></extra>",
         "legendgroup": "😁",
         "line": {
          "color": "#EF553B",
          "dash": "solid"
         },
         "marker": {
          "symbol": "circle"
         },
         "mode": "lines",
         "name": "😁",
         "orientation": "v",
         "showlegend": false,
         "type": "scatter",
         "x": [
          "2024-07-23",
          "2024-07-24",
          "2024-07-25",
          "2024-07-26",
          "2024-07-27",
          "2024-07-29",
          "2024-07-30",
          "2024-07-31",
          "2024-08-02",
          "2024-08-03",
          "2024-08-04",
          "2024-08-05"
         ],
         "xaxis": "x",
         "y": {
          "bdata": "AAATABoAAwAKABYAAAAAAAkAtQBhAXYP",
          "dtype": "i2"
         },
         "yaxis": "y"
        },
        {
         "hovertemplate": "emoji=👍<br>dataset=Combined<br>date=%{x}<br>count=%{y}<extra></extra>",
         "legendgroup": "👍",
         "line": {
          "color": "#00cc96",
          "dash": "solid"
         },
         "marker": {
          "symbol": "circle"
         },
         "mode": "lines",
         "name": "👍",
         "orientation": "v",
         "showlegend": true,
         "type": "scatter",
         "x": [
          "2024-07-15",
          "2024-07-16",
          "2024-07-17",
          "2024-07-18",
          "2024-07-23",
          "2024-07-24",
          "2024-07-25",
          "2024-07-26",
          "2024-07-27",
          "2024-07-28",
          "2024-07-29",
          "2024-07-30",
          "2024-07-31",
          "2024-08-01",
          "2024-08-02",
          "2024-08-03",
          "2024-08-04",
          "2024-08-05"
         ],
         "xaxis": "x4",
         "y": {
          "bdata": "bgC5AjUnGiG/ALQLmRYTEPwIMxMmKkYRER7mGDwrl1SAdT9f",
          "dtype": "i2"
         },
         "yaxis": "y4"
        },
        {
         "hovertemplate": "emoji=👍<br>dataset=StudentsAgainstDiscrimination<br>date=%{x}<br>count=%{y}<extra></extra>",
         "legendgroup": "👍",
         "line": {
          "color": "#00cc96",
          "dash": "solid"
         },
         "marker": {
          "symbol": "circle"
         },
         "mode": "lines",
         "name": "👍",
         "orientation": "v",
         "showlegend": false,
         "type": "scatter",
         "x": [
          "2024-07-16",
          "2024-07-17",
          "2024-07-18",
          "2024-07-23",
          "2024-07-24",
          "2024-07-25",
          "2024-07-26",
          "2024-07-27",
          "2024-07-28",
          "2024-07-29",
          "2024-07-30",
          "2024-07-31",
          "2024-08-01",
          "2024-08-02",
          "2024-08-03",
          "2024-08-04",
          "2024-08-05"
         ],
         "xaxis": "x3",
         "y": {
          "bdata": "BAAWI2QcMAB1BqwOuwpfBvIPgiAwDloZnBaUJIk6Ok0tOg==",
          "dtype": "i2"
         },
         "yaxis": "y3"
        },
        {
         "hovertemplate": "emoji=👍<br>dataset=antiquotadu<br>date=%{x}<br>count=%{y}<extra></extra>",
         "legendgroup": "👍",
         "line": {
          "color": "#00cc96",
          "dash": "solid"
         },
         "marker": {
          "symbol": "circle"
         },
         "mode": "lines",
         "name": "👍",
         "orientation": "v",
         "showlegend": false,
         "type": "scatter",
         "x": [
          "2024-07-15",
          "2024-07-16",
          "2024-07-17",
          "2024-07-18",
          "2024-07-24",
          "2024-07-25",
          "2024-07-26",
          "2024-07-27",
          "2024-07-28",
          "2024-07-29",
          "2024-07-30",
          "2024-07-31",
          "2024-08-01",
          "2024-08-02",
          "2024-08-03",
          "2024-08-04",
          "2024-08-05"
         ],
         "xaxis": "x2",
         "y": {
          "bdata": "bgC1Ah8EtgSnAGkD/gC8AUEDiALTATMDSgI3AwEFLA2xEA==",
          "dtype": "i2"
         },
         "yaxis": "y2"
        },
        {
         "hovertemplate": "emoji=👍<br>dataset=pusab<br>date=%{x}<br>count=%{y}<extra></extra>",
         "legendgroup": "👍",
         "line": {
          "color": "#00cc96",
          "dash": "solid"
         },
         "marker": {
          "symbol": "circle"
         },
         "mode": "lines",
         "name": "👍",
         "orientation": "v",
         "showlegend": false,
         "type": "scatter",
         "x": [
          "2024-07-23",
          "2024-07-24",
          "2024-07-25",
          "2024-07-26",
          "2024-07-27",
          "2024-07-29",
          "2024-07-30",
          "2024-07-31",
          "2024-08-02",
          "2024-08-03",
          "2024-08-04",
          "2024-08-05"
         ],
         "xaxis": "x",
         "y": {
          "bdata": "jwCYBIQEWgThABwHQwGEAXEDDRUaG2EU",
          "dtype": "i2"
         },
         "yaxis": "y"
        },
        {
         "hovertemplate": "emoji=💯<br>dataset=Combined<br>date=%{x}<br>count=%{y}<extra></extra>",
         "legendgroup": "💯",
         "line": {
          "color": "#ab63fa",
          "dash": "solid"
         },
         "marker": {
          "symbol": "circle"
         },
         "mode": "lines",
         "name": "💯",
         "orientation": "v",
         "showlegend": true,
         "type": "scatter",
         "x": [
          "2024-07-15",
          "2024-07-16",
          "2024-07-17",
          "2024-07-18",
          "2024-07-23",
          "2024-07-24",
          "2024-07-25",
          "2024-07-26",
          "2024-07-27",
          "2024-07-28",
          "2024-07-29",
          "2024-07-30",
          "2024-07-31",
          "2024-08-01",
          "2024-08-02",
          "2024-08-03",
          "2024-08-04",
          "2024-08-05"
         ],
         "xaxis": "x4",
         "y": {
          "bdata": "AAAWADQAJQAAACIAEwAQACIAZgDHACMAGwBBACYBQQAdAXQC",
          "dtype": "i2"
         },
         "yaxis": "y4"
        },
        {
         "hovertemplate": "emoji=💯<br>dataset=StudentsAgainstDiscrimination<br>date=%{x}<br>count=%{y}<extra></extra>",
         "legendgroup": "💯",
         "line": {
          "color": "#ab63fa",
          "dash": "solid"
         },
         "marker": {
          "symbol": "circle"
         },
         "mode": "lines",
         "name": "💯",
         "orientation": "v",
         "showlegend": false,
         "type": "scatter",
         "x": [
          "2024-07-16",
          "2024-07-17",
          "2024-07-18",
          "2024-07-23",
          "2024-07-24",
          "2024-07-25",
          "2024-07-26",
          "2024-07-27",
          "2024-07-28",
          "2024-07-29",
          "2024-07-30",
          "2024-07-31",
          "2024-08-01",
          "2024-08-02",
          "2024-08-03",
          "2024-08-04",
          "2024-08-05"
         ],
         "xaxis": "x3",
         "y": {
          "bdata": "AAAIAA4AAAAdAAAAAAAQAAQAigAFAAUALgAgACMAgQAiAg==",
          "dtype": "i2"
         },
         "yaxis": "y3"
        },
        {
         "hovertemplate": "emoji=💯<br>dataset=antiquotadu<br>date=%{x}<br>count=%{y}<extra></extra>",
         "legendgroup": "💯",
         "line": {
          "color": "#ab63fa",
          "dash": "solid"
         },
         "marker": {
          "symbol": "circle"
         },
         "mode": "lines",
         "name": "💯",
         "orientation": "v",
         "showlegend": false,
         "type": "scatter",
         "x": [
          "2024-07-15",
          "2024-07-16",
          "2024-07-17",
          "2024-07-18",
          "2024-07-24",
          "2024-07-25",
          "2024-07-26",
          "2024-07-27",
          "2024-07-28",
          "2024-07-29",
          "2024-07-30",
          "2024-07-31",
          "2024-08-01",
          "2024-08-02",
          "2024-08-03",
          "2024-08-04",
          "2024-08-05"
         ],
         "xaxis": "x2",
         "y": {
          "bdata": "AAAWACwAFwAFABMAEAADAGIANAARABYAEwAGAR4AjgA6AA==",
          "dtype": "i2"
         },
         "yaxis": "y2"
        },
        {
         "hovertemplate": "emoji=💯<br>dataset=pusab<br>date=%{x}<br>count=%{y}<extra></extra>",
         "legendgroup": "💯",
         "line": {
          "color": "#ab63fa",
          "dash": "solid"
         },
         "marker": {
          "symbol": "circle"
         },
         "mode": "lines",
         "name": "💯",
         "orientation": "v",
         "showlegend": false,
         "type": "scatter",
         "x": [
          "2024-07-23",
          "2024-07-24",
          "2024-07-25",
          "2024-07-26",
          "2024-07-27",
          "2024-07-29",
          "2024-07-30",
          "2024-07-31",
          "2024-08-02",
          "2024-08-03",
          "2024-08-04",
          "2024-08-05"
         ],
         "xaxis": "x",
         "y": {
          "bdata": "AAAAAA8JDQAAAA4Y",
          "dtype": "i1"
         },
         "yaxis": "y"
        },
        {
         "hovertemplate": "emoji=😭<br>dataset=Combined<br>date=%{x}<br>count=%{y}<extra></extra>",
         "legendgroup": "😭",
         "line": {
          "color": "#FFA15A",
          "dash": "solid"
         },
         "marker": {
          "symbol": "circle"
         },
         "mode": "lines",
         "name": "😭",
         "orientation": "v",
         "showlegend": true,
         "type": "scatter",
         "x": [
          "2024-07-15",
          "2024-07-16",
          "2024-07-17",
          "2024-07-18",
          "2024-07-23",
          "2024-07-24",
          "2024-07-25",
          "2024-07-26",
          "2024-07-27",
          "2024-07-28",
          "2024-07-29",
          "2024-07-30",
          "2024-07-31",
          "2024-08-01",
          "2024-08-02",
          "2024-08-03",
          "2024-08-04",
          "2024-08-05"
         ],
         "xaxis": "x4",
         "y": {
          "bdata": "MgAAAIYRNhMAAK8D0gSeBp4ESAJzAfMC7QILBHUORRDcCukI",
          "dtype": "i2"
         },
         "yaxis": "y4"
        },
        {
         "hovertemplate": "emoji=😭<br>dataset=StudentsAgainstDiscrimination<br>date=%{x}<br>count=%{y}<extra></extra>",
         "legendgroup": "😭",
         "line": {
          "color": "#FFA15A",
          "dash": "solid"
         },
         "marker": {
          "symbol": "circle"
         },
         "mode": "lines",
         "name": "😭",
         "orientation": "v",
         "showlegend": false,
         "type": "scatter",
         "x": [
          "2024-07-16",
          "2024-07-17",
          "2024-07-18",
          "2024-07-23",
          "2024-07-24",
          "2024-07-25",
          "2024-07-26",
          "2024-07-27",
          "2024-07-28",
          "2024-07-29",
          "2024-07-30",
          "2024-07-31",
          "2024-08-01",
          "2024-08-02",
          "2024-08-03",
          "2024-08-04",
          "2024-08-05"
         ],
         "xaxis": "x3",
         "y": {
          "bdata": "AACGETYTAAATA4MDsATwA0gCLAHzApACCwR6DDEM6gGMAQ==",
          "dtype": "i2"
         },
         "yaxis": "y3"
        },
        {
         "hovertemplate": "emoji=😭<br>dataset=antiquotadu<br>date=%{x}<br>count=%{y}<extra></extra>",
         "legendgroup": "😭",
         "line": {
          "color": "#FFA15A",
          "dash": "solid"
         },
         "marker": {
          "symbol": "circle"
         },
         "mode": "lines",
         "name": "😭",
         "orientation": "v",
         "showlegend": false,
         "type": "scatter",
         "x": [
          "2024-07-15",
          "2024-07-16",
          "2024-07-17",
          "2024-07-18",
          "2024-07-24",
          "2024-07-25",
          "2024-07-26",
          "2024-07-27",
          "2024-07-28",
          "2024-07-29",
          "2024-07-30",
          "2024-07-31",
          "2024-08-01",
          "2024-08-02",
          "2024-08-03",
          "2024-08-04",
          "2024-08-05"
         ],
         "xaxis": "x2",
         "y": {
          "bdata": "MgAAAAAAAAAAAAAAAAAAAAAAAAAAAAAAAAAUAA8AswFAAQ==",
          "dtype": "i2"
         },
         "yaxis": "y2"
        },
        {
         "hovertemplate": "emoji=😭<br>dataset=pusab<br>date=%{x}<br>count=%{y}<extra></extra>",
         "legendgroup": "😭",
         "line": {
          "color": "#FFA15A",
          "dash": "solid"
         },
         "marker": {
          "symbol": "circle"
         },
         "mode": "lines",
         "name": "😭",
         "orientation": "v",
         "showlegend": false,
         "type": "scatter",
         "x": [
          "2024-07-23",
          "2024-07-24",
          "2024-07-25",
          "2024-07-26",
          "2024-07-27",
          "2024-07-29",
          "2024-07-30",
          "2024-07-31",
          "2024-08-02",
          "2024-08-03",
          "2024-08-04",
          "2024-08-05"
         ],
         "xaxis": "x",
         "y": {
          "bdata": "AACcAE8B7gGuAEcAAABdAOcBBQQ/Bx0G",
          "dtype": "i2"
         },
         "yaxis": "y"
        }
       ],
       "layout": {
        "annotations": [
         {
          "font": {},
          "showarrow": false,
          "text": "dataset=pusab",
          "textangle": 90,
          "x": 0.98,
          "xanchor": "left",
          "xref": "paper",
          "y": 0.11375,
          "yanchor": "middle",
          "yref": "paper"
         },
         {
          "font": {},
          "showarrow": false,
          "text": "dataset=antiquotadu",
          "textangle": 90,
          "x": 0.98,
          "xanchor": "left",
          "xref": "paper",
          "y": 0.37124999999999997,
          "yanchor": "middle",
          "yref": "paper"
         },
         {
          "font": {},
          "showarrow": false,
          "text": "dataset=StudentsAgainstDiscrimination",
          "textangle": 90,
          "x": 0.98,
          "xanchor": "left",
          "xref": "paper",
          "y": 0.62875,
          "yanchor": "middle",
          "yref": "paper"
         },
         {
          "font": {},
          "showarrow": false,
          "text": "dataset=Combined",
          "textangle": 90,
          "x": 0.98,
          "xanchor": "left",
          "xref": "paper",
          "y": 0.88625,
          "yanchor": "middle",
          "yref": "paper"
         }
        ],
        "height": 1200,
        "legend": {
         "title": {
          "text": "emoji"
         },
         "tracegroupgap": 0
        },
        "template": {
         "data": {
          "bar": [
           {
            "error_x": {
             "color": "#2a3f5f"
            },
            "error_y": {
             "color": "#2a3f5f"
            },
            "marker": {
             "line": {
              "color": "#E5ECF6",
              "width": 0.5
             },
             "pattern": {
              "fillmode": "overlay",
              "size": 10,
              "solidity": 0.2
             }
            },
            "type": "bar"
           }
          ],
          "barpolar": [
           {
            "marker": {
             "line": {
              "color": "#E5ECF6",
              "width": 0.5
             },
             "pattern": {
              "fillmode": "overlay",
              "size": 10,
              "solidity": 0.2
             }
            },
            "type": "barpolar"
           }
          ],
          "carpet": [
           {
            "aaxis": {
             "endlinecolor": "#2a3f5f",
             "gridcolor": "white",
             "linecolor": "white",
             "minorgridcolor": "white",
             "startlinecolor": "#2a3f5f"
            },
            "baxis": {
             "endlinecolor": "#2a3f5f",
             "gridcolor": "white",
             "linecolor": "white",
             "minorgridcolor": "white",
             "startlinecolor": "#2a3f5f"
            },
            "type": "carpet"
           }
          ],
          "choropleth": [
           {
            "colorbar": {
             "outlinewidth": 0,
             "ticks": ""
            },
            "type": "choropleth"
           }
          ],
          "contour": [
           {
            "colorbar": {
             "outlinewidth": 0,
             "ticks": ""
            },
            "colorscale": [
             [
              0,
              "#0d0887"
             ],
             [
              0.1111111111111111,
              "#46039f"
             ],
             [
              0.2222222222222222,
              "#7201a8"
             ],
             [
              0.3333333333333333,
              "#9c179e"
             ],
             [
              0.4444444444444444,
              "#bd3786"
             ],
             [
              0.5555555555555556,
              "#d8576b"
             ],
             [
              0.6666666666666666,
              "#ed7953"
             ],
             [
              0.7777777777777778,
              "#fb9f3a"
             ],
             [
              0.8888888888888888,
              "#fdca26"
             ],
             [
              1,
              "#f0f921"
             ]
            ],
            "type": "contour"
           }
          ],
          "contourcarpet": [
           {
            "colorbar": {
             "outlinewidth": 0,
             "ticks": ""
            },
            "type": "contourcarpet"
           }
          ],
          "heatmap": [
           {
            "colorbar": {
             "outlinewidth": 0,
             "ticks": ""
            },
            "colorscale": [
             [
              0,
              "#0d0887"
             ],
             [
              0.1111111111111111,
              "#46039f"
             ],
             [
              0.2222222222222222,
              "#7201a8"
             ],
             [
              0.3333333333333333,
              "#9c179e"
             ],
             [
              0.4444444444444444,
              "#bd3786"
             ],
             [
              0.5555555555555556,
              "#d8576b"
             ],
             [
              0.6666666666666666,
              "#ed7953"
             ],
             [
              0.7777777777777778,
              "#fb9f3a"
             ],
             [
              0.8888888888888888,
              "#fdca26"
             ],
             [
              1,
              "#f0f921"
             ]
            ],
            "type": "heatmap"
           }
          ],
          "histogram": [
           {
            "marker": {
             "pattern": {
              "fillmode": "overlay",
              "size": 10,
              "solidity": 0.2
             }
            },
            "type": "histogram"
           }
          ],
          "histogram2d": [
           {
            "colorbar": {
             "outlinewidth": 0,
             "ticks": ""
            },
            "colorscale": [
             [
              0,
              "#0d0887"
             ],
             [
              0.1111111111111111,
              "#46039f"
             ],
             [
              0.2222222222222222,
              "#7201a8"
             ],
             [
              0.3333333333333333,
              "#9c179e"
             ],
             [
              0.4444444444444444,
              "#bd3786"
             ],
             [
              0.5555555555555556,
              "#d8576b"
             ],
             [
              0.6666666666666666,
              "#ed7953"
             ],
             [
              0.7777777777777778,
              "#fb9f3a"
             ],
             [
              0.8888888888888888,
              "#fdca26"
             ],
             [
              1,
              "#f0f921"
             ]
            ],
            "type": "histogram2d"
           }
          ],
          "histogram2dcontour": [
           {
            "colorbar": {
             "outlinewidth": 0,
             "ticks": ""
            },
            "colorscale": [
             [
              0,
              "#0d0887"
             ],
             [
              0.1111111111111111,
              "#46039f"
             ],
             [
              0.2222222222222222,
              "#7201a8"
             ],
             [
              0.3333333333333333,
              "#9c179e"
             ],
             [
              0.4444444444444444,
              "#bd3786"
             ],
             [
              0.5555555555555556,
              "#d8576b"
             ],
             [
              0.6666666666666666,
              "#ed7953"
             ],
             [
              0.7777777777777778,
              "#fb9f3a"
             ],
             [
              0.8888888888888888,
              "#fdca26"
             ],
             [
              1,
              "#f0f921"
             ]
            ],
            "type": "histogram2dcontour"
           }
          ],
          "mesh3d": [
           {
            "colorbar": {
             "outlinewidth": 0,
             "ticks": ""
            },
            "type": "mesh3d"
           }
          ],
          "parcoords": [
           {
            "line": {
             "colorbar": {
              "outlinewidth": 0,
              "ticks": ""
             }
            },
            "type": "parcoords"
           }
          ],
          "pie": [
           {
            "automargin": true,
            "type": "pie"
           }
          ],
          "scatter": [
           {
            "fillpattern": {
             "fillmode": "overlay",
             "size": 10,
             "solidity": 0.2
            },
            "type": "scatter"
           }
          ],
          "scatter3d": [
           {
            "line": {
             "colorbar": {
              "outlinewidth": 0,
              "ticks": ""
             }
            },
            "marker": {
             "colorbar": {
              "outlinewidth": 0,
              "ticks": ""
             }
            },
            "type": "scatter3d"
           }
          ],
          "scattercarpet": [
           {
            "marker": {
             "colorbar": {
              "outlinewidth": 0,
              "ticks": ""
             }
            },
            "type": "scattercarpet"
           }
          ],
          "scattergeo": [
           {
            "marker": {
             "colorbar": {
              "outlinewidth": 0,
              "ticks": ""
             }
            },
            "type": "scattergeo"
           }
          ],
          "scattergl": [
           {
            "marker": {
             "colorbar": {
              "outlinewidth": 0,
              "ticks": ""
             }
            },
            "type": "scattergl"
           }
          ],
          "scattermap": [
           {
            "marker": {
             "colorbar": {
              "outlinewidth": 0,
              "ticks": ""
             }
            },
            "type": "scattermap"
           }
          ],
          "scattermapbox": [
           {
            "marker": {
             "colorbar": {
              "outlinewidth": 0,
              "ticks": ""
             }
            },
            "type": "scattermapbox"
           }
          ],
          "scatterpolar": [
           {
            "marker": {
             "colorbar": {
              "outlinewidth": 0,
              "ticks": ""
             }
            },
            "type": "scatterpolar"
           }
          ],
          "scatterpolargl": [
           {
            "marker": {
             "colorbar": {
              "outlinewidth": 0,
              "ticks": ""
             }
            },
            "type": "scatterpolargl"
           }
          ],
          "scatterternary": [
           {
            "marker": {
             "colorbar": {
              "outlinewidth": 0,
              "ticks": ""
             }
            },
            "type": "scatterternary"
           }
          ],
          "surface": [
           {
            "colorbar": {
             "outlinewidth": 0,
             "ticks": ""
            },
            "colorscale": [
             [
              0,
              "#0d0887"
             ],
             [
              0.1111111111111111,
              "#46039f"
             ],
             [
              0.2222222222222222,
              "#7201a8"
             ],
             [
              0.3333333333333333,
              "#9c179e"
             ],
             [
              0.4444444444444444,
              "#bd3786"
             ],
             [
              0.5555555555555556,
              "#d8576b"
             ],
             [
              0.6666666666666666,
              "#ed7953"
             ],
             [
              0.7777777777777778,
              "#fb9f3a"
             ],
             [
              0.8888888888888888,
              "#fdca26"
             ],
             [
              1,
              "#f0f921"
             ]
            ],
            "type": "surface"
           }
          ],
          "table": [
           {
            "cells": {
             "fill": {
              "color": "#EBF0F8"
             },
             "line": {
              "color": "white"
             }
            },
            "header": {
             "fill": {
              "color": "#C8D4E3"
             },
             "line": {
              "color": "white"
             }
            },
            "type": "table"
           }
          ]
         },
         "layout": {
          "annotationdefaults": {
           "arrowcolor": "#2a3f5f",
           "arrowhead": 0,
           "arrowwidth": 1
          },
          "autotypenumbers": "strict",
          "coloraxis": {
           "colorbar": {
            "outlinewidth": 0,
            "ticks": ""
           }
          },
          "colorscale": {
           "diverging": [
            [
             0,
             "#8e0152"
            ],
            [
             0.1,
             "#c51b7d"
            ],
            [
             0.2,
             "#de77ae"
            ],
            [
             0.3,
             "#f1b6da"
            ],
            [
             0.4,
             "#fde0ef"
            ],
            [
             0.5,
             "#f7f7f7"
            ],
            [
             0.6,
             "#e6f5d0"
            ],
            [
             0.7,
             "#b8e186"
            ],
            [
             0.8,
             "#7fbc41"
            ],
            [
             0.9,
             "#4d9221"
            ],
            [
             1,
             "#276419"
            ]
           ],
           "sequential": [
            [
             0,
             "#0d0887"
            ],
            [
             0.1111111111111111,
             "#46039f"
            ],
            [
             0.2222222222222222,
             "#7201a8"
            ],
            [
             0.3333333333333333,
             "#9c179e"
            ],
            [
             0.4444444444444444,
             "#bd3786"
            ],
            [
             0.5555555555555556,
             "#d8576b"
            ],
            [
             0.6666666666666666,
             "#ed7953"
            ],
            [
             0.7777777777777778,
             "#fb9f3a"
            ],
            [
             0.8888888888888888,
             "#fdca26"
            ],
            [
             1,
             "#f0f921"
            ]
           ],
           "sequentialminus": [
            [
             0,
             "#0d0887"
            ],
            [
             0.1111111111111111,
             "#46039f"
            ],
            [
             0.2222222222222222,
             "#7201a8"
            ],
            [
             0.3333333333333333,
             "#9c179e"
            ],
            [
             0.4444444444444444,
             "#bd3786"
            ],
            [
             0.5555555555555556,
             "#d8576b"
            ],
            [
             0.6666666666666666,
             "#ed7953"
            ],
            [
             0.7777777777777778,
             "#fb9f3a"
            ],
            [
             0.8888888888888888,
             "#fdca26"
            ],
            [
             1,
             "#f0f921"
            ]
           ]
          },
          "colorway": [
           "#636efa",
           "#EF553B",
           "#00cc96",
           "#ab63fa",
           "#FFA15A",
           "#19d3f3",
           "#FF6692",
           "#B6E880",
           "#FF97FF",
           "#FECB52"
          ],
          "font": {
           "color": "#2a3f5f"
          },
          "geo": {
           "bgcolor": "white",
           "lakecolor": "white",
           "landcolor": "#E5ECF6",
           "showlakes": true,
           "showland": true,
           "subunitcolor": "white"
          },
          "hoverlabel": {
           "align": "left"
          },
          "hovermode": "closest",
          "mapbox": {
           "style": "light"
          },
          "paper_bgcolor": "white",
          "plot_bgcolor": "#E5ECF6",
          "polar": {
           "angularaxis": {
            "gridcolor": "white",
            "linecolor": "white",
            "ticks": ""
           },
           "bgcolor": "#E5ECF6",
           "radialaxis": {
            "gridcolor": "white",
            "linecolor": "white",
            "ticks": ""
           }
          },
          "scene": {
           "xaxis": {
            "backgroundcolor": "#E5ECF6",
            "gridcolor": "white",
            "gridwidth": 2,
            "linecolor": "white",
            "showbackground": true,
            "ticks": "",
            "zerolinecolor": "white"
           },
           "yaxis": {
            "backgroundcolor": "#E5ECF6",
            "gridcolor": "white",
            "gridwidth": 2,
            "linecolor": "white",
            "showbackground": true,
            "ticks": "",
            "zerolinecolor": "white"
           },
           "zaxis": {
            "backgroundcolor": "#E5ECF6",
            "gridcolor": "white",
            "gridwidth": 2,
            "linecolor": "white",
            "showbackground": true,
            "ticks": "",
            "zerolinecolor": "white"
           }
          },
          "shapedefaults": {
           "line": {
            "color": "#2a3f5f"
           }
          },
          "ternary": {
           "aaxis": {
            "gridcolor": "white",
            "linecolor": "white",
            "ticks": ""
           },
           "baxis": {
            "gridcolor": "white",
            "linecolor": "white",
            "ticks": ""
           },
           "bgcolor": "#E5ECF6",
           "caxis": {
            "gridcolor": "white",
            "linecolor": "white",
            "ticks": ""
           }
          },
          "title": {
           "x": 0.05
          },
          "xaxis": {
           "automargin": true,
           "gridcolor": "white",
           "linecolor": "white",
           "ticks": "",
           "title": {
            "standoff": 15
           },
           "zerolinecolor": "white",
           "zerolinewidth": 2
          },
          "yaxis": {
           "automargin": true,
           "gridcolor": "white",
           "linecolor": "white",
           "ticks": "",
           "title": {
            "standoff": 15
           },
           "zerolinecolor": "white",
           "zerolinewidth": 2
          }
         }
        },
        "title": {
         "text": "Count of Emoji for each day in channels"
        },
        "xaxis": {
         "anchor": "y",
         "domain": [
          0,
          0.98
         ],
         "title": {
          "text": "date"
         }
        },
        "xaxis2": {
         "anchor": "y2",
         "domain": [
          0,
          0.98
         ],
         "matches": "x",
         "showticklabels": false
        },
        "xaxis3": {
         "anchor": "y3",
         "domain": [
          0,
          0.98
         ],
         "matches": "x",
         "showticklabels": false
        },
        "xaxis4": {
         "anchor": "y4",
         "domain": [
          0,
          0.98
         ],
         "matches": "x",
         "showticklabels": false
        },
        "yaxis": {
         "anchor": "x",
         "domain": [
          0,
          0.2275
         ],
         "title": {
          "text": "count"
         }
        },
        "yaxis2": {
         "anchor": "x2",
         "domain": [
          0.2575,
          0.485
         ],
         "title": {
          "text": "count"
         }
        },
        "yaxis3": {
         "anchor": "x3",
         "domain": [
          0.515,
          0.7425
         ],
         "title": {
          "text": "count"
         }
        },
        "yaxis4": {
         "anchor": "x4",
         "domain": [
          0.7725,
          1
         ],
         "title": {
          "text": "count"
         }
        }
       }
      }
     },
     "metadata": {},
     "output_type": "display_data"
    }
   ],
   "source": [
    "import plotly.express as px\n",
    "\n",
    "fig = px.line(emoji_show_df, x='date', y='count', color='emoji', facet_row='dataset', height=1200, title=\"Count of Emoji for each day in channels\")\n",
    "\n",
    "fig.update_yaxes(matches=None)\n",
    "fig.show()\n",
    "# sns.relplot(data=emoji_show_df, x='date', y='count', hue='emoji', row='dataset')"
   ]
  },
  {
   "cell_type": "code",
   "execution_count": 26,
   "metadata": {},
   "outputs": [
    {
     "data": {
      "application/vnd.plotly.v1+json": {
       "config": {
        "plotlyServerURL": "https://plot.ly"
       },
       "data": [
        {
         "hovertemplate": "emoji=🔥<br>dataset=Combined<br>date=%{x}<br>Percentage=%{y}<extra></extra>",
         "legendgroup": "🔥",
         "line": {
          "color": "#636efa",
          "dash": "solid"
         },
         "marker": {
          "symbol": "circle"
         },
         "mode": "lines",
         "name": "🔥",
         "orientation": "v",
         "showlegend": true,
         "type": "scatter",
         "x": [
          "2024-07-15",
          "2024-07-16",
          "2024-07-17",
          "2024-07-18",
          "2024-07-23",
          "2024-07-24",
          "2024-07-25",
          "2024-07-26",
          "2024-07-27",
          "2024-07-28",
          "2024-07-29",
          "2024-07-30",
          "2024-07-31",
          "2024-08-01",
          "2024-08-02",
          "2024-08-03",
          "2024-08-04",
          "2024-08-05"
         ],
         "xaxis": "x4",
         "y": {
          "bdata": "JsULZFK8EEC6DGW3D2IsQGgMjMUErCdA0t0kXB36I0D0jWkTUIoKQKgvO6oRa/k/bDF+BDpGFUAOuUNiXNYUQPHmVCfPGCNAtvSmFatAKUC20kC3/WIwQKK+iTiddyZAxheCsV4cK0BmUUc37/AqQFT8uWkw6ilAE0D0X7MNNEDoM2ZJadk0QKHAUQI4ZC9A",
          "dtype": "f8"
         },
         "yaxis": "y4"
        },
        {
         "hovertemplate": "emoji=🔥<br>dataset=StudentsAgainstDiscrimination<br>date=%{x}<br>Percentage=%{y}<extra></extra>",
         "legendgroup": "🔥",
         "line": {
          "color": "#636efa",
          "dash": "solid"
         },
         "marker": {
          "symbol": "circle"
         },
         "mode": "lines",
         "name": "🔥",
         "orientation": "v",
         "showlegend": false,
         "type": "scatter",
         "x": [
          "2024-07-16",
          "2024-07-17",
          "2024-07-18",
          "2024-07-23",
          "2024-07-24",
          "2024-07-25",
          "2024-07-26",
          "2024-07-27",
          "2024-07-28",
          "2024-07-29",
          "2024-07-30",
          "2024-07-31",
          "2024-08-01",
          "2024-08-02",
          "2024-08-03",
          "2024-08-04",
          "2024-08-05"
         ],
         "xaxis": "x3",
         "y": {
          "bdata": "po4Q27TiRkDqzNELq+YiQGdIwlZKhSFApqWlpaWlEUBALo9JHTrnP7sMhuezaBdAzbIPr5DJFkC8Gfnqv/8fQLsJ5A+OsypAVqib/VUGMEDvLVS9WIIoQDyqD5+QcidAs1IVzavoKUB4/aPMqIAoQMRhLPC2TDZAHpS3vQmhOEBZuXdAbk4zQA==",
          "dtype": "f8"
         },
         "yaxis": "y3"
        },
        {
         "hovertemplate": "emoji=🔥<br>dataset=antiquotadu<br>date=%{x}<br>Percentage=%{y}<extra></extra>",
         "legendgroup": "🔥",
         "line": {
          "color": "#636efa",
          "dash": "solid"
         },
         "marker": {
          "symbol": "circle"
         },
         "mode": "lines",
         "name": "🔥",
         "orientation": "v",
         "showlegend": false,
         "type": "scatter",
         "x": [
          "2024-07-15",
          "2024-07-16",
          "2024-07-17",
          "2024-07-18",
          "2024-07-24",
          "2024-07-25",
          "2024-07-26",
          "2024-07-27",
          "2024-07-28",
          "2024-07-29",
          "2024-07-30",
          "2024-07-31",
          "2024-08-01",
          "2024-08-02",
          "2024-08-03",
          "2024-08-04",
          "2024-08-05"
         ],
         "xaxis": "x2",
         "y": {
          "bdata": "JsULZFK8EEBwHoDIf7ArQEK1JJy/2TNAOUWN98uWLkCWVC/YuHwEQGifcET+uxpAsYgSsIgSHUB6UJ2wpQcyQOYSdVR6diNAamlpaWlpQ0C4lspUIf4qQJxW5xq09TtAKCczza+pMEC+FrmBfrQ6QK5434umAERAxHZFqvU6O0Cc0rz4Ewk0QA==",
          "dtype": "f8"
         },
         "yaxis": "y2"
        },
        {
         "hovertemplate": "emoji=🔥<br>dataset=pusab<br>date=%{x}<br>Percentage=%{y}<extra></extra>",
         "legendgroup": "🔥",
         "line": {
          "color": "#636efa",
          "dash": "solid"
         },
         "marker": {
          "symbol": "circle"
         },
         "mode": "lines",
         "name": "🔥",
         "orientation": "v",
         "showlegend": false,
         "type": "scatter",
         "x": [
          "2024-07-23",
          "2024-07-24",
          "2024-07-25",
          "2024-07-26",
          "2024-07-27",
          "2024-07-29",
          "2024-07-30",
          "2024-07-31",
          "2024-08-02",
          "2024-08-03",
          "2024-08-04",
          "2024-08-05"
         ],
         "xaxis": "x",
         "y": {
          "bdata": "4L1clqxvBUALwnfwUh8MQFOKvzLqZgFAEyinqHdT+j90D0pSlBbpP8BP9KcQdxtA86xWjbxBDUCwumXB11MZQLbps/MUwRpALL/ljzjREkDKSyXGuOYRQAlryBgkuhtA",
          "dtype": "f8"
         },
         "yaxis": "y"
        },
        {
         "hovertemplate": "emoji=😱<br>dataset=Combined<br>date=%{x}<br>Percentage=%{y}<extra></extra>",
         "legendgroup": "😱",
         "line": {
          "color": "#EF553B",
          "dash": "solid"
         },
         "marker": {
          "symbol": "circle"
         },
         "mode": "lines",
         "name": "😱",
         "orientation": "v",
         "showlegend": true,
         "type": "scatter",
         "x": [
          "2024-07-15",
          "2024-07-16",
          "2024-07-17",
          "2024-07-18",
          "2024-07-23",
          "2024-07-24",
          "2024-07-25",
          "2024-07-26",
          "2024-07-27",
          "2024-07-28",
          "2024-07-29",
          "2024-07-30",
          "2024-07-31",
          "2024-08-01",
          "2024-08-02",
          "2024-08-03",
          "2024-08-04",
          "2024-08-05"
         ],
         "xaxis": "x4",
         "y": {
          "bdata": "AAAAAAAAAAAZ5xjnGOe4P5uf4qZ05bY/4lTes3tSoj8AAAAAAAAAADVBzBzfeMA/pdyxn+GCxD/5QFlZNqmoP0iom8w6Np0/vzbCBqYOdz9UAFGe2j6OP+0UVGFzAYU/Qr3hmMxliD+QhGOFXNKiP+AcrL2dPqQ/PVgz3yhOqj90ZPE9k8WkP7Q78RfJwLo/",
          "dtype": "f8"
         },
         "yaxis": "y4"
        },
        {
         "hovertemplate": "emoji=😱<br>dataset=StudentsAgainstDiscrimination<br>date=%{x}<br>Percentage=%{y}<extra></extra>",
         "legendgroup": "😱",
         "line": {
          "color": "#EF553B",
          "dash": "solid"
         },
         "marker": {
          "symbol": "circle"
         },
         "mode": "lines",
         "name": "😱",
         "orientation": "v",
         "showlegend": false,
         "type": "scatter",
         "x": [
          "2024-07-16",
          "2024-07-17",
          "2024-07-18",
          "2024-07-23",
          "2024-07-24",
          "2024-07-25",
          "2024-07-26",
          "2024-07-27",
          "2024-07-28",
          "2024-07-29",
          "2024-07-30",
          "2024-07-31",
          "2024-08-01",
          "2024-08-02",
          "2024-08-03",
          "2024-08-04",
          "2024-08-05"
         ],
         "xaxis": "x3",
         "y": {
          "bdata": "dgu/GhPpIUCuuG35C7a9Pz5YZMgtkKY/AAAAAAAAAACSMxeX+bfIP81bPDQjlMU/Rp5RKWBPsD8AAAAAAAAAAJSbxSip03w/vyQdih8zkz+Bibci56CKP63fMLGw/Y4/s4ZXWWrdpT/80uLs0gulP7uBBMFXyq8/bEuusr+TqT/i0r6FSyWPPw==",
          "dtype": "f8"
         },
         "yaxis": "y3"
        },
        {
         "hovertemplate": "emoji=😱<br>dataset=antiquotadu<br>date=%{x}<br>Percentage=%{y}<extra></extra>",
         "legendgroup": "😱",
         "line": {
          "color": "#EF553B",
          "dash": "solid"
         },
         "marker": {
          "symbol": "circle"
         },
         "mode": "lines",
         "name": "😱",
         "orientation": "v",
         "showlegend": false,
         "type": "scatter",
         "x": [
          "2024-07-15",
          "2024-07-16",
          "2024-07-17",
          "2024-07-18",
          "2024-07-24",
          "2024-07-25",
          "2024-07-26",
          "2024-07-27",
          "2024-07-28",
          "2024-07-29",
          "2024-07-30",
          "2024-07-31",
          "2024-08-01",
          "2024-08-02",
          "2024-08-03",
          "2024-08-04",
          "2024-08-05"
         ],
         "xaxis": "x2",
         "y": {
          "bdata": "AAAAAAAAAAAAAAAAAAAAAAAAAAAAAAAAAAAAAAAAAAAAAAAAAAAAAAAAAAAAAAAAAAAAAAAAAAAAAAAAAAAAAAAAAAAAAAAAAAAAAAAAAAAAAAAAAAAAAAAAAAAAAAAAAAAAAAAAAAAAAAAAAAAAAAAAAAAAAAAA5Tbku50bez8AkQFMPyLiPw==",
          "dtype": "f8"
         },
         "yaxis": "y2"
        },
        {
         "hovertemplate": "emoji=😱<br>dataset=pusab<br>date=%{x}<br>Percentage=%{y}<extra></extra>",
         "legendgroup": "😱",
         "line": {
          "color": "#EF553B",
          "dash": "solid"
         },
         "marker": {
          "symbol": "circle"
         },
         "mode": "lines",
         "name": "😱",
         "orientation": "v",
         "showlegend": false,
         "type": "scatter",
         "x": [
          "2024-07-23",
          "2024-07-24",
          "2024-07-25",
          "2024-07-26",
          "2024-07-27",
          "2024-07-29",
          "2024-07-30",
          "2024-07-31",
          "2024-08-02",
          "2024-08-03",
          "2024-08-04",
          "2024-08-05"
         ],
         "xaxis": "x",
         "y": {
          "bdata": "AAAAAAAAAAAAAAAAAAAAAApAlW8UY9I/9LWnSlcrlj8FPpo5zo/RPwAAAAAAAAAAAAAAAAAAAAAAAAAAAAAAANg5gjfXIa8/58djjU2Toj9wNcsKrNGbPxflCnSj87Q/",
          "dtype": "f8"
         },
         "yaxis": "y"
        },
        {
         "hovertemplate": "emoji=🫡<br>dataset=Combined<br>date=%{x}<br>Percentage=%{y}<extra></extra>",
         "legendgroup": "🫡",
         "line": {
          "color": "#00cc96",
          "dash": "solid"
         },
         "marker": {
          "symbol": "circle"
         },
         "mode": "lines",
         "name": "🫡",
         "orientation": "v",
         "showlegend": true,
         "type": "scatter",
         "x": [
          "2024-07-15",
          "2024-07-16",
          "2024-07-17",
          "2024-07-18",
          "2024-07-23",
          "2024-07-24",
          "2024-07-25",
          "2024-07-26",
          "2024-07-27",
          "2024-07-28",
          "2024-07-29",
          "2024-07-30",
          "2024-07-31",
          "2024-08-01",
          "2024-08-02",
          "2024-08-03",
          "2024-08-04",
          "2024-08-05"
         ],
         "xaxis": "x4",
         "y": {
          "bdata": "AAAAAAAAAAAAAAAAAAAAALsQnpratIs/cbkOD1b7rT9dlIj8A9X3P4JR/+MWl+Q/CMgAWBdlqT/Rz3MR2I6aP7IDq2xIFdQ/Md6zFVx0sz9CSK/LGqHHPzdH+f+bTcc/sHf+oOSV5D+LvyZ77czaP046i4uxbs8/Nl5hIZ0AwD82QmlIefXYP7tgUCakRNU/",
          "dtype": "f8"
         },
         "yaxis": "y4"
        },
        {
         "hovertemplate": "emoji=🫡<br>dataset=StudentsAgainstDiscrimination<br>date=%{x}<br>Percentage=%{y}<extra></extra>",
         "legendgroup": "🫡",
         "line": {
          "color": "#00cc96",
          "dash": "solid"
         },
         "marker": {
          "symbol": "circle"
         },
         "mode": "lines",
         "name": "🫡",
         "orientation": "v",
         "showlegend": false,
         "type": "scatter",
         "x": [
          "2024-07-16",
          "2024-07-17",
          "2024-07-18",
          "2024-07-23",
          "2024-07-24",
          "2024-07-25",
          "2024-07-26",
          "2024-07-27",
          "2024-07-28",
          "2024-07-29",
          "2024-07-30",
          "2024-07-31",
          "2024-08-01",
          "2024-08-02",
          "2024-08-03",
          "2024-08-04",
          "2024-08-05"
         ],
         "xaxis": "x3",
         "y": {
          "bdata": "AAAAAAAAAAD0gGBW+vmRP752xun2dbI/AAAAAAAAAACc2ettUELeP2OeXGeOCbQ/AAAAAAAAAACjDIgYoFXdP0S7ZrqWUrg/GJqEgYSZxD+MnINqgIrNP9F9q2OzbsE/vtYzI9l30T9ON6zuiBO5P8u15EFp8rM/HT95/MPJxj998sONo5TGPw==",
          "dtype": "f8"
         },
         "yaxis": "y3"
        },
        {
         "hovertemplate": "emoji=🫡<br>dataset=antiquotadu<br>date=%{x}<br>Percentage=%{y}<extra></extra>",
         "legendgroup": "🫡",
         "line": {
          "color": "#00cc96",
          "dash": "solid"
         },
         "marker": {
          "symbol": "circle"
         },
         "mode": "lines",
         "name": "🫡",
         "orientation": "v",
         "showlegend": false,
         "type": "scatter",
         "x": [
          "2024-07-15",
          "2024-07-16",
          "2024-07-17",
          "2024-07-18",
          "2024-07-24",
          "2024-07-25",
          "2024-07-26",
          "2024-07-27",
          "2024-07-28",
          "2024-07-29",
          "2024-07-30",
          "2024-07-31",
          "2024-08-01",
          "2024-08-02",
          "2024-08-03",
          "2024-08-04",
          "2024-08-05"
         ],
         "xaxis": "x2",
         "y": {
          "bdata": "AAAAAAAAAAAAAAAAAAAAAAAAAAAAAAAAAAAAAAAAAAAAAAAAAAAAAAAAAAAAAAAAAAAAAAAAAAAAAAAAAAAAAAAAAAAAAAAAAAAAAAAAAAAAAAAAAAAAAB+B59R0Iw9AN6UDYUch9T9s94/YzKP7P13Wf40fxeY/uEAuuQ35/j+NEWX/Fpb4Pw==",
          "dtype": "f8"
         },
         "yaxis": "y2"
        },
        {
         "hovertemplate": "emoji=🫡<br>dataset=pusab<br>date=%{x}<br>Percentage=%{y}<extra></extra>",
         "legendgroup": "🫡",
         "line": {
          "color": "#00cc96",
          "dash": "solid"
         },
         "marker": {
          "symbol": "circle"
         },
         "mode": "lines",
         "name": "🫡",
         "orientation": "v",
         "showlegend": false,
         "type": "scatter",
         "x": [
          "2024-07-23",
          "2024-07-24",
          "2024-07-25",
          "2024-07-26",
          "2024-07-27",
          "2024-07-29",
          "2024-07-30",
          "2024-07-31",
          "2024-08-02",
          "2024-08-03",
          "2024-08-04",
          "2024-08-05"
         ],
         "xaxis": "x",
         "y": {
          "bdata": "X4ijPCfdAkASSpCNmAL0PwAAAAAAAAAANr9SYexlwz8q2dRBEBK0PzCfjsNUado/AAAAAAAAAAAAAAAAAAAAAAPTupFpH7E/NLUvZ2fEqD+I3QItBgrRP6BdiBSCFsA/",
          "dtype": "f8"
         },
         "yaxis": "y"
        },
        {
         "hovertemplate": "emoji=🤣<br>dataset=Combined<br>date=%{x}<br>Percentage=%{y}<extra></extra>",
         "legendgroup": "🤣",
         "line": {
          "color": "#ab63fa",
          "dash": "solid"
         },
         "marker": {
          "symbol": "circle"
         },
         "mode": "lines",
         "name": "🤣",
         "orientation": "v",
         "showlegend": true,
         "type": "scatter",
         "x": [
          "2024-07-15",
          "2024-07-16",
          "2024-07-17",
          "2024-07-18",
          "2024-07-23",
          "2024-07-24",
          "2024-07-25",
          "2024-07-26",
          "2024-07-27",
          "2024-07-28",
          "2024-07-29",
          "2024-07-30",
          "2024-07-31",
          "2024-08-01",
          "2024-08-02",
          "2024-08-03",
          "2024-08-04",
          "2024-08-05"
         ],
         "xaxis": "x4",
         "y": {
          "bdata": "yKR4gUyK1z8AAAAAAAAAAECPZczexf4/dXfb6oco+T8AAAAAAAAAAFgh74p2m/0/G8V2QNwF1D9dStDETwUQQFYQlXiBbxhAVtWYfSEYA0A7D9uqRk7lP4J5np7Embk/eOSik/zYBEDN2dOg2WoFQN/P9byiqOs/5Gaxte4qBkBU8HXQu3QEQIHlQREFwwZA",
          "dtype": "f8"
         },
         "yaxis": "y4"
        },
        {
         "hovertemplate": "emoji=🤣<br>dataset=StudentsAgainstDiscrimination<br>date=%{x}<br>Percentage=%{y}<extra></extra>",
         "legendgroup": "🤣",
         "line": {
          "color": "#ab63fa",
          "dash": "solid"
         },
         "marker": {
          "symbol": "circle"
         },
         "mode": "lines",
         "name": "🤣",
         "orientation": "v",
         "showlegend": false,
         "type": "scatter",
         "x": [
          "2024-07-16",
          "2024-07-17",
          "2024-07-18",
          "2024-07-23",
          "2024-07-24",
          "2024-07-25",
          "2024-07-26",
          "2024-07-27",
          "2024-07-28",
          "2024-07-29",
          "2024-07-30",
          "2024-07-31",
          "2024-08-01",
          "2024-08-02",
          "2024-08-03",
          "2024-08-04",
          "2024-08-05"
         ],
         "xaxis": "x3",
         "y": {
          "bdata": "AAAAAAAAAADk2e+1T/cDQFFUOGFO+/4/AAAAAAAAAAARBjyn/jYGQP6q6mfqmN8/HTfTBA/1FkCayX4IY1IiQNakwxVI3wdADuRK3eR/6j/K1yfZDDrAPyKDaLtGewpAGWE6c1fhCEB0vvM1lW/xP9zZIi0z5g5A2NP48kyiDEBWCtwehRIKQA==",
          "dtype": "f8"
         },
         "yaxis": "y3"
        },
        {
         "hovertemplate": "emoji=🤣<br>dataset=antiquotadu<br>date=%{x}<br>Percentage=%{y}<extra></extra>",
         "legendgroup": "🤣",
         "line": {
          "color": "#ab63fa",
          "dash": "solid"
         },
         "marker": {
          "symbol": "circle"
         },
         "mode": "lines",
         "name": "🤣",
         "orientation": "v",
         "showlegend": false,
         "type": "scatter",
         "x": [
          "2024-07-15",
          "2024-07-16",
          "2024-07-17",
          "2024-07-18",
          "2024-07-24",
          "2024-07-25",
          "2024-07-26",
          "2024-07-27",
          "2024-07-28",
          "2024-07-29",
          "2024-07-30",
          "2024-07-31",
          "2024-08-01",
          "2024-08-02",
          "2024-08-03",
          "2024-08-04",
          "2024-08-05"
         ],
         "xaxis": "x2",
         "y": {
          "bdata": "yKR4gUyK1z8AAAAAAAAAAAAAAAAAAAAAAAAAAAAAAAAAAAAAAAAAAAAAAAAAAAAAAAAAAAAAAAAAAAAAAAAAAAAAAAAAAAAAAAAAAAAAAAAAAAAAAAAAAAAAAAAAAAAAAAAAAAAAAAAAAAAAAAAAAAAAAAAAAAAAAAAAAAAAAABdbEQy5Hp8Pw==",
          "dtype": "f8"
         },
         "yaxis": "y2"
        },
        {
         "hovertemplate": "emoji=🤣<br>dataset=pusab<br>date=%{x}<br>Percentage=%{y}<extra></extra>",
         "legendgroup": "🤣",
         "line": {
          "color": "#ab63fa",
          "dash": "solid"
         },
         "marker": {
          "symbol": "circle"
         },
         "mode": "lines",
         "name": "🤣",
         "orientation": "v",
         "showlegend": false,
         "type": "scatter",
         "x": [
          "2024-07-23",
          "2024-07-24",
          "2024-07-25",
          "2024-07-26",
          "2024-07-27",
          "2024-07-29",
          "2024-07-30",
          "2024-07-31",
          "2024-08-02",
          "2024-08-03",
          "2024-08-04",
          "2024-08-05"
         ],
         "xaxis": "x",
         "y": {
          "bdata": "AAAAAAAAAAAAAAAAAAAAAAAAAAAAAAAAAAAAAAAAAAAAAAAAAAAAALCEhbzBubg/AAAAAAAAAAAAAAAAAAAAAAAAAAAAAAAAh47ruulh0D+EMPB+0UDeP659sWax8QlA",
          "dtype": "f8"
         },
         "yaxis": "y"
        },
        {
         "hovertemplate": "emoji=🖕<br>dataset=Combined<br>date=%{x}<br>Percentage=%{y}<extra></extra>",
         "legendgroup": "🖕",
         "line": {
          "color": "#FFA15A",
          "dash": "solid"
         },
         "marker": {
          "symbol": "circle"
         },
         "mode": "lines",
         "name": "🖕",
         "orientation": "v",
         "showlegend": true,
         "type": "scatter",
         "x": [
          "2024-07-15",
          "2024-07-16",
          "2024-07-17",
          "2024-07-18",
          "2024-07-23",
          "2024-07-24",
          "2024-07-25",
          "2024-07-26",
          "2024-07-27",
          "2024-07-28",
          "2024-07-29",
          "2024-07-30",
          "2024-07-31",
          "2024-08-01",
          "2024-08-02",
          "2024-08-03",
          "2024-08-04",
          "2024-08-05"
         ],
         "xaxis": "x4",
         "y": {
          "bdata": "AAAAAAAAAAAAcasbVsbgP8y5fdCyotQ/Vml/8crCuz8AAAAAAAAAAKuf302/COI/ksY7zHm15j85j46DX1PzP0ZRzdBtFQFAbsRyiE/SnD9UAFGe2j5+P+0UVGFzAaU/AOc2x1evqj9qDKFgoMawPxaP3wvKBdQ/VzKOjWo1xT+qigwSM4W1P1YLyQR3HpA/",
          "dtype": "f8"
         },
         "yaxis": "y4"
        },
        {
         "hovertemplate": "emoji=🖕<br>dataset=StudentsAgainstDiscrimination<br>date=%{x}<br>Percentage=%{y}<extra></extra>",
         "legendgroup": "🖕",
         "line": {
          "color": "#FFA15A",
          "dash": "solid"
         },
         "marker": {
          "symbol": "circle"
         },
         "mode": "lines",
         "name": "🖕",
         "orientation": "v",
         "showlegend": false,
         "type": "scatter",
         "x": [
          "2024-07-16",
          "2024-07-17",
          "2024-07-18",
          "2024-07-23",
          "2024-07-24",
          "2024-07-25",
          "2024-07-26",
          "2024-07-27",
          "2024-07-28",
          "2024-07-29",
          "2024-07-30",
          "2024-07-31",
          "2024-08-01",
          "2024-08-02",
          "2024-08-03",
          "2024-08-04",
          "2024-08-05"
         ],
         "xaxis": "x3",
         "y": {
          "bdata": "AAAAAAAAAAB3bxpGI3inP752xun2daI/AAAAAAAAAABwrXKRzCDcP81bPDQjlKU/drIymvUumz8YF7TbL+e1PzyBe7lJBKI/vyQdih8zcz+Bibci56CqP1O65qC88rA/GlE9LgB9sz/6siqLMTDZP1fS8K57tsk/S7bziPmRvD8hGAwd+q+SPw==",
          "dtype": "f8"
         },
         "yaxis": "y3"
        },
        {
         "hovertemplate": "emoji=🖕<br>dataset=antiquotadu<br>date=%{x}<br>Percentage=%{y}<extra></extra>",
         "legendgroup": "🖕",
         "line": {
          "color": "#FFA15A",
          "dash": "solid"
         },
         "marker": {
          "symbol": "circle"
         },
         "mode": "lines",
         "name": "🖕",
         "orientation": "v",
         "showlegend": false,
         "type": "scatter",
         "x": [
          "2024-07-15",
          "2024-07-16",
          "2024-07-17",
          "2024-07-18",
          "2024-07-24",
          "2024-07-25",
          "2024-07-26",
          "2024-07-27",
          "2024-07-28",
          "2024-07-29",
          "2024-07-30",
          "2024-07-31",
          "2024-08-01",
          "2024-08-02",
          "2024-08-03",
          "2024-08-04",
          "2024-08-05"
         ],
         "xaxis": "x2",
         "y": {
          "bdata": "AAAAAAAAAADFgT71fvXgP4/5f9wLB/Q/7hF6O1H02j+bdxSAH3sOQBL570q9RQ1AX4b8Xob8IUAwAoZw9SIiQAAAAAAAAAAAAAAAAAAAAAAAAAAAAAAAAAAAAAAAAAAAAAAAAAAAAAAAAAAAAAAAAAAAAAAAAAAAAAAAAAAAAAAAAAAAAAAAAA==",
          "dtype": "f8"
         },
         "yaxis": "y2"
        },
        {
         "hovertemplate": "emoji=🖕<br>dataset=pusab<br>date=%{x}<br>Percentage=%{y}<extra></extra>",
         "legendgroup": "🖕",
         "line": {
          "color": "#FFA15A",
          "dash": "solid"
         },
         "marker": {
          "symbol": "circle"
         },
         "mode": "lines",
         "name": "🖕",
         "orientation": "v",
         "showlegend": false,
         "type": "scatter",
         "x": [
          "2024-07-23",
          "2024-07-24",
          "2024-07-25",
          "2024-07-26",
          "2024-07-27",
          "2024-07-29",
          "2024-07-30",
          "2024-07-31",
          "2024-08-02",
          "2024-08-03",
          "2024-08-04",
          "2024-08-05"
         ],
         "xaxis": "x",
         "y": {
          "bdata": "AAAAAAAAAAAAAAAAAAAAAO22tppHhb8/d8j9d4GgsD8AAAAAAAAAAAaokXAw+Zo/AAAAAAAAAAAAAAAAAAAAAHphm1/f53g/LqeIyjppvT+hIzIHyIuiP6ZWCYhn9ZE/",
          "dtype": "f8"
         },
         "yaxis": "y"
        },
        {
         "hovertemplate": "emoji=❤‍🔥<br>dataset=Combined<br>date=%{x}<br>Percentage=%{y}<extra></extra>",
         "legendgroup": "❤‍🔥",
         "line": {
          "color": "#19d3f3",
          "dash": "solid"
         },
         "marker": {
          "symbol": "circle"
         },
         "mode": "lines",
         "name": "❤‍🔥",
         "orientation": "v",
         "showlegend": true,
         "type": "scatter",
         "x": [
          "2024-07-15",
          "2024-07-16",
          "2024-07-17",
          "2024-07-18",
          "2024-07-23",
          "2024-07-24",
          "2024-07-25",
          "2024-07-26",
          "2024-07-27",
          "2024-07-28",
          "2024-07-29",
          "2024-07-30",
          "2024-07-31",
          "2024-08-01",
          "2024-08-02",
          "2024-08-03",
          "2024-08-04",
          "2024-08-05"
         ],
         "xaxis": "x4",
         "y": {
          "bdata": "AAAAAAAAAAAAAAAAAAAAAKp9SBtJa+Q/5Ysz2dTw3D8JXAlCp//5P4D9Q6nUILo/4WkU2wFxpz8hsj6hlMOGP06pxitGsYA/5+/pRdEspD8w/DXHrivBP6ytMRBrxvs/HjIbqfzFkD80EKyqWJ/wP+P+md8THcI/4RvpmJISyz8br1teqZXYPzZpVH0sbe8/",
          "dtype": "f8"
         },
         "yaxis": "y4"
        },
        {
         "hovertemplate": "emoji=❤‍🔥<br>dataset=StudentsAgainstDiscrimination<br>date=%{x}<br>Percentage=%{y}<extra></extra>",
         "legendgroup": "❤‍🔥",
         "line": {
          "color": "#19d3f3",
          "dash": "solid"
         },
         "marker": {
          "symbol": "circle"
         },
         "mode": "lines",
         "name": "❤‍🔥",
         "orientation": "v",
         "showlegend": false,
         "type": "scatter",
         "x": [
          "2024-07-16",
          "2024-07-17",
          "2024-07-18",
          "2024-07-23",
          "2024-07-24",
          "2024-07-25",
          "2024-07-26",
          "2024-07-27",
          "2024-07-28",
          "2024-07-29",
          "2024-07-30",
          "2024-07-31",
          "2024-08-01",
          "2024-08-02",
          "2024-08-03",
          "2024-08-04",
          "2024-08-05"
         ],
         "xaxis": "x3",
         "y": {
          "bdata": "AAAAAAAAAAC86FCnH3/qP4LL/Vbe0eE/AAAAAAAAAAD4ztvSl0aLPwAAAAAAAAAAAAAAAAAAAACJY/KxNgiJPyHorAM0Oak/pt6RjLnMwj+YvwwjibgAQMeZ0XlpTpU/e/M0nl5P8z9qI1KmEUfGPzrWJTL/5Ms/nh5jDXIx4T8ENzZzohX6Pw==",
          "dtype": "f8"
         },
         "yaxis": "y3"
        },
        {
         "hovertemplate": "emoji=❤‍🔥<br>dataset=antiquotadu<br>date=%{x}<br>Percentage=%{y}<extra></extra>",
         "legendgroup": "❤‍🔥",
         "line": {
          "color": "#19d3f3",
          "dash": "solid"
         },
         "marker": {
          "symbol": "circle"
         },
         "mode": "lines",
         "name": "❤‍🔥",
         "orientation": "v",
         "showlegend": false,
         "type": "scatter",
         "x": [
          "2024-07-15",
          "2024-07-16",
          "2024-07-17",
          "2024-07-18",
          "2024-07-24",
          "2024-07-25",
          "2024-07-26",
          "2024-07-27",
          "2024-07-28",
          "2024-07-29",
          "2024-07-30",
          "2024-07-31",
          "2024-08-01",
          "2024-08-02",
          "2024-08-03",
          "2024-08-04",
          "2024-08-05"
         ],
         "xaxis": "x2",
         "y": {
          "bdata": "AAAAAAAAAAAAAAAAAAAAAAAAAAAAAAAAAAAAAAAAAAAAAAAAAAAAAAAAAAAAAAAAAAAAAAAAAAAAAAAAAAAAAAAAAAAAAAAAAAAAAAAAAAAAAAAAAAAAAAAAAAAAAAAAAAAAAAAAAAAAAAAAAAAAAAAAAAAAAAAAAAAAAAAAAAAAAAAAAAAAAA==",
          "dtype": "f8"
         },
         "yaxis": "y2"
        },
        {
         "hovertemplate": "emoji=❤‍🔥<br>dataset=pusab<br>date=%{x}<br>Percentage=%{y}<extra></extra>",
         "legendgroup": "❤‍🔥",
         "line": {
          "color": "#19d3f3",
          "dash": "solid"
         },
         "marker": {
          "symbol": "circle"
         },
         "mode": "lines",
         "name": "❤‍🔥",
         "orientation": "v",
         "showlegend": false,
         "type": "scatter",
         "x": [
          "2024-07-23",
          "2024-07-24",
          "2024-07-25",
          "2024-07-26",
          "2024-07-27",
          "2024-07-29",
          "2024-07-30",
          "2024-07-31",
          "2024-08-02",
          "2024-08-03",
          "2024-08-04",
          "2024-08-05"
         ],
         "xaxis": "x",
         "y": {
          "bdata": "CqzJzSqUBEC6HIiu1rbWP+22tppHhc8/d8j9d4GgsD8AAAAAAAAAAAQJW0a+28A/Ff2y0l1k5T8AAAAAAAAAANg5gjfXIZ8/BcvBkx6L0T+hIzIHyIuyPxHsiQC+FMM/",
          "dtype": "f8"
         },
         "yaxis": "y"
        },
        {
         "hovertemplate": "emoji=😡<br>dataset=Combined<br>date=%{x}<br>Percentage=%{y}<extra></extra>",
         "legendgroup": "😡",
         "line": {
          "color": "#FF6692",
          "dash": "solid"
         },
         "marker": {
          "symbol": "circle"
         },
         "mode": "lines",
         "name": "😡",
         "orientation": "v",
         "showlegend": true,
         "type": "scatter",
         "x": [
          "2024-07-15",
          "2024-07-16",
          "2024-07-17",
          "2024-07-18",
          "2024-07-23",
          "2024-07-24",
          "2024-07-25",
          "2024-07-26",
          "2024-07-27",
          "2024-07-28",
          "2024-07-29",
          "2024-07-30",
          "2024-07-31",
          "2024-08-01",
          "2024-08-02",
          "2024-08-03",
          "2024-08-04",
          "2024-08-05"
         ],
         "xaxis": "x4",
         "y": {
          "bdata": "lnsaYbmnwT8AAAAAAAAAAEh+mAbJiM0/B2OD/Dpg5T8AAAAAAAAAANLR1k78UtE/4psUsUfKzT99ZbYX0ivmPyYOgmP7sNY/A6EGKGVhqz9UAFGe2j6eP+0UVGFzAXU/b+kPMZUQ6T8vbDQeFy3uP777dULbROI/MX9PhmTh2D/T8t69SVK7PzGN0fQeO9A/",
          "dtype": "f8"
         },
         "yaxis": "y4"
        },
        {
         "hovertemplate": "emoji=😡<br>dataset=StudentsAgainstDiscrimination<br>date=%{x}<br>Percentage=%{y}<extra></extra>",
         "legendgroup": "😡",
         "line": {
          "color": "#FF6692",
          "dash": "solid"
         },
         "marker": {
          "symbol": "circle"
         },
         "mode": "lines",
         "name": "😡",
         "orientation": "v",
         "showlegend": false,
         "type": "scatter",
         "x": [
          "2024-07-16",
          "2024-07-17",
          "2024-07-18",
          "2024-07-23",
          "2024-07-24",
          "2024-07-25",
          "2024-07-26",
          "2024-07-27",
          "2024-07-28",
          "2024-07-29",
          "2024-07-30",
          "2024-07-31",
          "2024-08-01",
          "2024-08-02",
          "2024-08-03",
          "2024-08-04",
          "2024-08-05"
         ],
         "xaxis": "x3",
         "y": {
          "bdata": "AAAAAAAAAADnpWihlCnTP54RdRTgUuo/AAAAAAAAAABGgfm0SP/ZP/ngfJr5fpI/ZREA+dDr7j9upFaapTWxP19UNXCsHbE/vyQdih8zoz+Bibci56B6P8o1CYag1u8/SEvh/Q6H8T8ore2nN+LhP4xmkSq/hLA/DjyyCAHBmz8lm61g+QW1Pw==",
          "dtype": "f8"
         },
         "yaxis": "y3"
        },
        {
         "hovertemplate": "emoji=😡<br>dataset=antiquotadu<br>date=%{x}<br>Percentage=%{y}<extra></extra>",
         "legendgroup": "😡",
         "line": {
          "color": "#FF6692",
          "dash": "solid"
         },
         "marker": {
          "symbol": "circle"
         },
         "mode": "lines",
         "name": "😡",
         "orientation": "v",
         "showlegend": false,
         "type": "scatter",
         "x": [
          "2024-07-15",
          "2024-07-16",
          "2024-07-17",
          "2024-07-18",
          "2024-07-24",
          "2024-07-25",
          "2024-07-26",
          "2024-07-27",
          "2024-07-28",
          "2024-07-29",
          "2024-07-30",
          "2024-07-31",
          "2024-08-01",
          "2024-08-02",
          "2024-08-03",
          "2024-08-04",
          "2024-08-05"
         ],
         "xaxis": "x2",
         "y": {
          "bdata": "lnsaYbmnwT8AAAAAAAAAAAAAAAAAAAAAAAAAAAAAAAAAAAAAAAAAAAAAAAAAAAAAAAAAAAAAAAAAAAAAAAAAAAAAAAAAAAAAAAAAAAAAAAAAAAAAAAAAAAAAAAAAAAAAAAAAAAAAAAAAAAAAAAAAAAAAAAAAAAAAAAAAAAAAAAAAAAAAAAAAAA==",
          "dtype": "f8"
         },
         "yaxis": "y2"
        },
        {
         "hovertemplate": "emoji=😡<br>dataset=pusab<br>date=%{x}<br>Percentage=%{y}<extra></extra>",
         "legendgroup": "😡",
         "line": {
          "color": "#FF6692",
          "dash": "solid"
         },
         "marker": {
          "symbol": "circle"
         },
         "mode": "lines",
         "name": "😡",
         "orientation": "v",
         "showlegend": false,
         "type": "scatter",
         "x": [
          "2024-07-23",
          "2024-07-24",
          "2024-07-25",
          "2024-07-26",
          "2024-07-27",
          "2024-07-29",
          "2024-07-30",
          "2024-07-31",
          "2024-08-02",
          "2024-08-03",
          "2024-08-04",
          "2024-08-05"
         ],
         "xaxis": "x",
         "y": {
          "bdata": "AAAAAAAAAAAAAAAAAAAAAC+5I5gwC/M/cqNRHS22uz/iwSxOc9UHQAAAAAAAAAAAAAAAAAAAAAAAAAAAAAAAABCut4yo5vE/5dFrUBnd+T8R7Al+WO/bP4J6i+z5EuY/",
          "dtype": "f8"
         },
         "yaxis": "y"
        },
        {
         "hovertemplate": "emoji=❤<br>dataset=Combined<br>date=%{x}<br>Percentage=%{y}<extra></extra>",
         "legendgroup": "❤",
         "line": {
          "color": "#B6E880",
          "dash": "solid"
         },
         "marker": {
          "symbol": "circle"
         },
         "mode": "lines",
         "name": "❤",
         "orientation": "v",
         "showlegend": true,
         "type": "scatter",
         "x": [
          "2024-07-15",
          "2024-07-16",
          "2024-07-17",
          "2024-07-18",
          "2024-07-23",
          "2024-07-24",
          "2024-07-25",
          "2024-07-26",
          "2024-07-27",
          "2024-07-28",
          "2024-07-29",
          "2024-07-30",
          "2024-07-31",
          "2024-08-01",
          "2024-08-02",
          "2024-08-03",
          "2024-08-04",
          "2024-08-05"
         ],
         "xaxis": "x4",
         "y": {
          "bdata": "6Ddbh36zTUB5+SKkzQ5EQMSRPN4MiERADRwnKWXjQkCX337UvhdTQEJakZMuJENAuI35af99PkB+novAdtQ0QDF8wPMWBEBAh7zzdZ5YQ0B94WIBeFpLQDxK5SIkGU5AMJoZEioiRkB6MLQPe7ZGQL4mM6yYHEVAlZFTJ7hlR0DYyz7LftRGQKwtOg4uWEpA",
          "dtype": "f8"
         },
         "yaxis": "y4"
        },
        {
         "hovertemplate": "emoji=❤<br>dataset=StudentsAgainstDiscrimination<br>date=%{x}<br>Percentage=%{y}<extra></extra>",
         "legendgroup": "❤",
         "line": {
          "color": "#B6E880",
          "dash": "solid"
         },
         "marker": {
          "symbol": "circle"
         },
         "mode": "lines",
         "name": "❤",
         "orientation": "v",
         "showlegend": false,
         "type": "scatter",
         "x": [
          "2024-07-16",
          "2024-07-17",
          "2024-07-18",
          "2024-07-23",
          "2024-07-24",
          "2024-07-25",
          "2024-07-26",
          "2024-07-27",
          "2024-07-28",
          "2024-07-29",
          "2024-07-30",
          "2024-07-31",
          "2024-08-01",
          "2024-08-02",
          "2024-08-03",
          "2024-08-04",
          "2024-08-05"
         ],
         "xaxis": "x3",
         "y": {
          "bdata": "Ds3n+uNlREBt4NBenE9FQGM1AMFT70JAh4eHh4fXUkAnCQ/e7qQ5QII5DWaDEzpA6102IArtMEDGNjllrh85QLvjoB5ch0JAwEj0cLG3SkDiOqVU0/lLQG0IvJv1dURAl5IETwh2RUDPe+rtDnxDQBNfnMooMEVAlihPd+6qREBLK+fLzD9JQA==",
          "dtype": "f8"
         },
         "yaxis": "y3"
        },
        {
         "hovertemplate": "emoji=❤<br>dataset=antiquotadu<br>date=%{x}<br>Percentage=%{y}<extra></extra>",
         "legendgroup": "❤",
         "line": {
          "color": "#B6E880",
          "dash": "solid"
         },
         "marker": {
          "symbol": "circle"
         },
         "mode": "lines",
         "name": "❤",
         "orientation": "v",
         "showlegend": false,
         "type": "scatter",
         "x": [
          "2024-07-15",
          "2024-07-16",
          "2024-07-17",
          "2024-07-18",
          "2024-07-24",
          "2024-07-25",
          "2024-07-26",
          "2024-07-27",
          "2024-07-28",
          "2024-07-29",
          "2024-07-30",
          "2024-07-31",
          "2024-08-01",
          "2024-08-02",
          "2024-08-03",
          "2024-08-04",
          "2024-08-05"
         ],
         "xaxis": "x2",
         "y": {
          "bdata": "6Ddbh36zTUD4vx3P2A1EQOh6RrWR6UFAjuMtidivQkDok6PBBdxIQOzCYiSUtjpAW+WCW+XCPEAOpshn3SBGQNCyn/TjnEZA9emQyIVvR0AFRet6eA5MQEeEtSLaV0hALQdDxmp0TkCeu7L+3mBEQHpzj31K2URAd+myIOngREAXBbdN73JIQA==",
          "dtype": "f8"
         },
         "yaxis": "y2"
        },
        {
         "hovertemplate": "emoji=❤<br>dataset=pusab<br>date=%{x}<br>Percentage=%{y}<extra></extra>",
         "legendgroup": "❤",
         "line": {
          "color": "#B6E880",
          "dash": "solid"
         },
         "marker": {
          "symbol": "circle"
         },
         "mode": "lines",
         "name": "❤",
         "orientation": "v",
         "showlegend": false,
         "type": "scatter",
         "x": [
          "2024-07-23",
          "2024-07-24",
          "2024-07-25",
          "2024-07-26",
          "2024-07-27",
          "2024-07-29",
          "2024-07-30",
          "2024-07-31",
          "2024-08-02",
          "2024-08-03",
          "2024-08-04",
          "2024-08-05"
         ],
         "xaxis": "x",
         "y": {
          "bdata": "LOBjBDA9U0AIJgVd4tBQQCBLmg/fmkhAiZMOi3mtPkA35wABOrJIQPHyaD/XeFBAv3Bg3pEZVkBg+Kw2itBRQJnMLH+VglBAMgvFBhC5T0B47lRvdkRPQEV14qIOP01A",
          "dtype": "f8"
         },
         "yaxis": "y"
        },
        {
         "hovertemplate": "emoji=🤬<br>dataset=Combined<br>date=%{x}<br>Percentage=%{y}<extra></extra>",
         "legendgroup": "🤬",
         "line": {
          "color": "#FF97FF",
          "dash": "solid"
         },
         "marker": {
          "symbol": "circle"
         },
         "mode": "lines",
         "name": "🤬",
         "orientation": "v",
         "showlegend": true,
         "type": "scatter",
         "x": [
          "2024-07-15",
          "2024-07-16",
          "2024-07-17",
          "2024-07-18",
          "2024-07-23",
          "2024-07-24",
          "2024-07-25",
          "2024-07-26",
          "2024-07-27",
          "2024-07-28",
          "2024-07-29",
          "2024-07-30",
          "2024-07-31",
          "2024-08-01",
          "2024-08-02",
          "2024-08-03",
          "2024-08-04",
          "2024-08-05"
         ],
         "xaxis": "x4",
         "y": {
          "bdata": "qBGWexphKUBa3q8zBYkoQPn3HHT/KCVArlpLidacI0AAAAAAAAAAANsX1N5XryNAMpcEJekxHUCDvdZ40p8pQJ21AJY3+CBABDTlziZGIEBQTTxk32ERQKqVkPojwQdA/t/1rzGTJkA7aScQjhAjQLlDqGB/EC5AZf3y9fk9G0Cl2trJxWISQOYMh6i/FxBA",
          "dtype": "f8"
         },
         "yaxis": "y4"
        },
        {
         "hovertemplate": "emoji=🤬<br>dataset=StudentsAgainstDiscrimination<br>date=%{x}<br>Percentage=%{y}<extra></extra>",
         "legendgroup": "🤬",
         "line": {
          "color": "#FF97FF",
          "dash": "solid"
         },
         "marker": {
          "symbol": "circle"
         },
         "mode": "lines",
         "name": "🤬",
         "orientation": "v",
         "showlegend": false,
         "type": "scatter",
         "x": [
          "2024-07-16",
          "2024-07-17",
          "2024-07-18",
          "2024-07-23",
          "2024-07-24",
          "2024-07-25",
          "2024-07-26",
          "2024-07-27",
          "2024-07-28",
          "2024-07-29",
          "2024-07-30",
          "2024-07-31",
          "2024-08-01",
          "2024-08-02",
          "2024-08-03",
          "2024-08-04",
          "2024-08-05"
         ],
         "xaxis": "x3",
         "y": {
          "bdata": "SA9Uzm7h9z9qRGnNcBYiQBHn/ur/ByRAAAAAAAAAAACsHL7w5o0sQJ2LXkoHByBAsk5WRrPeLUBxS/4Gg5skQJTqJH/vkxVAq1t7iLfEFEC2KEtK2JoMQD8KlNywHClAAxkJs58xJED7VB+ylFExQIj/luAKixpAZv7yClJOCEDaNJ6xBQUEQA==",
          "dtype": "f8"
         },
         "yaxis": "y3"
        },
        {
         "hovertemplate": "emoji=🤬<br>dataset=antiquotadu<br>date=%{x}<br>Percentage=%{y}<extra></extra>",
         "legendgroup": "🤬",
         "line": {
          "color": "#FF97FF",
          "dash": "solid"
         },
         "marker": {
          "symbol": "circle"
         },
         "mode": "lines",
         "name": "🤬",
         "orientation": "v",
         "showlegend": false,
         "type": "scatter",
         "x": [
          "2024-07-15",
          "2024-07-16",
          "2024-07-17",
          "2024-07-18",
          "2024-07-24",
          "2024-07-25",
          "2024-07-26",
          "2024-07-27",
          "2024-07-28",
          "2024-07-29",
          "2024-07-30",
          "2024-07-31",
          "2024-08-01",
          "2024-08-02",
          "2024-08-03",
          "2024-08-04",
          "2024-08-05"
         ],
         "xaxis": "x2",
         "y": {
          "bdata": "qBGWexphKUA5fXnumsUoQLxbLMSpey9ARRXgTN/NIUBiGpu2Cn0SQFLN+jP4TSRA/V6G/F6GLUD88x4Vuj8ZQHtpAlvgGDNALgKefHEYAEAvwNRjBPL7P62I9pUW0CJAtX/CimQpGEAkrSWsSAURQLVBsjTqEBRASQfjnE5QIEBmYuxwxF4iQA==",
          "dtype": "f8"
         },
         "yaxis": "y2"
        },
        {
         "hovertemplate": "emoji=🤬<br>dataset=pusab<br>date=%{x}<br>Percentage=%{y}<extra></extra>",
         "legendgroup": "🤬",
         "line": {
          "color": "#FF97FF",
          "dash": "solid"
         },
         "marker": {
          "symbol": "circle"
         },
         "mode": "lines",
         "name": "🤬",
         "orientation": "v",
         "showlegend": false,
         "type": "scatter",
         "x": [
          "2024-07-23",
          "2024-07-24",
          "2024-07-25",
          "2024-07-26",
          "2024-07-27",
          "2024-07-29",
          "2024-07-30",
          "2024-07-31",
          "2024-08-02",
          "2024-08-03",
          "2024-08-04",
          "2024-08-05"
         ],
         "xaxis": "x",
         "y": {
          "bdata": "AAAAAAAAAAAAAAAAAAAAAC4RMQrOvgBA2Si94aVNBUA+tljUJLf5P4WNiGmdSek/LEeTR1czrj+gAZBhwN32P+ZbiJwkmB9AExUKeXkzIEC/qCYhH9UfQC7vYXi6GhNA",
          "dtype": "f8"
         },
         "yaxis": "y"
        },
        {
         "hovertemplate": "emoji=👏<br>dataset=Combined<br>date=%{x}<br>Percentage=%{y}<extra></extra>",
         "legendgroup": "👏",
         "line": {
          "color": "#FECB52",
          "dash": "solid"
         },
         "marker": {
          "symbol": "circle"
         },
         "mode": "lines",
         "name": "👏",
         "orientation": "v",
         "showlegend": true,
         "type": "scatter",
         "x": [
          "2024-07-15",
          "2024-07-16",
          "2024-07-17",
          "2024-07-18",
          "2024-07-23",
          "2024-07-24",
          "2024-07-25",
          "2024-07-26",
          "2024-07-27",
          "2024-07-28",
          "2024-07-29",
          "2024-07-30",
          "2024-07-31",
          "2024-08-01",
          "2024-08-02",
          "2024-08-03",
          "2024-08-04",
          "2024-08-05"
         ],
         "xaxis": "x4",
         "y": {
          "bdata": "+s3Wod9s3T8AAAAAAAAAAKxhY2GOBOA/TlOftte54D9bPQYsGlWxPzQJ+koIKuQ/fX7FIsyOwj+mm6VKZx3eP90SWC9PQb4/l32ax3rwuT81DBtxnA/DP0Z0ScZnWbQ/LMuo/foouT+yzlKjzi+6P2W/logxR84/w8hfCrPy4j/2MEwVaxnRP+WqWfWdBcI/",
          "dtype": "f8"
         },
         "yaxis": "y4"
        },
        {
         "hovertemplate": "emoji=👏<br>dataset=StudentsAgainstDiscrimination<br>date=%{x}<br>Percentage=%{y}<extra></extra>",
         "legendgroup": "👏",
         "line": {
          "color": "#FECB52",
          "dash": "solid"
         },
         "marker": {
          "symbol": "circle"
         },
         "mode": "lines",
         "name": "👏",
         "orientation": "v",
         "showlegend": false,
         "type": "scatter",
         "x": [
          "2024-07-16",
          "2024-07-17",
          "2024-07-18",
          "2024-07-23",
          "2024-07-24",
          "2024-07-25",
          "2024-07-26",
          "2024-07-27",
          "2024-07-28",
          "2024-07-29",
          "2024-07-30",
          "2024-07-31",
          "2024-08-01",
          "2024-08-02",
          "2024-08-03",
          "2024-08-04",
          "2024-08-05"
         ],
         "xaxis": "x3",
         "y": {
          "bdata": "AAAAAAAAAAAald9zCcnkP4axuH3zmOQ/h4eHh4eHxz8JEq5VLpLpP9pELWcaL8A/bJt34K885T80qkORca/GP4Mn7yYPN8A/7CoVVOP/uz80zaHp38u5P6tmujae9b8/dBTpWrVrvj+CrFg5cRLRP3szkcrrEek/IKGsa7s81D/vAdm4d0e6Pw==",
          "dtype": "f8"
         },
         "yaxis": "y3"
        },
        {
         "hovertemplate": "emoji=👏<br>dataset=antiquotadu<br>date=%{x}<br>Percentage=%{y}<extra></extra>",
         "legendgroup": "👏",
         "line": {
          "color": "#FECB52",
          "dash": "solid"
         },
         "marker": {
          "symbol": "circle"
         },
         "mode": "lines",
         "name": "👏",
         "orientation": "v",
         "showlegend": false,
         "type": "scatter",
         "x": [
          "2024-07-15",
          "2024-07-16",
          "2024-07-17",
          "2024-07-18",
          "2024-07-24",
          "2024-07-25",
          "2024-07-26",
          "2024-07-27",
          "2024-07-28",
          "2024-07-29",
          "2024-07-30",
          "2024-07-31",
          "2024-08-01",
          "2024-08-02",
          "2024-08-03",
          "2024-08-04",
          "2024-08-05"
         ],
         "xaxis": "x2",
         "y": {
          "bdata": "+s3Wod9s3T8AAAAAAAAAAAAAAAAAAAAAAAAAAAAAAAAAAAAAAAAAAAAAAAAAAAAAAAAAAAAAAAAAAAAAAAAAAAAAAAAAAAAAAAAAAAAAAAAAAAAAAAAAAAAAAAAAAAAAAAAAAAAAAAAAAAAAAAAAAAAAAAAAAAAAAAAAAAAAAAAAAAAAAAAAAA==",
          "dtype": "f8"
         },
         "yaxis": "y2"
        },
        {
         "hovertemplate": "emoji=👏<br>dataset=pusab<br>date=%{x}<br>Percentage=%{y}<extra></extra>",
         "legendgroup": "👏",
         "line": {
          "color": "#FECB52",
          "dash": "solid"
         },
         "marker": {
          "symbol": "circle"
         },
         "mode": "lines",
         "name": "👏",
         "orientation": "v",
         "showlegend": false,
         "type": "scatter",
         "x": [
          "2024-07-23",
          "2024-07-24",
          "2024-07-25",
          "2024-07-26",
          "2024-07-27",
          "2024-07-29",
          "2024-07-30",
          "2024-07-31",
          "2024-08-02",
          "2024-08-03",
          "2024-08-04",
          "2024-08-05"
         ],
         "xaxis": "x",
         "y": {
          "bdata": "AAAAAAAAAAAxpFFVvMvXP+gW7GK9U9Y/9LWnSlcrpj8AAAAAAAAAAIbCmnfDqNw/AAAAAAAAAAAAAAAAAAAAAKjNjkvbBMw/NLUvZ2fEyD9dCaJyOofPP2UYKSuufdE/",
          "dtype": "f8"
         },
         "yaxis": "y"
        },
        {
         "hovertemplate": "emoji=😢<br>dataset=Combined<br>date=%{x}<br>Percentage=%{y}<extra></extra>",
         "legendgroup": "😢",
         "line": {
          "color": "#636efa",
          "dash": "solid"
         },
         "marker": {
          "symbol": "circle"
         },
         "mode": "lines",
         "name": "😢",
         "orientation": "v",
         "showlegend": true,
         "type": "scatter",
         "x": [
          "2024-07-15",
          "2024-07-16",
          "2024-07-17",
          "2024-07-18",
          "2024-07-23",
          "2024-07-24",
          "2024-07-25",
          "2024-07-26",
          "2024-07-27",
          "2024-07-28",
          "2024-07-29",
          "2024-07-30",
          "2024-07-31",
          "2024-08-01",
          "2024-08-02",
          "2024-08-03",
          "2024-08-04",
          "2024-08-05"
         ],
         "xaxis": "x4",
         "y": {
          "bdata": "iH6zdeg3K0C4gA3WYqs8QC88zBmYAzBAZKE7pZC5MEB78vXxHIUQQK01XbWFSjhAOOpKFR68OEARtQGKE9Y7QGZRb62onDJAF1hOzzU0KkDbX0E+sCQVQA/DW6NGYSNAYFCC3JatIEBN7sB4NDwlQNRaLt1C3ChAMVwaZsHWFUCLmBRCEBAQQKQZn1FxCg1A",
          "dtype": "f8"
         },
         "yaxis": "y4"
        },
        {
         "hovertemplate": "emoji=😢<br>dataset=StudentsAgainstDiscrimination<br>date=%{x}<br>Percentage=%{y}<extra></extra>",
         "legendgroup": "😢",
         "line": {
          "color": "#636efa",
          "dash": "solid"
         },
         "marker": {
          "symbol": "circle"
         },
         "mode": "lines",
         "name": "😢",
         "orientation": "v",
         "showlegend": false,
         "type": "scatter",
         "x": [
          "2024-07-16",
          "2024-07-17",
          "2024-07-18",
          "2024-07-23",
          "2024-07-24",
          "2024-07-25",
          "2024-07-26",
          "2024-07-27",
          "2024-07-28",
          "2024-07-29",
          "2024-07-30",
          "2024-07-31",
          "2024-08-01",
          "2024-08-02",
          "2024-08-03",
          "2024-08-04",
          "2024-08-05"
         ],
         "xaxis": "x3",
         "y": {
          "bdata": "AAAAAAAAAAA9J5rj/GQsQCcyER637CpALS0tLS1tJkAqx5X+mhxAQFPOdmTKVTpA1Kmr7vjXOkB8GmnG4uMyQCj7jO8QVCpADtwaxYNRFUBEuuyop9klQNTFzpFLriJAUeRf6QsLJkBpUmjqY3ooQFzj3r/vihNAR+yTCZAOBkCerS9FJmz2Pw==",
          "dtype": "f8"
         },
         "yaxis": "y3"
        },
        {
         "hovertemplate": "emoji=😢<br>dataset=antiquotadu<br>date=%{x}<br>Percentage=%{y}<extra></extra>",
         "legendgroup": "😢",
         "line": {
          "color": "#636efa",
          "dash": "solid"
         },
         "marker": {
          "symbol": "circle"
         },
         "mode": "lines",
         "name": "😢",
         "orientation": "v",
         "showlegend": false,
         "type": "scatter",
         "x": [
          "2024-07-15",
          "2024-07-16",
          "2024-07-17",
          "2024-07-18",
          "2024-07-24",
          "2024-07-25",
          "2024-07-26",
          "2024-07-27",
          "2024-07-28",
          "2024-07-29",
          "2024-07-30",
          "2024-07-31",
          "2024-08-01",
          "2024-08-02",
          "2024-08-03",
          "2024-08-04",
          "2024-08-05"
         ],
         "xaxis": "x2",
         "y": {
          "bdata": "iH6zdeg3K0CXQApd/Ps8QGNZkGw7HjZAOjg989/RPkDyV1oLeUs8QOiYsbpfrUBAmjcQmjcQQECFLT2oTtgrQJf9pB/ntClAyQsi1GTq1j9gg3D4UIwqQJM4hHfiyu4/vyFhxuk8IECgMCt0vUoyQHmpDZKlURdAXe1hkmBKH0BwroS3K+wKQA==",
          "dtype": "f8"
         },
         "yaxis": "y2"
        },
        {
         "hovertemplate": "emoji=😢<br>dataset=pusab<br>date=%{x}<br>Percentage=%{y}<extra></extra>",
         "legendgroup": "😢",
         "line": {
          "color": "#636efa",
          "dash": "solid"
         },
         "marker": {
          "symbol": "circle"
         },
         "mode": "lines",
         "name": "😢",
         "orientation": "v",
         "showlegend": false,
         "type": "scatter",
         "x": [
          "2024-07-23",
          "2024-07-24",
          "2024-07-25",
          "2024-07-26",
          "2024-07-27",
          "2024-07-29",
          "2024-07-30",
          "2024-07-31",
          "2024-08-02",
          "2024-08-03",
          "2024-08-04",
          "2024-08-05"
         ],
         "xaxis": "x",
         "y": {
          "bdata": "AAAAAAAAAADKyWiSaJsIQAw8gUSo1SVAe9oOXGmZPEDvlxoBcyo7QHqs08NYTx5AAAAAAAAAAABJ7A1hQ78mQAVWK3Bz/CFA3FT3d9HaHEDOxqfljuIYQJFYydHHDCBA",
          "dtype": "f8"
         },
         "yaxis": "y"
        },
        {
         "hovertemplate": "emoji=😁<br>dataset=Combined<br>date=%{x}<br>Percentage=%{y}<extra></extra>",
         "legendgroup": "😁",
         "line": {
          "color": "#EF553B",
          "dash": "solid"
         },
         "marker": {
          "symbol": "circle"
         },
         "mode": "lines",
         "name": "😁",
         "orientation": "v",
         "showlegend": true,
         "type": "scatter",
         "x": [
          "2024-07-15",
          "2024-07-16",
          "2024-07-17",
          "2024-07-18",
          "2024-07-23",
          "2024-07-24",
          "2024-07-25",
          "2024-07-26",
          "2024-07-27",
          "2024-07-28",
          "2024-07-29",
          "2024-07-30",
          "2024-07-31",
          "2024-08-01",
          "2024-08-02",
          "2024-08-03",
          "2024-08-04",
          "2024-08-05"
         ],
         "xaxis": "x4",
         "y": {
          "bdata": "AAAAAAAAAAAAAAAAAAAAACcYIm6GixFAulMKmQMyGEAAAAAAAAAAADK1PhDGs/k/eOxnuCCFAUASwCWWk0QHQFvYm7+FDhBAW5ivXtOhHUCEp4KuDlQIQO0UVGFzAaU/Cgao2lGQB0CKTK2dVPQFQEPZw4+UYwlAIJ4af9/CEUDXr3SNWbEcQGKL7t0Y+xNA",
          "dtype": "f8"
         },
         "yaxis": "y4"
        },
        {
         "hovertemplate": "emoji=😁<br>dataset=StudentsAgainstDiscrimination<br>date=%{x}<br>Percentage=%{y}<extra></extra>",
         "legendgroup": "😁",
         "line": {
          "color": "#EF553B",
          "dash": "solid"
         },
         "marker": {
          "symbol": "circle"
         },
         "mode": "lines",
         "name": "😁",
         "orientation": "v",
         "showlegend": false,
         "type": "scatter",
         "x": [
          "2024-07-16",
          "2024-07-17",
          "2024-07-18",
          "2024-07-23",
          "2024-07-24",
          "2024-07-25",
          "2024-07-26",
          "2024-07-27",
          "2024-07-28",
          "2024-07-29",
          "2024-07-30",
          "2024-07-31",
          "2024-08-01",
          "2024-08-02",
          "2024-08-03",
          "2024-08-04",
          "2024-08-05"
         ],
         "xaxis": "x3",
         "y": {
          "bdata": "AAAAAAAAAABtqrp+X8QWQCKx3oS6yx1AAAAAAAAAAAAoQcK1ykUCQLmLdzQ0ZQpA1MVnP32bEEBGiu4TktUXQHj6sjIChiJAwswKdK2cDkCBibci56CqPwh0IueE7g1AxahX6wyBCUDiHX9zdfIPQOLt5s3YzxhA4dOVeiF8JEBQsUnZyLMWQA==",
          "dtype": "f8"
         },
         "yaxis": "y3"
        },
        {
         "hovertemplate": "emoji=😁<br>dataset=antiquotadu<br>date=%{x}<br>Percentage=%{y}<extra></extra>",
         "legendgroup": "😁",
         "line": {
          "color": "#EF553B",
          "dash": "solid"
         },
         "marker": {
          "symbol": "circle"
         },
         "mode": "lines",
         "name": "😁",
         "orientation": "v",
         "showlegend": false,
         "type": "scatter",
         "x": [
          "2024-07-15",
          "2024-07-16",
          "2024-07-17",
          "2024-07-18",
          "2024-07-24",
          "2024-07-25",
          "2024-07-26",
          "2024-07-27",
          "2024-07-28",
          "2024-07-29",
          "2024-07-30",
          "2024-07-31",
          "2024-08-01",
          "2024-08-02",
          "2024-08-03",
          "2024-08-04",
          "2024-08-05"
         ],
         "xaxis": "x2",
         "y": {
          "bdata": "AAAAAAAAAAAAAAAAAAAAAAAAAAAAAAAAAAAAAAAAAAAAAAAAAAAAAAAAAAAAAAAAAAAAAAAAAAAAAAAAAAAAAAAAAAAAAAAAAAAAAAAAAAAAAAAAAAAAAAAAAAAAAAAAAAAAAAAAAAAAAAAAAAAAAAAAAAAAAAAAAAAAAAAAAABdbEQy5Hp8Pw==",
          "dtype": "f8"
         },
         "yaxis": "y2"
        },
        {
         "hovertemplate": "emoji=😁<br>dataset=pusab<br>date=%{x}<br>Percentage=%{y}<extra></extra>",
         "legendgroup": "😁",
         "line": {
          "color": "#EF553B",
          "dash": "solid"
         },
         "marker": {
          "symbol": "circle"
         },
         "mode": "lines",
         "name": "😁",
         "orientation": "v",
         "showlegend": false,
         "type": "scatter",
         "x": [
          "2024-07-23",
          "2024-07-24",
          "2024-07-25",
          "2024-07-26",
          "2024-07-27",
          "2024-07-29",
          "2024-07-30",
          "2024-07-31",
          "2024-08-02",
          "2024-08-03",
          "2024-08-04",
          "2024-08-05"
         ],
         "xaxis": "x",
         "y": {
          "bdata": "AAAAAAAAAADNDfVgC43UP8FNeB7cEuE/d8j9d4GgsD90D0pSlBbZP7CEhbzBucg/AAAAAAAAAAAAAAAAAAAAAKjNjkvbBKw/ffnwzyZZ1z/n6Lx0ZXXkPyQIcDlZIxdA",
          "dtype": "f8"
         },
         "yaxis": "y"
        },
        {
         "hovertemplate": "emoji=👍<br>dataset=Combined<br>date=%{x}<br>Percentage=%{y}<extra></extra>",
         "legendgroup": "👍",
         "line": {
          "color": "#00cc96",
          "dash": "solid"
         },
         "marker": {
          "symbol": "circle"
         },
         "mode": "lines",
         "name": "👍",
         "orientation": "v",
         "showlegend": true,
         "type": "scatter",
         "x": [
          "2024-07-15",
          "2024-07-16",
          "2024-07-17",
          "2024-07-18",
          "2024-07-23",
          "2024-07-24",
          "2024-07-25",
          "2024-07-26",
          "2024-07-27",
          "2024-07-28",
          "2024-07-29",
          "2024-07-30",
          "2024-07-31",
          "2024-08-01",
          "2024-08-02",
          "2024-08-03",
          "2024-08-04",
          "2024-08-05"
         ],
         "xaxis": "x4",
         "y": {
          "bdata": "nK1Dv9k6FED6zKR3TyIOQIClABS3LB5AangePOtgIkCPT7EN/dwpQIC2Cc/5lipA2638yVwSNkAc5lKCJn4uQCObKU4WvyJAEiw82eOqK0Bq4O4M8Y4qQBcmM/BwrSZAWtkE5GXsJkAz/rOXEmAkQH5tsokBth5A6WZWOgOLIkCMgp329vwlQKWQdM6+UiVA",
          "dtype": "f8"
         },
         "yaxis": "y4"
        },
        {
         "hovertemplate": "emoji=👍<br>dataset=StudentsAgainstDiscrimination<br>date=%{x}<br>Percentage=%{y}<extra></extra>",
         "legendgroup": "👍",
         "line": {
          "color": "#00cc96",
          "dash": "solid"
         },
         "marker": {
          "symbol": "circle"
         },
         "mode": "lines",
         "name": "👍",
         "orientation": "v",
         "showlegend": false,
         "type": "scatter",
         "x": [
          "2024-07-16",
          "2024-07-17",
          "2024-07-18",
          "2024-07-23",
          "2024-07-24",
          "2024-07-25",
          "2024-07-26",
          "2024-07-27",
          "2024-07-28",
          "2024-07-29",
          "2024-07-30",
          "2024-07-31",
          "2024-08-01",
          "2024-08-02",
          "2024-08-03",
          "2024-08-04",
          "2024-08-05"
         ],
         "xaxis": "x3",
         "y": {
          "bdata": "YRRwaD7X/z+tDS97IYUhQFcOX6FfaSNApqWlpaWlIUDuqZBK2gMmQBCv4i0/nTZA5cyPJEorLUAE6faOau8jQKvuwfRvuixAh/lS+H4BKkDtvsjzrJwnQDWIYItbjShAU26bwll+JUBEDwrxHWEgQFVSCE1iPiJApoiV9VwDJUDULT+IKKYmQA==",
          "dtype": "f8"
         },
         "yaxis": "y3"
        },
        {
         "hovertemplate": "emoji=👍<br>dataset=antiquotadu<br>date=%{x}<br>Percentage=%{y}<extra></extra>",
         "legendgroup": "👍",
         "line": {
          "color": "#00cc96",
          "dash": "solid"
         },
         "marker": {
          "symbol": "circle"
         },
         "mode": "lines",
         "name": "👍",
         "orientation": "v",
         "showlegend": false,
         "type": "scatter",
         "x": [
          "2024-07-15",
          "2024-07-16",
          "2024-07-17",
          "2024-07-18",
          "2024-07-24",
          "2024-07-25",
          "2024-07-26",
          "2024-07-27",
          "2024-07-28",
          "2024-07-29",
          "2024-07-30",
          "2024-07-31",
          "2024-08-01",
          "2024-08-02",
          "2024-08-03",
          "2024-08-04",
          "2024-08-05"
         ],
         "xaxis": "x2",
         "y": {
          "bdata": "nK1Dv9k6FEBg7hMRRUoOQK0kwiTjpwtAiuBJXtDUG0CAH3t+qdwkQITfRE/ndjJA9qe79qe7HEBDeQ3lNZQfQF0FPZexbSdAy2ZFOuEYJkDQCud+A6ktQHARSgzEtSFAml3kavPqGkDBizH3XJ4YQJQD10kPCxpAMSBuGvxQJkBMgbCu87UtQA==",
          "dtype": "f8"
         },
         "yaxis": "y2"
        },
        {
         "hovertemplate": "emoji=👍<br>dataset=pusab<br>date=%{x}<br>Percentage=%{y}<extra></extra>",
         "legendgroup": "👍",
         "line": {
          "color": "#00cc96",
          "dash": "solid"
         },
         "marker": {
          "symbol": "circle"
         },
         "mode": "lines",
         "name": "👍",
         "orientation": "v",
         "showlegend": false,
         "type": "scatter",
         "x": [
          "2024-07-23",
          "2024-07-24",
          "2024-07-25",
          "2024-07-26",
          "2024-07-27",
          "2024-07-29",
          "2024-07-30",
          "2024-07-31",
          "2024-08-02",
          "2024-08-03",
          "2024-08-04",
          "2024-08-05"
         ],
         "xaxis": "x",
         "y": {
          "bdata": "mr2Jwl+nLkAjGbfY+98zQFbYGjn5uDdAcnO3diYeOEDeEtxJ4KMhQGyWDBDu9S9AiIw0ai9nGUBpkMXYTc4eQJ1uAe59bRVAZfj23ES5JUDhCo1anSEpQOfbRZKBfx5A",
          "dtype": "f8"
         },
         "yaxis": "y"
        },
        {
         "hovertemplate": "emoji=💯<br>dataset=Combined<br>date=%{x}<br>Percentage=%{y}<extra></extra>",
         "legendgroup": "💯",
         "line": {
          "color": "#ab63fa",
          "dash": "solid"
         },
         "marker": {
          "symbol": "circle"
         },
         "mode": "lines",
         "name": "💯",
         "orientation": "v",
         "showlegend": true,
         "type": "scatter",
         "x": [
          "2024-07-15",
          "2024-07-16",
          "2024-07-17",
          "2024-07-18",
          "2024-07-23",
          "2024-07-24",
          "2024-07-25",
          "2024-07-26",
          "2024-07-27",
          "2024-07-28",
          "2024-07-29",
          "2024-07-30",
          "2024-07-31",
          "2024-08-01",
          "2024-08-02",
          "2024-08-03",
          "2024-08-04",
          "2024-08-05"
         ],
         "xaxis": "x4",
         "y": {
          "bdata": "AAAAAAAAAAAexXMayW++P4cocuGdAqQ//aRt0QaLpD8AAAAAAAAAAJd47xjrT8M/fX7FIsyOsj+B7aiBG1quP+MTg45avME/oMNiTaxf0j9X9GtBJVnPP+P2czKW+bY/sHf+oOSVpD/tGeDdjZi6P1bvXeDYGso/7fTM8VZ/nD9jMUfknaq6P3ijNzX+ktE/",
          "dtype": "f8"
         },
         "yaxis": "y4"
        },
        {
         "hovertemplate": "emoji=💯<br>dataset=StudentsAgainstDiscrimination<br>date=%{x}<br>Percentage=%{y}<extra></extra>",
         "legendgroup": "💯",
         "line": {
          "color": "#ab63fa",
          "dash": "solid"
         },
         "marker": {
          "symbol": "circle"
         },
         "mode": "lines",
         "name": "💯",
         "orientation": "v",
         "showlegend": false,
         "type": "scatter",
         "x": [
          "2024-07-16",
          "2024-07-17",
          "2024-07-18",
          "2024-07-23",
          "2024-07-24",
          "2024-07-25",
          "2024-07-26",
          "2024-07-27",
          "2024-07-28",
          "2024-07-29",
          "2024-07-30",
          "2024-07-31",
          "2024-08-01",
          "2024-08-02",
          "2024-08-03",
          "2024-08-04",
          "2024-08-05"
         ],
         "xaxis": "x3",
         "y": {
          "bdata": "AAAAAAAAAADOyDlES/V/P/7G4A4AJZM/AAAAAAAAAACSMxeX+bfIPwAAAAAAAAAAAAAAAAAAAACJY/KxNgi5P5SbxSip04w/0+SJVn2Zyz/xtbJ1kKSQP8yLvm6OXoM/s4ZXWWrdtT/rrHt+nKicP9YmEiAj0ZU/GMR/xd6MsT9PMk2hN5LaPw==",
          "dtype": "f8"
         },
         "yaxis": "y3"
        },
        {
         "hovertemplate": "emoji=💯<br>dataset=antiquotadu<br>date=%{x}<br>Percentage=%{y}<extra></extra>",
         "legendgroup": "💯",
         "line": {
          "color": "#ab63fa",
          "dash": "solid"
         },
         "marker": {
          "symbol": "circle"
         },
         "mode": "lines",
         "name": "💯",
         "orientation": "v",
         "showlegend": false,
         "type": "scatter",
         "x": [
          "2024-07-15",
          "2024-07-16",
          "2024-07-17",
          "2024-07-18",
          "2024-07-24",
          "2024-07-25",
          "2024-07-26",
          "2024-07-27",
          "2024-07-28",
          "2024-07-29",
          "2024-07-30",
          "2024-07-31",
          "2024-08-01",
          "2024-08-02",
          "2024-08-03",
          "2024-08-04",
          "2024-08-05"
         ],
         "xaxis": "x2",
         "y": {
          "bdata": "AAAAAAAAAAAZ7v96WsW+Px9FOBJmdMI/aUP8KCX8wD8JRspPzfzTP1ZI10EYuNk/HpP1HJP13D/9tLHov0+rP2dfKmHjDPY/Ea2LgCdf7D/T72K7e0bhPwfwIBpQcs4/xPsjzqftyz/ZQ9bOXVn/P5luJDBkhMM/5ixx/KIS3j80Ao7NXs/JPw==",
          "dtype": "f8"
         },
         "yaxis": "y2"
        },
        {
         "hovertemplate": "emoji=💯<br>dataset=pusab<br>date=%{x}<br>Percentage=%{y}<extra></extra>",
         "legendgroup": "💯",
         "line": {
          "color": "#ab63fa",
          "dash": "solid"
         },
         "marker": {
          "symbol": "circle"
         },
         "mode": "lines",
         "name": "💯",
         "orientation": "v",
         "showlegend": false,
         "type": "scatter",
         "x": [
          "2024-07-23",
          "2024-07-24",
          "2024-07-25",
          "2024-07-26",
          "2024-07-27",
          "2024-07-29",
          "2024-07-30",
          "2024-07-31",
          "2024-08-02",
          "2024-08-03",
          "2024-08-04",
          "2024-08-05"
         ],
         "xaxis": "x",
         "y": {
          "bdata": "AAAAAAAAAAAAAAAAAAAAAAAAAAAAAAAAAAAAAAAAAACXi7c979DiPwQ+bVTkOrQ/4hvFRs9b0D8AAAAAAAAAAAAAAAAAAAAAAAAAAAAAAAB7y9/W5PaZP6ZWCYhn9aE/",
          "dtype": "f8"
         },
         "yaxis": "y"
        },
        {
         "hovertemplate": "emoji=😭<br>dataset=Combined<br>date=%{x}<br>Percentage=%{y}<extra></extra>",
         "legendgroup": "😭",
         "line": {
          "color": "#FFA15A",
          "dash": "solid"
         },
         "marker": {
          "symbol": "circle"
         },
         "mode": "lines",
         "name": "😭",
         "orientation": "v",
         "showlegend": true,
         "type": "scatter",
         "x": [
          "2024-07-15",
          "2024-07-16",
          "2024-07-17",
          "2024-07-18",
          "2024-07-23",
          "2024-07-24",
          "2024-07-25",
          "2024-07-26",
          "2024-07-27",
          "2024-07-28",
          "2024-07-29",
          "2024-07-30",
          "2024-07-31",
          "2024-08-01",
          "2024-08-02",
          "2024-08-03",
          "2024-08-04",
          "2024-08-05"
         ],
         "xaxis": "x4",
         "y": {
          "bdata": "vEAmxQtkAkAAAAAAAAAAAGfh99AQ+QpAd5bvRCBVFUAAAAAAAAAAAGaObzwIvRBAurtWKB/VEkB0en9ACBsZQG3Qh3+gRBNAcoa1X7VM+j9SQkriuTjdP9x8BaSj+f4/rh3T5nXY8T9q8pMb0nf6P1nyp2/piQRAYFsXqhuI/D/4pa1G10HwP1SheTeL6u8/",
          "dtype": "f8"
         },
         "yaxis": "y4"
        },
        {
         "hovertemplate": "emoji=😭<br>dataset=StudentsAgainstDiscrimination<br>date=%{x}<br>Percentage=%{y}<extra></extra>",
         "legendgroup": "😭",
         "line": {
          "color": "#FFA15A",
          "dash": "solid"
         },
         "marker": {
          "symbol": "circle"
         },
         "mode": "lines",
         "name": "😭",
         "orientation": "v",
         "showlegend": false,
         "type": "scatter",
         "x": [
          "2024-07-16",
          "2024-07-17",
          "2024-07-18",
          "2024-07-23",
          "2024-07-24",
          "2024-07-25",
          "2024-07-26",
          "2024-07-27",
          "2024-07-28",
          "2024-07-29",
          "2024-07-30",
          "2024-07-31",
          "2024-08-01",
          "2024-08-02",
          "2024-08-03",
          "2024-08-04",
          "2024-08-05"
         ],
         "xaxis": "x3",
         "y": {
          "bdata": "AAAAAAAAAACmZGwnI4ARQFkDj10zRRpAAAAAAAAAAABSb04vgfYUQK7Y1i2iphVAT4ePQAZ8GUD7mSrXFaQYQLqyQHm2cABAaonNR+H/3T+i0thqIqIDQEtPgzGF2vM/axWjjV2//j+2MCEI+1gGQImpiqfKZf4/ViqOOnyq0D/iePTteUXTPw==",
          "dtype": "f8"
         },
         "yaxis": "y3"
        },
        {
         "hovertemplate": "emoji=😭<br>dataset=antiquotadu<br>date=%{x}<br>Percentage=%{y}<extra></extra>",
         "legendgroup": "😭",
         "line": {
          "color": "#FFA15A",
          "dash": "solid"
         },
         "marker": {
          "symbol": "circle"
         },
         "mode": "lines",
         "name": "😭",
         "orientation": "v",
         "showlegend": false,
         "type": "scatter",
         "x": [
          "2024-07-15",
          "2024-07-16",
          "2024-07-17",
          "2024-07-18",
          "2024-07-24",
          "2024-07-25",
          "2024-07-26",
          "2024-07-27",
          "2024-07-28",
          "2024-07-29",
          "2024-07-30",
          "2024-07-31",
          "2024-08-01",
          "2024-08-02",
          "2024-08-03",
          "2024-08-04",
          "2024-08-05"
         ],
         "xaxis": "x2",
         "y": {
          "bdata": "vEAmxQtkAkAAAAAAAAAAAAAAAAAAAAAAAAAAAAAAAAAAAAAAAAAAAAAAAAAAAAAAAAAAAAAAAAAAAAAAAAAAAAAAAAAAAAAAAAAAAAAAAAAAAAAAAAAAAAAAAAAAAAAAAAAAAAAAAAAAvAe1/CTDP5luJDBkhLM/pGQig/YH9z+6w2qfzszxPw==",
          "dtype": "f8"
         },
         "yaxis": "y2"
        },
        {
         "hovertemplate": "emoji=😭<br>dataset=pusab<br>date=%{x}<br>Percentage=%{y}<extra></extra>",
         "legendgroup": "😭",
         "line": {
          "color": "#FFA15A",
          "dash": "solid"
         },
         "marker": {
          "symbol": "circle"
         },
         "mode": "lines",
         "name": "😭",
         "orientation": "v",
         "showlegend": false,
         "type": "scatter",
         "x": [
          "2024-07-23",
          "2024-07-24",
          "2024-07-25",
          "2024-07-26",
          "2024-07-27",
          "2024-07-29",
          "2024-07-30",
          "2024-07-31",
          "2024-08-02",
          "2024-08-03",
          "2024-08-04",
          "2024-08-05"
         ],
         "xaxis": "x",
         "y": {
          "bdata": "AAAAAAAAAACJ0Vk0fhcFQOsQTiKbfxtAj9AHOdFjJUA1V30ZjkgbQJm563328uM/AAAAAAAAAADErAR+GIn9PzdLcPeMsAdA5HWgRZOXAEChqW3ikuAKQMqDxVE0TAJA",
          "dtype": "f8"
         },
         "yaxis": "y"
        }
       ],
       "layout": {
        "annotations": [
         {
          "font": {},
          "showarrow": false,
          "text": "dataset=pusab",
          "textangle": 90,
          "x": 0.98,
          "xanchor": "left",
          "xref": "paper",
          "y": 0.11375,
          "yanchor": "middle",
          "yref": "paper"
         },
         {
          "font": {},
          "showarrow": false,
          "text": "dataset=antiquotadu",
          "textangle": 90,
          "x": 0.98,
          "xanchor": "left",
          "xref": "paper",
          "y": 0.37124999999999997,
          "yanchor": "middle",
          "yref": "paper"
         },
         {
          "font": {},
          "showarrow": false,
          "text": "dataset=StudentsAgainstDiscrimination",
          "textangle": 90,
          "x": 0.98,
          "xanchor": "left",
          "xref": "paper",
          "y": 0.62875,
          "yanchor": "middle",
          "yref": "paper"
         },
         {
          "font": {},
          "showarrow": false,
          "text": "dataset=Combined",
          "textangle": 90,
          "x": 0.98,
          "xanchor": "left",
          "xref": "paper",
          "y": 0.88625,
          "yanchor": "middle",
          "yref": "paper"
         }
        ],
        "height": 1200,
        "legend": {
         "title": {
          "text": "emoji"
         },
         "tracegroupgap": 0
        },
        "template": {
         "data": {
          "bar": [
           {
            "error_x": {
             "color": "#2a3f5f"
            },
            "error_y": {
             "color": "#2a3f5f"
            },
            "marker": {
             "line": {
              "color": "#E5ECF6",
              "width": 0.5
             },
             "pattern": {
              "fillmode": "overlay",
              "size": 10,
              "solidity": 0.2
             }
            },
            "type": "bar"
           }
          ],
          "barpolar": [
           {
            "marker": {
             "line": {
              "color": "#E5ECF6",
              "width": 0.5
             },
             "pattern": {
              "fillmode": "overlay",
              "size": 10,
              "solidity": 0.2
             }
            },
            "type": "barpolar"
           }
          ],
          "carpet": [
           {
            "aaxis": {
             "endlinecolor": "#2a3f5f",
             "gridcolor": "white",
             "linecolor": "white",
             "minorgridcolor": "white",
             "startlinecolor": "#2a3f5f"
            },
            "baxis": {
             "endlinecolor": "#2a3f5f",
             "gridcolor": "white",
             "linecolor": "white",
             "minorgridcolor": "white",
             "startlinecolor": "#2a3f5f"
            },
            "type": "carpet"
           }
          ],
          "choropleth": [
           {
            "colorbar": {
             "outlinewidth": 0,
             "ticks": ""
            },
            "type": "choropleth"
           }
          ],
          "contour": [
           {
            "colorbar": {
             "outlinewidth": 0,
             "ticks": ""
            },
            "colorscale": [
             [
              0,
              "#0d0887"
             ],
             [
              0.1111111111111111,
              "#46039f"
             ],
             [
              0.2222222222222222,
              "#7201a8"
             ],
             [
              0.3333333333333333,
              "#9c179e"
             ],
             [
              0.4444444444444444,
              "#bd3786"
             ],
             [
              0.5555555555555556,
              "#d8576b"
             ],
             [
              0.6666666666666666,
              "#ed7953"
             ],
             [
              0.7777777777777778,
              "#fb9f3a"
             ],
             [
              0.8888888888888888,
              "#fdca26"
             ],
             [
              1,
              "#f0f921"
             ]
            ],
            "type": "contour"
           }
          ],
          "contourcarpet": [
           {
            "colorbar": {
             "outlinewidth": 0,
             "ticks": ""
            },
            "type": "contourcarpet"
           }
          ],
          "heatmap": [
           {
            "colorbar": {
             "outlinewidth": 0,
             "ticks": ""
            },
            "colorscale": [
             [
              0,
              "#0d0887"
             ],
             [
              0.1111111111111111,
              "#46039f"
             ],
             [
              0.2222222222222222,
              "#7201a8"
             ],
             [
              0.3333333333333333,
              "#9c179e"
             ],
             [
              0.4444444444444444,
              "#bd3786"
             ],
             [
              0.5555555555555556,
              "#d8576b"
             ],
             [
              0.6666666666666666,
              "#ed7953"
             ],
             [
              0.7777777777777778,
              "#fb9f3a"
             ],
             [
              0.8888888888888888,
              "#fdca26"
             ],
             [
              1,
              "#f0f921"
             ]
            ],
            "type": "heatmap"
           }
          ],
          "histogram": [
           {
            "marker": {
             "pattern": {
              "fillmode": "overlay",
              "size": 10,
              "solidity": 0.2
             }
            },
            "type": "histogram"
           }
          ],
          "histogram2d": [
           {
            "colorbar": {
             "outlinewidth": 0,
             "ticks": ""
            },
            "colorscale": [
             [
              0,
              "#0d0887"
             ],
             [
              0.1111111111111111,
              "#46039f"
             ],
             [
              0.2222222222222222,
              "#7201a8"
             ],
             [
              0.3333333333333333,
              "#9c179e"
             ],
             [
              0.4444444444444444,
              "#bd3786"
             ],
             [
              0.5555555555555556,
              "#d8576b"
             ],
             [
              0.6666666666666666,
              "#ed7953"
             ],
             [
              0.7777777777777778,
              "#fb9f3a"
             ],
             [
              0.8888888888888888,
              "#fdca26"
             ],
             [
              1,
              "#f0f921"
             ]
            ],
            "type": "histogram2d"
           }
          ],
          "histogram2dcontour": [
           {
            "colorbar": {
             "outlinewidth": 0,
             "ticks": ""
            },
            "colorscale": [
             [
              0,
              "#0d0887"
             ],
             [
              0.1111111111111111,
              "#46039f"
             ],
             [
              0.2222222222222222,
              "#7201a8"
             ],
             [
              0.3333333333333333,
              "#9c179e"
             ],
             [
              0.4444444444444444,
              "#bd3786"
             ],
             [
              0.5555555555555556,
              "#d8576b"
             ],
             [
              0.6666666666666666,
              "#ed7953"
             ],
             [
              0.7777777777777778,
              "#fb9f3a"
             ],
             [
              0.8888888888888888,
              "#fdca26"
             ],
             [
              1,
              "#f0f921"
             ]
            ],
            "type": "histogram2dcontour"
           }
          ],
          "mesh3d": [
           {
            "colorbar": {
             "outlinewidth": 0,
             "ticks": ""
            },
            "type": "mesh3d"
           }
          ],
          "parcoords": [
           {
            "line": {
             "colorbar": {
              "outlinewidth": 0,
              "ticks": ""
             }
            },
            "type": "parcoords"
           }
          ],
          "pie": [
           {
            "automargin": true,
            "type": "pie"
           }
          ],
          "scatter": [
           {
            "fillpattern": {
             "fillmode": "overlay",
             "size": 10,
             "solidity": 0.2
            },
            "type": "scatter"
           }
          ],
          "scatter3d": [
           {
            "line": {
             "colorbar": {
              "outlinewidth": 0,
              "ticks": ""
             }
            },
            "marker": {
             "colorbar": {
              "outlinewidth": 0,
              "ticks": ""
             }
            },
            "type": "scatter3d"
           }
          ],
          "scattercarpet": [
           {
            "marker": {
             "colorbar": {
              "outlinewidth": 0,
              "ticks": ""
             }
            },
            "type": "scattercarpet"
           }
          ],
          "scattergeo": [
           {
            "marker": {
             "colorbar": {
              "outlinewidth": 0,
              "ticks": ""
             }
            },
            "type": "scattergeo"
           }
          ],
          "scattergl": [
           {
            "marker": {
             "colorbar": {
              "outlinewidth": 0,
              "ticks": ""
             }
            },
            "type": "scattergl"
           }
          ],
          "scattermap": [
           {
            "marker": {
             "colorbar": {
              "outlinewidth": 0,
              "ticks": ""
             }
            },
            "type": "scattermap"
           }
          ],
          "scattermapbox": [
           {
            "marker": {
             "colorbar": {
              "outlinewidth": 0,
              "ticks": ""
             }
            },
            "type": "scattermapbox"
           }
          ],
          "scatterpolar": [
           {
            "marker": {
             "colorbar": {
              "outlinewidth": 0,
              "ticks": ""
             }
            },
            "type": "scatterpolar"
           }
          ],
          "scatterpolargl": [
           {
            "marker": {
             "colorbar": {
              "outlinewidth": 0,
              "ticks": ""
             }
            },
            "type": "scatterpolargl"
           }
          ],
          "scatterternary": [
           {
            "marker": {
             "colorbar": {
              "outlinewidth": 0,
              "ticks": ""
             }
            },
            "type": "scatterternary"
           }
          ],
          "surface": [
           {
            "colorbar": {
             "outlinewidth": 0,
             "ticks": ""
            },
            "colorscale": [
             [
              0,
              "#0d0887"
             ],
             [
              0.1111111111111111,
              "#46039f"
             ],
             [
              0.2222222222222222,
              "#7201a8"
             ],
             [
              0.3333333333333333,
              "#9c179e"
             ],
             [
              0.4444444444444444,
              "#bd3786"
             ],
             [
              0.5555555555555556,
              "#d8576b"
             ],
             [
              0.6666666666666666,
              "#ed7953"
             ],
             [
              0.7777777777777778,
              "#fb9f3a"
             ],
             [
              0.8888888888888888,
              "#fdca26"
             ],
             [
              1,
              "#f0f921"
             ]
            ],
            "type": "surface"
           }
          ],
          "table": [
           {
            "cells": {
             "fill": {
              "color": "#EBF0F8"
             },
             "line": {
              "color": "white"
             }
            },
            "header": {
             "fill": {
              "color": "#C8D4E3"
             },
             "line": {
              "color": "white"
             }
            },
            "type": "table"
           }
          ]
         },
         "layout": {
          "annotationdefaults": {
           "arrowcolor": "#2a3f5f",
           "arrowhead": 0,
           "arrowwidth": 1
          },
          "autotypenumbers": "strict",
          "coloraxis": {
           "colorbar": {
            "outlinewidth": 0,
            "ticks": ""
           }
          },
          "colorscale": {
           "diverging": [
            [
             0,
             "#8e0152"
            ],
            [
             0.1,
             "#c51b7d"
            ],
            [
             0.2,
             "#de77ae"
            ],
            [
             0.3,
             "#f1b6da"
            ],
            [
             0.4,
             "#fde0ef"
            ],
            [
             0.5,
             "#f7f7f7"
            ],
            [
             0.6,
             "#e6f5d0"
            ],
            [
             0.7,
             "#b8e186"
            ],
            [
             0.8,
             "#7fbc41"
            ],
            [
             0.9,
             "#4d9221"
            ],
            [
             1,
             "#276419"
            ]
           ],
           "sequential": [
            [
             0,
             "#0d0887"
            ],
            [
             0.1111111111111111,
             "#46039f"
            ],
            [
             0.2222222222222222,
             "#7201a8"
            ],
            [
             0.3333333333333333,
             "#9c179e"
            ],
            [
             0.4444444444444444,
             "#bd3786"
            ],
            [
             0.5555555555555556,
             "#d8576b"
            ],
            [
             0.6666666666666666,
             "#ed7953"
            ],
            [
             0.7777777777777778,
             "#fb9f3a"
            ],
            [
             0.8888888888888888,
             "#fdca26"
            ],
            [
             1,
             "#f0f921"
            ]
           ],
           "sequentialminus": [
            [
             0,
             "#0d0887"
            ],
            [
             0.1111111111111111,
             "#46039f"
            ],
            [
             0.2222222222222222,
             "#7201a8"
            ],
            [
             0.3333333333333333,
             "#9c179e"
            ],
            [
             0.4444444444444444,
             "#bd3786"
            ],
            [
             0.5555555555555556,
             "#d8576b"
            ],
            [
             0.6666666666666666,
             "#ed7953"
            ],
            [
             0.7777777777777778,
             "#fb9f3a"
            ],
            [
             0.8888888888888888,
             "#fdca26"
            ],
            [
             1,
             "#f0f921"
            ]
           ]
          },
          "colorway": [
           "#636efa",
           "#EF553B",
           "#00cc96",
           "#ab63fa",
           "#FFA15A",
           "#19d3f3",
           "#FF6692",
           "#B6E880",
           "#FF97FF",
           "#FECB52"
          ],
          "font": {
           "color": "#2a3f5f"
          },
          "geo": {
           "bgcolor": "white",
           "lakecolor": "white",
           "landcolor": "#E5ECF6",
           "showlakes": true,
           "showland": true,
           "subunitcolor": "white"
          },
          "hoverlabel": {
           "align": "left"
          },
          "hovermode": "closest",
          "mapbox": {
           "style": "light"
          },
          "paper_bgcolor": "white",
          "plot_bgcolor": "#E5ECF6",
          "polar": {
           "angularaxis": {
            "gridcolor": "white",
            "linecolor": "white",
            "ticks": ""
           },
           "bgcolor": "#E5ECF6",
           "radialaxis": {
            "gridcolor": "white",
            "linecolor": "white",
            "ticks": ""
           }
          },
          "scene": {
           "xaxis": {
            "backgroundcolor": "#E5ECF6",
            "gridcolor": "white",
            "gridwidth": 2,
            "linecolor": "white",
            "showbackground": true,
            "ticks": "",
            "zerolinecolor": "white"
           },
           "yaxis": {
            "backgroundcolor": "#E5ECF6",
            "gridcolor": "white",
            "gridwidth": 2,
            "linecolor": "white",
            "showbackground": true,
            "ticks": "",
            "zerolinecolor": "white"
           },
           "zaxis": {
            "backgroundcolor": "#E5ECF6",
            "gridcolor": "white",
            "gridwidth": 2,
            "linecolor": "white",
            "showbackground": true,
            "ticks": "",
            "zerolinecolor": "white"
           }
          },
          "shapedefaults": {
           "line": {
            "color": "#2a3f5f"
           }
          },
          "ternary": {
           "aaxis": {
            "gridcolor": "white",
            "linecolor": "white",
            "ticks": ""
           },
           "baxis": {
            "gridcolor": "white",
            "linecolor": "white",
            "ticks": ""
           },
           "bgcolor": "#E5ECF6",
           "caxis": {
            "gridcolor": "white",
            "linecolor": "white",
            "ticks": ""
           }
          },
          "title": {
           "x": 0.05
          },
          "xaxis": {
           "automargin": true,
           "gridcolor": "white",
           "linecolor": "white",
           "ticks": "",
           "title": {
            "standoff": 15
           },
           "zerolinecolor": "white",
           "zerolinewidth": 2
          },
          "yaxis": {
           "automargin": true,
           "gridcolor": "white",
           "linecolor": "white",
           "ticks": "",
           "title": {
            "standoff": 15
           },
           "zerolinecolor": "white",
           "zerolinewidth": 2
          }
         }
        },
        "title": {
         "text": "Percentage of each Emoji for each day in channels"
        },
        "xaxis": {
         "anchor": "y",
         "domain": [
          0,
          0.98
         ],
         "title": {
          "text": "date"
         }
        },
        "xaxis2": {
         "anchor": "y2",
         "domain": [
          0,
          0.98
         ],
         "matches": "x",
         "showticklabels": false
        },
        "xaxis3": {
         "anchor": "y3",
         "domain": [
          0,
          0.98
         ],
         "matches": "x",
         "showticklabels": false
        },
        "xaxis4": {
         "anchor": "y4",
         "domain": [
          0,
          0.98
         ],
         "matches": "x",
         "showticklabels": false
        },
        "yaxis": {
         "anchor": "x",
         "domain": [
          0,
          0.2275
         ],
         "range": [
          0,
          100
         ],
         "title": {
          "text": "Percentage"
         }
        },
        "yaxis2": {
         "anchor": "x2",
         "domain": [
          0.2575,
          0.485
         ],
         "matches": "y",
         "range": [
          0,
          100
         ],
         "title": {
          "text": "Percentage"
         }
        },
        "yaxis3": {
         "anchor": "x3",
         "domain": [
          0.515,
          0.7425
         ],
         "matches": "y",
         "range": [
          0,
          100
         ],
         "title": {
          "text": "Percentage"
         }
        },
        "yaxis4": {
         "anchor": "x4",
         "domain": [
          0.7725,
          1
         ],
         "matches": "y",
         "range": [
          0,
          100
         ],
         "title": {
          "text": "Percentage"
         }
        }
       }
      }
     },
     "metadata": {},
     "output_type": "display_data"
    }
   ],
   "source": [
    "\n",
    "fig = px.line(emoji_perc, x='date', y='Percentage', color='emoji', facet_row='dataset', height=1200, title=\"Percentage of each Emoji for each day in channels\", range_y=[0,100])\n",
    "\n",
    "# fig.update_yaxes(matches=None)\n",
    "# fig.update_yaxes()\n",
    "fig.show()"
   ]
  },
  {
   "cell_type": "code",
   "execution_count": 62,
   "metadata": {},
   "outputs": [
    {
     "data": {
      "application/vnd.plotly.v1+json": {
       "config": {
        "plotlyServerURL": "https://plot.ly"
       },
       "data": [
        {
         "hovertemplate": "ekman_emotion=Anger<br>dataset=Combined<br>date=%{x}<br>counts=%{y}<extra></extra>",
         "legendgroup": "Anger",
         "line": {
          "color": "#636efa",
          "dash": "solid"
         },
         "marker": {
          "symbol": "circle"
         },
         "mode": "lines",
         "name": "Anger",
         "orientation": "v",
         "showlegend": true,
         "type": "scatter",
         "x": [
          "2024-07-15",
          "2024-07-16",
          "2024-07-17",
          "2024-07-18",
          "2024-07-24",
          "2024-07-25",
          "2024-07-26",
          "2024-07-27",
          "2024-07-28",
          "2024-07-29",
          "2024-07-30",
          "2024-07-31",
          "2024-08-01",
          "2024-08-02",
          "2024-08-03",
          "2024-08-04",
          "2024-08-05"
         ],
         "xaxis": "x4",
         "y": {
          "bdata": "EgBJAPMAYAAKAEQAJgAYADUAVAAbADYAOgCRAL4AxABiAA==",
          "dtype": "i2"
         },
         "yaxis": "y4"
        },
        {
         "hovertemplate": "ekman_emotion=Anger<br>dataset=StudentsAgainstDiscrimination<br>date=%{x}<br>counts=%{y}<extra></extra>",
         "legendgroup": "Anger",
         "line": {
          "color": "#636efa",
          "dash": "solid"
         },
         "marker": {
          "symbol": "circle"
         },
         "mode": "lines",
         "name": "Anger",
         "orientation": "v",
         "showlegend": false,
         "type": "scatter",
         "x": [
          "2024-07-16",
          "2024-07-17",
          "2024-07-18",
          "2024-07-24",
          "2024-07-25",
          "2024-07-26",
          "2024-07-27",
          "2024-07-28",
          "2024-07-29",
          "2024-07-30",
          "2024-07-31",
          "2024-08-01",
          "2024-08-02",
          "2024-08-03",
          "2024-08-04",
          "2024-08-05"
         ],
         "xaxis": "x3",
         "y": {
          "bdata": "AQCtADgABwA3AB8ADgAiAEAAGAAlAC4AawB+AIEANgA=",
          "dtype": "i2"
         },
         "yaxis": "y3"
        },
        {
         "hovertemplate": "ekman_emotion=Anger<br>dataset=antiquotadu<br>date=%{x}<br>counts=%{y}<extra></extra>",
         "legendgroup": "Anger",
         "line": {
          "color": "#636efa",
          "dash": "solid"
         },
         "marker": {
          "symbol": "circle"
         },
         "mode": "lines",
         "name": "Anger",
         "orientation": "v",
         "showlegend": false,
         "type": "scatter",
         "x": [
          "2024-07-15",
          "2024-07-16",
          "2024-07-17",
          "2024-07-18",
          "2024-07-24",
          "2024-07-25",
          "2024-07-26",
          "2024-07-27",
          "2024-07-28",
          "2024-07-29",
          "2024-07-30",
          "2024-07-31",
          "2024-08-01",
          "2024-08-02",
          "2024-08-03",
          "2024-08-04",
          "2024-08-05"
         ],
         "xaxis": "x2",
         "y": {
          "bdata": "EkhGKAIKBQoTEAEODB0mKRc=",
          "dtype": "i1"
         },
         "yaxis": "y2"
        },
        {
         "hovertemplate": "ekman_emotion=Anger<br>dataset=pusab<br>date=%{x}<br>counts=%{y}<extra></extra>",
         "legendgroup": "Anger",
         "line": {
          "color": "#636efa",
          "dash": "solid"
         },
         "marker": {
          "symbol": "circle"
         },
         "mode": "lines",
         "name": "Anger",
         "orientation": "v",
         "showlegend": false,
         "type": "scatter",
         "x": [
          "2024-07-24",
          "2024-07-25",
          "2024-07-26",
          "2024-07-29",
          "2024-07-30",
          "2024-07-31",
          "2024-08-02",
          "2024-08-03",
          "2024-08-04",
          "2024-08-05"
         ],
         "xaxis": "x",
         "y": {
          "bdata": "AQMCBAIDCRoaFQ==",
          "dtype": "i1"
         },
         "yaxis": "y"
        },
        {
         "hovertemplate": "ekman_emotion=Disgust<br>dataset=Combined<br>date=%{x}<br>counts=%{y}<extra></extra>",
         "legendgroup": "Disgust",
         "line": {
          "color": "#EF553B",
          "dash": "solid"
         },
         "marker": {
          "symbol": "circle"
         },
         "mode": "lines",
         "name": "Disgust",
         "orientation": "v",
         "showlegend": true,
         "type": "scatter",
         "x": [
          "2024-07-15",
          "2024-07-16",
          "2024-07-17",
          "2024-07-18",
          "2024-07-24",
          "2024-07-25",
          "2024-07-26",
          "2024-07-27",
          "2024-07-28",
          "2024-07-29",
          "2024-07-30",
          "2024-07-31",
          "2024-08-01",
          "2024-08-02",
          "2024-08-03",
          "2024-08-04",
          "2024-08-05"
         ],
         "xaxis": "x4",
         "y": {
          "bdata": "AgIYBgEHAgQHCAcIBhAKEAg=",
          "dtype": "i1"
         },
         "yaxis": "y4"
        },
        {
         "hovertemplate": "ekman_emotion=Disgust<br>dataset=StudentsAgainstDiscrimination<br>date=%{x}<br>counts=%{y}<extra></extra>",
         "legendgroup": "Disgust",
         "line": {
          "color": "#EF553B",
          "dash": "solid"
         },
         "marker": {
          "symbol": "circle"
         },
         "mode": "lines",
         "name": "Disgust",
         "orientation": "v",
         "showlegend": false,
         "type": "scatter",
         "x": [
          "2024-07-17",
          "2024-07-18",
          "2024-07-24",
          "2024-07-25",
          "2024-07-26",
          "2024-07-27",
          "2024-07-28",
          "2024-07-29",
          "2024-07-30",
          "2024-07-31",
          "2024-08-01",
          "2024-08-02",
          "2024-08-03",
          "2024-08-04",
          "2024-08-05"
         ],
         "xaxis": "x3",
         "y": {
          "bdata": "FAUBBwICBgcEBwYMCA4D",
          "dtype": "i1"
         },
         "yaxis": "y3"
        },
        {
         "hovertemplate": "ekman_emotion=Disgust<br>dataset=antiquotadu<br>date=%{x}<br>counts=%{y}<extra></extra>",
         "legendgroup": "Disgust",
         "line": {
          "color": "#EF553B",
          "dash": "solid"
         },
         "marker": {
          "symbol": "circle"
         },
         "mode": "lines",
         "name": "Disgust",
         "orientation": "v",
         "showlegend": false,
         "type": "scatter",
         "x": [
          "2024-07-15",
          "2024-07-16",
          "2024-07-17",
          "2024-07-18",
          "2024-07-27",
          "2024-07-28",
          "2024-07-29",
          "2024-07-30",
          "2024-07-31",
          "2024-08-02",
          "2024-08-03",
          "2024-08-04",
          "2024-08-05"
         ],
         "xaxis": "x2",
         "y": {
          "bdata": "AgIEAQIBAQIBBAEBAw==",
          "dtype": "i1"
         },
         "yaxis": "y2"
        },
        {
         "hovertemplate": "ekman_emotion=Disgust<br>dataset=pusab<br>date=%{x}<br>counts=%{y}<extra></extra>",
         "legendgroup": "Disgust",
         "line": {
          "color": "#EF553B",
          "dash": "solid"
         },
         "marker": {
          "symbol": "circle"
         },
         "mode": "lines",
         "name": "Disgust",
         "orientation": "v",
         "showlegend": false,
         "type": "scatter",
         "x": [
          "2024-07-30",
          "2024-08-03",
          "2024-08-04",
          "2024-08-05"
         ],
         "xaxis": "x",
         "y": {
          "bdata": "AQEBAg==",
          "dtype": "i1"
         },
         "yaxis": "y"
        },
        {
         "hovertemplate": "ekman_emotion=Fear<br>dataset=Combined<br>date=%{x}<br>counts=%{y}<extra></extra>",
         "legendgroup": "Fear",
         "line": {
          "color": "#00cc96",
          "dash": "solid"
         },
         "marker": {
          "symbol": "circle"
         },
         "mode": "lines",
         "name": "Fear",
         "orientation": "v",
         "showlegend": true,
         "type": "scatter",
         "x": [
          "2024-07-15",
          "2024-07-16",
          "2024-07-17",
          "2024-07-18",
          "2024-07-24",
          "2024-07-25",
          "2024-07-26",
          "2024-07-27",
          "2024-07-28",
          "2024-07-29",
          "2024-07-30",
          "2024-07-31",
          "2024-08-01",
          "2024-08-02",
          "2024-08-03",
          "2024-08-04",
          "2024-08-05"
         ],
         "xaxis": "x4",
         "y": {
          "bdata": "BxdJGgcNCAgMGQkJCB4qMB4=",
          "dtype": "i1"
         },
         "yaxis": "y4"
        },
        {
         "hovertemplate": "ekman_emotion=Fear<br>dataset=StudentsAgainstDiscrimination<br>date=%{x}<br>counts=%{y}<extra></extra>",
         "legendgroup": "Fear",
         "line": {
          "color": "#00cc96",
          "dash": "solid"
         },
         "marker": {
          "symbol": "circle"
         },
         "mode": "lines",
         "name": "Fear",
         "orientation": "v",
         "showlegend": false,
         "type": "scatter",
         "x": [
          "2024-07-17",
          "2024-07-18",
          "2024-07-24",
          "2024-07-25",
          "2024-07-26",
          "2024-07-27",
          "2024-07-28",
          "2024-07-29",
          "2024-07-30",
          "2024-07-31",
          "2024-08-01",
          "2024-08-02",
          "2024-08-03",
          "2024-08-04",
          "2024-08-05"
         ],
         "xaxis": "x3",
         "y": {
          "bdata": "NgsDCAMGBhYGBAgQGxUP",
          "dtype": "i1"
         },
         "yaxis": "y3"
        },
        {
         "hovertemplate": "ekman_emotion=Fear<br>dataset=antiquotadu<br>date=%{x}<br>counts=%{y}<extra></extra>",
         "legendgroup": "Fear",
         "line": {
          "color": "#00cc96",
          "dash": "solid"
         },
         "marker": {
          "symbol": "circle"
         },
         "mode": "lines",
         "name": "Fear",
         "orientation": "v",
         "showlegend": false,
         "type": "scatter",
         "x": [
          "2024-07-15",
          "2024-07-16",
          "2024-07-17",
          "2024-07-18",
          "2024-07-24",
          "2024-07-25",
          "2024-07-26",
          "2024-07-27",
          "2024-07-28",
          "2024-07-29",
          "2024-07-30",
          "2024-07-31",
          "2024-08-02",
          "2024-08-03",
          "2024-08-04",
          "2024-08-05"
         ],
         "xaxis": "x2",
         "y": {
          "bdata": "BxcTDwIDAQEGAQMDDAMNBw==",
          "dtype": "i1"
         },
         "yaxis": "y2"
        },
        {
         "hovertemplate": "ekman_emotion=Fear<br>dataset=pusab<br>date=%{x}<br>counts=%{y}<extra></extra>",
         "legendgroup": "Fear",
         "line": {
          "color": "#00cc96",
          "dash": "solid"
         },
         "marker": {
          "symbol": "circle"
         },
         "mode": "lines",
         "name": "Fear",
         "orientation": "v",
         "showlegend": false,
         "type": "scatter",
         "x": [
          "2024-07-24",
          "2024-07-25",
          "2024-07-26",
          "2024-07-27",
          "2024-07-29",
          "2024-07-31",
          "2024-08-02",
          "2024-08-03",
          "2024-08-04",
          "2024-08-05"
         ],
         "xaxis": "x",
         "y": {
          "bdata": "AgIEAQICAgwOCA==",
          "dtype": "i1"
         },
         "yaxis": "y"
        },
        {
         "hovertemplate": "ekman_emotion=Happiness<br>dataset=Combined<br>date=%{x}<br>counts=%{y}<extra></extra>",
         "legendgroup": "Happiness",
         "line": {
          "color": "#ab63fa",
          "dash": "solid"
         },
         "marker": {
          "symbol": "circle"
         },
         "mode": "lines",
         "name": "Happiness",
         "orientation": "v",
         "showlegend": true,
         "type": "scatter",
         "x": [
          "2024-07-15",
          "2024-07-16",
          "2024-07-17",
          "2024-07-18",
          "2024-07-23",
          "2024-07-24",
          "2024-07-25",
          "2024-07-26",
          "2024-07-27",
          "2024-07-28",
          "2024-07-29",
          "2024-07-30",
          "2024-07-31",
          "2024-08-01",
          "2024-08-02",
          "2024-08-03",
          "2024-08-04",
          "2024-08-05"
         ],
         "xaxis": "x4",
         "y": {
          "bdata": "GgBHAPoAbQABAAkAHwATABMAMACfACcARwBFALgADAE1AcoA",
          "dtype": "i2"
         },
         "yaxis": "y4"
        },
        {
         "hovertemplate": "ekman_emotion=Happiness<br>dataset=StudentsAgainstDiscrimination<br>date=%{x}<br>counts=%{y}<extra></extra>",
         "legendgroup": "Happiness",
         "line": {
          "color": "#ab63fa",
          "dash": "solid"
         },
         "marker": {
          "symbol": "circle"
         },
         "mode": "lines",
         "name": "Happiness",
         "orientation": "v",
         "showlegend": false,
         "type": "scatter",
         "x": [
          "2024-07-16",
          "2024-07-17",
          "2024-07-18",
          "2024-07-24",
          "2024-07-25",
          "2024-07-26",
          "2024-07-27",
          "2024-07-28",
          "2024-07-29",
          "2024-07-30",
          "2024-07-31",
          "2024-08-01",
          "2024-08-02",
          "2024-08-03",
          "2024-08-04",
          "2024-08-05"
         ],
         "xaxis": "x3",
         "y": {
          "bdata": "AgDOAEcABQAXABAACgAlAJEAIgAtAC8AhADBAMwAZAA=",
          "dtype": "i2"
         },
         "yaxis": "y3"
        },
        {
         "hovertemplate": "ekman_emotion=Happiness<br>dataset=antiquotadu<br>date=%{x}<br>counts=%{y}<extra></extra>",
         "legendgroup": "Happiness",
         "line": {
          "color": "#ab63fa",
          "dash": "solid"
         },
         "marker": {
          "symbol": "circle"
         },
         "mode": "lines",
         "name": "Happiness",
         "orientation": "v",
         "showlegend": false,
         "type": "scatter",
         "x": [
          "2024-07-15",
          "2024-07-16",
          "2024-07-17",
          "2024-07-18",
          "2024-07-24",
          "2024-07-25",
          "2024-07-26",
          "2024-07-27",
          "2024-07-28",
          "2024-07-29",
          "2024-07-30",
          "2024-07-31",
          "2024-08-01",
          "2024-08-02",
          "2024-08-03",
          "2024-08-04",
          "2024-08-05"
         ],
         "xaxis": "x2",
         "y": {
          "bdata": "GkUsJgEEAggLCQIaFiEYQy8=",
          "dtype": "i1"
         },
         "yaxis": "y2"
        },
        {
         "hovertemplate": "ekman_emotion=Happiness<br>dataset=pusab<br>date=%{x}<br>counts=%{y}<extra></extra>",
         "legendgroup": "Happiness",
         "line": {
          "color": "#ab63fa",
          "dash": "solid"
         },
         "marker": {
          "symbol": "circle"
         },
         "mode": "lines",
         "name": "Happiness",
         "orientation": "v",
         "showlegend": false,
         "type": "scatter",
         "x": [
          "2024-07-23",
          "2024-07-24",
          "2024-07-25",
          "2024-07-26",
          "2024-07-27",
          "2024-07-29",
          "2024-07-30",
          "2024-08-02",
          "2024-08-03",
          "2024-08-04",
          "2024-08-05"
         ],
         "xaxis": "x",
         "y": {
          "bdata": "AQMEAQEFAxMzJjc=",
          "dtype": "i1"
         },
         "yaxis": "y"
        },
        {
         "hovertemplate": "ekman_emotion=Sadness<br>dataset=Combined<br>date=%{x}<br>counts=%{y}<extra></extra>",
         "legendgroup": "Sadness",
         "line": {
          "color": "#FFA15A",
          "dash": "solid"
         },
         "marker": {
          "symbol": "circle"
         },
         "mode": "lines",
         "name": "Sadness",
         "orientation": "v",
         "showlegend": true,
         "type": "scatter",
         "x": [
          "2024-07-15",
          "2024-07-16",
          "2024-07-17",
          "2024-07-18",
          "2024-07-23",
          "2024-07-24",
          "2024-07-25",
          "2024-07-26",
          "2024-07-27",
          "2024-07-28",
          "2024-07-29",
          "2024-07-30",
          "2024-07-31",
          "2024-08-01",
          "2024-08-02",
          "2024-08-03",
          "2024-08-04",
          "2024-08-05"
         ],
         "xaxis": "x4",
         "y": {
          "bdata": "DAAyAIQAVgABAAsANQAvABMAGAApABEAEAAhADUAMwAlACUA",
          "dtype": "i2"
         },
         "yaxis": "y4"
        },
        {
         "hovertemplate": "ekman_emotion=Sadness<br>dataset=StudentsAgainstDiscrimination<br>date=%{x}<br>counts=%{y}<extra></extra>",
         "legendgroup": "Sadness",
         "line": {
          "color": "#FFA15A",
          "dash": "solid"
         },
         "marker": {
          "symbol": "circle"
         },
         "mode": "lines",
         "name": "Sadness",
         "orientation": "v",
         "showlegend": false,
         "type": "scatter",
         "x": [
          "2024-07-17",
          "2024-07-18",
          "2024-07-23",
          "2024-07-24",
          "2024-07-25",
          "2024-07-26",
          "2024-07-27",
          "2024-07-28",
          "2024-07-29",
          "2024-07-30",
          "2024-07-31",
          "2024-08-01",
          "2024-08-02",
          "2024-08-03",
          "2024-08-04",
          "2024-08-05"
         ],
         "xaxis": "x3",
         "y": {
          "bdata": "VC4BCigkDRQiDg4WLCYQDQ==",
          "dtype": "i1"
         },
         "yaxis": "y3"
        },
        {
         "hovertemplate": "ekman_emotion=Sadness<br>dataset=antiquotadu<br>date=%{x}<br>counts=%{y}<extra></extra>",
         "legendgroup": "Sadness",
         "line": {
          "color": "#FFA15A",
          "dash": "solid"
         },
         "marker": {
          "symbol": "circle"
         },
         "mode": "lines",
         "name": "Sadness",
         "orientation": "v",
         "showlegend": false,
         "type": "scatter",
         "x": [
          "2024-07-15",
          "2024-07-16",
          "2024-07-17",
          "2024-07-18",
          "2024-07-24",
          "2024-07-25",
          "2024-07-26",
          "2024-07-27",
          "2024-07-28",
          "2024-07-29",
          "2024-07-30",
          "2024-07-31",
          "2024-08-01",
          "2024-08-02",
          "2024-08-03",
          "2024-08-04",
          "2024-08-05"
         ],
         "xaxis": "x2",
         "y": {
          "bdata": "DDIwKAELCAUEBgMBCwcECgg=",
          "dtype": "i1"
         },
         "yaxis": "y2"
        },
        {
         "hovertemplate": "ekman_emotion=Sadness<br>dataset=pusab<br>date=%{x}<br>counts=%{y}<extra></extra>",
         "legendgroup": "Sadness",
         "line": {
          "color": "#FFA15A",
          "dash": "solid"
         },
         "marker": {
          "symbol": "circle"
         },
         "mode": "lines",
         "name": "Sadness",
         "orientation": "v",
         "showlegend": false,
         "type": "scatter",
         "x": [
          "2024-07-25",
          "2024-07-26",
          "2024-07-27",
          "2024-07-29",
          "2024-07-31",
          "2024-08-02",
          "2024-08-03",
          "2024-08-04",
          "2024-08-05"
         ],
         "xaxis": "x",
         "y": {
          "bdata": "AgMBAQECCQsQ",
          "dtype": "i1"
         },
         "yaxis": "y"
        },
        {
         "hovertemplate": "ekman_emotion=Surprise<br>dataset=Combined<br>date=%{x}<br>counts=%{y}<extra></extra>",
         "legendgroup": "Surprise",
         "line": {
          "color": "#19d3f3",
          "dash": "solid"
         },
         "marker": {
          "symbol": "circle"
         },
         "mode": "lines",
         "name": "Surprise",
         "orientation": "v",
         "showlegend": true,
         "type": "scatter",
         "x": [
          "2024-07-16",
          "2024-07-17",
          "2024-07-18",
          "2024-07-25",
          "2024-07-26",
          "2024-07-27",
          "2024-07-28",
          "2024-07-29",
          "2024-07-30",
          "2024-07-31",
          "2024-08-01",
          "2024-08-02",
          "2024-08-03",
          "2024-08-04",
          "2024-08-05"
         ],
         "xaxis": "x4",
         "y": {
          "bdata": "AxUEAQIFAwYBAQYGDAoL",
          "dtype": "i1"
         },
         "yaxis": "y4"
        },
        {
         "hovertemplate": "ekman_emotion=Surprise<br>dataset=StudentsAgainstDiscrimination<br>date=%{x}<br>counts=%{y}<extra></extra>",
         "legendgroup": "Surprise",
         "line": {
          "color": "#19d3f3",
          "dash": "solid"
         },
         "marker": {
          "symbol": "circle"
         },
         "mode": "lines",
         "name": "Surprise",
         "orientation": "v",
         "showlegend": false,
         "type": "scatter",
         "x": [
          "2024-07-16",
          "2024-07-17",
          "2024-07-18",
          "2024-07-25",
          "2024-07-26",
          "2024-07-27",
          "2024-07-28",
          "2024-07-29",
          "2024-07-30",
          "2024-08-01",
          "2024-08-02",
          "2024-08-03",
          "2024-08-04",
          "2024-08-05"
         ],
         "xaxis": "x3",
         "y": {
          "bdata": "AREBAQIDAwUBBAIIBwM=",
          "dtype": "i1"
         },
         "yaxis": "y3"
        },
        {
         "hovertemplate": "ekman_emotion=Surprise<br>dataset=antiquotadu<br>date=%{x}<br>counts=%{y}<extra></extra>",
         "legendgroup": "Surprise",
         "line": {
          "color": "#19d3f3",
          "dash": "solid"
         },
         "marker": {
          "symbol": "circle"
         },
         "mode": "lines",
         "name": "Surprise",
         "orientation": "v",
         "showlegend": false,
         "type": "scatter",
         "x": [
          "2024-07-16",
          "2024-07-17",
          "2024-07-18",
          "2024-07-27",
          "2024-07-29",
          "2024-07-31",
          "2024-08-01",
          "2024-08-02",
          "2024-08-03",
          "2024-08-04",
          "2024-08-05"
         ],
         "xaxis": "x2",
         "y": {
          "bdata": "AgQDAgEBAgMDAwM=",
          "dtype": "i1"
         },
         "yaxis": "y2"
        },
        {
         "hovertemplate": "ekman_emotion=Surprise<br>dataset=pusab<br>date=%{x}<br>counts=%{y}<extra></extra>",
         "legendgroup": "Surprise",
         "line": {
          "color": "#19d3f3",
          "dash": "solid"
         },
         "marker": {
          "symbol": "circle"
         },
         "mode": "lines",
         "name": "Surprise",
         "orientation": "v",
         "showlegend": false,
         "type": "scatter",
         "x": [
          "2024-08-02",
          "2024-08-03",
          "2024-08-05"
         ],
         "xaxis": "x",
         "y": {
          "bdata": "AQEF",
          "dtype": "i1"
         },
         "yaxis": "y"
        }
       ],
       "layout": {
        "annotations": [
         {
          "font": {},
          "showarrow": false,
          "text": "dataset=pusab",
          "textangle": 90,
          "x": 0.98,
          "xanchor": "left",
          "xref": "paper",
          "y": 0.11375,
          "yanchor": "middle",
          "yref": "paper"
         },
         {
          "font": {},
          "showarrow": false,
          "text": "dataset=antiquotadu",
          "textangle": 90,
          "x": 0.98,
          "xanchor": "left",
          "xref": "paper",
          "y": 0.37124999999999997,
          "yanchor": "middle",
          "yref": "paper"
         },
         {
          "font": {},
          "showarrow": false,
          "text": "dataset=StudentsAgainstDiscrimination",
          "textangle": 90,
          "x": 0.98,
          "xanchor": "left",
          "xref": "paper",
          "y": 0.62875,
          "yanchor": "middle",
          "yref": "paper"
         },
         {
          "font": {},
          "showarrow": false,
          "text": "dataset=Combined",
          "textangle": 90,
          "x": 0.98,
          "xanchor": "left",
          "xref": "paper",
          "y": 0.88625,
          "yanchor": "middle",
          "yref": "paper"
         }
        ],
        "height": 1200,
        "legend": {
         "title": {
          "text": "ekman_emotion"
         },
         "tracegroupgap": 0
        },
        "template": {
         "data": {
          "bar": [
           {
            "error_x": {
             "color": "#2a3f5f"
            },
            "error_y": {
             "color": "#2a3f5f"
            },
            "marker": {
             "line": {
              "color": "#E5ECF6",
              "width": 0.5
             },
             "pattern": {
              "fillmode": "overlay",
              "size": 10,
              "solidity": 0.2
             }
            },
            "type": "bar"
           }
          ],
          "barpolar": [
           {
            "marker": {
             "line": {
              "color": "#E5ECF6",
              "width": 0.5
             },
             "pattern": {
              "fillmode": "overlay",
              "size": 10,
              "solidity": 0.2
             }
            },
            "type": "barpolar"
           }
          ],
          "carpet": [
           {
            "aaxis": {
             "endlinecolor": "#2a3f5f",
             "gridcolor": "white",
             "linecolor": "white",
             "minorgridcolor": "white",
             "startlinecolor": "#2a3f5f"
            },
            "baxis": {
             "endlinecolor": "#2a3f5f",
             "gridcolor": "white",
             "linecolor": "white",
             "minorgridcolor": "white",
             "startlinecolor": "#2a3f5f"
            },
            "type": "carpet"
           }
          ],
          "choropleth": [
           {
            "colorbar": {
             "outlinewidth": 0,
             "ticks": ""
            },
            "type": "choropleth"
           }
          ],
          "contour": [
           {
            "colorbar": {
             "outlinewidth": 0,
             "ticks": ""
            },
            "colorscale": [
             [
              0,
              "#0d0887"
             ],
             [
              0.1111111111111111,
              "#46039f"
             ],
             [
              0.2222222222222222,
              "#7201a8"
             ],
             [
              0.3333333333333333,
              "#9c179e"
             ],
             [
              0.4444444444444444,
              "#bd3786"
             ],
             [
              0.5555555555555556,
              "#d8576b"
             ],
             [
              0.6666666666666666,
              "#ed7953"
             ],
             [
              0.7777777777777778,
              "#fb9f3a"
             ],
             [
              0.8888888888888888,
              "#fdca26"
             ],
             [
              1,
              "#f0f921"
             ]
            ],
            "type": "contour"
           }
          ],
          "contourcarpet": [
           {
            "colorbar": {
             "outlinewidth": 0,
             "ticks": ""
            },
            "type": "contourcarpet"
           }
          ],
          "heatmap": [
           {
            "colorbar": {
             "outlinewidth": 0,
             "ticks": ""
            },
            "colorscale": [
             [
              0,
              "#0d0887"
             ],
             [
              0.1111111111111111,
              "#46039f"
             ],
             [
              0.2222222222222222,
              "#7201a8"
             ],
             [
              0.3333333333333333,
              "#9c179e"
             ],
             [
              0.4444444444444444,
              "#bd3786"
             ],
             [
              0.5555555555555556,
              "#d8576b"
             ],
             [
              0.6666666666666666,
              "#ed7953"
             ],
             [
              0.7777777777777778,
              "#fb9f3a"
             ],
             [
              0.8888888888888888,
              "#fdca26"
             ],
             [
              1,
              "#f0f921"
             ]
            ],
            "type": "heatmap"
           }
          ],
          "histogram": [
           {
            "marker": {
             "pattern": {
              "fillmode": "overlay",
              "size": 10,
              "solidity": 0.2
             }
            },
            "type": "histogram"
           }
          ],
          "histogram2d": [
           {
            "colorbar": {
             "outlinewidth": 0,
             "ticks": ""
            },
            "colorscale": [
             [
              0,
              "#0d0887"
             ],
             [
              0.1111111111111111,
              "#46039f"
             ],
             [
              0.2222222222222222,
              "#7201a8"
             ],
             [
              0.3333333333333333,
              "#9c179e"
             ],
             [
              0.4444444444444444,
              "#bd3786"
             ],
             [
              0.5555555555555556,
              "#d8576b"
             ],
             [
              0.6666666666666666,
              "#ed7953"
             ],
             [
              0.7777777777777778,
              "#fb9f3a"
             ],
             [
              0.8888888888888888,
              "#fdca26"
             ],
             [
              1,
              "#f0f921"
             ]
            ],
            "type": "histogram2d"
           }
          ],
          "histogram2dcontour": [
           {
            "colorbar": {
             "outlinewidth": 0,
             "ticks": ""
            },
            "colorscale": [
             [
              0,
              "#0d0887"
             ],
             [
              0.1111111111111111,
              "#46039f"
             ],
             [
              0.2222222222222222,
              "#7201a8"
             ],
             [
              0.3333333333333333,
              "#9c179e"
             ],
             [
              0.4444444444444444,
              "#bd3786"
             ],
             [
              0.5555555555555556,
              "#d8576b"
             ],
             [
              0.6666666666666666,
              "#ed7953"
             ],
             [
              0.7777777777777778,
              "#fb9f3a"
             ],
             [
              0.8888888888888888,
              "#fdca26"
             ],
             [
              1,
              "#f0f921"
             ]
            ],
            "type": "histogram2dcontour"
           }
          ],
          "mesh3d": [
           {
            "colorbar": {
             "outlinewidth": 0,
             "ticks": ""
            },
            "type": "mesh3d"
           }
          ],
          "parcoords": [
           {
            "line": {
             "colorbar": {
              "outlinewidth": 0,
              "ticks": ""
             }
            },
            "type": "parcoords"
           }
          ],
          "pie": [
           {
            "automargin": true,
            "type": "pie"
           }
          ],
          "scatter": [
           {
            "fillpattern": {
             "fillmode": "overlay",
             "size": 10,
             "solidity": 0.2
            },
            "type": "scatter"
           }
          ],
          "scatter3d": [
           {
            "line": {
             "colorbar": {
              "outlinewidth": 0,
              "ticks": ""
             }
            },
            "marker": {
             "colorbar": {
              "outlinewidth": 0,
              "ticks": ""
             }
            },
            "type": "scatter3d"
           }
          ],
          "scattercarpet": [
           {
            "marker": {
             "colorbar": {
              "outlinewidth": 0,
              "ticks": ""
             }
            },
            "type": "scattercarpet"
           }
          ],
          "scattergeo": [
           {
            "marker": {
             "colorbar": {
              "outlinewidth": 0,
              "ticks": ""
             }
            },
            "type": "scattergeo"
           }
          ],
          "scattergl": [
           {
            "marker": {
             "colorbar": {
              "outlinewidth": 0,
              "ticks": ""
             }
            },
            "type": "scattergl"
           }
          ],
          "scattermap": [
           {
            "marker": {
             "colorbar": {
              "outlinewidth": 0,
              "ticks": ""
             }
            },
            "type": "scattermap"
           }
          ],
          "scattermapbox": [
           {
            "marker": {
             "colorbar": {
              "outlinewidth": 0,
              "ticks": ""
             }
            },
            "type": "scattermapbox"
           }
          ],
          "scatterpolar": [
           {
            "marker": {
             "colorbar": {
              "outlinewidth": 0,
              "ticks": ""
             }
            },
            "type": "scatterpolar"
           }
          ],
          "scatterpolargl": [
           {
            "marker": {
             "colorbar": {
              "outlinewidth": 0,
              "ticks": ""
             }
            },
            "type": "scatterpolargl"
           }
          ],
          "scatterternary": [
           {
            "marker": {
             "colorbar": {
              "outlinewidth": 0,
              "ticks": ""
             }
            },
            "type": "scatterternary"
           }
          ],
          "surface": [
           {
            "colorbar": {
             "outlinewidth": 0,
             "ticks": ""
            },
            "colorscale": [
             [
              0,
              "#0d0887"
             ],
             [
              0.1111111111111111,
              "#46039f"
             ],
             [
              0.2222222222222222,
              "#7201a8"
             ],
             [
              0.3333333333333333,
              "#9c179e"
             ],
             [
              0.4444444444444444,
              "#bd3786"
             ],
             [
              0.5555555555555556,
              "#d8576b"
             ],
             [
              0.6666666666666666,
              "#ed7953"
             ],
             [
              0.7777777777777778,
              "#fb9f3a"
             ],
             [
              0.8888888888888888,
              "#fdca26"
             ],
             [
              1,
              "#f0f921"
             ]
            ],
            "type": "surface"
           }
          ],
          "table": [
           {
            "cells": {
             "fill": {
              "color": "#EBF0F8"
             },
             "line": {
              "color": "white"
             }
            },
            "header": {
             "fill": {
              "color": "#C8D4E3"
             },
             "line": {
              "color": "white"
             }
            },
            "type": "table"
           }
          ]
         },
         "layout": {
          "annotationdefaults": {
           "arrowcolor": "#2a3f5f",
           "arrowhead": 0,
           "arrowwidth": 1
          },
          "autotypenumbers": "strict",
          "coloraxis": {
           "colorbar": {
            "outlinewidth": 0,
            "ticks": ""
           }
          },
          "colorscale": {
           "diverging": [
            [
             0,
             "#8e0152"
            ],
            [
             0.1,
             "#c51b7d"
            ],
            [
             0.2,
             "#de77ae"
            ],
            [
             0.3,
             "#f1b6da"
            ],
            [
             0.4,
             "#fde0ef"
            ],
            [
             0.5,
             "#f7f7f7"
            ],
            [
             0.6,
             "#e6f5d0"
            ],
            [
             0.7,
             "#b8e186"
            ],
            [
             0.8,
             "#7fbc41"
            ],
            [
             0.9,
             "#4d9221"
            ],
            [
             1,
             "#276419"
            ]
           ],
           "sequential": [
            [
             0,
             "#0d0887"
            ],
            [
             0.1111111111111111,
             "#46039f"
            ],
            [
             0.2222222222222222,
             "#7201a8"
            ],
            [
             0.3333333333333333,
             "#9c179e"
            ],
            [
             0.4444444444444444,
             "#bd3786"
            ],
            [
             0.5555555555555556,
             "#d8576b"
            ],
            [
             0.6666666666666666,
             "#ed7953"
            ],
            [
             0.7777777777777778,
             "#fb9f3a"
            ],
            [
             0.8888888888888888,
             "#fdca26"
            ],
            [
             1,
             "#f0f921"
            ]
           ],
           "sequentialminus": [
            [
             0,
             "#0d0887"
            ],
            [
             0.1111111111111111,
             "#46039f"
            ],
            [
             0.2222222222222222,
             "#7201a8"
            ],
            [
             0.3333333333333333,
             "#9c179e"
            ],
            [
             0.4444444444444444,
             "#bd3786"
            ],
            [
             0.5555555555555556,
             "#d8576b"
            ],
            [
             0.6666666666666666,
             "#ed7953"
            ],
            [
             0.7777777777777778,
             "#fb9f3a"
            ],
            [
             0.8888888888888888,
             "#fdca26"
            ],
            [
             1,
             "#f0f921"
            ]
           ]
          },
          "colorway": [
           "#636efa",
           "#EF553B",
           "#00cc96",
           "#ab63fa",
           "#FFA15A",
           "#19d3f3",
           "#FF6692",
           "#B6E880",
           "#FF97FF",
           "#FECB52"
          ],
          "font": {
           "color": "#2a3f5f"
          },
          "geo": {
           "bgcolor": "white",
           "lakecolor": "white",
           "landcolor": "#E5ECF6",
           "showlakes": true,
           "showland": true,
           "subunitcolor": "white"
          },
          "hoverlabel": {
           "align": "left"
          },
          "hovermode": "closest",
          "mapbox": {
           "style": "light"
          },
          "paper_bgcolor": "white",
          "plot_bgcolor": "#E5ECF6",
          "polar": {
           "angularaxis": {
            "gridcolor": "white",
            "linecolor": "white",
            "ticks": ""
           },
           "bgcolor": "#E5ECF6",
           "radialaxis": {
            "gridcolor": "white",
            "linecolor": "white",
            "ticks": ""
           }
          },
          "scene": {
           "xaxis": {
            "backgroundcolor": "#E5ECF6",
            "gridcolor": "white",
            "gridwidth": 2,
            "linecolor": "white",
            "showbackground": true,
            "ticks": "",
            "zerolinecolor": "white"
           },
           "yaxis": {
            "backgroundcolor": "#E5ECF6",
            "gridcolor": "white",
            "gridwidth": 2,
            "linecolor": "white",
            "showbackground": true,
            "ticks": "",
            "zerolinecolor": "white"
           },
           "zaxis": {
            "backgroundcolor": "#E5ECF6",
            "gridcolor": "white",
            "gridwidth": 2,
            "linecolor": "white",
            "showbackground": true,
            "ticks": "",
            "zerolinecolor": "white"
           }
          },
          "shapedefaults": {
           "line": {
            "color": "#2a3f5f"
           }
          },
          "ternary": {
           "aaxis": {
            "gridcolor": "white",
            "linecolor": "white",
            "ticks": ""
           },
           "baxis": {
            "gridcolor": "white",
            "linecolor": "white",
            "ticks": ""
           },
           "bgcolor": "#E5ECF6",
           "caxis": {
            "gridcolor": "white",
            "linecolor": "white",
            "ticks": ""
           }
          },
          "title": {
           "x": 0.05
          },
          "xaxis": {
           "automargin": true,
           "gridcolor": "white",
           "linecolor": "white",
           "ticks": "",
           "title": {
            "standoff": 15
           },
           "zerolinecolor": "white",
           "zerolinewidth": 2
          },
          "yaxis": {
           "automargin": true,
           "gridcolor": "white",
           "linecolor": "white",
           "ticks": "",
           "title": {
            "standoff": 15
           },
           "zerolinecolor": "white",
           "zerolinewidth": 2
          }
         }
        },
        "title": {
         "text": "Count of Ekman emotion for each day in channels"
        },
        "xaxis": {
         "anchor": "y",
         "domain": [
          0,
          0.98
         ],
         "title": {
          "text": "date"
         }
        },
        "xaxis2": {
         "anchor": "y2",
         "domain": [
          0,
          0.98
         ],
         "matches": "x",
         "showticklabels": false
        },
        "xaxis3": {
         "anchor": "y3",
         "domain": [
          0,
          0.98
         ],
         "matches": "x",
         "showticklabels": false
        },
        "xaxis4": {
         "anchor": "y4",
         "domain": [
          0,
          0.98
         ],
         "matches": "x",
         "showticklabels": false
        },
        "yaxis": {
         "anchor": "x",
         "domain": [
          0,
          0.2275
         ],
         "title": {
          "text": "counts"
         }
        },
        "yaxis2": {
         "anchor": "x2",
         "domain": [
          0.2575,
          0.485
         ],
         "title": {
          "text": "counts"
         }
        },
        "yaxis3": {
         "anchor": "x3",
         "domain": [
          0.515,
          0.7425
         ],
         "title": {
          "text": "counts"
         }
        },
        "yaxis4": {
         "anchor": "x4",
         "domain": [
          0.7725,
          1
         ],
         "title": {
          "text": "counts"
         }
        }
       }
      }
     },
     "metadata": {},
     "output_type": "display_data"
    }
   ],
   "source": [
    "\n",
    "fig = px.line(emotion_show_df.dropna(), x='date', y='counts', color='ekman_emotion', facet_row='dataset', height=1200, title=\"Count of Ekman emotion for each day in channels\")\n",
    "\n",
    "fig.update_yaxes(matches=None)\n",
    "fig.show()"
   ]
  },
  {
   "cell_type": "code",
   "execution_count": 64,
   "metadata": {},
   "outputs": [
    {
     "data": {
      "application/vnd.plotly.v1+json": {
       "config": {
        "plotlyServerURL": "https://plot.ly"
       },
       "data": [
        {
         "hovertemplate": "ekman_emotion=Anger<br>dataset=Combined<br>date=%{x}<br>Percentage=%{y}<extra></extra>",
         "legendgroup": "Anger",
         "line": {
          "color": "#636efa",
          "dash": "solid"
         },
         "marker": {
          "symbol": "circle"
         },
         "mode": "lines",
         "name": "Anger",
         "orientation": "v",
         "showlegend": true,
         "type": "scatter",
         "x": [
          "2024-07-15",
          "2024-07-16",
          "2024-07-17",
          "2024-07-18",
          "2024-07-24",
          "2024-07-25",
          "2024-07-26",
          "2024-07-27",
          "2024-07-28",
          "2024-07-29",
          "2024-07-30",
          "2024-07-31",
          "2024-08-01",
          "2024-08-02",
          "2024-08-03",
          "2024-08-04",
          "2024-08-05"
         ],
         "xaxis": "x4",
         "y": {
          "bdata": "FDuxEzuxO0ARF2pOAnFAQE0JU5lFWkBAutUZqZhbPUAN5TWU11A6QIi0XsA2p0NAqBGWexphQEDD/K4WN2E+QAJl4kr3BkJAOL6wy5UBOkAAAAAAAAA7QCI1wXgr+0BAx3Ecx3EcQED+0f5of7RAQJCBNv5TlEBA0UUXXXTRP0AL+IVbe2M5QA==",
          "dtype": "f8"
         },
         "yaxis": "y4"
        },
        {
         "hovertemplate": "ekman_emotion=Anger<br>dataset=StudentsAgainstDiscrimination<br>date=%{x}<br>Percentage=%{y}<extra></extra>",
         "legendgroup": "Anger",
         "line": {
          "color": "#636efa",
          "dash": "solid"
         },
         "marker": {
          "symbol": "circle"
         },
         "mode": "lines",
         "name": "Anger",
         "orientation": "v",
         "showlegend": false,
         "type": "scatter",
         "x": [
          "2024-07-16",
          "2024-07-17",
          "2024-07-18",
          "2024-07-24",
          "2024-07-25",
          "2024-07-26",
          "2024-07-27",
          "2024-07-28",
          "2024-07-29",
          "2024-07-30",
          "2024-07-31",
          "2024-08-01",
          "2024-08-02",
          "2024-08-03",
          "2024-08-04",
          "2024-08-05"
         ],
         "xaxis": "x3",
         "y": {
          "bdata": "AAAAAAAAOUALJLVMOTo/QJPXUF5DeT1AxU7sxE7sOkAjPVA5u4VEQI7jOI7jOEFAq6qqqqoqPUC8lX0OqQlAQKTTbyvNGjdAioES3mjqPEDhZr8QK0pBQLFUxFIRS0FAogqLBrgXQUAAAAAAAIA/QKFdR5UEf0BADGJyBTG5PEA=",
          "dtype": "f8"
         },
         "yaxis": "y3"
        },
        {
         "hovertemplate": "ekman_emotion=Anger<br>dataset=antiquotadu<br>date=%{x}<br>Percentage=%{y}<extra></extra>",
         "legendgroup": "Anger",
         "line": {
          "color": "#636efa",
          "dash": "solid"
         },
         "marker": {
          "symbol": "circle"
         },
         "mode": "lines",
         "name": "Anger",
         "orientation": "v",
         "showlegend": false,
         "type": "scatter",
         "x": [
          "2024-07-15",
          "2024-07-16",
          "2024-07-17",
          "2024-07-18",
          "2024-07-24",
          "2024-07-25",
          "2024-07-26",
          "2024-07-27",
          "2024-07-28",
          "2024-07-29",
          "2024-07-30",
          "2024-07-31",
          "2024-08-01",
          "2024-08-02",
          "2024-08-03",
          "2024-08-04",
          "2024-08-05"
         ],
         "xaxis": "x2",
         "y": {
          "bdata": "FDuxEzuxO0A5iB7fhYNAQExoL6G9hEJAYrOg2nMyPUCqqqqqqqpAQLdt27Zt20FAAAAAAABAP0C3bdu2bdtBQCxRuxK1K0dAh4eHh4eHR0Avuuiiiy4iQKg3velNbz5AJlcQkyuIOUC66KKLLnpAQHDgwIEDB0pA7SW0l9BePkBlVEZlVEY5QA==",
          "dtype": "f8"
         },
         "yaxis": "y2"
        },
        {
         "hovertemplate": "ekman_emotion=Anger<br>dataset=pusab<br>date=%{x}<br>Percentage=%{y}<extra></extra>",
         "legendgroup": "Anger",
         "line": {
          "color": "#636efa",
          "dash": "solid"
         },
         "marker": {
          "symbol": "circle"
         },
         "mode": "lines",
         "name": "Anger",
         "orientation": "v",
         "showlegend": false,
         "type": "scatter",
         "x": [
          "2024-07-24",
          "2024-07-25",
          "2024-07-26",
          "2024-07-29",
          "2024-07-30",
          "2024-07-31",
          "2024-08-02",
          "2024-08-03",
          "2024-08-04",
          "2024-08-05"
         ],
         "xaxis": "x",
         "y": {
          "bdata": "qqqqqqqqMEBFF1100UU7QAAAAAAAADRAqqqqqqqqQECqqqqqqqpAQAAAAAAAAElARRdddNFFO0AAAAAAAAA6QDiO4ziO4zxArCiNj0ygM0A=",
          "dtype": "f8"
         },
         "yaxis": "y"
        },
        {
         "hovertemplate": "ekman_emotion=Disgust<br>dataset=Combined<br>date=%{x}<br>Percentage=%{y}<extra></extra>",
         "legendgroup": "Disgust",
         "line": {
          "color": "#EF553B",
          "dash": "solid"
         },
         "marker": {
          "symbol": "circle"
         },
         "mode": "lines",
         "name": "Disgust",
         "orientation": "v",
         "showlegend": true,
         "type": "scatter",
         "x": [
          "2024-07-15",
          "2024-07-16",
          "2024-07-17",
          "2024-07-18",
          "2024-07-24",
          "2024-07-25",
          "2024-07-26",
          "2024-07-27",
          "2024-07-28",
          "2024-07-29",
          "2024-07-30",
          "2024-07-31",
          "2024-08-01",
          "2024-08-02",
          "2024-08-03",
          "2024-08-04",
          "2024-08-05"
         ],
         "xaxis": "x4",
         "y": {
          "bdata": "2Ymd2ImdCEBDzUkgLtTsP165KtxX1wlAutUZqZhb/T/XUF5DeQ0FQNrBEURaLxBAGmG5pxGW+z+CqHRkz0AUQMMwDMMwDBNAgLVJIXLQA0ABAAAAAAAcQMqdooUzIBRAq6qqqqqqCkDs+HX8On4NQPNgM5FX7Ps/7B1TA3vHBEBwrP5Aj5QAQA==",
          "dtype": "f8"
         },
         "yaxis": "y4"
        },
        {
         "hovertemplate": "ekman_emotion=Disgust<br>dataset=StudentsAgainstDiscrimination<br>date=%{x}<br>Percentage=%{y}<extra></extra>",
         "legendgroup": "Disgust",
         "line": {
          "color": "#EF553B",
          "dash": "solid"
         },
         "marker": {
          "symbol": "circle"
         },
         "mode": "lines",
         "name": "Disgust",
         "orientation": "v",
         "showlegend": false,
         "type": "scatter",
         "x": [
          "2024-07-17",
          "2024-07-18",
          "2024-07-24",
          "2024-07-25",
          "2024-07-26",
          "2024-07-27",
          "2024-07-28",
          "2024-07-29",
          "2024-07-30",
          "2024-07-31",
          "2024-08-01",
          "2024-08-02",
          "2024-08-03",
          "2024-08-04",
          "2024-08-05"
         ],
         "xaxis": "x3",
         "y": {
          "bdata": "jMhLdoDhDEDXUF5DeQ0FQE/sxE7sxA5AX42J9EDlFEByHMdxHMcBQKqqqqqqqhBAg/FW9jmkFkAv2QGGczcEQF1WDJTwRhNA5eBmvxArGkC4IOOCjAsSQIz9GtfBqw5AAAAAAAAAAEC7jioJ/qQMQCZXEJMriPk/",
          "dtype": "f8"
         },
         "yaxis": "y3"
        },
        {
         "hovertemplate": "ekman_emotion=Disgust<br>dataset=antiquotadu<br>date=%{x}<br>Percentage=%{y}<extra></extra>",
         "legendgroup": "Disgust",
         "line": {
          "color": "#EF553B",
          "dash": "solid"
         },
         "marker": {
          "symbol": "circle"
         },
         "mode": "lines",
         "name": "Disgust",
         "orientation": "v",
         "showlegend": false,
         "type": "scatter",
         "x": [
          "2024-07-15",
          "2024-07-16",
          "2024-07-17",
          "2024-07-18",
          "2024-07-27",
          "2024-07-28",
          "2024-07-29",
          "2024-07-30",
          "2024-07-31",
          "2024-08-02",
          "2024-08-03",
          "2024-08-04",
          "2024-08-05"
         ],
         "xaxis": "x2",
         "y": {
          "bdata": "2Ymd2ImdCEC61RmpmFvtP+YOmTtk7gBAHCka4o9b5z8kSZIkSZIcQIPzMTgfgwNAh4eHh4eHB0Avuuiiiy4yQBaykIUsZAFAL7rooosuEkCvXr169er1P0N7Ce0ltOc/+6Vf+qVfCkA=",
          "dtype": "f8"
         },
         "yaxis": "y2"
        },
        {
         "hovertemplate": "ekman_emotion=Disgust<br>dataset=pusab<br>date=%{x}<br>Percentage=%{y}<extra></extra>",
         "legendgroup": "Disgust",
         "line": {
          "color": "#EF553B",
          "dash": "solid"
         },
         "marker": {
          "symbol": "circle"
         },
         "mode": "lines",
         "name": "Disgust",
         "orientation": "v",
         "showlegend": false,
         "type": "scatter",
         "x": [
          "2024-07-30",
          "2024-08-03",
          "2024-08-04",
          "2024-08-05"
         ],
         "xaxis": "x",
         "y": {
          "bdata": "qqqqqqqqMEAAAAAAAADwP3Icx3Ecx/E/KkrjIxPo/T8=",
          "dtype": "f8"
         },
         "yaxis": "y"
        },
        {
         "hovertemplate": "ekman_emotion=Fear<br>dataset=Combined<br>date=%{x}<br>Percentage=%{y}<extra></extra>",
         "legendgroup": "Fear",
         "line": {
          "color": "#00cc96",
          "dash": "solid"
         },
         "marker": {
          "symbol": "circle"
         },
         "mode": "lines",
         "name": "Fear",
         "orientation": "v",
         "showlegend": true,
         "type": "scatter",
         "x": [
          "2024-07-15",
          "2024-07-16",
          "2024-07-17",
          "2024-07-18",
          "2024-07-24",
          "2024-07-25",
          "2024-07-26",
          "2024-07-27",
          "2024-07-28",
          "2024-07-29",
          "2024-07-30",
          "2024-07-31",
          "2024-08-01",
          "2024-08-02",
          "2024-08-03",
          "2024-08-04",
          "2024-08-05"
         ],
         "xaxis": "x4",
         "y": {
          "bdata": "ntiJndiJJUCICzUngbgkQJ8na89qpiNA3vzbYeXNH0C8hvIaymsyQJSMRTXMDh5AGmG5pxGWG0CCqHRkz0AkQBW8nIKXUyBAmCsDVLL1HkAAAAAAAAAiQIPxVvY5pBZAchzHcRzHEUBema5MV6YbQJjydVjCUR1A4qz8hDgrH0BRg92ZjBYfQA==",
          "dtype": "f8"
         },
         "yaxis": "y4"
        },
        {
         "hovertemplate": "ekman_emotion=Fear<br>dataset=StudentsAgainstDiscrimination<br>date=%{x}<br>Percentage=%{y}<extra></extra>",
         "legendgroup": "Fear",
         "line": {
          "color": "#00cc96",
          "dash": "solid"
         },
         "marker": {
          "symbol": "circle"
         },
         "mode": "lines",
         "name": "Fear",
         "orientation": "v",
         "showlegend": false,
         "type": "scatter",
         "x": [
          "2024-07-17",
          "2024-07-18",
          "2024-07-24",
          "2024-07-25",
          "2024-07-26",
          "2024-07-27",
          "2024-07-28",
          "2024-07-29",
          "2024-07-30",
          "2024-07-31",
          "2024-08-01",
          "2024-08-02",
          "2024-08-03",
          "2024-08-04",
          "2024-08-05"
         ],
         "xaxis": "x3",
         "y": {
          "bdata": "klqmHJ1+I0CH8hrKaygXQDuxEzuxEydASA9Uzm7hF0CrqqqqqqoKQAAAAAAAAClAg/FW9jmkFkABw7kb2sQfQIqBEt5o6hxAKkrjIxPoDUD2gNkDZg8YQF3+ETqBchRAAAAAAAAAG0AN69+GvnsVQPBs1Hc26h9A",
          "dtype": "f8"
         },
         "yaxis": "y3"
        },
        {
         "hovertemplate": "ekman_emotion=Fear<br>dataset=antiquotadu<br>date=%{x}<br>Percentage=%{y}<extra></extra>",
         "legendgroup": "Fear",
         "line": {
          "color": "#00cc96",
          "dash": "solid"
         },
         "marker": {
          "symbol": "circle"
         },
         "mode": "lines",
         "name": "Fear",
         "orientation": "v",
         "showlegend": false,
         "type": "scatter",
         "x": [
          "2024-07-15",
          "2024-07-16",
          "2024-07-17",
          "2024-07-18",
          "2024-07-24",
          "2024-07-25",
          "2024-07-26",
          "2024-07-27",
          "2024-07-28",
          "2024-07-29",
          "2024-07-30",
          "2024-07-31",
          "2024-08-02",
          "2024-08-03",
          "2024-08-04",
          "2024-08-05"
         ],
         "xaxis": "x2",
         "y": {
          "bdata": "ntiJndiJJUCekYq51RklQLHBxQYXGyRAi4b449blJUCqqqqqqqpAQNu2bdu2bSVAAAAAAAAAGUAkSZIkSZIMQETtStSuRC1Ah4eHh4eHB0BFF1100UU7QCELWchCFhpARRdddNFFK0ADBw4cOHAQQCa0l9BeQiNAT+zETuzEHkA=",
          "dtype": "f8"
         },
         "yaxis": "y2"
        },
        {
         "hovertemplate": "ekman_emotion=Fear<br>dataset=pusab<br>date=%{x}<br>Percentage=%{y}<extra></extra>",
         "legendgroup": "Fear",
         "line": {
          "color": "#00cc96",
          "dash": "solid"
         },
         "marker": {
          "symbol": "circle"
         },
         "mode": "lines",
         "name": "Fear",
         "orientation": "v",
         "showlegend": false,
         "type": "scatter",
         "x": [
          "2024-07-24",
          "2024-07-25",
          "2024-07-26",
          "2024-07-27",
          "2024-07-29",
          "2024-07-31",
          "2024-08-02",
          "2024-08-03",
          "2024-08-04",
          "2024-08-05"
         ],
         "xaxis": "x",
         "y": {
          "bdata": "qqqqqqqqQEAvuuiiiy4yQAAAAAAAAERAqqqqqqqqQECqqqqqqqowQKqqqqqqqkBAPvjggw8+GEAAAAAAAAAoQMdxHMdxHC9AKkrjIxPoHUA=",
          "dtype": "f8"
         },
         "yaxis": "y"
        },
        {
         "hovertemplate": "ekman_emotion=Happiness<br>dataset=Combined<br>date=%{x}<br>Percentage=%{y}<extra></extra>",
         "legendgroup": "Happiness",
         "line": {
          "color": "#ab63fa",
          "dash": "solid"
         },
         "marker": {
          "symbol": "circle"
         },
         "mode": "lines",
         "name": "Happiness",
         "orientation": "v",
         "showlegend": true,
         "type": "scatter",
         "x": [
          "2024-07-15",
          "2024-07-16",
          "2024-07-17",
          "2024-07-18",
          "2024-07-23",
          "2024-07-24",
          "2024-07-25",
          "2024-07-26",
          "2024-07-27",
          "2024-07-28",
          "2024-07-29",
          "2024-07-30",
          "2024-07-31",
          "2024-08-01",
          "2024-08-02",
          "2024-08-03",
          "2024-08-04",
          "2024-08-05"
         ],
         "xaxis": "x4",
         "y": {
          "bdata": "AAAAAAAAREC239ErY/s/QFl7VjPd0kBAqqqqqqqqQEAAAAAAAABJQPIaymsorzdAMTs4gkjrMUCoEZZ7GmEwQBqISkf2DDhAFbycgpdTQEB1j1nF7ZxIQAAAAAAAgENAC2dAKLlTRkCrqqqqqipDQOrKdGW6MkVAmAebibxiR0AeUwN7xxRJQB/okRJyKkpA",
          "dtype": "f8"
         },
         "yaxis": "y4"
        },
        {
         "hovertemplate": "ekman_emotion=Happiness<br>dataset=StudentsAgainstDiscrimination<br>date=%{x}<br>Percentage=%{y}<extra></extra>",
         "legendgroup": "Happiness",
         "line": {
          "color": "#ab63fa",
          "dash": "solid"
         },
         "marker": {
          "symbol": "circle"
         },
         "mode": "lines",
         "name": "Happiness",
         "orientation": "v",
         "showlegend": false,
         "type": "scatter",
         "x": [
          "2024-07-16",
          "2024-07-17",
          "2024-07-18",
          "2024-07-24",
          "2024-07-25",
          "2024-07-26",
          "2024-07-27",
          "2024-07-28",
          "2024-07-29",
          "2024-07-30",
          "2024-07-31",
          "2024-08-01",
          "2024-08-02",
          "2024-08-03",
          "2024-08-04",
          "2024-08-05"
         ],
         "xaxis": "x3",
         "y": {
          "bdata": "AAAAAAAASUBO/PMYkZdCQPIaymsor0JAshM7sRM7M0D8akykByoxQHIcx3EcxzFAVlVVVVXVNEDUBOOt7HNBQL+tNGtcLEpAwhtNnV97REAm0Dt1LQdFQLW60+pOq0FAUI7iQxUWRUAAAAAAACBIQCELWchCFkpAcgUxuYKYSkA=",
          "dtype": "f8"
         },
         "yaxis": "y3"
        },
        {
         "hovertemplate": "ekman_emotion=Happiness<br>dataset=antiquotadu<br>date=%{x}<br>Percentage=%{y}<extra></extra>",
         "legendgroup": "Happiness",
         "line": {
          "color": "#ab63fa",
          "dash": "solid"
         },
         "marker": {
          "symbol": "circle"
         },
         "mode": "lines",
         "name": "Happiness",
         "orientation": "v",
         "showlegend": false,
         "type": "scatter",
         "x": [
          "2024-07-15",
          "2024-07-16",
          "2024-07-17",
          "2024-07-18",
          "2024-07-24",
          "2024-07-25",
          "2024-07-26",
          "2024-07-27",
          "2024-07-28",
          "2024-07-29",
          "2024-07-30",
          "2024-07-31",
          "2024-08-01",
          "2024-08-02",
          "2024-08-03",
          "2024-08-04",
          "2024-08-05"
         ],
         "xaxis": "x2",
         "y": {
          "bdata": "AAAAAAAAREBs2k+WwKY/QHx08tHJRzdA0RB/3Lq8O0CqqqqqqqowQCRJkiRJkixAAAAAAAAAKUAkSZIkSZI8QNWuRO1K1DpAeXh4eHh4OkAvuuiiiy4yQGQhC1nIQkxAjvrORn1nR0AAAAAAAMBCQAMHDhw4cEBACe0ltJfQSEAx/dIv/dJJQA==",
          "dtype": "f8"
         },
         "yaxis": "y2"
        },
        {
         "hovertemplate": "ekman_emotion=Happiness<br>dataset=pusab<br>date=%{x}<br>Percentage=%{y}<extra></extra>",
         "legendgroup": "Happiness",
         "line": {
          "color": "#ab63fa",
          "dash": "solid"
         },
         "marker": {
          "symbol": "circle"
         },
         "mode": "lines",
         "name": "Happiness",
         "orientation": "v",
         "showlegend": false,
         "type": "scatter",
         "x": [
          "2024-07-23",
          "2024-07-24",
          "2024-07-25",
          "2024-07-26",
          "2024-07-27",
          "2024-07-29",
          "2024-07-30",
          "2024-08-02",
          "2024-08-03",
          "2024-08-04",
          "2024-08-05"
         ],
         "xaxis": "x",
         "y": {
          "bdata": "AAAAAAAAWUAAAAAAAABJQC+66KKLLkJAAAAAAAAAJECqqqqqqqpAQFZVVVVV1URAAAAAAAAASUDKJptssslMQAAAAAAAgElAx3Ecx3EcRUC8U9dycLNJQA==",
          "dtype": "f8"
         },
         "yaxis": "y"
        },
        {
         "hovertemplate": "ekman_emotion=Sadness<br>dataset=Combined<br>date=%{x}<br>Percentage=%{y}<extra></extra>",
         "legendgroup": "Sadness",
         "line": {
          "color": "#FFA15A",
          "dash": "solid"
         },
         "marker": {
          "symbol": "circle"
         },
         "mode": "lines",
         "name": "Sadness",
         "orientation": "v",
         "showlegend": true,
         "type": "scatter",
         "x": [
          "2024-07-15",
          "2024-07-16",
          "2024-07-17",
          "2024-07-18",
          "2024-07-23",
          "2024-07-24",
          "2024-07-25",
          "2024-07-26",
          "2024-07-27",
          "2024-07-28",
          "2024-07-29",
          "2024-07-30",
          "2024-07-31",
          "2024-08-01",
          "2024-08-02",
          "2024-08-03",
          "2024-08-04",
          "2024-08-05"
         ],
         "xaxis": "x4",
         "y": {
          "bdata": "Yyd2Yid2MkBcqDkJxIU2QHFfXWcMxDFAyyQnwrhMOkAAAAAAAABJQCmvobyG8jxAXAr9ScaiPkBPIyz3NEJEQBqISkf2DDhAFbycgpdTMECLcKY6EmMpQAAAAAAAADFAyp2ihTMgJEBVVVVVVVUyQCOyEdmIbChAAcGQbBHNIUCZGtg7pgYYQGB3JqPFKyNA",
          "dtype": "f8"
         },
         "yaxis": "y4"
        },
        {
         "hovertemplate": "ekman_emotion=Sadness<br>dataset=StudentsAgainstDiscrimination<br>date=%{x}<br>Percentage=%{y}<extra></extra>",
         "legendgroup": "Sadness",
         "line": {
          "color": "#FFA15A",
          "dash": "solid"
         },
         "marker": {
          "symbol": "circle"
         },
         "mode": "lines",
         "name": "Sadness",
         "orientation": "v",
         "showlegend": false,
         "type": "scatter",
         "x": [
          "2024-07-17",
          "2024-07-18",
          "2024-07-23",
          "2024-07-24",
          "2024-07-25",
          "2024-07-26",
          "2024-07-27",
          "2024-07-28",
          "2024-07-29",
          "2024-07-30",
          "2024-07-31",
          "2024-08-01",
          "2024-08-02",
          "2024-08-03",
          "2024-08-04",
          "2024-08-05"
         ],
         "xaxis": "x3",
         "y": {
          "bdata": "xsUCSS1TLkBeQ3kN5TU4QAAAAAAAAFlAshM7sRM7Q0AaE+mBytk9QAAAAAAAAERAVVVVVVUVO0Dtc0hNMN4yQN7QJv55jChAkcuKgRLeMEDl4Ga/ECsqQKmIpSKWijBAwL3Yr3EdLEAAAAAAAAAjQNnjPAVIXhBAv7NR39moG0A=",
          "dtype": "f8"
         },
         "yaxis": "y3"
        },
        {
         "hovertemplate": "ekman_emotion=Sadness<br>dataset=antiquotadu<br>date=%{x}<br>Percentage=%{y}<extra></extra>",
         "legendgroup": "Sadness",
         "line": {
          "color": "#FFA15A",
          "dash": "solid"
         },
         "marker": {
          "symbol": "circle"
         },
         "mode": "lines",
         "name": "Sadness",
         "orientation": "v",
         "showlegend": false,
         "type": "scatter",
         "x": [
          "2024-07-15",
          "2024-07-16",
          "2024-07-17",
          "2024-07-18",
          "2024-07-24",
          "2024-07-25",
          "2024-07-26",
          "2024-07-27",
          "2024-07-28",
          "2024-07-29",
          "2024-07-30",
          "2024-07-31",
          "2024-08-01",
          "2024-08-02",
          "2024-08-03",
          "2024-08-04",
          "2024-08-05"
         ],
         "xaxis": "x2",
         "y": {
          "bdata": "Yyd2Yid2MkD5LhxEj+82QFmWZVmWZTlAYrOg2nMyPUCqqqqqqqowQEmSJEmSpENAAAAAAAAASUC3bdu2bdsxQIPzMTgfgyNApqWlpaWlMUBFF1100UU7QBaykIUsZAFAjvrORn1nN0DRRRdddNEfQK9evXr16hVAEtpLaC+hHUBSGZVRGZUhQA==",
          "dtype": "f8"
         },
         "yaxis": "y2"
        },
        {
         "hovertemplate": "ekman_emotion=Sadness<br>dataset=pusab<br>date=%{x}<br>Percentage=%{y}<extra></extra>",
         "legendgroup": "Sadness",
         "line": {
          "color": "#FFA15A",
          "dash": "solid"
         },
         "marker": {
          "symbol": "circle"
         },
         "mode": "lines",
         "name": "Sadness",
         "orientation": "v",
         "showlegend": false,
         "type": "scatter",
         "x": [
          "2024-07-25",
          "2024-07-26",
          "2024-07-27",
          "2024-07-29",
          "2024-07-31",
          "2024-08-02",
          "2024-08-03",
          "2024-08-04",
          "2024-08-05"
         ],
         "xaxis": "x",
         "y": {
          "bdata": "L7rooosuMkAAAAAAAAA+QKqqqqqqqkBAqqqqqqqqIECqqqqqqqowQD744IMPPhhAAAAAAAAAIkAcx3Ecx3EoQCpK4yMT6C1A",
          "dtype": "f8"
         },
         "yaxis": "y"
        },
        {
         "hovertemplate": "ekman_emotion=Surprise<br>dataset=Combined<br>date=%{x}<br>Percentage=%{y}<extra></extra>",
         "legendgroup": "Surprise",
         "line": {
          "color": "#19d3f3",
          "dash": "solid"
         },
         "marker": {
          "symbol": "circle"
         },
         "mode": "lines",
         "name": "Surprise",
         "orientation": "v",
         "showlegend": true,
         "type": "scatter",
         "x": [
          "2024-07-16",
          "2024-07-17",
          "2024-07-18",
          "2024-07-25",
          "2024-07-26",
          "2024-07-27",
          "2024-07-28",
          "2024-07-29",
          "2024-07-30",
          "2024-07-31",
          "2024-08-01",
          "2024-08-02",
          "2024-08-03",
          "2024-08-04",
          "2024-08-05"
         ],
         "xaxis": "x4",
         "y": {
          "bdata": "8lk3mCKf9T8yYqXgbJwGQCY5EcZlkvM/+LjvlkJ/4j8aYbmnEZb7P6LSkT0DURlAFbycgpdTAEA/kO4xq7j9PwAAAAAAAPA/yp2ihTMg5D+rqqqqqqoKQLF6WD2sHvY/xdMeVwHBAEBm5SfEWfn5PxktXvlEzAZA",
          "dtype": "f8"
         },
         "yaxis": "y4"
        },
        {
         "hovertemplate": "ekman_emotion=Surprise<br>dataset=StudentsAgainstDiscrimination<br>date=%{x}<br>Percentage=%{y}<extra></extra>",
         "legendgroup": "Surprise",
         "line": {
          "color": "#19d3f3",
          "dash": "solid"
         },
         "marker": {
          "symbol": "circle"
         },
         "mode": "lines",
         "name": "Surprise",
         "orientation": "v",
         "showlegend": false,
         "type": "scatter",
         "x": [
          "2024-07-16",
          "2024-07-17",
          "2024-07-18",
          "2024-07-25",
          "2024-07-26",
          "2024-07-27",
          "2024-07-28",
          "2024-07-29",
          "2024-07-30",
          "2024-08-01",
          "2024-08-02",
          "2024-08-03",
          "2024-08-04",
          "2024-08-05"
         ],
         "xaxis": "x3",
         "y": {
          "bdata": "AAAAAAAAOUDe0Cb+eYwIQHkN5TWU1+A/SA9Uzm7h5z9yHMdxHMcBQAAAAAAAABlAg/FW9jmkBkCMyEt2gOH8P11WDJTwRvM/9oDZA2YPCEBd/hE6gXLkPwAAAAAAAABAu44qCf6k/D8mVxCTK4j5Pw==",
          "dtype": "f8"
         },
         "yaxis": "y3"
        },
        {
         "hovertemplate": "ekman_emotion=Surprise<br>dataset=antiquotadu<br>date=%{x}<br>Percentage=%{y}<extra></extra>",
         "legendgroup": "Surprise",
         "line": {
          "color": "#19d3f3",
          "dash": "solid"
         },
         "marker": {
          "symbol": "circle"
         },
         "mode": "lines",
         "name": "Surprise",
         "orientation": "v",
         "showlegend": false,
         "type": "scatter",
         "x": [
          "2024-07-16",
          "2024-07-17",
          "2024-07-18",
          "2024-07-27",
          "2024-07-29",
          "2024-07-31",
          "2024-08-01",
          "2024-08-02",
          "2024-08-03",
          "2024-08-04",
          "2024-08-05"
         ],
         "xaxis": "x2",
         "y": {
          "bdata": "utUZqZhb7T/mDpk7ZO4AQNWek+mrhAFAJEmSJEmSHECHh4eHh4cHQBaykIUsZAFAxOQKYnIFEUBFF1100UULQAMHDhw4cBBAchzHcRzHAUD7pV/6pV8KQA==",
          "dtype": "f8"
         },
         "yaxis": "y2"
        },
        {
         "hovertemplate": "ekman_emotion=Surprise<br>dataset=pusab<br>date=%{x}<br>Percentage=%{y}<extra></extra>",
         "legendgroup": "Surprise",
         "line": {
          "color": "#19d3f3",
          "dash": "solid"
         },
         "marker": {
          "symbol": "circle"
         },
         "mode": "lines",
         "name": "Surprise",
         "orientation": "v",
         "showlegend": false,
         "type": "scatter",
         "x": [
          "2024-08-02",
          "2024-08-03",
          "2024-08-05"
         ],
         "xaxis": "x",
         "y": {
          "bdata": "Pvjggw8+CEAAAAAAAADwP1sObvYLsRJA",
          "dtype": "f8"
         },
         "yaxis": "y"
        }
       ],
       "layout": {
        "annotations": [
         {
          "font": {},
          "showarrow": false,
          "text": "dataset=pusab",
          "textangle": 90,
          "x": 0.98,
          "xanchor": "left",
          "xref": "paper",
          "y": 0.11375,
          "yanchor": "middle",
          "yref": "paper"
         },
         {
          "font": {},
          "showarrow": false,
          "text": "dataset=antiquotadu",
          "textangle": 90,
          "x": 0.98,
          "xanchor": "left",
          "xref": "paper",
          "y": 0.37124999999999997,
          "yanchor": "middle",
          "yref": "paper"
         },
         {
          "font": {},
          "showarrow": false,
          "text": "dataset=StudentsAgainstDiscrimination",
          "textangle": 90,
          "x": 0.98,
          "xanchor": "left",
          "xref": "paper",
          "y": 0.62875,
          "yanchor": "middle",
          "yref": "paper"
         },
         {
          "font": {},
          "showarrow": false,
          "text": "dataset=Combined",
          "textangle": 90,
          "x": 0.98,
          "xanchor": "left",
          "xref": "paper",
          "y": 0.88625,
          "yanchor": "middle",
          "yref": "paper"
         }
        ],
        "height": 1200,
        "legend": {
         "title": {
          "text": "ekman_emotion"
         },
         "tracegroupgap": 0
        },
        "template": {
         "data": {
          "bar": [
           {
            "error_x": {
             "color": "#2a3f5f"
            },
            "error_y": {
             "color": "#2a3f5f"
            },
            "marker": {
             "line": {
              "color": "#E5ECF6",
              "width": 0.5
             },
             "pattern": {
              "fillmode": "overlay",
              "size": 10,
              "solidity": 0.2
             }
            },
            "type": "bar"
           }
          ],
          "barpolar": [
           {
            "marker": {
             "line": {
              "color": "#E5ECF6",
              "width": 0.5
             },
             "pattern": {
              "fillmode": "overlay",
              "size": 10,
              "solidity": 0.2
             }
            },
            "type": "barpolar"
           }
          ],
          "carpet": [
           {
            "aaxis": {
             "endlinecolor": "#2a3f5f",
             "gridcolor": "white",
             "linecolor": "white",
             "minorgridcolor": "white",
             "startlinecolor": "#2a3f5f"
            },
            "baxis": {
             "endlinecolor": "#2a3f5f",
             "gridcolor": "white",
             "linecolor": "white",
             "minorgridcolor": "white",
             "startlinecolor": "#2a3f5f"
            },
            "type": "carpet"
           }
          ],
          "choropleth": [
           {
            "colorbar": {
             "outlinewidth": 0,
             "ticks": ""
            },
            "type": "choropleth"
           }
          ],
          "contour": [
           {
            "colorbar": {
             "outlinewidth": 0,
             "ticks": ""
            },
            "colorscale": [
             [
              0,
              "#0d0887"
             ],
             [
              0.1111111111111111,
              "#46039f"
             ],
             [
              0.2222222222222222,
              "#7201a8"
             ],
             [
              0.3333333333333333,
              "#9c179e"
             ],
             [
              0.4444444444444444,
              "#bd3786"
             ],
             [
              0.5555555555555556,
              "#d8576b"
             ],
             [
              0.6666666666666666,
              "#ed7953"
             ],
             [
              0.7777777777777778,
              "#fb9f3a"
             ],
             [
              0.8888888888888888,
              "#fdca26"
             ],
             [
              1,
              "#f0f921"
             ]
            ],
            "type": "contour"
           }
          ],
          "contourcarpet": [
           {
            "colorbar": {
             "outlinewidth": 0,
             "ticks": ""
            },
            "type": "contourcarpet"
           }
          ],
          "heatmap": [
           {
            "colorbar": {
             "outlinewidth": 0,
             "ticks": ""
            },
            "colorscale": [
             [
              0,
              "#0d0887"
             ],
             [
              0.1111111111111111,
              "#46039f"
             ],
             [
              0.2222222222222222,
              "#7201a8"
             ],
             [
              0.3333333333333333,
              "#9c179e"
             ],
             [
              0.4444444444444444,
              "#bd3786"
             ],
             [
              0.5555555555555556,
              "#d8576b"
             ],
             [
              0.6666666666666666,
              "#ed7953"
             ],
             [
              0.7777777777777778,
              "#fb9f3a"
             ],
             [
              0.8888888888888888,
              "#fdca26"
             ],
             [
              1,
              "#f0f921"
             ]
            ],
            "type": "heatmap"
           }
          ],
          "histogram": [
           {
            "marker": {
             "pattern": {
              "fillmode": "overlay",
              "size": 10,
              "solidity": 0.2
             }
            },
            "type": "histogram"
           }
          ],
          "histogram2d": [
           {
            "colorbar": {
             "outlinewidth": 0,
             "ticks": ""
            },
            "colorscale": [
             [
              0,
              "#0d0887"
             ],
             [
              0.1111111111111111,
              "#46039f"
             ],
             [
              0.2222222222222222,
              "#7201a8"
             ],
             [
              0.3333333333333333,
              "#9c179e"
             ],
             [
              0.4444444444444444,
              "#bd3786"
             ],
             [
              0.5555555555555556,
              "#d8576b"
             ],
             [
              0.6666666666666666,
              "#ed7953"
             ],
             [
              0.7777777777777778,
              "#fb9f3a"
             ],
             [
              0.8888888888888888,
              "#fdca26"
             ],
             [
              1,
              "#f0f921"
             ]
            ],
            "type": "histogram2d"
           }
          ],
          "histogram2dcontour": [
           {
            "colorbar": {
             "outlinewidth": 0,
             "ticks": ""
            },
            "colorscale": [
             [
              0,
              "#0d0887"
             ],
             [
              0.1111111111111111,
              "#46039f"
             ],
             [
              0.2222222222222222,
              "#7201a8"
             ],
             [
              0.3333333333333333,
              "#9c179e"
             ],
             [
              0.4444444444444444,
              "#bd3786"
             ],
             [
              0.5555555555555556,
              "#d8576b"
             ],
             [
              0.6666666666666666,
              "#ed7953"
             ],
             [
              0.7777777777777778,
              "#fb9f3a"
             ],
             [
              0.8888888888888888,
              "#fdca26"
             ],
             [
              1,
              "#f0f921"
             ]
            ],
            "type": "histogram2dcontour"
           }
          ],
          "mesh3d": [
           {
            "colorbar": {
             "outlinewidth": 0,
             "ticks": ""
            },
            "type": "mesh3d"
           }
          ],
          "parcoords": [
           {
            "line": {
             "colorbar": {
              "outlinewidth": 0,
              "ticks": ""
             }
            },
            "type": "parcoords"
           }
          ],
          "pie": [
           {
            "automargin": true,
            "type": "pie"
           }
          ],
          "scatter": [
           {
            "fillpattern": {
             "fillmode": "overlay",
             "size": 10,
             "solidity": 0.2
            },
            "type": "scatter"
           }
          ],
          "scatter3d": [
           {
            "line": {
             "colorbar": {
              "outlinewidth": 0,
              "ticks": ""
             }
            },
            "marker": {
             "colorbar": {
              "outlinewidth": 0,
              "ticks": ""
             }
            },
            "type": "scatter3d"
           }
          ],
          "scattercarpet": [
           {
            "marker": {
             "colorbar": {
              "outlinewidth": 0,
              "ticks": ""
             }
            },
            "type": "scattercarpet"
           }
          ],
          "scattergeo": [
           {
            "marker": {
             "colorbar": {
              "outlinewidth": 0,
              "ticks": ""
             }
            },
            "type": "scattergeo"
           }
          ],
          "scattergl": [
           {
            "marker": {
             "colorbar": {
              "outlinewidth": 0,
              "ticks": ""
             }
            },
            "type": "scattergl"
           }
          ],
          "scattermap": [
           {
            "marker": {
             "colorbar": {
              "outlinewidth": 0,
              "ticks": ""
             }
            },
            "type": "scattermap"
           }
          ],
          "scattermapbox": [
           {
            "marker": {
             "colorbar": {
              "outlinewidth": 0,
              "ticks": ""
             }
            },
            "type": "scattermapbox"
           }
          ],
          "scatterpolar": [
           {
            "marker": {
             "colorbar": {
              "outlinewidth": 0,
              "ticks": ""
             }
            },
            "type": "scatterpolar"
           }
          ],
          "scatterpolargl": [
           {
            "marker": {
             "colorbar": {
              "outlinewidth": 0,
              "ticks": ""
             }
            },
            "type": "scatterpolargl"
           }
          ],
          "scatterternary": [
           {
            "marker": {
             "colorbar": {
              "outlinewidth": 0,
              "ticks": ""
             }
            },
            "type": "scatterternary"
           }
          ],
          "surface": [
           {
            "colorbar": {
             "outlinewidth": 0,
             "ticks": ""
            },
            "colorscale": [
             [
              0,
              "#0d0887"
             ],
             [
              0.1111111111111111,
              "#46039f"
             ],
             [
              0.2222222222222222,
              "#7201a8"
             ],
             [
              0.3333333333333333,
              "#9c179e"
             ],
             [
              0.4444444444444444,
              "#bd3786"
             ],
             [
              0.5555555555555556,
              "#d8576b"
             ],
             [
              0.6666666666666666,
              "#ed7953"
             ],
             [
              0.7777777777777778,
              "#fb9f3a"
             ],
             [
              0.8888888888888888,
              "#fdca26"
             ],
             [
              1,
              "#f0f921"
             ]
            ],
            "type": "surface"
           }
          ],
          "table": [
           {
            "cells": {
             "fill": {
              "color": "#EBF0F8"
             },
             "line": {
              "color": "white"
             }
            },
            "header": {
             "fill": {
              "color": "#C8D4E3"
             },
             "line": {
              "color": "white"
             }
            },
            "type": "table"
           }
          ]
         },
         "layout": {
          "annotationdefaults": {
           "arrowcolor": "#2a3f5f",
           "arrowhead": 0,
           "arrowwidth": 1
          },
          "autotypenumbers": "strict",
          "coloraxis": {
           "colorbar": {
            "outlinewidth": 0,
            "ticks": ""
           }
          },
          "colorscale": {
           "diverging": [
            [
             0,
             "#8e0152"
            ],
            [
             0.1,
             "#c51b7d"
            ],
            [
             0.2,
             "#de77ae"
            ],
            [
             0.3,
             "#f1b6da"
            ],
            [
             0.4,
             "#fde0ef"
            ],
            [
             0.5,
             "#f7f7f7"
            ],
            [
             0.6,
             "#e6f5d0"
            ],
            [
             0.7,
             "#b8e186"
            ],
            [
             0.8,
             "#7fbc41"
            ],
            [
             0.9,
             "#4d9221"
            ],
            [
             1,
             "#276419"
            ]
           ],
           "sequential": [
            [
             0,
             "#0d0887"
            ],
            [
             0.1111111111111111,
             "#46039f"
            ],
            [
             0.2222222222222222,
             "#7201a8"
            ],
            [
             0.3333333333333333,
             "#9c179e"
            ],
            [
             0.4444444444444444,
             "#bd3786"
            ],
            [
             0.5555555555555556,
             "#d8576b"
            ],
            [
             0.6666666666666666,
             "#ed7953"
            ],
            [
             0.7777777777777778,
             "#fb9f3a"
            ],
            [
             0.8888888888888888,
             "#fdca26"
            ],
            [
             1,
             "#f0f921"
            ]
           ],
           "sequentialminus": [
            [
             0,
             "#0d0887"
            ],
            [
             0.1111111111111111,
             "#46039f"
            ],
            [
             0.2222222222222222,
             "#7201a8"
            ],
            [
             0.3333333333333333,
             "#9c179e"
            ],
            [
             0.4444444444444444,
             "#bd3786"
            ],
            [
             0.5555555555555556,
             "#d8576b"
            ],
            [
             0.6666666666666666,
             "#ed7953"
            ],
            [
             0.7777777777777778,
             "#fb9f3a"
            ],
            [
             0.8888888888888888,
             "#fdca26"
            ],
            [
             1,
             "#f0f921"
            ]
           ]
          },
          "colorway": [
           "#636efa",
           "#EF553B",
           "#00cc96",
           "#ab63fa",
           "#FFA15A",
           "#19d3f3",
           "#FF6692",
           "#B6E880",
           "#FF97FF",
           "#FECB52"
          ],
          "font": {
           "color": "#2a3f5f"
          },
          "geo": {
           "bgcolor": "white",
           "lakecolor": "white",
           "landcolor": "#E5ECF6",
           "showlakes": true,
           "showland": true,
           "subunitcolor": "white"
          },
          "hoverlabel": {
           "align": "left"
          },
          "hovermode": "closest",
          "mapbox": {
           "style": "light"
          },
          "paper_bgcolor": "white",
          "plot_bgcolor": "#E5ECF6",
          "polar": {
           "angularaxis": {
            "gridcolor": "white",
            "linecolor": "white",
            "ticks": ""
           },
           "bgcolor": "#E5ECF6",
           "radialaxis": {
            "gridcolor": "white",
            "linecolor": "white",
            "ticks": ""
           }
          },
          "scene": {
           "xaxis": {
            "backgroundcolor": "#E5ECF6",
            "gridcolor": "white",
            "gridwidth": 2,
            "linecolor": "white",
            "showbackground": true,
            "ticks": "",
            "zerolinecolor": "white"
           },
           "yaxis": {
            "backgroundcolor": "#E5ECF6",
            "gridcolor": "white",
            "gridwidth": 2,
            "linecolor": "white",
            "showbackground": true,
            "ticks": "",
            "zerolinecolor": "white"
           },
           "zaxis": {
            "backgroundcolor": "#E5ECF6",
            "gridcolor": "white",
            "gridwidth": 2,
            "linecolor": "white",
            "showbackground": true,
            "ticks": "",
            "zerolinecolor": "white"
           }
          },
          "shapedefaults": {
           "line": {
            "color": "#2a3f5f"
           }
          },
          "ternary": {
           "aaxis": {
            "gridcolor": "white",
            "linecolor": "white",
            "ticks": ""
           },
           "baxis": {
            "gridcolor": "white",
            "linecolor": "white",
            "ticks": ""
           },
           "bgcolor": "#E5ECF6",
           "caxis": {
            "gridcolor": "white",
            "linecolor": "white",
            "ticks": ""
           }
          },
          "title": {
           "x": 0.05
          },
          "xaxis": {
           "automargin": true,
           "gridcolor": "white",
           "linecolor": "white",
           "ticks": "",
           "title": {
            "standoff": 15
           },
           "zerolinecolor": "white",
           "zerolinewidth": 2
          },
          "yaxis": {
           "automargin": true,
           "gridcolor": "white",
           "linecolor": "white",
           "ticks": "",
           "title": {
            "standoff": 15
           },
           "zerolinecolor": "white",
           "zerolinewidth": 2
          }
         }
        },
        "title": {
         "text": "Percentage of each emotion for each day in channels"
        },
        "xaxis": {
         "anchor": "y",
         "domain": [
          0,
          0.98
         ],
         "title": {
          "text": "date"
         }
        },
        "xaxis2": {
         "anchor": "y2",
         "domain": [
          0,
          0.98
         ],
         "matches": "x",
         "showticklabels": false
        },
        "xaxis3": {
         "anchor": "y3",
         "domain": [
          0,
          0.98
         ],
         "matches": "x",
         "showticklabels": false
        },
        "xaxis4": {
         "anchor": "y4",
         "domain": [
          0,
          0.98
         ],
         "matches": "x",
         "showticklabels": false
        },
        "yaxis": {
         "anchor": "x",
         "domain": [
          0,
          0.2275
         ],
         "range": [
          0,
          100
         ],
         "title": {
          "text": "Percentage"
         }
        },
        "yaxis2": {
         "anchor": "x2",
         "domain": [
          0.2575,
          0.485
         ],
         "matches": "y",
         "range": [
          0,
          100
         ],
         "title": {
          "text": "Percentage"
         }
        },
        "yaxis3": {
         "anchor": "x3",
         "domain": [
          0.515,
          0.7425
         ],
         "matches": "y",
         "range": [
          0,
          100
         ],
         "title": {
          "text": "Percentage"
         }
        },
        "yaxis4": {
         "anchor": "x4",
         "domain": [
          0.7725,
          1
         ],
         "matches": "y",
         "range": [
          0,
          100
         ],
         "title": {
          "text": "Percentage"
         }
        }
       }
      }
     },
     "metadata": {},
     "output_type": "display_data"
    }
   ],
   "source": [
    "\n",
    "fig = px.line(emotion_show_df.dropna(), x='date', y='Percentage', color='ekman_emotion', facet_row='dataset', height=1200, title=\"Percentage of each emotion for each day in channels\", range_y=[0,100])\n",
    "\n",
    "# fig.update_yaxes(matches=None)\n",
    "# fig.update_yaxes()\n",
    "fig.show()"
   ]
  },
  {
   "cell_type": "code",
   "execution_count": 28,
   "metadata": {},
   "outputs": [
    {
     "data": {
      "text/plain": [
       "ekman_emotion\n",
       "Happiness                                                                                           1883\n",
       "Anger                                                                                               1474\n",
       "Sadness                                                                                              720\n",
       "Fear                                                                                                 378\n",
       "Disgust                                                                                              134\n",
       "Surprise                                                                                              92\n",
       "Neutral                                                                                                2\n",
       "anticipation                                                                                           1\n",
       "Joy                                                                                                    1\n",
       "neutral                                                                                                1\n",
       "disapproval or worry about the situation.                                                              1\n",
       "The dominant emotion expressed in the post is a form of collective distress and call for action.       1\n",
       "anticipation or concern                                                                                1\n",
       "Mixed/Multiple emotions                                                                                1\n",
       "anger                                                                                                  1\n",
       "Frustration                                                                                            1\n",
       "A sense of urgency, motivation, and call for action.                                                   1\n",
       "Neutral or NA                                                                                          1\n",
       "No apparent strong emotion is conveyed in the text, it is neutral and official.                        1\n",
       "Encouragement and motivation likely reflect Happiness.                                                 1\n",
       "Name: count, dtype: int64"
      ]
     },
     "execution_count": 28,
     "metadata": {},
     "output_type": "execute_result"
    }
   ],
   "source": [
    "# pd.concat([sad_main, aqd_main, pusab_main], ignore_index=True)\n",
    "# pd.concat([sad_emoji, aqd_emoji, pusab_emoji], ignore_index=True)\n",
    "# pd.concat([sad_emotion, aqd_emotion, pusab_emotion], ignore_index=True)\n",
    "# combined_emoji_analysis['date'].nunique()\n",
    "# help(fig.update_yaxes)\n",
    "combined_emotion['ekman_emotion'].value_counts()"
   ]
  },
  {
   "cell_type": "code",
   "execution_count": 111,
   "metadata": {},
   "outputs": [
    {
     "name": "stdout",
     "output_type": "stream",
     "text": [
      "media_image\n",
      "\n",
      "\n",
      "\n",
      "media_image\n",
      "\n",
      "\n",
      "\n",
      "media_video\n",
      "আজ চট্টগ্রামে কোটা সংস্কারের দাবিতে আন্দোলনরত সাধারণ শিক্ষার্থীদের উপর এভাবে প্রকাশ্যে অস্ত্রধারী সন্ত্রাসীরা হামলা চালালেও প্রশাসন ছিল নির্বিকার।\n",
      "\n",
      "\n",
      "media_video\n",
      "ঢাবির রোকেয়া হলে ছাত্রলীগ নেত্রীকে আপ্যায়নের জন্য প্রস্তুত সাধারণ শিক্ষার্থীরা\n",
      "\n",
      "\n",
      "media_video\n",
      "এভাবেই ঢাবির মুহসিন হলে বীরের বেশে প্রবেশ করে সাধারণ শিক্ষার্থীরা।\n",
      "\n",
      "\n",
      "media_video\n",
      "ঢাবির রোকেয়া হলে বাঘিনীদের গর্জন। ছাত্রলীগ নেত্রীদের হলছাড়া করা হয়েছে। হলগুলো এখন শিক্ষার্থীদের নিয়ন্ত্রণে।\n",
      "\n",
      "\n",
      "media_video\n",
      "\n",
      "\n",
      "\n",
      "media_video\n",
      "\n",
      "\n",
      "\n",
      "media_image\n",
      "নতুন কর্মসূচি ঘোষণা\n",
      "\n",
      "\n",
      "media_image\n",
      "রাজশাহী বিশ্ববিদ্যালয় সাধারণ ছাত্র-ছাত্রীদের দখলে যাওয়ার পর থেকেই সোশ্যাল মিডিয়ায় নানানভাবে আতংক সৃষ্টির চেষ্টায় রয়েছে ছাত্রলীগ।\n",
      "\n",
      "\n",
      "media_video\n",
      "রাজধানীর শেরে বাংলা কৃষি বিশ্ববিদ্যালয় (শেকৃবি) ক্যাম্পাসের ভিডিও। সাধারণ শিক্ষার্থীদের \"ভুয়া-ভুয়া\" শ্লোগান শুনে বন্ধ হয়ে গেল ছাত্রলীগের শ্লোগান!\n",
      "\n",
      "\n",
      "ঘোষণা 🚨📢📣\n",
      "\n",
      "আজকে পুলিশ ও ছাত্রলীগের যৌথ হামলা ও গুলিবর্ষণে শহীদ ভাইদের জন্য আগামীকাল ১৭ জুলাই দুপুর ২:০০ টায় রাজু ভাষ্কর্যের পাদদেশে \"গায়েবানা জানাযা ও কফিন মিছিল\" অনুষ্ঠিত হবে। \n",
      "\n",
      "আপনারা সকল শিক্ষাপ্রতিষ্ঠান ও জেলায় জেলায় গায়েবানা জানাযা ও কফিন মিছিল পালন করুন। ঢাকায় অবস্থানরত সকলে রাজু ভাষ্কর্যের পাদদেশে সময়মতো চলে আসুন।\n",
      "\n",
      "\n",
      "media_video\n",
      "ঢাবি শিক্ষার্থীরা ঐক্যবদ্ধ। তারা তাদের হল ছেড়ে কোথাও যাবেনা। শিক্ষার্থীরা সবাই ঐক্যবদ্ধ থাকলে সকল বাঁধা অতিক্রম করা সময়ের ব্যাপার মাত্র।\n",
      "\n",
      "\n",
      "রোকেয়া হল ছাত্রলীগের সভাপতি এবং কেন্দ্রের ১নং সাংগঠনিক সম্পাদক আতিকাকে মেরে হল থেকে বের করে দিয়েছে সাধারণ ছাত্রীরা\n",
      "\n",
      "\n",
      "media_image\n",
      "সবাই হ্যাশট্যাগ ও প্রোফাইল পিকচার দেই।\n",
      "\n",
      "\n",
      "media_video\n",
      "এমন বাংলাদেশই কি আমরা চেয়েছিলাম!\n",
      "\n",
      "\n",
      "media_image\n",
      "হলে শিক্ষার্থীদের নিরাপত্তার জন্য প্রাধ্যক্ষরা থাকবেন বলে প্রতিশ্রুতি দিয়েছিলেন রাজশাহী বিশ্ববিদ্যালয়ের উপ-উপাচার্য ড. সুলতান-উল-ইসলাম।\n",
      "\n",
      "তবে শিক্ষার্থীরা ইতিমধ্যে অভিযোগ দিচ্ছেন\n",
      "\n",
      "\n",
      "media_image\n",
      "হলে শিক্ষার্থীদের নিরাপত্তার জন্য প্রাধ্যক্ষরা থাকবেন বলে প্রতিশ্রুতি দিয়েছিলেন রাজশাহী বিশ্ববিদ্যালয়ের উপ-উপাচার্য ড. সুলতান-উল-ইসলাম।\n",
      "\n",
      "তবে শিক্ষার্থীরা ইতিমধ্যে অভিযোগ দিচ্ছেন হল প্রভোস্ট হলে না আসার জন্য বিভিন্ন অজুহাত দিচ্ছেন।\n",
      "\n",
      "\n",
      "media_video\n",
      "এভাবেই ঘাড়ে ধরে বের করে দেওয়া হয়েছে ঢাবির ছাত্রলীগের নেত্রীদের\n",
      "\n",
      "\n",
      "media_video\n",
      "ছাত্রলীগ মুক্ত ক্যাম্পাস বিনির্মাণ চলছে।\n",
      "\n",
      "\n",
      "media_video\n",
      "সাবাস বাঘিনীরা!!\n",
      "\n",
      "\n",
      "media_video\n",
      "রাজশাহী বিশ্ববিদ্যালয় ছাত্রলীগের সভাপতি মোস্তাফিজুর রহমান বাবুর ক্যাম্পাস হতে পালিয়ে যাবার পর স্থানীয় গণমাধ্যমের উপস্থিতিতে রুম তল্লাশি করা হলে বিভিন্ন ধরনের দেশীয় অস্ত্র,পি/স্ত/ল,মদের বোতল,মোবাইল ফোন ও বাবুর ব্যাক্তিগত পাসপোর্ট উদ্ধার করা হয়।\n",
      "\n",
      "\n",
      "media_video\n",
      "প্রশাসনের দায়িত্ব কি সাধারণ শিক্ষার্থীদের নিরাপত্তা দেওয়া না ক্যাম্পাসে ঢুকে তাদের উপর এভাবে হামলে পড়া? \n",
      "\n",
      "এরা তো জনগণের ট্যাক্সের টাকায় বেতন পায়। এদের সন্তানরাও স্কুল-কলেজ-বিশ্ববিদ্যালয়ে পড়ে। তাহলে তারা কেন সন্ত্রাসীদের পক্ষ নিয়েছে?\n",
      "\n",
      "\n",
      "media_video\n",
      "\n",
      "\n",
      "\n",
      "media_image\n",
      "চিনতে পেরেছেন?\n",
      "\n",
      "\n",
      "media_image\n",
      "\n",
      "\n",
      "\n",
      "media_video\n",
      "রোকেয়া হলের ছাত্রলীগ নেত্রীরা সাধারণ শিক্ষার্থীদের উপর হামলা করতে আসায় শিক্ষার্থীরা এবং হলের শিক্ষিকা'সহ সবাইকে জুতা মেরে হল থেকে বের করে দেওয়া হয়।\n",
      "\n",
      "\n",
      "হলে হলে রেড হওয়ার বিষয়টি গুজব। ছাত্রলীগ হল থেকে বিতাড়িত হয়ে এসব গুজব ছড়িয়ে সাধারণ শিক্ষার্থীদের মনোবল ভাঙতে চাচ্ছে। হলের এক ইঞ্চি মাটিও ছাড়া যাবেনা ছাত্রলীগের জন্য।\n",
      "\n",
      "\n",
      "media_image\n",
      "স্বায়ত্তশাসিত বিশ্ববিদ্যালয়ে ইউজিসির হস্তক্ষেপ কেনো? সাধারণ শিক্ষার্থীদেরও প্রশ্ন রয়েই যায়!\n",
      "\n",
      "\n",
      "media_video\n",
      "সাধারণ শিক্ষার্থীদের নিকট ধাওয়া খেয়ে এভাবেই পালিয়ে যাচ্ছিল রাবি ছাত্রলীগের সাধারণ সম্পাদক আসাদুল্লা-হিল-গালিব।\n",
      "\n",
      "\n",
      "media_image\n",
      "ঢাকা বিশ্ববিদ্যালয় রোকেয়া হলের ছাত্রলীগের সভাপতি পৃথা এবং সাধারণ সম্পাদক আতিকাকে ঘাড় ধাক্কা দিয়ে হল থেকে বের করে দিয়েছেন সাধারণ শিক্ষার্থীরা।\n",
      "\n",
      "\n",
      "media_video\n",
      "রাতের অন্ধকারে হামলা চালাতে এসে অমর একুশে হলের সামনে ঢাবির সাধারণ শিক্ষার্থীদের হাতে আটক হলো বহিরাগত এই লীগের সন্ত্রাসী! \n",
      "\n",
      "প্রথমে অস্বীকার করলেও পরে তার ফেসবুক আইডিতে ঢুকলে ধরা পরে যায়।\n",
      "\n",
      "\n",
      "media_image\n",
      "স্বায়ত্তশাসনের মায়রে-বাপ।\n",
      "\n",
      "হল ছাড়ছিনা, ছাড়ব না।\n",
      "পারলে বিজ্ঞপ্তি দিয়ে টোকাই তাড়ান।\n",
      "\n",
      "\n",
      "media_image\n",
      "ঢাবির রোকেয়া হল এখন সম্পূর্ণ ছাত্ররাজনীতি মুক্ত🫰\n",
      "\n",
      "\n",
      "বরিশাল বিএম কলেজ ছাত্রলীগ পি'টিয়ে ক্যাম্পাস ছাড়া করছে সাধারন ছাত্ররা।\n",
      "\n",
      "\n",
      "media_video\n",
      "রোকেয়া হলের সভানেত্রী ও সাধারণ সম্পাদককে ঘাড় ধাক্কা দেওয়ার ভিডিও।\n",
      "\n",
      "\n",
      "media_image\n",
      "গুজব\n",
      "\n",
      "\n",
      "media_image\n",
      "এই বিষবৃক্ষকে হল থেকে বিতাড়িত করতেই হবে। আমাদের সিটের ন্যায্য অধিকার আদায় করে নিতেই হবে।\n",
      "\n",
      "Now or Never.\n",
      "\n",
      "\n",
      "media_image\n",
      "সারাদেশে একই কর্মসূচি চলবে\n",
      "\n",
      "\n",
      "media_image\n",
      "কবি নজরুল সরকারি কলেজ ছাত্রলীগের \n",
      "সাবেক পাঠাগার বিষায়ক সম্পাদক, \n",
      "মেহেদী হাসান বিজয় মাথায় মানচিত্র\n",
      "\n",
      "\n",
      "media_image\n",
      "\n",
      "\n",
      "\n",
      "media_image\n",
      "আগামীকাল সকাল ১১ টায় ব্রাহ্মণবাড়িয়ায় সর্বস্তরের সাধারণ শিক্ষার্থীদের শান্তিপূর্ণ ব্লকেড কর্মসূচির ডাক দিয়েছে ব্রাহ্মণবাড়িয়ার শিক্ষার্থীসমাজ।\n",
      "\n",
      "\n",
      "media_video\n",
      "মুখ লুকিয়ে রেখেছে পুলিশ! হা’ম’লাকালীন পুলিশের আচরণে হতবাক নারী শিক্ষাথীরা!\n",
      "\n",
      "\n",
      "মানবতা আজ কোথায়!!!\n",
      "\n",
      "এত রাতে রোকেয়া হলের আমার বোনগুলোকে এভাবে মেরে বের করে দিলো! তারা এখন কোথায় যাবে!!\n",
      "\n",
      "ছাত্রলীগ করাই কি আমাদের বোনদের অপরাধ??!!\n",
      "\n",
      "\n",
      "media_video\n",
      "ঢাকা বিশ্ববিদ্যালয়ের মৈত্রী হল এবং বঙ্গমাতা হলের সামনে থেকে।\n",
      "\n",
      "\n",
      "media_image\n",
      "বাকি সবগুলো হলও বিজয় করা হবে।\n",
      "\n",
      "\n",
      "media_video\n",
      "ছোটবেলায় অধিক সময় ধরে পুকুরে গোসল করার পর লে আম্মু-\n",
      "\n",
      "\n",
      "media_video\n",
      "ছাত্রলীগ করা কি অপরাধ? \n",
      "ছাত্রলীগ করলে এভাবে মারতে হবে?\n",
      "\n",
      "আহারে, খুব মায়া হচ্ছে আপুটার জন্য।\n",
      "\n",
      "\n",
      "ঢাকা কলেজ ছাত্রলীগের কর্মী সবুজ আলী কিছুক্ষন আগে ঢাকা মেডিকেলে মারা গেছেন।\n",
      "\n",
      "\n",
      "ছাত্র রাজনীতিমুক্ত হল পরবর্তী প্রজন্মকে উপহার দেয়ার সর্বোচ্চ সুযোগ হয়তো এখনই। ছাত্রলীগ,ছাত্রদল কিংবা অন্য যেকোনো রাজনৈতিক সংগঠন থেকে হলগুলো মুক্তি পেলে মেধাবীদের আর ছাড়পোকার কামড়ে ঘুম নষ্ট করতে হবে না। ঘণ্টার পর ঘণ্টা মধুর ক্যান্টিনে দাঁড়িয়ে থেকে মেধার অপচয় করতে হবে না। শীতের রাতে প্রথম বর্ষের শিক্ষার্থীকে ক্যাম্পাস পাহারায় যেতে হবে না। সাধারণ শিক্ষার্থীদের কাছে এবারই হয়তো সবচেয়ে সুবর্ণ সুযোগ!  It's now or never!\n",
      "\n",
      "\n",
      "media_image\n",
      "রাজশাহী মহানগর মেস মালিক সমিতির এমন সিদ্ধান্ত রাজশাহীর সাধারণ শিক্ষার্থীরা মানে না।\n",
      "\n",
      "\n",
      "কোটা আন্দোলনের সবচেয়ে নির্ভরযোগ্য প্লাটফর্মে যুক্ত হোন টেলিগ্রামে। \n",
      "\n",
      "আমাদের ব্যাক আপ চ্যানেল:\n",
      "https://t.me/bdreformquota\n",
      "\n",
      "সবাই এখনই যুক্ত হোন। অন্যদের যুক্ত করুন।\n",
      "\n",
      "\n",
      "media_image\n",
      "খুলনা বিশ্ববিদ্যালয়ের ক্যাম্পাসে অনাকাঙ্ক্ষিত ঘটনা ঘটার আভাস।।\n",
      "শিক্ষার্থীরা সতর্ক অবস্থায় আছে।\n",
      "\n",
      "\n",
      "Badruzzaman Bhuiyan Kanchan স্যার \n",
      "ভাইস চ্যান্সেলর \n",
      "বরিশাল বিশ্ববিদ্যালয় \n",
      "\n",
      "সময় :(রাত ১ টা ২০মিনিট)\n",
      "শিক্ষার্থীদের নিরাপত্তার জন্য শিক্ষার্থীদের সাথেই হলে অবস্থান। \n",
      "\n",
      "স্যালুট স্যার।🫡\n",
      "\n",
      "\n",
      "media_image\n",
      "১৭ জুলাই,২০২৪|রাত ১ টা৫৩ মিনিট \n",
      "\n",
      "MH হলের গেইটে তালা দেয়া|হলের মুখেই প্রচুর ইট রেডি করা আছে। ছাদেও পোলাপান পাহারায় আছে। বাকি যে যার রুমে রেডি, কিন্তু ঘুমায় নাই। অর্থাৎ যেকোন হামলা মোকাবেলায় সবাইকে প্রস্তুত দেখা গেছে|\n",
      "\n",
      "\n",
      "media_image\n",
      "\n",
      "\n",
      "\n",
      "media_image\n",
      "\n",
      "\n",
      "\n",
      "media_image\n",
      "\n",
      "\n",
      "\n",
      "media_image\n",
      "একটা বিষয় নিয়ে একটু কথা বলা দরকার-\n",
      "\n",
      "স্কুল কলেজ বন্ধ দেয়ার মেইন মোটিভটা কি সবাই ধরতে পারছেন? না, ছাত্র-ছাত্রীদের নিরাপত্তার জন্য স্কুল-কলেজ বন্ধ দেয় নাই। বন্ধ দিয়েছে আন্দোলনের তীব্রতা কমানোর জন্য। স্কুল- কলেজ বন্ধ থাকলে ইউনিফর্ম পড়ে আন্দোলন করা শিক্ষার্থীর সংখ্যা কমবে। ফলে তারা শিক্ষার্থীদের অন্য ট্যাগ দিয়ে হামলা করতে পারবে। কারন ইউনিফর্ম পড়া শিক্ষার্থীদের গায়ে পুলিশ হাত দিলে বহির্বিশ্ব থেকে চাপ আসবে। \n",
      "\n",
      "তাই বলছি কালকে যারা আন্দোলনে যাবেন অবশ্যই ইউনিফর্ম পড়ে আসবেন এবং সাথে আইডি কার্ড রাখবেন।\n",
      "\n",
      "ছবি: গতকালের বরিশাল নার্সিং কলেজ\n",
      "\n",
      "\n",
      "media_image\n",
      "\n",
      "\n",
      "\n",
      "media_image\n",
      "তিনি ঢাবির সহযোগী অধ্যাপক।\n",
      "\n",
      "\n",
      "media_image\n",
      "প্রোফাইল পিকচার দিয়েছেন তো?\n",
      "\n",
      "\n",
      "media_image\n",
      "ঢাবির নারী শিক্ষার্থীরা যেভাবে নিজেদের হল থেকে মিছিল নিয়ে যাওয়া ছাত্রলীগ নেতাকর্মীদের অভিবাদন জানাচ্ছে।\n",
      "\n",
      "\n",
      "ঢাকা বিশ্ববিদ্যালয়ের শামসুন্নাহার হল থেকে টোকাইদের বের করে দেওয়া হচ্ছে। আপডেট আসছে...\n",
      "\n",
      "\n",
      "ছাত্রলীগ মুক্ত ঢাকা বিশ্ববিদ্যালয়ের ৫ হল\n",
      "\n",
      "শহীদুল্লাহ হল‌\n",
      "ফজলুল হক মুসলিম হল\n",
      "অমর একুশে হল\n",
      "রোকেয়া হল\n",
      "মহসীন হল\n",
      "\n",
      "\n",
      "media_image\n",
      "রোকেয়া হলের ছাত্রলীগ সভাপতি আতিকা বিনতে হোসাইন। হলের মেয়েরা আপুটিকে মেরে বের করে দিয়েছে।\n",
      "\n",
      "অনেকেই বলছেন মাইরের সময় মুখে মেকাপ না থাকায় আপুকে চিনতে কষ্ট হয়েছে! কি একটা অবস্থা!!\n",
      "\n",
      "\n",
      "বিশ্বাস করুন,\n",
      "\n",
      "ছাত্রলীগের কলিজা পানি হয়ে গেছে। কেবল হলে সমস্বরে একটা স্লোগান তুলুন দেখবেন ছাত্রলীগ প্যান্ট ফেলে পালিয়ে গেছে।\n",
      "\n",
      "\n",
      "আপনার হলে যদি ১০০জন ছেলে থাকে, এর মধ্যে ছাত্রলীগ আছে সর্বোচ্চ ১০জন। এই ১০ জন আপনাকে জিম্মি করে রাখছে বছরের পর বছর। সময় এসেছে আওয়াজ তোলার। শুধু একবার সবাই ওদেরকে নাম ধরে ডাক দেন। মুততে মুততে হল থেকে বাইর হয়ে যাবে।\n",
      "\n",
      "\n",
      "media_video\n",
      "কেউ গুজবে কান দিবেন না।\n",
      "\n",
      "আগামীকাল ১৭ই জুলাই, দুপুর ২টায় সারাদেশে গায়েবানা জানাযা ও কফিন মিছিল। ঢাকায় রাজু ভাস্কর্যের পাদদেশ থেকে শুরু হবে।\n",
      "\n",
      "\n",
      "নাচে ওই কালবোশাখী,\n",
      "কাটাবী কাল বসে কি?\n",
      "দে রে দেখি\n",
      "ভীম কারার ঐ ভিত্তি নাড়ি!\n",
      "লাথি মার, ভাঙ্গরে তালা!\n",
      "যত সব বন্দী শালায়-\n",
      "আগুন-জ্বালা\n",
      "\n",
      "\n",
      "media_video\n",
      "রাজশাহী বিশ্ববিদ্যালয়ের বেগম রোকেয়া হলের ছাত্রীদের আজ সকালে হল ত্যাগ না করার ঘোষণা।\n",
      "\n",
      "\n",
      "media_video\n",
      "আজ সারাদিন রাজপথেই ছিল রাবির বীর শিক্ষার্থীরা। তারা হল ত্যাগ না করার ঘোষণা দিয়েছে।\n",
      "\n",
      "\n",
      "আপডেট: রাত ১.৫৭\n",
      "\n",
      "পরিস্থিতি শান্ত। আমরা আলহামদুলিল্লাহ সবাই সেইফ আছি। তবে সবাই সতর্ক আছি। সকল ধরনের প্রস্তুতি আমাদের আছে। আপনারা চিন্তা করবেন না। আপনাদের দোয়া আর ভালোবাসার জন্য আমরা অন্তরের অন্তস্তল থেকে কৃতজ্ঞ। \n",
      "\n",
      "জাবি\n",
      "\n",
      "\n",
      "সংগ্রামী জনতা,\n",
      "\n",
      "জেগে আছেন??\n",
      "\n",
      "চলুন একটা কাজ করি?\n",
      "\n",
      "নিচের লেখাটা দিয়ে ক্যালিগ্রাফি, টাইপোগ্রাফি যে যা পারেন করে দেন তো দেখি!!!\n",
      "\n",
      "❝মার হাঁক হায়দারী হাঁক❞\n",
      "\n",
      "\n",
      "media_image\n",
      "চলমান আন্দোলনে মিডিয়ার ভূমিকা নিয়ে গভীর উদ্বেগ প্রকাশ করেছে দক্ষিণ কোরিয়ার ইউটিউবার দাউদ কিম।\n",
      "\n",
      "\n",
      "media_video\n",
      "ছাত্রলীগের কালো হাত\n",
      "ভেঙে দাও গুড়িয়ে দাও\n",
      "\n",
      "ছাত্রলীগ মুক্ত রোকেয়া হল, ঢাবি\n",
      "\n",
      "\n",
      "media_video\n",
      "Queens 👑\n",
      "\n",
      "\n",
      "media_image\n",
      "আপুরা পেরেছে, ভাইয়ারাও পারবেন। শুধু একবার গর্জনের অপেক্ষা।\n",
      "\n",
      "\n",
      "media_video\n",
      "গভীর রাতে রোকেয়া হলের সামনে সড়কে জুতা হাতে মেয়েদের বিক্ষোভ...\n",
      "পুলিশলীগ দেখেই 'খুনি-খুনি স্লোগান দিলো মেয়েশিক্ষার্থীরা।\n",
      "\n",
      "\n",
      "জরুরি মেসেজ। প্রটেকশন ছাড়া কেউ আন্দোলনে যাবেন না। আজ চানখারপুল আমি আন্দোলনের সবার সামনে ছিলাম। যারা আমাকে দেখছে জিজ্ঞেস করে দেখবেন,  ওরা ১০০ জন আমাকে ধাওয়া করে একচুল নাড়াতে পারেনি পরে আমাদের দলের একজন আমাকে টেনে পিছনে আনছে, আমার গায়ে ২০-২৫ টা ইট লাগছে কিছু হয়নি কারণ  প্রটেকশন \n",
      "১: আমি একটা খালি ব্যাগ সাথে করে নিছি যেটা আমি ঢাল হিসেবে ব্যবহার করছি\n",
      "২। একটা স্টিলের পাত সাথে নিছি ভয়ে ওরে সামনে আসেনি আসলে একটা লাশ পড়গে পারত হয় আমি নয়ত ওরা কেউ \n",
      "\n",
      "আপনার যাযা নিবেন:\n",
      "১। মাথায় হেলমেটে হাফ নিবেন, কভার গরমে মাথায় রাখতে কস্ট হবে,চাইলে ফুলও নিতে পারেন \n",
      "২। বুকে লেদার সাপোর্ট \n",
      "৩। একটা খালি ব্যাগ ঢাল স্বরুপ\n",
      "৪। কের্স জুতা,জিনস প্যান্ট ফুল হাটা শার্ট পরবেন\n",
      "৫।স্টিলের লাঠি( ছবিতে দেয়া) এরকম\n",
      "৬। বুক ভরা সাহস রাখবেন পিছনে তাকাবেন না, পেছনে যেতে হলে সামনে তাকিয়ে আসতে আসতে পিছু পা হবেন।\n",
      "আপনার সামনে ১০০ ছাত্রলীগ কিছু না বরং ওরা ভয় পাবে সামনে আসতে আম আজ নিজে প্রমাণ।  আপনার শুধু আন্দোলন করলেই হবে না কীভাবে জিততে হবে তাও মাথায় রাখা জরুরি নয়ত শুধু মার খাবেন\n",
      "\n",
      "জীবনের প্রথম যুদ্ধ আমার✊\n",
      "\n",
      "\n",
      "media_video\n",
      "রাজশাহী বিশ্ববিদ্যালয়ে বেগম রোকেয়া হলের পর এবার খালেদা জিয়া হলের ছাত্রীদেরও আগামীকাল হল ত্যাগ না করার ঘোষণা।\n",
      "\n",
      "\n",
      "media_image\n",
      "From Japan.\n",
      "\n",
      "\n",
      "media_image\n",
      "\n",
      "\n",
      "\n",
      "media_image\n",
      "\n",
      "\n",
      "\n",
      "media_image\n",
      "রংপুরে পুলিশের সঙ্গে সংঘর্ষে বেগম রোকেয়া বিশ্ববিদ্যালয়ের (বেরোবি) শিক্ষার্থী আবু সাইদ নিহতের পর স্লোগান দিয়ে ক্যাম্পাসে ঢোকেন সাধারণ শিক্ষার্থীরা। এ সময় শিক্ষার্থীদের আসার খররে দেয়াল টপকে ক্যাম্পাস থেকে সটকে পড়েন বিশ্ববিদ্যালয় ছাত্রলীগের নেতাকর্মীরা।\n",
      "\n",
      "\n",
      "media_image\n",
      "'আর কে চাল কিনে দিবে? টিউশনের টাকা না পাঠাইলে তো বাসায় না খেয়ে থাকতে হতো।'\n",
      "\n",
      "-শহীদ আবু সাইদ ভাইয়ের বাবা\n",
      "\n",
      "\n",
      "রাত ২.৩৫,আপডেট-\n",
      "\n",
      "রাজশাহীতে বিভিন্ন স্থানে বিদুৎ সংযোগ বিচ্ছিন্ন করে ফেলা হয়েছে।\n",
      "\n",
      "\n",
      "media_video\n",
      "ছাত্রলীগের গালে গালে..........\n",
      "\n",
      "\n",
      "media_image\n",
      "Since around 10 PM on Tuesday, users across the country have reported difficulties accessing Facebook through mobile data. However, the platform remains accessible via broadband internet. \n",
      "\n",
      "Testing from multiple sites confirms that Facebook is not reachable using mobile data from different operators.\n",
      "\n",
      "দ্রুত আমাদের টেলিগ্রাম চ্যানেল লিংকটি ছড়িয়ে দিন\n",
      "\n",
      "\n",
      "media_video\n",
      "অমর একুশে হলের এক লীগারকে প্যারাড করানো হচ্ছে।\n",
      "\n",
      "\n",
      "ঢাবির সুফিয়া কামাল হলের সব মেয়েরা নিচে নেমে এসেছে। ম্যামদের সাথে আলাপ করছে। আরেকটি হলে বিজয় হতে যাচ্ছে। সাবাস মেয়েরা!!\n",
      "\n",
      "ছেলেরা হাতে চুড়ি পরে বসে থাকো।\n",
      "\n",
      "\n",
      "ঢাবি সহ সকল ক্যাম্পাসের ছাত্রদের বলছি, রক্তের বদলা নেওয়ার মোক্ষম সময় এটাই। এখনই। হয় মুক্তি নয় গোলামী। আজ মুক্তি আনতে পারলে আপনি মুক্ত স্বাধীন। আর না পারলে বাকি জীবন গোলামীই করতে হবে। হলগুলোতে ছাত্রলীগ একেবারে কোনঠাসা হয়ে আছে। কলিজা পানি হয়ে গেছে। রুহ জিহবার আগায়। শুধু আপনারা একবার হুংকার ছেড়ে দেখেন। আর কিছু করতে হবেনা কসম, রাস্তার ধুলোর মতো উড়ে যাবে ছাত্রলীগ।\n",
      "\n",
      "\n",
      "media_video\n",
      "রাত ২টা ৫০ মিনিট\n",
      "\n",
      "শহীদ সার্জেন্ট জহুরুল হক হল, ঢাবি\n",
      "ছাত্রলীগের নেতারা হল ছেড়ে চলে গেছে আগেই।\n",
      "\n",
      "\n",
      "media_image\n",
      "উফফফস!!\n",
      "\n",
      "\n",
      "media_video\n",
      "❤️\n",
      "\n",
      "\n",
      "শুনলাম, \n",
      "মধ্যরাতে রোকেয়া হলের নেত্রীদের নিয়ে জহু হলের নেতারা পালাইছে😄\n",
      "\n",
      "\n",
      "media_video\n",
      "কি দোষ ছিল শহীদ আবু সাঈদের?\n",
      "\n",
      "ছাত্রলীগ আর পুলিশকে এই প্রশ্নের জবাব দিতেই হবে। সাধারণ শিক্ষার্থীরা এই খুনের বদলা নেওয়া ছাড়া ঘরে ফিরবেনা।\n",
      "\n",
      "\n",
      "সকল প্রকার ছাত্ররাজনীতি মুক্ত শামসুন্নাহার হল, ঢাকা বিশ্ববিদ্যালয়। \n",
      "\n",
      "১৭ জুলাই ২০২৪\n",
      "রাত  ৩.০০ টা\n",
      "\n",
      "\n",
      "media_image\n",
      "সকল প্রকার ছাত্র রাজনীতি মুক্ত ঢাকা বিশ্ববিদ্যালয়ের কবি সুফিয়া কামাল হল\n",
      "\n",
      "\n",
      "media_image\n",
      "কুয়েত মৈত্রী হল ছাত্রলীগ মুক্ত ঘোষণা। বঙ্গমাতা হল অন দ্য ওয়ে...\n",
      "\n",
      "আজ রাতের মধ্যেই ঢাবি ক্যাম্পাসের একাধিক হল ছাত্রলীগ মুক্ত ঘোষণা করা হলো।\n",
      "\n",
      "\n",
      "ঢাকা বিশ্ববিদ্যালয়সহ সকল ক্যাম্পাস থেকে পুলিশ-বিজিবির উপস্থিতি সরাতে হবে। \n",
      "\n",
      "সকল শিক্ষা প্রতিষ্ঠান, হল ও মেস বন্ধের সিদ্ধান্ত প্রত্যাহার করতে হবে। শিক্ষার্থীদের নিরাপত্তা দিতে ব্যর্থ ভিসি-প্রক্টরকে জবাবদিহি করতে হবে।\n",
      "\n",
      "ঢাকা বিশ্ববিদ্যালয়ের অধিকাংশ হল এখন সাধারণ শিক্ষার্থীদের দখলে। প্রতিটা ক্যাম্পাস ও হলকে দুর্গে পরিণত করুন। বাংলাদেশ থেকে সন্ত্রাসীদের বিতাড়িত করতে হবে। \n",
      "\n",
      "কোটা সংস্কারের এক দফা দাবিসহ সকল হামলার বিচার ও মামলা প্রত্যাহার করতে হবে।\n",
      "\n",
      "ঢাকার বিভিন্ন পয়েন্টে শিক্ষার্থীরা অবস্থান করবেন। ঢাকার আশপাশ থেকে বাসে করে সন্ত্রাসীদের ভাড়া করে আনার চেষ্টা করা হয় ঢাকা বিশ্ববিদ্যালয় এলাকায়। সবগুলা পয়েন্টে সন্ত্রাসীদের রুখে দিবেন।\n",
      "\n",
      "শহীদদের জানাযায় দলে দলে যোগ দিন। ইতিহাসের সবচেয়ে বড় জমায়েত রাজু ভাস্কর্যে হবে আজ। দলে দলে ঢাকা বিশ্ববিদ্যালয়ে আসুন।\n",
      "\n",
      "শহীদের রক্ত বৃথা যেতে দিবো না।\n",
      "\n",
      "নাহিদ ইসলাম,\n",
      "সমন্বয়ক, বৈষম্যবিরোধী ছাত্র আন্দোলন\n",
      "\n",
      "\n",
      "media_image\n",
      "ক্যাম্পাসে ক্যাম্পাসে \"ছাত্রলীগ প্রবেশ নিষেধ\" পোস্টার টাঙ্গিয়ে দিচ্ছে সারাদেশের ছাত্রসমাজ।\n",
      "\n",
      "\n",
      "media_image\n",
      "\n",
      "\n",
      "\n",
      "media_video\n",
      "সাহসটা দেখুন একবার ইনাদের!\n",
      "\n",
      "\n",
      "media_image\n",
      "\n",
      "\n",
      "\n",
      "media_image\n",
      "রাজনীতি মুক্ত হলো ঢাকা বিশ্ববিদ্যালয়ের যেসব হল:\n",
      "১. রোকেয়া হল।\n",
      "২. সুফিয়া কামাল হল। \n",
      "৩. মৈত্রী হল।\n",
      "৪. শামসুন্নাহার হল।\n",
      "৫. অমর একুশে হল।\n",
      "৬. শহিদুল্লাহ হল।\n",
      "৭. ফজলুল হক মুসলিম হল।\n",
      "৮. মুহসীন হল।\n",
      "৯. জহুরুল হক হল( অন দ্যা ওয়ে)\n",
      "১০. বঙ্গমাতা শেখ ফজিলাতুন্নেছা মুজিব হল।\n",
      "\n",
      "\n",
      "media_image\n",
      "\n",
      "\n",
      "\n",
      "media_image\n",
      "\n",
      "\n",
      "\n",
      "media_image\n",
      "\n",
      "\n",
      "\n",
      "media_image\n",
      "\n",
      "\n",
      "\n",
      "media_image\n",
      "\n",
      "\n",
      "\n",
      "media_image\n",
      "মুক্তির অপেক্ষায় থাকা জহু হলকে রক্ষার শেষ চেষ্টা হিসেবে পেটুয়া বাহিনির আগমন... \n",
      "\n",
      "ঢাবি সহ সকল ক্যাম্পাস থেকে পেটোয়া বাহিনি হিসেবে ব্যবহৃত পুলিশ, বিজিবি প্রত্যাহার করতে হবে। লাউড এন্ড ক্লিয়ার।\n",
      "\n",
      "\n",
      "media_image\n",
      "\n",
      "\n",
      "\n",
      "media_image\n",
      "\n",
      "\n",
      "\n",
      "media_image\n",
      "\n",
      "\n",
      "\n",
      "media_image\n",
      "দেশের সকল পাবলিক বিশ্ববিদ্যালয়ের শিক্ষার্থীরা এক সাথে জেগে উঠেছে এই খুনী-ধর্ষক-নিপীড়কদের বিরুদ্ধে।\n",
      "\n",
      "\n",
      "media_video\n",
      "রাত ৩টা ৩০ মিনিট। মুহসীন হল, ঢাবি। স্লোগানে স্লোগানে উত্তাল।\n",
      "\n",
      "\n",
      "media_image\n",
      "এখনই সময়। ঢাবিয়ানরা খেলে দিন।\n",
      "\n",
      "\n",
      "media_image\n",
      "শামসুন্নাহার হল, ঢাবি এখন আনুষ্ঠানিকভাবে ছাত্রলীগ মুক্ত।\n",
      "\n",
      "\n",
      "media_image\n",
      "\n",
      "\n",
      "\n",
      "media_image\n",
      "ছাত্রলীগ পালাইলো, বঙ্গমাতা স্বাধীন হইল। সাবাশ।\n",
      "\n",
      "\n",
      "আলহামদুলিল্লাহ। ঢাকা বিশ্ববিদ্যালয়ে মেয়েদের সব হল আনুষ্ঠানিকভাবে ছাত্রলীগ মুক্ত। এবং ঢাকা বিশ্ববিদ্যালয়ে মেয়েদের সব হলে সকল ধরনের রাজনৈতিক কার্যক্রম নিষিদ্ধ ঘোষণা করা হয়েছে।\n",
      "\n",
      "\n",
      "media_video\n",
      "দেশের সকল ক্যাম্পাস থেকেই বিতাড়ন করা হচ্ছে ছাত্রলীগ নামক এই খুনী-ধর্ষক ও সন্ত্রাসীদের। এদেরকে কোনভাবেই আর সহ্য করতে পারছেনা দেশের ছাত্রসমাজ।\n",
      "\n",
      "ঢাকা কলেজের হল থেকে এই মধ্যরাতে পিটিয়ে ‘ভুয়া-ভুয়া’ শ্লোগান দিয়ে ছাত্রলীগ সন্ত্রাসীদের বের করে দিচ্ছে সাধারণ শিক্ষার্থীরা।\n",
      "\n",
      "\n",
      "দেশের সকল ক্যাম্পাসে এখন একযোগে ‘ছাত্রলীগ বিতাড়ন কর্মসূচি' চলছে...🤗\n",
      "\n",
      "\n",
      "media_image\n",
      "\n",
      "\n",
      "\n",
      "media_image\n",
      "জহু হল\n",
      "\n",
      "\n",
      "media_image\n",
      "\n",
      "\n",
      "\n",
      "media_image\n",
      "টোকাইলীগের ভাইটির কলিজাকে সাধারণ শিক্ষার্থীরা চুলের মুঠি ধরে মেরে হল থেকে বের করে দিছে 😛\n",
      "\n",
      "\n",
      "media_image\n",
      "এদের কাছ থেকে এদেশের ছাত্রসমাজ আর কিছু আশা করেনা। এরা সবাই স্বৈরাচারের গোলামের খাতায় সেই কবেই নাম লিখিয়ে ফেলেছে।\n",
      "\n",
      "\n",
      "\"আজকেই বলশেভিকদের রাত\n",
      "প্রতিটা হল ই বাস্তিল;\n",
      "আজকেই মহররম-আশুরা।\"\n",
      "\n",
      "\n",
      "media_image\n",
      "আপডেট: ঢাবির সবগুলো ছাত্রী হল ছাত্রলীগ ও অন্যান্য রাজনৈতিক দল মুক্ত। \n",
      "\n",
      "17.07.24\n",
      "A night to remember!\n",
      "\n",
      "\n",
      "media_image\n",
      "\n",
      "\n",
      "\n",
      "media_video\n",
      "শাবিপ্রবির শিক্ষার্থীদের হল না ছাড়ার ঘোষণা। তারা গতকাল সারাদিন রাজপথে ছিল, আগামীতেও থাকার প্রত্যয় ব্যক্ত করেছে।\n",
      "\n",
      "\n",
      "media_image\n",
      "\n",
      "\n",
      "\n",
      "media_image\n",
      "\n",
      "\n",
      "\n",
      "media_image\n",
      "\n",
      "\n",
      "\n",
      "media_image\n",
      "\n",
      "\n",
      "\n",
      "কোটা আন্দোলনের সবচেয়ে নির্ভরযোগ্য প্লাটফর্মে যুক্ত হোন টেলিগ্রামে। \n",
      "\n",
      "আমাদের ব্যাক আপ চ্যানেল:\n",
      "https://t.me/bdreformquota\n",
      "\n",
      "সবাই এখনই যুক্ত হোন। অন্যদের যুক্ত করুন।\n",
      "\n",
      "\n",
      "media_video\n",
      "রোকেয়া হলের পর এবার ঢাবির শামসুননাহার হল থেকে বের করে দেওয়া হয়েছে ছাত্রলীগ নেত্রীদের।\n",
      "\n",
      "যুক্ত হোন আমাদের সাথে:\n",
      "https://t.me/bdreformquota\n",
      "\n",
      "\n",
      "media_video\n",
      "\n",
      "\n",
      "\n",
      "media_image\n",
      "পরিচয় মিলেছে ঢাবি শিক্ষার্থীদের পেটানো হলুদ জার্সি পরিহিত ব্যক্তির।\n",
      "\n",
      "রুবেল খান কুয়াকাটা ছাত্রলীগের কর্মী। তবে পৌর ছাত্রলীগের সদস্য নন। কুয়াকাটা পৌরসভার ৪নং ওয়ার্ডের বাসিন্দা মো. নুরু খানের ছেলে। এছাড়া তিনি কুয়াকাটা খানাবাদ কলেজের ডিগ্রি পাস কোর্সের শিক্ষার্থী।\n",
      "\n",
      "\n",
      "media_image\n",
      "\n",
      "\n",
      "\n",
      "কোটা আন্দোলনের খবরাখবর আরও বেশি ছড়িয়ে দিতে আমাদের অফিসিয়াল গ্রুপটির লিংক পৌছে দিন আপনার হল, ডিপার্টমেন্ট, ক্যাম্পাস, জেলার ফেসবুক ও মেসেঞ্জার গ্রুপে।\n",
      "অগ্রীম ধন্যবাদ।  \n",
      "\n",
      "আমাদের  চ্যানেল:\n",
      "https://t.me/bdreformquota\n",
      "\n",
      "\n",
      "সাবাস জহু হলের ছাত্ররা!\n",
      "\n",
      "ঢাবির জহু হল থেকে রাতেই ছাত্রলীগের নেতাকর্মীদের বিতাড়িত করা হয়। তারপর ঠিক ফজরের সময় তারা হল গেটে এসে মুহুর্মুহু ককটেল ফাটিয়ে হলে ঢোকার চেষ্টা করে। এমতাবস্থায় সাধারণ শিক্ষার্থীদের গণপ্রতিরোধের মুখে আবারও জান নিয়ে পালায় ছাত্রলীগের পান্ডাগুলো।\n",
      "\n",
      "জহু হল দারুণ সাহস দেখিয়েছো। বিজয় তোমাদেরই হবে। আবার ওরা হলে ঢোকার দুঃসাহস দেখালে তোমরাও 'খেলে দিও'।\n",
      "\n",
      "'কোটা সংস্কার চাই' চ্যানেল:\n",
      "https://t.me/bdreformquota\n",
      "\n",
      "\n",
      "media_video\n",
      "জয়েন\n",
      "'কোটা সংস্কার চাই' চ্যানেল:\n",
      "https://t.me/bdreformquota\n",
      "\n",
      "\n",
      "media_video\n",
      "জহু হলের মন্ত্রিপাড়ায় ভাঙচুর চলমান...\n",
      "\n",
      "মন্ত্রিপাড়া বলতে হলের নেতাদের ব্লককে বুঝায়।\n",
      "\n",
      "'কোটা সংস্কার চাই' চ্যানেল:\n",
      "https://t.me/bdreformquota\n",
      "\n",
      "\n",
      "নতুন ভোরের যে সপ্ন দেখে এসেছেন তা হয়তো আর খুব বেশি দূরে নয়।\n",
      "\n",
      "দৃড় মনোবল, যখন যেখানে যতটুকু যেভাবে ভূমিকা রাখার সুযোগ আছে সেটাকে কাজে লাগাবেন।\n",
      "\n",
      "ইনশাআল্লাহ ওদের পরাজয় হবেই হবে।\n",
      "\n",
      "'কোটা সংস্কার চাই' চ্যানেল:\n",
      "https://t.me/bdreformquota\n",
      "\n",
      "\n",
      "বিজিবি মোতায়েন দেখে যারা হতাশ বা ভয় পেয়েছিলেন তারা হয়তো এখন ঘুম থেকে উঠেছেন, তাদের জ্ঞাতার্থে জানাই, \"ঢাকা বিশ্ববিদ্যালয়ের মেয়েদের সকল হল ছাত্রলীগ মুক্ত করা হয়েছে\"।\n",
      "\n",
      "মানে বিজিবি মোতায়েনের রাতেই ঢাকা বিশ্ববিদ্যালয় মেয়েদের ৬ টা হল থেকে ছাত্রলীগ চলে যেতে বাধ্য হয়েছে।\n",
      "\n",
      "আমাজিন নয়, এটাই ঘটেছে গতরাতে। (উপরে রাতের সকল ভিডিও ফুটেজ আপলোড করা আছে, দেখে নিতে পারেন)।\n",
      "\n",
      "সুতরাং বিজিবি মোতায়েন শিক্ষার্থীদের জন্য ভালো কোনো বার্তাই নিয়ে এসেছে হয়তো। আশা রাখেন, সাহস করে নেমে যাবেন। পরিবর্তন হবে ইনশাআল্লাহ।\n",
      "\n",
      "\n",
      "'কোটা সংস্কার চাই' চ্যানেল:\n",
      "https://t.me/bdreformquota\n",
      "\n",
      "\n",
      "media_image\n",
      "জাফর ইকবালের বই বিক্রি না করার ঘোষণা বুকস অব বেঙ্গলের\n",
      "\n",
      "কোটা সংস্কার আন্দোলন নিয়ে শিশুসাহিত্যিক ড. মুহম্মদ জাফর ইকবালের একটি বক্তব্যের পরিপ্রেক্ষিতে তার লেখা বই বিক্রি না করার ঘোষণা দিয়েছে বাংলাদেশ ও পশ্চিমবঙ্গের বই কেনার প্লাটফর্ম ‘বুকস অব বেঙ্গল’।\n",
      "\n",
      "\n",
      "\n",
      "'কোটা সংস্কার চাই' চ্যানেল:\n",
      "https://t.me/bdreformquota\n",
      "\n",
      "\n",
      "media_video\n",
      "দেশের সকল ক্যাম্পাস থেকেই বিতাড়ন করা হচ্ছে ছাত্রলীগ নামক এই খুনী-ধর্ষক ও সন্ত্রাসীদের। এদেরকে কোনভাবেই আর সহ্য করতে পারছেনা দেশের ছাত্রসমাজ।\n",
      "\n",
      "ঢাকা কলেজের হল থেকে এই মধ্যরাতে পিটিয়ে ‘ভুয়া-ভুয়া’ শ্লোগান দিয়ে ছাত্রলীগ সন্ত্রাসীদের বের করে দিচ্ছে সাধারণ শিক্ষার্থীরা।\n",
      "\n",
      "'কোটা সংস্কার চাই' চ্যানেল:\n",
      "https://t.me/bdreformquota\n",
      "\n",
      "\n",
      "media_image\n",
      "সাব্বাস!!\n",
      "ঢাবির জহু হলেও ছাত্রলীগ নিষিদ্ধ হল।\n",
      "\n",
      "হলপাড়া কি করছে???\n",
      "\n",
      "\n",
      "ঢাবির সব হল থেকে একে একে সন্ত্রাস লীগকে বের করে দেয়া হচ্ছে। \n",
      "\n",
      "রাজশাহী বিশ্ববিদ্যালয়ে দিনেই করা হয়েছে। \n",
      "\n",
      "জাহাঙ্গীরনগর আর চবি অফিসিয়ালি করা বাকি।\n",
      "\n",
      "আজকের মধ্যেই সব ক্যাম্পাস ছাত্রলীগ মুক্ত করার টার্গেট নিন। \n",
      "\n",
      "বুয়েটের দেখানো পথে না যেতে পারলে শিক্ষাঙ্গণে শান্তি আসবেনা।\n",
      "\n",
      "'কোটা সংস্কার চাই' চ্যানেল:\n",
      "https://t.me/bdreformquota\n",
      "\n",
      "\n",
      "ঢাবির বঙ্গবন্ধু হল থেকে ছাত্রলীগের নেতাকর্মীরা ভোর হতে না হতেই পালাচ্ছে। ওদের পালাতে দিবেন না। আগে ধরুন, হালকা আদর আপ্যায়ন-ব্রেকফাস্ট দিন। তারপর যেদিক যেতে চায় পাঠিয়ে দিন লাত্থি মেরে।\n",
      "\n",
      "\n",
      "media_video\n",
      "ঢাবির জিয়া হলে সন্ত্রাসলীগ তাড়ানোর মিশন শুরু হয়েছে। ** ভেঙে দাও কুলাঙ্গারদের, যারা আমাদের বোনদের রক্তাক্ত করেছে।\n",
      "\n",
      "\n",
      "media_image\n",
      "এই রাতই শেষ রাত। কু**র মতো পেটানো হবে আবার ক্যাম্পাসে ঢুকতে চাইলে। আমার বোনের গায়ে হাত তোলার মতো স্পর্ধা যারা দেখিয়েছে, আমার ভাইকে লাশ যারা বানিয়েছে, তাদের পাছার ছাল তুলে ফেলা হবে আজকে। যাকে যেখানে পাবেন সেখানেই আজ বদলা নেওয়া হবে।\n",
      "\n",
      "\n",
      "media_image\n",
      "ঢাবির হল থেকে ছাত্রলীগ নেতাদের বিছানাপত্র সব এভাবেই ছুড়ে ফেলে দেওয়া হচ্ছে।\n",
      "\n",
      "\n",
      "media_video\n",
      "'আমার ভাইয়ের রক্ত, বৃথা যেতে দেব না।'\n",
      "\n",
      "ঢাবির জিয়া হল\n",
      "১৭ জুলাই ২০২৪\n",
      "সকাল ৬.৩০টা\n",
      "\n",
      "\n",
      "media_video\n",
      "দেখে নাও কীভাবে দাবি আদায় করতে হয়।\n",
      "\n",
      "ছাত্রদের চাপের মুখে পড়ে ঢাবির জহু হলে ছাত্ররাজনীতি নিষিদ্ধ করেছে হল প্রশাসন।\n",
      "\n",
      "\n",
      "সারারাত যারা ঘুমিয়েছে, তারা কী জানে দেশে এক নিরব বিপ্লব সাধিত হয়ে গেছে!!\n",
      "\n",
      "\n",
      "কোটা আন্দোলনের খবরাখবর আরও বেশি ছড়িয়ে দিতে আমাদের অফিসিয়াল গ্রুপটির লিংক পৌছে দিন আপনার হল, ডিপার্টমেন্ট, ক্যাম্পাস, জেলার ফেসবুক ও মেসেঞ্জার গ্রুপে।\n",
      "অগ্রীম ধন্যবাদ।  \n",
      "\n",
      "আমাদের  চ্যানেল:\n",
      "https://t.me/bdreformquota\n",
      "\n",
      "\n",
      "media_image\n",
      "\n",
      "\n",
      "\n",
      "media_image\n",
      "\n",
      "\n",
      "\n",
      "media_image\n",
      "\n",
      "\n",
      "\n",
      "media_image\n",
      "\n",
      "\n",
      "\n",
      "media_video\n",
      "শিক্ষার্থীদের প্রতিরোধের মুখে পিছু হটতে বাধ্য হলো প্রশাসন।  \n",
      "\n",
      "🔻 জাতীয় বিশ্ববিদ্যালয়, রাজশাহী\n",
      "\n",
      "\n",
      "media_image\n",
      "বঙ্গবন্ধু হল সাধারণ শিক্ষার্থীরা দখলের পথে। বিজয় আসবেই...\n",
      "\n",
      "\n",
      "media_image\n",
      "\n",
      "\n",
      "\n",
      "media_image\n",
      "অবশেষে জিয়া হল ছাত্রলীগ মুক্ত হলো। \n",
      "\n",
      "'কোটা সংস্কার চাই' চ্যানেল:\n",
      "https://t.me/bdreformquota\n",
      "\n",
      "\n",
      "media_image\n",
      "আজকে বিশ্ববিদ্যালয়ে জরুরি সিন্ডিকেট মিটিং ডেকেছে। এটার কারণ হইলো— সাধারণ শিক্ষার্থীরা যে হল তাদের দখলে নিয়েছে, তা থেকে শিক্ষার্থীদের বের করে টোকাইদের পুনর্বাসিত করা। আজকের সিন্ডিকেট মিটিংয়ে যদি হল বন্ধের ঘোষণা আসে, তাইলে কেউ হল ছাড়বো না আমরা। জীবন বাজি রেখে যেখান থেকে টোকাইদের বের করেছি, সেখানে তাদের আবার ঢুকতে দেওয়ার প্রশ্নই আসে না। মোটকথা আমরা কোনোভাবেই হল ছাড়ছি না। আর যদি ভিসি স্যার হল বন্ধ করে দেওয়ার মতো গর্হিত সিদ্ধান্ত নেয়, তাইলে আমরা ভিসির পদত্যাগ চাই। \n",
      "\n",
      "\n",
      "\n",
      "media_image\n",
      "ঢাবি ছাত্রলীগ নেতা তানভীর হাসান সৈকতের রুমে ভাঙচুর চালিয়েছে সাধারণ শিক্ষার্থীরা। \n",
      "\n",
      "'কোটা সংস্কার চাই' চ্যানেল:\n",
      "https://t.me/bdreformquota\n",
      "\n",
      "\n",
      "media_video\n",
      "কেন্দ্রীয় ছাত্রলীগের সাধারণ সম্পাদক শেখ ইনানের রুমে ভাঙচুর চালিয়ে তার সব জিনিস বিজয় ৭১ হলের রুম থেকে ফেলে দিয়েছে আন্দোলনকারী শিক্ষার্থীরা।\n",
      "\n",
      "'কোটা সংস্কার চাই' চ্যানেল:\n",
      "https://t.me/bdreformquota\n",
      "\n",
      "\n",
      "media_image\n",
      "ঢাকা বিশ্ববিদ্যালয় ছাত্রলীগের সভাপতি মাজহারুল কবির শয়নের রুমের বর্তমান চিত্র। জেগে উঠো ছাত্রসমাজ। \n",
      "\n",
      "'কোটা সংস্কার চাই' চ্যানেল:\n",
      "https://t.me/bdreformquota\n",
      "\n",
      "\n",
      "media_image\n",
      "সূর্যসেন হল। ঢাবি ছাত্রলীগ সভাপতি মাজহারুল কবির শয়নের রুমের বর্তমান অবস্থা। দুইদিন আগে যে বলছিল, \"আমরা ফুঁ দিলে পাঁচ মিনিট এখানে কেউ দাঁড়াতে পারবে না।\"\n",
      "\n",
      "\n",
      "media_image\n",
      "\n",
      "\n",
      "\n",
      "টিভিতে যাদের হল ছাড়তে দেখেছেন,\n",
      "ওরা বেইমান, এত আন্দোলনের মাঝে ওরা আগেও রুম থেকে বের হয়নি, যে ভাইয়েরা আন্দোলন করেছে,তারা হল ছাড়ছে না,আর তাদের সংখ্যা অনেক অনেক বেশী...\n",
      "\n",
      "\n",
      "\n",
      "'কোটা সংস্কার চাই' চ্যানেল:\n",
      "https://t.me/bdreformquota\n",
      "\n",
      "\n",
      "গতকাল আমাদের হলের মেয়েরা একযোগে প্রতিরোধ গড়ে তুলে ছাত্রলীগকে বিতাড়িত করেছে। অথচ ঢাকা বিশ্ববিদ্যালয়ের স্যার এ এফ রহমান হল এখনো টোকাইলীগের দখলে। এফ রহমান হলের ভাইয়েরা কি আমাদের আপুদের চেয়ে অধম হয়ে গেলেন? \n",
      "\n",
      "এবার এফ রহমান হল থেকে ছাত্রলীগ বের করার সংগ্রামে ঝাঁপিয়ে পড়ুন সবাই। বিজয় সুনিশ্চিত। পুরো ক্যাম্পাসে আপনাদের সাথে আছে।\n",
      "\n",
      "\n",
      "এই মূহুর্তে রাজশাহী বিশ্ববিদ্যালয়ে সবাই হবিবুর রহমান হলের মাঠে সকল শিক্ষার্থী একত্রিত হচ্ছে।\n",
      "\n",
      "কোনোভাবেই ক্যাম্পাস না ছাড়ার সিদ্ধান্তে সকল শিক্ষার্থী ঐক্যবদ্ধ।\n",
      "\n",
      "\n",
      "media_image\n",
      "সাধারণ শিক্ষার্থীরা ঐক্যবদ্ধ হলে সকল সন্ত্রাসী ক্যাম্পাস থেকে পালিয়ে যাবে। সময় এসেছে এক হওয়ার।\n",
      "\n",
      "\n",
      "আগে কখনো ভেবেছেন সাধারন শিক্ষার্থীরা ছাত্রলীগের কর্মীদের গায়ে হাত দিবে বা তাদের হল থেকে বের করে দেওয়ার মত দু:সাহস দেখাবে। এই যে একটা রীতি আপনাদের কারনে চালু হলো এটা খুবই ভয়াবহ  হবে ছাত্রলীগের জন্য ভবিষ্যতে । \n",
      "এর পিছনে দায়ী আপনারই মুক্তিযুদ্ধের  চেতনা বেঁচে আর কত খাবেন। কথায় কথায় বিএনপি  জামাত ট্যাগ দিয়ে আর কতজনকে দবায় রাখবেন।দেওয়ালে পিঠ ঠেকে গেলে এভাবেই মানুষ প্রতিরোধ গড়ে তোলে।লেবু বেশি চিপলে ফলাফল একটাই তেতো হবেই। \n",
      "\n",
      "আওয়ামী হাই কমান্ড আপনারা বরাবরই মতই ছাত্রলীগকে ব্যবহার করলেন তাদের  পুরা জাতির কাছে ঘৃনীত  করে তুললেন। তাদের অনেকেই হল ছাড়া কিন্তু আপনারা এসির মধ্যে দিব্যি নাক ডেকে ঘুমাইতেছেন।\n",
      "same on you🙂\n",
      "\n",
      "\n",
      "আজকে পুলিশ ও ছাত্রলীগের যৌথ হামলা ও গুলিবর্ষণে শহীদ ভাইদের জন্য আজ ১৭ জুলাই দুপুর ২:০০ টায় রাজু ভাষ্কর্যের পাদদেশে \"গায়েবানা জানাযা ও কফিন মিছিল\" অনুষ্ঠিত হবে। \n",
      "\n",
      "আপনারা সকল শিক্ষাপ্রতিষ্ঠান ও জেলায় জেলায় গায়েবানা জানাযা ও কফিন মিছিল পালন করুন। ঢাকায় অবস্থানরত সকলে রাজু ভাষ্কর্যের পাদদেশে সময়মতো চলে আসুন। \n",
      "\n",
      "বৈষম্যবিরোধী ছাত্র আন্দোলন।\n",
      "\n",
      "\n",
      "media_image\n",
      "ইতিমধ্যে শিক্ষার্থীদের বিশাল একটি বহর হবিবুর রহমান হল মাঠে উপস্থিত হয়েছে।বাকিদেরও দ্রুত উপস্থিত হবার অনুরোধ জানানো হচ্ছে।\n",
      "\n",
      "ক্যাম্পাস না ছাড়ার সিদ্ধান্তে সকল শিক্ষার্থী ঐক্যবদ্ধ।\n",
      "\n",
      "'কোটা সংস্কার চাই' চ্যানেল:\n",
      "https://t.me/bdreformquota\n",
      "\n",
      "\n",
      "media_image\n",
      "\n",
      "\n",
      "\n",
      "কোটা না মেধা????\n",
      "\n",
      "\n",
      "সীমান্তে ফেলানী মরে\n",
      "\n",
      "বিজিবি ক্যাম্পাসে কি করে???\n",
      "\n",
      "\n",
      "প্রত্যেক বিশ্ববিদ্যালয়কে আপনারা সন্ত্রাসী ছাত্রলীগের আস্তানা মুক্ত করার জন্য দৃঢ় প্রতিজ্ঞাবদ্ধ হন। দেশের সকল শিক্ষাপ্রতিষ্ঠান থেকে যেকোনো ধরনের সন্ত্রাসী কার্যক্রমে জড়িত সবাইকে নিষিদ্ধ করতে হবে।\n",
      "\n",
      "সন্ত্রাস মুক্ত ছাত্রসমাজ অথবা হল ছাত্র সংসদ নামে সকল বিশ্ববিদ্যালয়ের হলে হলে কমিটি গঠন করুন। সন্ত্রাসী ছাত্রলীগের সাথে জড়িত কিংবা তাদেরকে মৌন সমর্থন যারা দিচ্ছে সবাইকে সকল ধরনের সামাজিক, একাডেমিক কার্যক্রম থেকে নিষিদ্ধ করতে হবে। সন্ত্রাসী ছাত্রলীগের সাথে জড়িত সবাইকে বয়কট করুন। তাদের সাথে ক্লাস, পরীক্ষায় অংশগ্রহণ করা থেকে বিরত থাকুন।\n",
      "\n",
      "\n",
      "পুরো দেশ ছাত্রসমাজের দিকে তাকিয়ে আছে। আমরা পারবো, পারতে হবে।\n",
      "\n",
      "\n",
      "Go Back BGB\n",
      "\n",
      "Go Back BGB\n",
      "\n",
      "Go Back BGB\n",
      "\n",
      "\n",
      "রাজশাহী বিশ্ববিদ্যালয়ে সোহরাওয়ার্দী হলে সকল ছাত্র রাজনীতি বন্ধ করার বিষয়ে শিক্ষকদের সাথে নিয়ে সবাই বসেছে ছাত্ররা।ছাত্ররা দাবি যেকোনো মূল্য আদায় করেই ছাড়বে।\n",
      "\n",
      "\n",
      "প্রিয় দেশবাসী, \n",
      "আজ আপনাদের সাহায্য খুবই প্রয়োজন। \n",
      "\n",
      "ছাত্রদের পাশে দাড়ান।\n",
      "\n",
      "আমাদের এই গ্রুপের সকল পোস্ট সারাদেশে ছড়িয়ে দিন। আপনারাই হোন আমাদের কণ্ঠ। আপনারাই হোন আমাদের মিডিয়া। জাতির এ বিজয়লগ্নে আসুন স্লোগান তুলি, এ দেশ কারো বাপের না।\n",
      "\n",
      "\n",
      "media_image\n",
      "\n",
      "\n",
      "\n",
      "মুহসীন হলে আজ থেকে রাজনীতি নিষিদ্ধ করা হলো। মুহসীন হলের কোনো সাধারণ ছাত্রকে জোরপূর্বক গেস্টরুম বা প্রোগ্রামে নেয়া যাবে না। \n",
      "\n",
      "- আদেশক্রমে - ছাত্রসমাজ\n",
      "\n",
      "\n",
      "সারা বাংলা বিজয় হবে।\n",
      "\n",
      "\n",
      "\n",
      "এই বিজয়ে সামিল হোন।\n",
      "\n",
      "\n",
      "media_image\n",
      "'কোটা সংস্কার চাই' চ্যানেল:\n",
      "https://t.me/bdreformquota\n",
      "\n",
      "\n",
      "কিছু মিডিয়া গুজব ছড়াচ্ছে যে শিক্ষার্থীরা হল ছাড়ছে। অথচ সারা রাত ধরে তারা ঢাকা বিশ্ববিদ্যালয়ের হল স্বাধীন করেছে। অভিনন্দন..\n",
      "\n",
      "কমসেন্স খাটান যারা হল স্বাধীন করলো✊ তারা নাকি হল ছাড়ছে?\n",
      "\n",
      "\n",
      "media_image\n",
      "রংপুর পার্কের মোড় নাম পরিবর্তন করে রাখা হয়েছে ''শহীদ আবু সাঈদ চত্বর''।\n",
      "\n",
      "\n",
      "media_image\n",
      "খোদার কসম, \n",
      "হল ছাড়বো না।\n",
      "ছাড়বো না ছাড়বোনা।\n",
      "\n",
      "\n",
      "এইটা ট্রেন্ডিং এ আনেন।\n",
      "ছড়ায়ে দেন।\n",
      "\n",
      "\n",
      "এই মূহুর্তের আপডেট-\n",
      "\n",
      "রাজশাহী বিশ্ববিদ্যালয়ে হবিবুর হলে ভাঙচুর চালানো শুরু করেছে শিক্ষার্থীরা।\n",
      "\n",
      "সর্বশেষ আপডেট পেতে 'কোটা সংস্কার চাই' চ্যানেলে যুক্ত হোন:\n",
      "https://t.me/bdreformquota\n",
      "\n",
      "\n",
      "media_image\n",
      "এই রক্তের শোধ নিতেই হবে। এই হায়েনাদের কোনভাবেই আর সংঘটিত হয়ে ক্যাম্পাসে প্রবেশ করতে দেওয়া যাবেনা। আর যেন তারা কোন মায়ের বুক খালি করতে না পারে। আর যেন তারা বহিরাগত সশস্ত্র সন্ত্রাসীদের নিয়ে এসে আমার কোন ভাই-বোনকে রক্তাক্ত করার দুঃসাহস দেখাতে না পারে।\n",
      "\n",
      "শিক্ষার্থীরা ঐক্যবদ্ধ থাকলে সব বাধা অতিক্রম করা সময়ের ব্যাপার মাত্র।\n",
      "\n",
      "\n",
      "media_image\n",
      "রাজশাহী বিশ্ববিদ্যালয়..\n",
      "\n",
      "হাজার হাজার শিক্ষার্থীদের বহর বেড়িয়ে পড়েছে।কেউ ক্যাম্পাস ছাড়বে না।\n",
      "\n",
      "\n",
      "media_image\n",
      "\n",
      "\n",
      "\n",
      "media_image\n",
      "\n",
      "\n",
      "\n",
      "ঢাকা বিশ্ববিদ্যালয়ে হলে হলে ছাত্রলীগের রুম থেকে বিপুল অস্ত্র উদ্ধার।\n",
      "\n",
      "\n",
      "ক্যাম্পাস অস্ত্রমুক্ত করো।\n",
      "বিজিবি গো ব্যাক।\n",
      "\n",
      "\n",
      "media_image\n",
      "ছাত্রলীগ নেতার রুম থেকে রিভল বার উদ্ধার, সূর্যসেন হল, রুম: ৪৪০, শামীমুল\n",
      "\n",
      "\n",
      "ঢাবির সকল হল হানাদারলীগ মুক্ত।\n",
      "কেবল জারুল শয়তানের এফরহমান হল এখনো ঘাতকের দখলে।\n",
      "\n",
      "এফ রহমান হলের ছাত্ররা কি ট্রান্স?\n",
      "নাকি চুড়ি পাঠাব?\n",
      "\n",
      "\n",
      "media_image\n",
      "ঢাকা বিশ্ববিদ্যালয়ের কবি জসিমউদদীন হলে ছাত্রলীগ নিষিদ্ধ হলো।\n",
      "\n",
      "\n",
      "media_image\n",
      "অপপ্রচার  রুখে দাও\n",
      "\n",
      "\n",
      "media_image\n",
      "আজ যারা শিক্ষার্থীদের বিরুদ্ধে দাঁড়াবে জাতি তাদের কঠিন শাস্তি দেবে।\n",
      "\n",
      "\n",
      "কার্জন হল থেকে ছাত্ররা সিনেট ভবন ঘেরাও করতে আসতেছে।যাতে আত্মঘাতী কোনো সিদ্ধান্ত নিতে না পারে।\n",
      "\n",
      "\n",
      "ঢাবির এফ রহমান হলের সাধারণ শিক্ষার্থীরা কি জাতির সাথে বেঈমানি করবে?\n",
      "সকল হল বিজয় হলেও এই হলের জারুলের বাচ্চাগুলো কই?\n",
      "\n",
      "দেশবাসী, তাদের জন্য চুড়ি ছুড়ে মারুন।\n",
      "\n",
      "\n",
      "সারা বাংলায় খবর দে,\n",
      "কোটাপ্রথার কবর দে\n",
      "\n",
      "\n",
      "সিন্ডিকেট মিটিংয়ে শিক্ষার্থীদের পরিপন্থী কোন সিদ্ধান্ত নেওয়া যাবে না। সবাই সিনেটের দিকে আসুন, সিনেট ঘেরাও হবে।\n",
      "\n",
      "\n",
      "ঢাবির এফ রহমান স্বাধীন করা হচ্ছে।\n",
      "মুহসীন হল, জহু হল এফআরে যান। ছাত্রদের অবরুদ্ধ রাখা। মুক্ত করেন।\n",
      "\n",
      "\n",
      "media_image\n",
      "এফ রহমান হলের ভাইয়েরা কি এখনও চুপ থাকবেন?\n",
      "\n",
      "\n",
      "ভাই আপনারা কেমন মানুষ!!\n",
      "এফ আর হলে অভ্যুত্থান চলছে।সেখানে লোকবল কম আপনারা যে যেখানে আছেন,দয়া করে এফআর হলের দিকে আসুন।\n",
      "\n",
      "\n",
      "\"সিন্ডিকেট মিটিংয়ে শিক্ষার্থীদের পরিপন্থী কোন সিদ্ধান্ত নেওয়া যাবে না। সবাই সিনেটের দিকে আসুন, সিনেট ঘেরাও হবে।\"\n",
      "\n",
      "- আসিফ মাহমুদ\n",
      "সমন্বয়ক, বৈষম্যবিরোধী ছাত্র আন্দোলন, ঢাবি\n",
      "\n",
      "\n",
      "media_image\n",
      "সময়, ডিবিসি, একাত্তর।\n",
      "\n",
      "কোন বিশ্ববিদ্যালয়ের কোন শিক্ষার্থীই হল ছাড়বেনা বলে গতকাল ঘোষণা দেওয়ার পরেও এই ৩টা মিডিয়া অব্যাহত ভাবে গুজব ছড়াচ্ছে।\n",
      "\n",
      "গোয়েন্দা সংস্থার প্রেসক্রিপশনে শিক্ষার্থীদের হল ছাড়ার গুজব ছড়িয়ে দিচ্ছে এই দালাল মিডিয়াগুলো। কারণ শিক্ষার্থীরা হল ছাড়লে আবারো হল থেকে বিতাড়িত ছাত্রলীগের সন্ত্রাসীরা হলে ফিরতে পারবে।\n",
      "\n",
      "স্বৈরাচার আওয়ামী সরকার একটু বেকায়দায় পড়লেই এই দালাল মিডিয়াগুলো তাদের বাঁচাতে এগিয়ে আসে। বরাবরের মতো এখনো তারা প্রায় একই ধাঁচে ধারাবাহিক ভাবে বিভ্রান্তি ছড়াচ্ছে এই ইস্যুতে। এই দালালদের কি শাস্তি হওয়া উচিত?\n",
      "\n",
      "\n",
      "\n",
      "\n",
      "\n",
      "(ছড়িয়ে দিন এই পোস্ট)\n",
      "\n",
      "\n",
      "media_image\n",
      "\n",
      "\n",
      "\n",
      "media_image\n",
      "\n",
      "\n",
      "\n",
      "দালালি না রাজপথ?\n",
      "\n",
      "\n",
      "media_image\n",
      "\n",
      "\n",
      "\n",
      "ঢাবির সূর্য সেন হলের ছাত্রলীগের নেতার রুম থেকে বিপুল পরিমাণ কন্ডম জব্দ\n",
      "\n",
      "\n",
      "এফ রহমান হল দখল করতে গিয়ে ব্যাপক মারামারি হচ্ছে।কয়েকটা হল থেকে পোলাপান পাঠান।এটা লাস্ট হল।মাস্ট দখল করতে হবে।\n",
      "\n",
      "\n",
      "media_video\n",
      "দ্যাশটা বলে স্বাধীন তাইলে খ্যাচ টা কই রে? কথা ক\n",
      "আমার ভাই বইন মরে রাস্তায় তর চেস্টা কইরে? কথা ক\n",
      "কালসাপ ধরসে গলা পেঁচায়, বাইর কর সাপের মাথা কো?\n",
      "\n",
      "ছাত্র দিসে ভাষা আইন্না, দ্যাশ বানাইসে ছাত্ররা\n",
      "যেই হাতে কলম খাতা ওই হাতে দেস হাতকড়া\n",
      "\n",
      "এইত্তর দালালের মায়রে, মাইরা দ্যাশের বাইরে\n",
      "দলের ভাইয়ের শেল্টার লইয়া মারোস নিজের ভাইরে\n",
      "যহন দ্যাশ বেইচ্চা ক্যাশ করোস দ্যাশপ্রেম যায় কই তর?\n",
      "মাইরা যাগোর মাথা ফাডাস মারতি হইলে বইন তর?\n",
      "\n",
      "মাইয়া পোলা ফ্রন্টলাইনে, অনলাইনেও সিন ডা\n",
      "টোকাই ঘুরে চাক্কু হাতে, ঠোল্লা চুরি পিন্দা\n",
      "মারতে আইলে মাইরা দিবি, মুর্দা নাইলে জিন্দা\n",
      "রাইত দেইখা ডরাইস না কেউ রাইতের পরেই দিনডা\n",
      "\n",
      "দেশ গড়ার সবক দিয়া কামের সময় সইরা যাস!\n",
      "কার রক্তে পাড়া দিয়া বিজয় মিছিল কইরা যাস?\n",
      "মায়ের বুক খালি কইরা রঙ্গের মহল গইড়া যাস?\n",
      "যা, বাইচ্চা থাক খালি জানি ভিত্রেরতে মইরা যাস\n",
      "\n",
      "জবান খুললেই জবান সিলাই, আর সিলাইবো কয়জনের\n",
      "একজনে মা পইড়া গেলেও খাড়ায় যাইবো ছয় জনে\n",
      "জন্ম লইসি মরতে মরার ডর দেহাইস না আমাগো\n",
      "এক সেজানে মরলেও লাখো সেজান কইবো কথা ক\n",
      "\n",
      "\n",
      "এফ রহমান হল দখল করতে গিয়ে ব্যাপক মারামারি হচ্ছে।কয়েকটা হল থেকে পোলাপান পাঠান।এটা লাস্ট হল।মাস্ট দখল করতে হবে।\n",
      "\n",
      "\n",
      "এটা দখল হলেই সন্ত্রাসীদের দুর্গ ভেঙে যাবে চরমভাবে।\n",
      "\n",
      "\n",
      "media_image\n",
      "ঢাবির সলিমুল্লাহ মুসলিম হল ছাত্রলীগের সভাপতি ও সেক্রেটারির রুমে অভিযান চালায় শিক্ষার্থীরা।\n",
      "\n",
      "\n",
      "media_image\n",
      "\n",
      "\n",
      "\n",
      "media_image\n",
      "আমার ভাইয়ের রক্ত\n",
      "বৃথা যেতে দিব না।\n",
      "\n",
      "আবু সাঈদের রক্ত,\n",
      "বৃথা যেতে পারেনা।\n",
      "\n",
      "\n",
      "\n",
      "\n",
      "আবু সাঈদের জানাজায় তাঁর ভাই কাঁদতে কাঁদতে বলতেছেন, আমার ভাই মরে গেছে। আমার ভাইয়ের প্রাণের বিনিময়ে হলেও যেন ছাত্রদের দাবী আদায় হয়। আর একজনকেও যেন আমার ভাইয়ের মতো প্রাণ দিতে না হয়। \n",
      "\n",
      "কী অসাধারণ একটা পরিবার!! কী দুর্দান্ত তাদের সাহস!! \n",
      "\n",
      "এই পরিবারসহ বাকি ৭ টা শহীদ ফ্যামিলির দায়িত্ব আমাদেরকেই নিতে হবে।\n",
      "\n",
      "ভাই মারা যাওয়ার পরেও যারা আমাদের অধিকারের কথা বলতে ভুলে নাই, আমরাও যেন তাদের কথা ভুলে না যাই।\n",
      "\n",
      "\n",
      "media_image\n",
      "মুহসিন হলের নেতার রুম থেকে উদ্ধার\n",
      "\n",
      "\n",
      "media_image\n",
      "মুহসিন হলের নেতাদের রুম বাজেয়াপ্ত। এখানে সাধারণ শিক্ষার্থীদের সিট দেওয়া হবে।\n",
      "\n",
      "\n",
      "media_image\n",
      "\n",
      "\n",
      "\n",
      "media_image\n",
      "বঙ্গবন্ধু হলে চিরস্থায়ীভাবে দলীয় রাজনীতি নিষিদ্ধ করা হলো।\n",
      "\n",
      "\n",
      "ছাত্রলীগ হল থেকে পালিয়ে যাচ্ছে (বের করে দেওয়া হচ্ছে)অথচ সাম্বাদিকরা প্রচার করিতেছে শিক্ষার্থীরা হল ছেড়ে পালাচ্ছে। 😒\n",
      "Hypocrisy.\n",
      "\n",
      "\n",
      "media_image\n",
      "ভারতীয় দালাল\n",
      "\n",
      "\n",
      "আজ যদি ছাত্রসমাজের মুখোমুখি হবার স্বপ্ন দেখেন তাইলে একবার চোখ বন্ধ করে বায়ান্ন একাত্তর ভাইবেন। আপনার পরিণতিও তাই হবে।\n",
      "\n",
      "\n",
      "media_image\n",
      "ছাত্রলীগের সভাপতি সাদ্দামের রুমের বর্তমান চিত্র।\n",
      "\n",
      "\n",
      "ডিবি হারুন কয় কি?\n",
      "\n",
      "\n",
      "media_image\n",
      "ছাত্রলীগের সভাপতি সাদ্দামের রুমের বর্তমান চিত্র।\n",
      "\n",
      "\n",
      "media_image\n",
      "ছাত্রলীগ যে নষ্ট তা তো জাতি জানতোই।\n",
      "\n",
      "\n",
      "কিন্তু ছেলেদের হলে তারা এসব দিয়ে করে কি?\n",
      "ভাবনা বিষয়!\n",
      "\n",
      "\n",
      "এফ রহমান হল মুক্ত হলো।\n",
      "\n",
      "\n",
      "media_image\n",
      "জ্বলছে আগুন, জ্বলবে।\n",
      "\n",
      "\n",
      "media_image\n",
      "\n",
      "\n",
      "\n",
      "media_image\n",
      "রাজশাহী বিশ্ববিদ্যালয়ের শিক্ষার্থীরা দৃড় প্রতিজ্ঞাবদ্ধ।তারা কোনোভাবেই হল কিংবা মেস ছাড়বে না।✊\n",
      "\n",
      "\n",
      "media_image\n",
      "\n",
      "\n",
      "\n",
      "media_image\n",
      "ইডেনের পিও অবিভাবক 😀\n",
      "\n",
      "(ছাত্রলীগ নেত্রী)\n",
      "\n",
      "ডায়ালগ বলে যান একটা😅\n",
      "\n",
      "\n",
      "media_image\n",
      "\n",
      "\n",
      "\n",
      "media_image\n",
      "\n",
      "\n",
      "\n",
      "media_image\n",
      "ঢাকা বিশ্ববিদ্যালয়ের সূর্যসেন হলের সাংগঠনিক সম্পাদক তুষারের রুমে পাওয়া গেল দুর্লভ কিছু বস্তু। চিনতে পেরেছেন?\n",
      "\n",
      "\n",
      "ক্যাম্পাস খোলা থাকবে।।। হল খোলা থাকবে।\n",
      "\n",
      "\n",
      "media_image\n",
      "এই মূহুর্তে রাজশাহী বিশ্ববিদ্যালয়ের ভিসির বাস ভবনের সামনে অবস্থান নিচ্ছে শিক্ষার্থীরা।কোনোভাবেই ক্যাম্পাস ছাড়তে রাজি নয় শিক্ষার্থীরা।\n",
      "\n",
      "\n",
      "media_image\n",
      "\n",
      "\n",
      "\n",
      "মুক্তিকামী শিক্ষার্থীরা সবাই দ্রুত সব হলের সিসিটিভি ফুটেজ গুলো খেয়ে দিন।\n",
      "\n",
      "\n",
      "media_image\n",
      "ছাত্রলীগ সভাপতির রুম থেকে উদ্ধার।\n",
      "\n",
      "\n",
      "media_image\n",
      "অবশেষে ঢাবির এফ রহমান হলও সাধারণ শিক্ষার্থীদের দখলে। ছাত্রলীগের কেন্দ্রীয় সভাপতি সাদ্দামের রুম ভাংচুর করেছে সাধারণ শিক্ষার্থীরা। সাদ্দাম পলাতক।\n",
      "\n",
      "\n",
      "media_image\n",
      "রাবির হবিবুর হলে হামলা চালায় শিক্ষার্থীরা।এ সময় হবিবুর হল ছাত্রলীগ নেতাদের রুম দেশীয় অস্ত্র উদ্ধার করা হয়।\n",
      "\n",
      "উল্লেখ্য,এসময় ছাত্রলীগ নেতাদের বেডিং হলের বাইরে নিয়ে এসে আগুন দিয়ে দেওয়া হয়।\n",
      "\n",
      "\n",
      "media_image\n",
      "\n",
      "\n",
      "\n",
      "media_image\n",
      "\n",
      "\n",
      "\n",
      "media_image\n",
      "\n",
      "\n",
      "\n",
      "media_video\n",
      "রাবির হবিবুর হলে হামলা চালায় শিক্ষার্থীরা।এ সময় হবিবুর হল ছাত্রলীগ নেতাদের রুম দেশীয় অস্ত্র উদ্ধার করা হয়।\n",
      "\n",
      "\n",
      "১৯৭১ সালে শিক্ষার্থীদের বিপক্ষে থাকা বিশ্ববিদ্যালয় প্রফেসরদের যে পরিণতি হয়েছিল, ২০২৪ সালে শিক্ষার্থীদের বিরুদ্ধে কোনো সিদ্ধান্ত দিলে পরিণতি তার চেয়েও ভয়ংকর হবে।\n",
      "\n",
      "\n",
      "media_image\n",
      "সলিমুল্লাহ মুসলিম হল ছাত্রলীগ মুক্ত হলো।\n",
      "\n",
      "\n",
      "media_image\n",
      "সন্ত্রাস মুক্ত ক্যাম্পাস বিনির্মান \n",
      "\n",
      "\n",
      "ঢাবির এসএম হল\n",
      "\n",
      "\n",
      "যেসকল কথিত সেলিব্রিটি,\n",
      "মিডিয়া, ইনফ্লুয়েন্সার আজ\n",
      "জাতির বিরুদ্ধে দাড়িয়েছে,\n",
      "সন্ত্রাসীদের পক্ষ নিচ্ছে,\n",
      "তাদেরকেও এই দেশ ছাড়া\n",
      "করা হবে।\n",
      "\n",
      "শহীদ আবু সাঈদের রক্ত যে\n",
      "মাটিতে লেগে আছে,\n",
      "সে মাটিতে ঘাতক দালাল\n",
      "জাফর ইকবাল গংদের এক\n",
      "ইঞ্চি জমিও জায়গা দেওয়া হবেনা।\n",
      "\n",
      "\n",
      "media_image\n",
      "রাবির মুন্নুজান হল সন্ত্রাসমুক্ত করতে শিক্ষার্থীদের সামগ্রিক প্রচেষ্টা।\n",
      "\n",
      "\n",
      "media_video\n",
      "সন্ত্রাসমুক্ত ক্যাম্পাস বিনির্মাণ কাজ চলছে।\n",
      "\n",
      "ইডেন কলেজ।\n",
      "\n",
      "\n",
      "গাইবান্ধায় ছাত্র বিক্ষোভ মিছিল\n",
      "\n",
      "\n",
      "ছাত্রলীগ বিতাড়িত করো\n",
      "\n",
      "সন্ত্রাসমুক্ত দেশ গড়ো।\n",
      "\n",
      "\n",
      "media_image\n",
      "সূর্যসেন হলে ছাত্রলীগ নেতার রুম থেকে পিস্তল উদ্ধার।\n",
      "\n",
      "অস্ত্রটি উদ্ধার করা হয় ৪৪০ নং রুম থেকে। ঐ রুমে থাকেন শামিমুল ইসলাম। তিনি সূর্যসেন হল ছাত্রলীগের সাংগঠনিক সম্পাদক। তিনি কেন্দ্রীয় সাধারণ সম্পাদক শেখ ওয়ালী আসিফ ইনানের হল ক্যান্ডিডেট। অস্ত্রটি এখন হল প্রাধ্যক্ষের রুমে।\n",
      "\n",
      "\n",
      "media_image\n",
      "\n",
      "\n",
      "\n",
      "media_image\n",
      "\n",
      "\n",
      "\n",
      "শিক্ষা - সন্ত্রাস\n",
      "একসাথে চলে না\n",
      "\n",
      "শিক্ষা - ছাত্রলীগ\n",
      "একসাথে চলে না\n",
      "\n",
      "ছাত্রলীগ বিতাড়িত করো\n",
      "সন্ত্রাসমুক্ত দেশ গড়ো\n",
      "\n",
      "\n",
      "media_image\n",
      "কে জানতো,\n",
      "দিনটি এত তাড়াতাড়িই দেখতে পাবো!!\n",
      "\n",
      "শহীদ আবু সাঈদের জীবনের ফসল।\n",
      "\n",
      "\n",
      "media_video\n",
      "ঢাকা কলেজের নর্থ হলের ২০৫ নম্বর রুমের আবাসিক ছাত্র মো. সবুজ আলীর (অনার্স ২০১৮-১৯, পরিসংখ্যান বিভাগ)  মৃত্যুতে ঢাকা কলেজ উত্তাল! \n",
      "\n",
      "পরিস্থিতি উল্টে গেছে। হলের ছাত্রদের দাবি, সবুজকে রিডিং রুম থেকে ধরে জোর করে কতিপয় নেতা সায়েন্স ল্যাবে নিয়ে যায় কোটা আন্দোলনকারীদের বিপক্ষে অবস্থান নেয়ার জন্য। এর ১০ মিনিটের মধ্যে মারা গেছে সবুজ।\n",
      "\n",
      "এভাবে নিজেরাই ছাত্রদের হত্যা করে তাদের কর্মী নিহতের খবর প্রচার করে।\n",
      "\n",
      "\n",
      "media_video\n",
      "রাবির বঙ্গমাতা শেখ ফজিলাতুন্নেছা হলের মেয়েদের হল থেকে বের করে দেওয়ার অভিযোগ।\n",
      "\n",
      "\n",
      "media_video\n",
      "ইডেন কলেজের বঙ্গমাতা হলের একটি কক্ষ থেকে দেশীয় অস্ত্র উদ্ধার\n",
      "\n",
      "\n",
      "media_image\n",
      "ঢাবির লেদার ইন্সটিটিউট হোস্টেল বিজয়\n",
      "\n",
      "\n",
      "media_image\n",
      "\n",
      "\n",
      "\n",
      "media_image\n",
      "\n",
      "\n",
      "\n",
      "media_image\n",
      "\n",
      "\n",
      "\n",
      "media_video\n",
      "রাবির হবিবুর রহমান হলের ২০৮ নম্বর রুমে দেশীয় অস্ত্র চাপাতি উদ্ধার করেছে আন্দোলন কারীরা।\n",
      "\n",
      "\n",
      "media_image\n",
      "সিন্ডিকেটের বাইরে শিক্ষার্থীদের অবস্থান\n",
      "\n",
      "ঢাবি হল ভ্যাকেন্ট দেয়নাই। জাবি দিলেও আমরা মানবো না।\n",
      "\n",
      "\n",
      "media_image\n",
      "কোনোভাবেই হল ছাড়বে না রাবি শিক্ষার্থীরা।\n",
      "\n",
      "ভিসির বাসভবন ঘেরাও কর্মসূচিতে আপনিও অংশ নিন।\n",
      "\n",
      "\n",
      "media_image\n",
      "\n",
      "\n",
      "\n",
      "এই মুহুর্তে ঢাকা বিশ্ববিদ্যালয়ে এমন কারো বুকের পাঠা নেই যে সাধারণ ছাত্রদের সাথে লাগতে আসবে।পুরো বিশ্ববিদ্যালয় আবার নতুন করে স্বাধীন হলো।\n",
      "\n",
      "\n",
      "media_image\n",
      "রাজশাহী বিশ্ববিদ্যালয় প্রশাসনিক ভবন ঘেরাও..✊\n",
      "\n",
      "\n",
      "আজ ঢাকা বিশ্ববিদ্যালয় স*ন্ত্রাস মুক্ত হল। নতুন ইতিহাস রচিত হল। এমন দিন এক জনমে একবারই আসে। কেউ হল ছেড়ে যাবেন না। আমরা সাধারণ শিক্ষার্থীরা হল ইউনিয়ন করে প্রশাসনকে সাথে নিয়ে হল পরিচালনা করব। আমাদের প্রায় অধিকাংশ শিক্ষকই রাজনীতি মুক্ত ক্যাম্পাস চান। তারা আমাদের সাথে আছেন। আমরা ক্যান্টিন খোলা রাখবো। মেস চালু থাকবে। দোকান খোলা থাকবে। হল খোলা থাকবে। আজ থেকে ঢাকা বিশ্ববিদ্যালয় মুক্ত স্বাধীন। কাপুরুষের ন্যায় গর্তে লুকোবেন না।\n",
      "\n",
      "\n",
      "media_image\n",
      "সরল অনুবাদ: পালাও পালাও পালাও\n",
      "\n",
      "\n",
      "media_image\n",
      "ঢাবিতে মিষ্টি বিতরণ, বিজয় উদযাপন।\n",
      "\n",
      "\n",
      "ঢাবির জগন্নাথ হল কি সন্ত্রাস মুক্ত হবেনা?\n",
      "\n",
      "\n",
      "media_video\n",
      "রাজশাহী বিশ্ববিদ্যালয়ের প্রশাসনিক ভবনের সামনে শিক্ষার্থীদের অবস্থান।এসময় শিক্ষকদের উদ্দেশ্য ভুয়া ভুয়া শ্লোগান দেওয়া হয়।\n",
      "\n",
      "\n",
      "ঢাবির জগন্নাথ হলের সাধারণ শিক্ষার্থীরা হল স্বাধীন করার উদ্যোগ নিয়েছে। সবাই মিলে হল মুক্ত করুন।\n",
      "\n",
      "\n",
      "প্রধানমন্ত্রী বক্তব্যের এক পর্যায়ে বলেছেন \"তারমানে মুক্তিযোদ্ধার নাতি-পুতিরা কেউ মেধাবী না, যত রাজাকারের নাতিপুতি বাচ্চারা হলো মেধাবী,তাই না??\"। \n",
      "এই বাক্য দ্বারা সরাসরি আন্দোলনকারীদেরকে বলছে।\n",
      "\n",
      "কিন্তু দালাল সাংবাদিকরা অন্য একটা লাইন কোট করে ঘটনা পেছাচ্ছে। দেশ স্বাধীন হলে দেখে নেওয়া হবে।\n",
      "\n",
      "\n",
      "media_image\n",
      "Data temporarily turned off by operator 🙂\n",
      "\n",
      "জাবিতে মোবাইল ডাটা অফ করে দিয়েছে.. কল দিয়ে দিয়ে আপডেট জানায় দেওয়া হবে আপনাদের\n",
      "\n",
      "\n",
      "এই মুহুর্তে ঢাকা বিশ্ববিদ্যালয়ে এমন কারো বুকের পাঠা নেই যে সাধারণ ছাত্রদের সাথে লাগতে আসবে।পুরো বিশ্ববিদ্যালয় আবার নতুন করে স্বাধীন হলো।\n",
      "\n",
      "\n",
      "media_image\n",
      "ময়মনসিংহ জংশন...  রেললাইন অবরোধ \n",
      "১২.১২\n",
      "\n",
      "\n",
      "media_image\n",
      "\n",
      "\n",
      "\n",
      "media_image\n",
      "\n",
      "\n",
      "\n",
      "media_image\n",
      "\n",
      "\n",
      "\n",
      "media_image\n",
      "\n",
      "\n",
      "\n",
      "media_image\n",
      "ঢাকা বিশ্ববিদ্যালয় ছাত্রলীগের সাংগঠনিক সম্পাদক তুষারের রুমে পাওয়া গেল দুর্লভ কিছু বস্তু। জাদুঘরে রাখা উচিত।\n",
      "\n",
      "\n",
      "media_image\n",
      "দালালি না রাজপথ?\n",
      "রাজপথ রাজপথ।\n",
      "\n",
      "দালাল সুমনের গালে গালে\n",
      "জুতা মারো তালে তালে।\n",
      "\n",
      "এ শ... বাচ্চাকে আনফলো করুন।\n",
      "বয়কট করুন।\n",
      "\n",
      "\n",
      "media_image\n",
      "হল ছাড়বেনা একজন শিক্ষার্থীও\n",
      "\n",
      "\n",
      "media_image\n",
      "সন্ত্রাস মুক্ত ফজলুল হক মুসলিম হল\n",
      "\n",
      "\n",
      "শিক্ষার্থীরা হলের দ্বায়িত্ব নিন।\n",
      "হল এখন আপনারা চালাবেন। \n",
      "\n",
      "আপনারাই ক্যান্টিন চালাবেন,\n",
      "মেস চালাবেন। আপনার কথায় চলবে।\n",
      "কেউ ক্যান্টিন/মেস বন্ধ করার সাহস দেখাবেনা।\n",
      "\n",
      "\n",
      "আসুন, জ্বলে উঠুন আপন শক্তি নিয়ে।\n",
      "\n",
      "\n",
      "media_image\n",
      "\n",
      "\n",
      "\n",
      "media_image\n",
      "\n",
      "\n",
      "\n",
      "media_image\n",
      "একে শায়েস্তা করে দেন। তার ক্যান্টিন উচ্ছেদ করে আবার মেস প্রতিষ্ঠা করেন।\n",
      "\n",
      "\n",
      "media_image\n",
      "\n",
      "\n",
      "\n",
      "media_image\n",
      "\n",
      "\n",
      "\n",
      "media_image\n",
      "\n",
      "\n",
      "\n",
      "media_image\n",
      "রাবির হবিবুর রহমান হলে ২০৮ ও ৩০৩ নম্বর কক্ষের সকল অস্ত্র হল সহ-সভাপতি মিনহাজ ও সাংগঠনিক সম্পাদক সোহান হাসানের।\n",
      "\n",
      "এদের চিনে রাখুন..\n",
      "\n",
      "\n",
      "media_image\n",
      "\n",
      "\n",
      "\n",
      "ঢাবি এখন ছাত্ররাজনীতি মুক্ত। সাধারণ শিক্ষার্থীরা ক্যাম্পাসকে রাজনীতি মুক্ত করেছে। কোনো রাজনৈতিক দল এর ফায়দা নিতে আসলে তাকেও খেদানো হবে। ছাত্রলীগ, ছাত্রদল, শিবির, বামদল যেই হোক ক্যাম্পাসে কোনো রাজনীতি চলবেনা চলবেনা চলবেনা।\n",
      "\n",
      "\n",
      "media_image\n",
      "অবৈধ সিদ্ধান্ত\n",
      "ছাত্রসমাজ মানে না\n",
      "\n",
      "\n",
      "media_video\n",
      "রাস্তায় যাদের জন্ম, রাস্তাই হোক তাদের ঠিকানা\n",
      "\n",
      "সন্ত্রাসমুক্ত ক্যাম্পাস মিশন\n",
      "\n",
      "\n",
      "https://www.facebook.com/yeaz.riad?mibextid=ZbWKwL\n",
      "\n",
      "\n",
      "ছাত্রলীগের এই নেতা গত তিনদিনের সব  পোস্ট হাইড করে আত্মগুম হয়ে গেছে\n",
      "\n",
      "\n",
      "media_image\n",
      "\n",
      "\n",
      "\n",
      "media_image\n",
      "যার যা আছে তা নিয়েই নেমে আসেন\n",
      "\n",
      "\n",
      "media_image\n",
      "https://www.facebook.com/share/p/EMTNbVLk9Q1Yg9B2/?mibextid=oFDknk\n",
      "\n",
      "\n",
      "ব্রেকিং নিউজ \n",
      "পদ্মা সেতু ব*ন্ধ করে দিয়েছে মুন্সিগঞ্জ ও শরীয়তপুরের শিক্ষার্থীরা।\n",
      "\n",
      "\n",
      "গাইবান্ধা উত্তপ্ত\n",
      "\n",
      "\n",
      "আওয়ামীলীগের পার্টি অফিস পুড়িয়ে দিছে ছাত্ররা।\n",
      "\n",
      "\n",
      "media_video\n",
      "এভাবেই ঢাকা বিশ্ববিদ্যালয়কে সন্ত্রাস মুক্ত করা হয়েছে। (ভিডিওটি আন্দোলন চলাকালে)\n",
      "\n",
      "\n",
      "আপনি কেন বাড়ি যাচ্ছেন,,?\n",
      "যেই রাজপথ দিয়ে বাড়ি যাচ্ছেন আপনার ভাইয়ের তাজা রক্ত এখনও সেই রাজপথ থেকে শুকায়নি। নাকি বাড়ি গিয়ে সোফায় বসে শুনতে চান আপনার পাশে বসে ক্লাস করা ভাইটি আর নেই। তখন হাহুতাশ করে বাড়ি থেকে বের হতে পারবেন তো,,??\n",
      "আপনি চলে গেলে হায়নারদল আপনার ভাই/বোনের উপর আক্রমণের সুযোগ পাবে। এই সুযোগ কেন করে দিচ্ছেন? \n",
      "তাদের কিছু হলে এর দায়ভার নিয়ে সারাজীবন ঠিক থাকতে পারবেন তো,,? \n",
      "হলের ৪/৫জন ভীতু যাচ্ছে দেখে আপনর মনে হচ্ছে সবায় চলে যাচ্ছে। এটা আপনারও মনের ভয়।মামা/খালারা আপনাকে তাড়াতে পারলে তাদের ছুটি তাই তারা আপনাকে ভয় দেখাচ্ছে। গতরাত থেকে কতকিছুই তো শুনতেছেন কই কিছু করতে সাহস পাইছে এখন পর্যন্ত??  \n",
      "যা ভাবছেন মনে সাহস নিয়ে আরেকবার ভাবুন,দেশে অন্যসব স্থানের দিকে দেখুন।সেই তুলনাই এখানে এখনও কিছুই হয়নি। আর সেটা আপনাদের সবার উপস্থিতির কারনে।\n",
      "সাবায়কেনিয়ে হল দখলে রাখার চেষ্টা করুন/মেসে সংঘবদ্ধ হোন।\n",
      "আর নাহলে বাসায় গিয়ে আপনার বন্ধুর /বান্ধবীর রক্ত দেখতে অপেক্ষা করুন।\n",
      "\n",
      "\n",
      "media_image\n",
      "ছাত্রলীগের কেন্দ্রীয় ক্রীড়া সম্পাদক ও ঢাবির বঙ্গবন্ধু হল ছাত্রলীগের সাবেক সভাপতি (এখন রাজনীতি মুক্ত হল) মেহেদী হাসান শান্তকে হলছাড়া করে হল সন্ত্রাসমুক্ত করে শিক্ষার্থীরা। শিক্ষার্থীদের তোপের মুখে এভাবেই পালিয়েছে।\n",
      "\n",
      "\n",
      "media_image\n",
      "হল থেকে সাধারণ ছাত্ররা খেদিয়ে দেবে, তাই এখন 'বিরোধ নাই' ছবক দিচ্ছে। 😄\n",
      "\n",
      "\n",
      "media_image\n",
      "সুদিন আসবে জানতাম। তবে দিনটি এত তাড়াতাড়ি দেখতে পাবো ভাবতে পারিনি।\n",
      "\n",
      "ঢাবির বঙ্গবন্ধু হল ছাত্রলীগ থেকে হল সভাপতিকে শিক্ষার্থীরা হল ছাড়া করেছে।\n",
      "\n",
      "\n",
      "media_image\n",
      "POV: when both are ছাত্রলীগ\n",
      "\n",
      "\n",
      "media_image\n",
      "\n",
      "\n",
      "\n",
      "media_image\n",
      "আপডেট: সোহরাওয়ার্দী হলকে ছাত্ররাজনীতি মুক্ত ঘোষনা।\n",
      "\n",
      "রাবির প্রথম বিজয়\n",
      "\n",
      "\n",
      "media_image\n",
      "\n",
      "\n",
      "\n",
      "media_video\n",
      "ঢাবিতে হল না ছেড়ে যাওয়ার সিদ্ধান্ত।\n",
      "\n",
      "\n",
      "ঢাবিতে হল ছেড়ে বাড়ি যাওয়ার পথে শিক্ষার্থীদের উপর শাহবাগে ছাত্রলীগের হামলা\n",
      "\n",
      "\n",
      "media_image\n",
      "সন্ত্রাসের সাথে সম্পৃক্ত থাকায় রাবির পরিসংখ্যান বিভাগের ২০২০-২১ সেশনের পরিসংখ্যান বিভাগের শিক্ষার্থী রাইসুল ইসলাম আকাশকে বয়কটের ডাক দিয়েছে ডিপার্ট্মেন্টের অন্যন্যা শিক্ষার্থীরা।\n",
      "\n",
      "\n",
      "আবারও বলছি,\n",
      "হলই নিরাপদ আশ্রয়।\n",
      "হল ছেড়ে গেলে যারা যাচ্ছেন তারাও পথে ছাত্রলীগের হামলার শিকার হবেন, যারা হলে থাকবে তারাও বিপদে পড়বে। হলে শক্ত অবস্থান ধরে রাখেন। মনে রাখবেন ছাত্রলীগ এখন লজ্জা রাগ ক্ষোভে ক্যাম্পাসে ঢোকার সাহস না পাইলেও রাস্তায় আপনি কে/কারা না বুইঝাই হামলা করতে পারে।\n",
      "\n",
      "\n",
      "রাজশাহী বিশ্ববিদ্যালয় কেন্দ্রীয় জামে মসজিদে দুপুর ২ টায় গায়েবানা জানাজার নামাজ অনুষ্ঠিত হবে।\n",
      "\n",
      "\n",
      "media_image\n",
      "\n",
      "\n",
      "\n",
      "media_image\n",
      "ঢাবির জগন্নাথ হল\n",
      "\n",
      "\n",
      "media_image\n",
      "\n",
      "\n",
      "\n",
      "media_image\n",
      "আইলেট হোস্টেল ঢাবি\n",
      "\n",
      "\n",
      "media_image\n",
      "\n",
      "\n",
      "\n",
      "media_image\n",
      "শিক্ষার্থীদের তৈরি\n",
      "\n",
      "\n",
      "media_video\n",
      "ভিডিওতে স্পষ্ট দেখা যাচ্ছে সলিমুল্লাহ মেডিকেলের প্রিন্সিপালের উপস্থিতিতে ছাত্রলীগ অফিসের চেয়ার ভাঙছে। ভেঙে এর স্ট্যান্ড দিয়ে তারা তখন সাধারণ শিক্ষার্থীদের উপর হামলা করে। আর এখন উলটো এই ভাংচুরের দায় চাপানো হচ্ছে সাধারণ শিক্ষার্থীদের উপর। অথচ ভিডিওতে সবকিছু স্পষ্ট।\n",
      "\n",
      "\n",
      "media_image\n",
      "জগন্নাথ বিশ্ববিদ্যালয় নৃবিজ্ঞান বিভাগের সহকারী অধ্যাপক কামরুন্নাহার লিপিকে বয়কট করেছে বিভাগের শিক্ষার্থীরা। এই শিক্ষকের সকল ক্লাস বর্জন সহ বিভাগে প্রবেশেও নিষেধাজ্ঞা দিয়েছে শিক্ষার্থীরা।\n",
      "\n",
      "  \n",
      "\n",
      "\n",
      "media_image\n",
      "\n",
      "\n",
      "\n",
      "media_video\n",
      "ঢাবি শিক্ষার্থীরা হলেই আছে। কেউ যাচ্ছেনা। অথচ ছাত্রলীগ মিডিয়াকে ব্যবহার করে গুজব ছড়াচ্ছে সবাই হল ছাড়ছে।\n",
      "\n",
      "\n",
      "media_image\n",
      "\n",
      "\n",
      "\n",
      "২ ঢাবি শিক্ষার্থীকে মুক্ত করে আনলেন শিক্ষকরা\n",
      "\n",
      "   \n",
      "\n",
      "\n",
      "media_image\n",
      "JU\n",
      "\n",
      "\n",
      "media_image\n",
      "ঢাবির শহীদুল্লাহ্ হল। অফিসিয়াল নোটিশ।\n",
      "\n",
      "\n",
      "ঢাবি এখন ছাত্ররাজনীতি মুক্ত। সাধারণ শিক্ষার্থীরা ক্যাম্পাসকে রাজনীতি মুক্ত করেছে। কোনো রাজনৈতিক দল এর ফায়দা নিতে আসলে তাকেও খেদানো হবে। ছাত্রলীগ, ছাত্রদল, শিবির, বামদল যেই হোক ক্যাম্পাসে কোনো রাজনীতি চলবেনা চলবেনা চলবেনা।\n",
      "\n",
      "\n",
      "আবারও বলছি,\n",
      "হলই নিরাপদ আশ্রয়।\n",
      "হল ছেড়ে গেলে যারা যাচ্ছেন তারাও পথে ছাত্রলীগের হামলার শিকার হবেন, যারা হলে থাকবে তারাও বিপদে পড়বে। হলে শক্ত অবস্থান ধরে রাখেন। মনে রাখবেন ছাত্রলীগ এখন লজ্জা রাগ ক্ষোভে ক্যাম্পাসে ঢোকার সাহস না পাইলেও রাস্তায় আপনি কে/কারা না বুইঝাই হামলা করতে পারে।\n",
      "\n",
      "\n",
      "ঢাকা বিশ্ববিদ্যালয়ের ৩৬০০০ শিক্ষার্থী সবাই এ লড়াইয়ের সেনাপতি। যার যার জায়গা থেকে লড়াইটা চালিয়ে যান।\n",
      "\n",
      "\n",
      "media_video\n",
      "সারাদেশে ছড়িয়ে পড়েছে কোটা আন্দোলন। সাতক্ষীরায় মিছিলে বাঁধা দিতে এলে ছাত্রলীগকে চরম ধাওয়া দেওয়া হয়।\n",
      "\n",
      "\n",
      "media_image\n",
      "\n",
      "\n",
      "\n",
      "আজ হল ছেড়ে গেলে\n",
      "আজীবন গোলামী\n",
      "করতে হবে।\n",
      "\n",
      "আর আজ বিজয়\n",
      "ধরে রাখলে আজীবন\n",
      "প্রোগ্রাম গেস্টরুম\n",
      "থেকে মুক্ত।\n",
      "\n",
      "পরবর্তী প্রজন্মের মুক্তির\n",
      "সেনাপতি আপনি!\n",
      "\n",
      "\n",
      "media_image\n",
      "Well done Rajshahi University.\n",
      "\n",
      "রাবিতে ছাত্রলীগের প্রবেশ নিষিদ্ধ করে মেইন গেটে পোস্টার টাঙিয়েছে শিক্ষার্থীরা।\n",
      "\n",
      "\n",
      "media_image\n",
      "\n",
      "\n",
      "\n",
      "media_image\n",
      "বিশ্ববিদ্যালয় বন্ধের সিদ্ধান্ত প্রত্যাহার ঢাবি শিক্ষকদের।\n",
      "\n",
      "\n",
      "media_image\n",
      "সারাদেশের ক্যাম্পাস সচল থাকবে। থাকবে। থাকবে।\n",
      "\n",
      "\n",
      "media_image\n",
      "রাজশাহী বিশ্ববিদ্যালয়ের কেন্দ্রীয় জামে মসজিদে কোটা সংস্কার আন্দোলনে নিহতদের উদ্দেশ্য শিক্ষক মন্ডলীর গায়েবানা জানাজা অনুষ্ঠিত।\n",
      "\n",
      "\n",
      "media_image\n",
      "\n",
      "\n",
      "\n",
      "media_image\n",
      "আমরা অনড় থাকলে ঢাবিতেও প্রত্যাহার হবে। শিক্ষকরা আমাদের পক্ষে আছেন। কিন্তু তারা উপরের চাপে আছে। আমরা দাড়ায়ে গেলে তারা সিদ্ধান্ত প্রত্যাহার করবেই।\n",
      "\n",
      "- ঢাবিয়ান\n",
      "\n",
      "\n",
      "ম্যামদের সাথে আমাদের কথা হয়েছে। ম্যাম বলেছেন, আমাদের নির্দেশ দিয়েছে তোমাদের জানানোর জন্য হল ছাড়তে তাই আমরা জানিয়েছি। কিন্তু তোমরা যদি হলে থেকো তাহলে আমরা তোমাদের নিরাপত্তা দিতে বাধ্য। আর, ক্যাম্পাস হল আবার চালু করা তোমাদের অধিকার। তোমরা তোমাদের অধিকার যেভাবে পারো আদায় করো। আমরা বাঁধা দিবো না।\n",
      "\n",
      "\n",
      "বঙ্গমাতা হল থেকে\n",
      "ঢাবি\n",
      "\n",
      "\n",
      "media_image\n",
      "জবিয়ানরা\n",
      "\n",
      "\n",
      "আমাদের পূর্ব ঘোষিত সিদ্ধান্ত অনুযায়ী, শিক্ষার্থীদের যৌক্তিক আন্দোলনের বিরুদ্ধে গিয়ে সাধারন শিক্ষার্থীদের ওপর প্রত্যক্ষ বা পরোক্ষভাবে  আক্রমণের সাথে জড়িত থাকলে তাকে বিভাগ থেকে বয়কট করা হবে। \n",
      "\n",
      "এর পরিপেক্ষিতে ১৭ জুলাই শহীদ জিয়াউর রহমান হল এ আক্রমণের মতো সন্ত্রাসী কার্যক্রম এর সাথে প্রত্যক্ষ সম্পৃক্ততার যথাযথ প্রমাণ পাওয়ায় EEE বিভাগের সকল সাধারণ শিক্ষার্থীর পক্ষ থেকে Subra Dev Saha (1910779180) Session:2018-19 কে আমরা বিভাগের সকল কার্যক্রম থেকে বয়কট ঘোষণা করছি। সকল ব্যাচের সিআরএর  মতামতের ভিত্তিতে এ সিদ্ধান্ত নেওয়া হয়েছে।  \n",
      "\n",
      "সন্ত্রাসী কার্যক্রমের সাথে যুক্ত কারো সাথে সাধারণ শিক্ষার্থীরা কোনো ধরনের ক্লাস-পরীক্ষায় অংশগ্রহণ করবে না। \n",
      "\n",
      "আপনাদের কি অবস্থা? কাউকে ছাড় দিবেন না।\n",
      "\n",
      "\n",
      "media_image\n",
      "প্রধানমন্ত্রী বক্তব্যের এক পর্যায়ে বলেছেন \"তারমানে মুক্তিযোদ্ধার নাতি-পুতিরা কেউ মেধাবী না, যত রাজাকারের নাতিপুতি বাচ্চারা হলো মেধাবী,তাই না??\"। \n",
      "এই বাক্য দ্বারা সরাসরি আন্দোলনকারীদেরকে বলছে।\n",
      "\n",
      "কিন্তু দালালরা, সাংবাদিকরা অন্য একটা লাইন কোট করে ঘটনা পেছাচ্ছে। দেশ স্বাধীন হলে এদের দেখে নেওয়া হবে।\n",
      "\n",
      "\n",
      "media_image\n",
      "নাম দেখা যায় মাহমুদ আলম, স্বাক্ষর দিল রফিকুল ইসলাম। এদিকে শিক্ষকদের বড় অংশ এমন ঘোষণার প্রতিবাদে রাস্তায়।\n",
      "\n",
      "\n",
      "media_image\n",
      "ঢাবিএ শিক্ষকরা রাস্তায়। বিশ্ববিদ্যালয় খোলা থাকবে। বন্ধের সিদ্ধান্ত প্রত্যাহার।\n",
      "\n",
      "\n",
      "media_image\n",
      "JU\n",
      "\n",
      "\n",
      "media_image\n",
      "আবু সাঈদ ভাইকে হত্যা/কারী পুলিশের ছবি ও পরিচয়-\n",
      "\n",
      "নাম: ইউনুস আলী\n",
      "থাকে: রংপুর\n",
      "\n",
      "\n",
      "media_video\n",
      "জাবিতে এখন কোনো হামলা হয়নি। গুজবে কান দেবেন না।\n",
      "\n",
      "\n",
      "media_video\n",
      "টাঙ্গাইলের ঘাটাইলের স্কুল কলেজের ছাত্রছাত্রীরা। তাদের মেরুদণ্ড দেখেন। আর নিজেরে মেরুদণ্ড একবার ধরে দেখেন। আজ বিজয়ের দিন। হয় তুমি বিজয়ী নয় তুমি পরাজিত। কোন পক্ষে তুমি?\n",
      "\n",
      "\n",
      "media_image\n",
      "ঢাবির ক্যান্ডিডেটদের উচিৎ এমন নেতাকে ধরে এনে পেটানো যারা তাদের রেখে নিজেরা পালিয়ে যায়।\n",
      "\n",
      "\n",
      "নাম প্রকাশ না করার শর্তে, সিন্ডিকেটের শিক্ষক জানালেন, তোমরা হল ছেড়ো না। হল প্রশাসন বাধ্য হয়ে এসব বলতেছে। তারা খুবই ভয়ে আছে। তাদের সিদ্ধান্ত, যদি কেউ স্বেচ্ছায় বের না হয়, অন্তত হল প্রশাসন কখনোই তাদের বের করবে না।\n",
      "\n",
      "- ঢাবি থেকে\n",
      "\n",
      "\n",
      "ঢাবির ভিসি চত্বরে আন্দোলন চলমান।\n",
      "\n",
      "\n",
      "ম্যামদের সাথে আমাদের কথা হয়েছে। ম্যাম বলেছেন, আমাদের নির্দেশ দিয়েছে তোমাদের জানানোর জন্য হল ছাড়তে তাই আমরা জানিয়েছি। কিন্তু তোমরা যদি হলে থেকো তাহলে আমরা তোমাদের নিরাপত্তা দিতে বাধ্য। আর, ক্যাম্পাস হল আবার চালু করা তোমাদের অধিকার। তোমরা তোমাদের অদিকার যেভাবে পারো আদায় করো। আমরা বাঁধা দিবো না।\n",
      "\n",
      "\n",
      "বঙ্গমাতা হল, ঢাবি থেকে\n",
      "\n",
      "\n",
      "media_image\n",
      "\n",
      "\n",
      "\n",
      "media_image\n",
      "কোটা সংস্কার আন্দোলনে শাহাদাত বরণকারীদের গায়েবানা জানাজায় নামাজরত অবস্থায় ইমামকে আটক করার চেষ্টা।\n",
      "\n",
      "\n",
      "জগন্নাথ হলের খুব ক্লোজ এক শিক্ষকের সাথে কথা হইলো। উনি বললেন, স্টুডেন্টদের ভয় দেখানোর জন্যই এই সিদ্ধান্ত। বাস্তবে হল প্রশাসন কাউকে বের করবে না। ছাত্রলীগ এবং আওয়ামী লীগের সকল মিডিয়া সেল গুজব ছড়াচ্ছে যাতে শিক্ষার্থীরা হল ছেড়ে চলে যায়। হল খালি হলে আবার ছাত্রলীগ হলের নিয়ন্ত্রণ নিবে। ওই শিক্ষক আরও বললেন, আমরা যেন হল না ছাড়ি।\n",
      "\n",
      "\n",
      "~জগন্নাথ হল, ঢাবি।\n",
      "\n",
      "\n",
      "media_image\n",
      "জবি হল প্রভোস্টের রুমে তালা.....\n",
      "\n",
      "\n",
      "\n",
      "media_image\n",
      "\n",
      "\n",
      "\n",
      "media_image\n",
      "জয়ান্ত জয়,সাংগঠনিক সম্পাদক,মাদার বখশ হল শাখা ছাত্রলীগ,রাবি।সে প্রকাশ্য আন্দোলনরত শিক্ষার্থীদের অবমাননা করেছে।সে রাবিতে গনিত বিভাগে মাস্টার্সে অধ্যায়নরত।সংশ্লিষ্ট ডিপার্টমেন্টের সকলে তাকে বয়কটের ডাক দেওয়া উচিত।\n",
      "\n",
      "\n",
      "ব্রেকিং_\n",
      "\n",
      "ঢাবি'র রোকেয়া হলের প্রভোস্ট দরজা বন্ধ করে বসে ছিলেন অনেকক্ষণ। একটু পর বললেন, উনারা হল বন্ধের সিদ্ধান্ত প্রত্যাহার করবেন। হলে অবস্থানকারী আমার ভাই ও বোনেরা আপনারা আর মাত্র কয়েক ঘণ্টা হলে অবস্থান করুন। বিশ্ববিদ্যালয় প্রশাসন সিদ্ধান্ত পরিবর্তন করবেই। \n",
      "\n",
      ">রোকেয়া হল, ঢাকা বিশ্ববিদ্যালয়\n",
      "\n",
      "\n",
      "media_image\n",
      "সাবাস\n",
      "\n",
      "\n",
      "media_image\n",
      "ঢাবি\n",
      "\n",
      "\n",
      "media_image\n",
      "টনক নড়াও\n",
      "\n",
      "\n",
      "ঢাবিতে হল ত্যাগের সিদ্ধান্ত প্রত্যাখ্যান করেছেন শিক্ষকরা।\n",
      "\n",
      "\n",
      "media_image\n",
      "জাফর ইকবালকে শাবিপ্রবিতে আজীবন নিষিদ্ধ ঘোষণা শিক্ষার্থীদের।\n",
      "\n",
      "\n",
      "media_image\n",
      "শহীদ আবু সাঈদ চত্ত্বর!\n",
      "\n",
      "\n",
      "media_video\n",
      "হল ছাড়ছেন না রাজশাহী বিশ্ববিদ্যালয়ের শিক্ষার্থীরা।\n",
      "হলে হলে দূর্গ গড়ে তোলার আহ্বান সাধারণ শিক্ষার্থীদের।\n",
      "\n",
      "\n",
      "media_video\n",
      "বদরুন্নেসা কলেজও ছাত্রীদের নিয়ন্ত্রণে। নেত্রীদের এভাবেই বেঁধে রাখা হয়েছে।\n",
      "\n",
      "\n",
      "media_image\n",
      "আপনারাই শিক্ষক\n",
      "\n",
      "\n",
      "হল বন্ধের ঘোষণা দেওয়া একটা গেম। সরকার ছাত্রলীগকে পুনর্বাসন করার জন্য এই চাল চালতেছে। তোমরা এসব মেনে নিও না। হলে অবস্থান করতে বলো সবাইকে। তোমাদের প্রতিরোধের মুখে প্রশাসন সিদ্ধান্ত পরিবর্তন করতে বাধ্য হবে। সাহস হারাইয়ো না আমার ছেলেরা। আমি ছিলাম তোমাদের সাথে, আছি, থাকবো।\n",
      "\n",
      "নাম প্রকাশে অনিচ্ছুক এক শিক্ষক\n",
      "\n",
      "\n",
      "media_image\n",
      "অসমাপ্ত আত্মজীবনী, পৃষ্ঠা:১১০\n",
      "\n",
      "\n",
      "media_image\n",
      "এম্নে মেরুদণ্ড সোজা রেখে কথা বলতে শিখো পিও।\n",
      "\n",
      "'কোটা সংস্কার চাই' চ্যানেল:\n",
      "https://t.me/bdreformquota\n",
      "\n",
      "\n",
      "media_video\n",
      "ঢাকা বিশ্ববিদ্যালয় থেকে এই মুহূর্তের আপডেট\n",
      "\n",
      "\n",
      "শিক্ষার্থীরা কেউ হলের বাইরে যাবেন না। আপনার হলেই আপনি সর্বোচ্চ নিরাপদ।\n",
      "\n",
      "\n",
      "media_image\n",
      "\n",
      "\n",
      "\n",
      "\"সেন্ট্রাল থেকে একটা নোটিশ এসেছে হল বন্ধের, আমার দায়িত্ব সেটা তোমাদের কাছে পৌঁছানো। মেয়েরা যদি সেন্ট্রালের সিদ্ধান্ত মেনে হল ছাড়তে চাও, চলে যেতে পারো, যদি থাকতে চাও থাকতে পারো আমার কোনো অসুবিধা নেই। হলে মেয়েরা থাকা পর্যন্ত হলে পানি, গ্যাস, কারেন্ট, ক্যান্টিন, বিপণী সব খোলা থাকবে। আমার হাতে যতটুকু ক্ষমতা আছে তা দিয়েই নিরাপত্তা নিশ্চত করবো। আমার হলের ভিতরে তোমরা সেইফ।\"\n",
      "\n",
      "প্রভোস্ট ম্যাম, বাংলাদেশ কুয়েত-মৈত্রী হল, ঢাকা বিশ্ববিদ্যালয়।\n",
      "\n",
      "\n",
      "media_image\n",
      "ভাইয়েরা প্লিজ কেউ হল ছাড়বেন না, আমরা একদম বিজয়ের সন্নিকটে অবস্থান করছি। ঢাবির সবগুলো হল থেকে ছাত্রলীগকে বিতাড়িত করেছি। এখন যদি সবাই হল ছেড়ে দেই, আমার শহীদ ভাইদের কাছে কী জবাব দিবো!? আছে কোনো জবাব!!?\n",
      "\n",
      "\n",
      "media_image\n",
      "এভাবে বলতে বুকে সাহস লাগে। আমরাও সেই সাহস দেখাবো ইনশাল্লা।\n",
      "\n",
      "\n",
      "media_image\n",
      "SUST\n",
      "\n",
      "\n",
      "media_video\n",
      "আমাদের সহযোগিতায় এগিয়ে আসুন, ঢাকায় আন্দোলনরত সকল শিক্ষার্থী ও জনতাকে আহ্বান জানাচ্ছি। বিকেলে ঢাবির দিকে অগ্রসর হোন।\n",
      "\n",
      "\n",
      "media_image\n",
      "\n",
      "\n",
      "\n",
      "media_image\n",
      "ছাত্রীদের দাবির মুখে হল খোলা রাখতে বাধ্য হলো জগন্নাথ বিশ্ববিদ্যালয় প্রশাসন।\n",
      "\n",
      "\n",
      "ঢাবি এখন ছাত্ররাজনীতি মুক্ত। সাধারণ শিক্ষার্থীরা ক্যাম্পাসকে রাজনীতি মুক্ত করেছে। কোনো রাজনৈতিক দল এর ফায়দা নিতে আসলে তাকেও খেদানো হবে। ছাত্রলীগ, ছাত্রদল, শিবির, বামদল যেই হোক ক্যাম্পাসে কোনো রাজনীতি চলবেনা চলবেনা চলবেনা।\n",
      "\n",
      "\n",
      "media_image\n",
      "ঢাবির ভিসি চত্বরে শিক্ষার্থীরা\n",
      "\n",
      "\n",
      "media_image\n",
      "শহীদ আবু সাঈদ গেইট। বেরোবি\n",
      "\n",
      "\n",
      "media_video\n",
      "ফজলুল হক মুসলিম হল, ঢাকা বিশ্ববিদ্যালয়\n",
      "\n",
      "\n",
      "media_video\n",
      "বাসা, বাড়ি, মেস থেকে ঢাবিতে এসে আরও জড়ো হচ্ছেন শিক্ষার্থীরা\n",
      "\n",
      "\n",
      "media_image\n",
      "\n",
      "\n",
      "\n",
      "media_video\n",
      "শিক্ষার্থীদের ভুয়া ভুয়া স্লোগানের পর পুলিশ-বিজিবি সরে যাচ্ছে।\n",
      "\n",
      "\n",
      "media_video\n",
      "ঢাকা বিশ্ববিদ্যালয়ের এক ইঞ্চি মাটিও ছেড়ে দেওয়া হবেনা।\n",
      "\n",
      "\n",
      "media_image\n",
      "নিজেরা হত্যা করে আবার জানাজা পড়ার নামে হামলা চালাতে আসছে।\n",
      "\n",
      "\n",
      "media_image\n",
      "শহীদ আবু সাইদ সহ কোটা বিরোধী আন্দোলনের শহীদ সকল শিক্ষার্থীদের গায়েবানা জানাজা চলছে।\n",
      "\n",
      "ভিসি চত্ত্বর, ঢাকা বিশ্ববিদ্যালয়।\n",
      "\n",
      "\n",
      "নাম প্রকাশ না করার শর্তে, সিন্ডিকেটের শিক্ষক জানালেন, তোমরা হল ছেড়ো না। হল প্রশাসন বাধ্য হয়ে এসব বলতেছে। তারা খুবই ভয়ে আছে। তাদের সিদ্ধান্ত, যদি কেউ স্বেচ্ছায় বের না হয়, অন্তত হল প্রশাসন কখনোই তাদের বের করবে না।\n",
      "\n",
      "- ঢাবি থেকে\n",
      "\n",
      "ম্যামদের সাথে আমাদের কথা হয়েছে। ম্যাম বলেছেন, আমাদের নির্দেশ দিয়েছে তোমাদের জানানোর জন্য হল ছাড়তে তাই আমরা জানিয়েছি। কিন্তু তোমরা যদি হলে থেকো তাহলে আমরা তোমাদের নিরাপত্তা দিতে বাধ্য। আর, ক্যাম্পাস হল আবার চালু করা তোমাদের অধিকার। তোমরা তোমাদের অদিকার যেভাবে পারো আদায় করো। আমরা বাঁধা দিবো না।\n",
      "\n",
      "বঙ্গমাতা হল, ঢাবি থেকে\n",
      "\n",
      "জগন্নাথ হলের খুব ক্লোজ এক শিক্ষকের সাথে কথা হইলো। উনি বললেন, স্টুডেন্টদের ভয় দেখানোর জন্যই এই সিদ্ধান্ত। বাস্তবে হল প্রশাসন কাউকে বের করবে না। ছাত্রলীগ এবং আওয়ামী লীগের সকল মিডিয়া সেল গুজব ছড়াচ্ছে যাতে শিক্ষার্থীরা হল ছেড়ে চলে যায়। হল খালি হলে আবার ছাত্রলীগ হলের নিয়ন্ত্রণ নিবে। ওই শিক্ষক আরও বললেন, আমরা যেন হল না ছাড়ি।\n",
      "\n",
      "~জগন্নাথ হল, ঢাবি।\n",
      "\n",
      "\n",
      "media_image\n",
      "\n",
      "\n",
      "\n",
      "media_image\n",
      "হামলাকারীদের পরিচয়\n",
      "\n",
      "\n",
      "media_image\n",
      "\n",
      "\n",
      "\n",
      "media_image\n",
      "\n",
      "\n",
      "\n",
      "media_image\n",
      "উনি তবে বেঁচেও আছেন!!!\n",
      "\n",
      "\n",
      "media_image\n",
      "JU\n",
      "\n",
      "\n",
      "media_video\n",
      "আমরা জানাজার নামাজ শেষে কফিন মিছিল নিয়ে রাজু ভাস্কর্যের দিকে যাচ্ছিলাম। আমাদেরকে পুলিশ+ বিজিবি স্যান্ডুইচ করে আমাদের উপর রাবার বুলেট, সাউন্ড গ্রেনেড আর টিয়ারশেল মেরেছে। শয়ে শয়ে টিয়ারশেল মেরেছে, রাবার বুলেট মেরেছে। আমার হাজার ভাই আহত, শত বোন আহত, অনেকেরই হাতপা ভেঙে গেছে, অনেকগুলো ভাইবোন সেন্সলেস। আমি নিজের চোখে ১০ এর অধিক সাংবাদিককে আহত হতে দেখেছি। দু'জন নারী সাংবাদিকদের অবস্থা আশঙ্কাজনক। ঢাকার যে যেখানে আছেন সবাই ঢাকা বিশ্ববিদ্যালয়ে আসেন, আমাদেরকে বাচান। বাংলাদেশের সকল জেলাশহর, সকল শিক্ষা প্রতিষ্ঠানে দেসগের আপামর জনসাধারণ রাস্তায় নেমে আসুন। মুক্তি নয় মৃত্যু।\n",
      "\n",
      "\n",
      "আপডেট:\n",
      "\n",
      "♦ ভিসি চত্ত্বর ও রাজু ভাস্কর্য বরাবর শিক্ষার্থীদের মিছিলে পুলিশ ও বিজিবির মুহুর্মুহু টিয়ারশেল ও সাউন্ডগ্রেনেড নিক্ষেপ। অনেকে আহত।\n",
      "\n",
      "♦ উদ্দেশ্যপ্রণোদিতভাবে ভয় দেখানোর জন্যে রোকেয়া হল বরাবর বারবার সাউন্ড গ্রেনেড ও টিয়ারশেল নিক্ষেপ করা হচ্ছে। হলের ভিতর মেয়েরা নিরাপদ। আপনারা ঐক্যবদ্ধ থাকুন ও আতঙ্কগ্রস্ত হবেন না।\n",
      "\n",
      "♦ বাকি হলগুলোতে সাধারণ শিক্ষার্থীদের শক্ত অবস্থান রয়েছে। আইনশৃঙ্খলা রক্ষাকারী বাহিনী মিছিলে চড়াও হলে সবাইকে হলের আশেপাশে যাওয়ার অনুরোধ রইলো।\n",
      "\n",
      "♦ পুরো বিশ্ববিদ্যালয় ক্যাম্পাসে মোবাইল ডাটা নেটওয়ার্ক অচল।\n",
      "\n",
      "\n",
      "পুলিশ, র‍্যাব, বিজিবি, সোয়াটের সাথে লড়াই করছি আমরা। দেশবাসীর প্রতি আহ্বান, আমাদের পাশে দাঁড়ান। সারাদেশে প্রতিবাদ করুন। শেষ রক্তবিন্দু থাকা পর্যন্ত লড়াই চলবে।\n",
      "\n",
      "\n",
      "media_image\n",
      "প্রথমে দায়িত্ব দিলো ছাত্রলীগকে। তারা পারলো না তাই এখন পুরো আওয়ামীলীগকে লেলিয়ে দিচ্ছে এই দেশবিরোধী পিশাচ। ছাত্রদের আন্দোলনে তাদের কর্মীদের জড়িত করছে। ছাত্রদের রক্ষা করতে, দেশের স্বাধীনতার পুনরুদ্ধারে তাই এখন সমগ্র দেশবাসীকে এগিয়ে আসতে হবে। শক্ত অবস্থান নিতে হবে পুরো জাতিকে।\n",
      "\n",
      "\n",
      "media_video\n",
      "আবারো রণক্ষেত্র ঢাকা বিশ্ববিদ্যালয়..\n",
      "\n",
      "চারদিকে শুধু গুলির শব্দ।।\n",
      "\n",
      "\n",
      "media_video\n",
      "রাজু ভাস্কর্যের সামনে সাংবাদিকদের উদ্দেশ্য করে সাউন গ্রে নে ড ছোড়ে পুলিশ! সাংবাদিকদের উদেশ্য করে  কেন এমন হলো হলো, জবাব চাইতে গেলে পুলিশ কোন উত্তর না দিয়ে আবারো গ্রে নে ড ছো'ড়ে পুলিশ!\n",
      "\n",
      "\n",
      "media_image\n",
      "\n",
      "\n",
      "\n",
      "ফেইসবুক গ্রুপ সহ ঢাকা বিশ্ববিদ্যালয় কেন্দ্রিক যত পেইজ আছে,আপাতত কোন আপডেট ঐ খান থেকে পাবেন না। সংবাদ কর্মীদের সাউন্ড গ্রেনেড হামলা করেছে,তারা সরে গিয়েছে।\n",
      "\n",
      "আল্লাহ জানে ওরা কি মিশন নিয়ে নামতে যাচ্ছে।\n",
      "\n",
      "সকল আপডেট এখানে লিখে জানানো হবে,\n",
      "\n",
      "আমাদের সাথেই থাকুক  \n",
      "\n",
      "https://t.me/bdreformquota\n",
      "\n",
      "\n",
      "media_video\n",
      "Australia\n",
      "\n",
      "\n",
      "media_image\n",
      "\n",
      "\n",
      "\n",
      "media_image\n",
      "\n",
      "\n",
      "\n",
      "media_image\n",
      "\n",
      "\n",
      "\n",
      "media_image\n",
      "\n",
      "\n",
      "\n",
      "media_image\n",
      "\n",
      "\n",
      "\n",
      "media_image\n",
      "\n",
      "\n",
      "\n",
      "media_image\n",
      "\n",
      "\n",
      "\n",
      "media_image\n",
      "\n",
      "\n",
      "\n",
      "media_image\n",
      "\n",
      "\n",
      "\n",
      "media_image\n",
      "\n",
      "\n",
      "\n",
      "media_image\n",
      "\n",
      "\n",
      "\n",
      "ঢাকা বিশ্ববিদ্যালয় রণক্ষেত্র\n",
      "\n",
      "\n",
      "media_video\n",
      "ঢাকা বিশ্ববিদ্যালয়\n",
      "\n",
      "\n",
      "media_video\n",
      "ঢাকাবাসী আপনারা আপনাদের সন্তানদের পাশে দাড়ান। আমাদের নেট বন্ধ করে দেওয়া হয়েছে। গুলি, গ্রেনেড হামলা চলছে।\n",
      "\n",
      "\n",
      "media_image\n",
      "\n",
      "\n",
      "\n",
      "media_image\n",
      "\n",
      "\n",
      "\n",
      "media_video\n",
      "ঢাবি\n",
      "\n",
      "\n",
      "Update: 5:09 pm\n",
      "---------------------\n",
      "পুলিশ এখন ফুল প্রিপেয়ার্ড। সাজোয়ান যান নিয়ে সামনের দিকে আগাচ্ছে। শিক্ষার্থীদের মুখোমুখি অবস্থান করছে তারা। শিক্ষার্থীরা বলছেন- \" আপনারা আমাদের ভাই, আমরা শান্তিপূর্ণ আন্দোলন করছি। আমাদের বাঁধা দিবেন না।\"\n",
      "পুলিশও মাইক নিয়ে শিক্ষার্থীদের সাথে কথা বলতে চায়। পুলিশ বলছে- \" আমরা আপনাদের বারবার সরে যেতে বলছি। আপনারা সরে যান, তাহলে আমরা কিছু করবোনা।\"\n",
      "\n",
      "\n",
      "\n",
      "\n",
      "media_video\n",
      "রক্তাক্ত ঢাকা বিশ্ববিদ্যালয়।\n",
      "\n",
      "\n",
      "কিছু ব্যক্তিগত টিপস: \n",
      "১. ঢাবি ক্যাম্পাসে আইডি কার্ড নিয়ে আসুন। এছাড়া প্রবেশে সমস্যা হবে। অথবা আইডি কার্ডের ছবি রাখুন। \n",
      "২. একা একা আসবেন না। ৪/ ৪+ শিক্ষার্থীরা একত্রে আসুন। \n",
      "৩. সাংবাদিকদের আশেপাশে হয়ে আসতে পারেন। এতে আপনার ক্ষতি সহজে করার সাহস পাবে না। \n",
      "৪. নিজের ফোন সাবধানে রাখুন।\n",
      "\n",
      "\n",
      "ঢাকা বিশ্ববিদ্যালয় রণক্ষেত্র। মুহুর্মুহু টিয়ারশেল, সাউন্ড গ্রেনেড, রাবার বুলেট। হল পাড়ায় শিক্ষার্থীরা। কফিন মিছিল, ভিসি বাসভবনে অবস্থানে উদ্যোগ পণ্ড। শাহবাগে আওয়ামী লীগের অবস্থান, ফোন চেক চলছে।\n",
      "\n",
      "\n",
      "ঢাকা বিশ্ববিদ্যালয়ের একদম ভেতরে ঢুকে একটা সশস্ত্র বাহিনী গুলি কীভাবে করতে পারে? একটা স্বায়ত্তশাসিত বিশ্ববিদ্যালয়ে গুলি করার জন্য তো জনগণ আপনাদেরকে ট্যাক্স দেয় না। কখনো মতিউর বেনজিরদের মতো লুটপাটকারীদের মাথায় এভাবে বুক উচিয়ে সাহস দেখালেন নাতো যেমনটা করছেন বিশ্ববিদ্যালয়ের ভেতরে ঢুকে? সীমানায় হত্যাকারীদের বিরুদ্ধে এভাবে বন্দুক তাক করার বিন্দুমাত্র সাহস দেখান না তো! এই অপমান বিশ্ববিদ্যালয়ের মেরুদণ্ডহীন শিক্ষকদের না হলেও আমাদের মতো সাবেক ও বর্তমান শিক্ষার্থীদের হচ্ছে। \n",
      "\n",
      "দেশের মোট জনসংখ্যার মাত্র ১% মানুষদের কথা ভেবে ৯৯% মানুষের কথাকে গুরুত্ব না দিয়ে এই রাষ্ট্র শিক্ষার্থীদের প্রতিপক্ষ বানিয়ে কী হাসিল করতে চাচ্ছে?\n",
      "\n",
      "\n",
      "কারবালার প্রকৃত দৃশ্যের অবতারণা হয়েছে ঢাকা বিশ্ববিদ্যালয় ক্যাম্পাসে।\n",
      "\n",
      "\n",
      "Update:\n",
      "জাবিতে পুলিশের হাম★লা চলছে। প্রচুর রাবার বু-লে*ট মা*রতে**ছে।  শিক্ষার্থীদের মুরাদ চত্ত্বর থেকে দূরে সরিয়ে দিয়েছে। \n",
      "\n",
      "\n",
      "\n",
      "\n",
      "JU Update: 5:39 PM\n",
      "পুলিশ তছনছ করে দিসে।\n",
      "সবাইকে হল থেকে বের হইতে বলল\n",
      "\n",
      "\n",
      "ঢাকাবাসী যত শিক্ষার্থী এবং পরিবার আছেন আপনাদের ভাইবোনদের বা*চাতে এগিয়ে আসেন। ক্যাম্পাসে বি*জি*বি, পু*লি*শ ও র‍্যা*ব প্রবেশ করেছে যদিও শিক্ষার্থীর সংখ্যা তাদের থেকে ৫০ গুন বেশি হবে৷ তারপও সমন্বয়ক ভাইয়েরা ঢাকাবাসী ঢাকা বিশ্ববিদ্যালয়ে আসতে অনুরোধ করেছেন৷   \n",
      "\n",
      "মানুষ যত বাড়বে শিক্ষার্থীর সাহস ততো বাড়বে৷ এগিয়ে আসুন৷\n",
      "সবার কাছে অনুরোধ 😭😭😭\n",
      "\n",
      "\n",
      "আমাদের অবস্থা ভয়াবহ। পুলিশ মুহুর্মুহু গুলি আর টিয়ারগ্যাস মারতেসে।\n",
      "\n",
      "আমাদের জন্য দোয়া করেন প্লিজ। \n",
      "\n",
      "\n",
      "\n",
      "\n",
      "media_video\n",
      "সাবেক ডাকসু নেতা আখতারকে তুলে নিয়ে গেছে পুলিশ\n",
      "\n",
      "এই টেলিগ্রাম চ্যানেলে আপডেট পাবেন\n",
      "https://t.me/bdreformquota\n",
      "\n",
      "\n",
      "media_video\n",
      "জাহাঙ্গীরনগর বিশ্ববিদ্যালয়\n",
      "\n",
      "\n",
      "হামলা হচ্ছে, গুলি চলতেছে... (অকারণে কল দিবেন না)\n",
      "আমাদের কেউ এটাক করে নাই পুলিশকে। পুলিশই নিজে থেকে এটাক করছে। আমরা অনেক্ষণ দৌঁড়ে জঙ্গলে আশ্রয় নিছি। জানি না বাকিদের কী অবস্থা।\n",
      "\n",
      "মালিহা নামলাহ, জাবি\n",
      "\n",
      "\n",
      "দেশের মানুষের প্রতি আহ্বান জানান,\n",
      "ঢাকা বিশ্ববিদ্যালয়ের পাশে এগিয়ে আসার জন্য। \n",
      "সবাই সবার আইডি থেকে পোস্ট করুন।\n",
      "\n",
      "রণক্ষেত্রে রূপ নিয়েছে আমাদের ঢাকা বিশ্ববিদ্যালয়।\n",
      "পুরো টোকাই দিয়ে ভরে গেছে আমাদের ক্যাম্পাস।\n",
      "\n",
      "\n",
      "media_image\n",
      "ছাত্রলীগ সভাপতিকে বয়কট জানাল নটরডেম কলেজের শিক্ষার্থীরা।\n",
      "\n",
      "\n",
      "হল ছাড়বেন না। যত যা ঘটুক হল ছাড়বেন না। গোলামি মুক্তির ঐতিহাসিক মূহুর্ত বারবার আসে না।\n",
      "\n",
      "\n",
      "ঢাকা বিশ্ববিদ্যালয় ক্যাম্পাসে দাঁড়ানোর মতো কোনো পরিস্থিতি নেই। টিয়া*রশেল, গ্রে*নেডে আমাদের কয়েকজন সাংবাদিকও আহত।\n",
      "\n",
      "\n",
      "সাউন্ড গ্রেনেড/ককটেল ভয় দেখানোর জন্য ব্যবহার করা হয়।\n",
      "আমরা চাইলে ফ্যাটকা(পটকা) ফুটাতে পারি।কারও ক্ষতি করবেনা কিন্তু তারা অবশ্যই ভয় পাবে।অবশ্যই পাবে।\n",
      "৪০০-৫০০ ফুটালে সব শালারা পালাবে।\n",
      "\n",
      "\n",
      "\" ঢাকা বিশ্ববিদ্যালয়ের অবস্থা খুবই খারাপ। পুলিশ-বিজিবি-ছাত্রলীগ সাধারণ ছাত্রদের উপর হামলা করছে। ঢাকাসহ পুরো দেশের মানুষ ঢাবিকে বাঁচাতে, আপনাদের সন্তানকে বাঁচাতে এগিয়ে আসুন\" \n",
      "\n",
      "এমন পোস্ট সবাই নিজেদের profile এ দেন। গ্রুপের চেয়ে এটা বেশি কাজে আসবে।\n",
      "\n",
      "\n",
      "media_video\n",
      "ঢাবি\n",
      "\n",
      "\n",
      "ইমার্জেন্সি!!!\n",
      "\n",
      "ঢাবির অবস্থা ভালো নয়, দ্রুত সবাই সাহায্যের জন্য ছুটে আসুন।\n",
      "\n",
      "\n",
      "সাধারণ নিরস্ত্র শিক্ষার্থীদের উপর বিজিবি কেনো? SWAT কেনো??\n",
      "\n",
      "\n",
      "\n",
      "\n",
      "\n",
      "media_video\n",
      "\n",
      "\n",
      "\n",
      "আচ্ছা,\n",
      "\n",
      "ঠিক কি কারণে আমাদের উপর এভাবে পুলিশ, র‍্যাব, বিজিবি, SWAT লেলিয়ে দেওয়া হলো?\n",
      "\n",
      "ঠিক কি কারণে? \n",
      "\n",
      "ক্যাম্পাস থেকে সন্ত্রাসমুক্ত করার জন্য? \n",
      "ছাত্ররাজনীতি নিষিদ্ধ করার জন্য? \n",
      "নাকি কোটা সংস্কার চাওয়ার জন্য?\n",
      "\n",
      "\n",
      "টিয়ারশেলের যন্ত্রণায় ছটফট করছে ঢাবি শিক্ষার্থীরা।💔\n",
      "\n",
      "\n",
      "ঢাকা বিশ্ববিদ্যালয় প্রশাসনকে এই হামলার দায়ভার নিতে হবে। ভিসি, প্রক্টর ও অন্যান্য সকল প্রশাসনিক ব্যক্তিবর্গকে পদত্যাগ করতে হবে।\n",
      "\n",
      "\n",
      "media_video\n",
      "জাবি\n",
      "\n",
      "\n",
      "দেশের মানুষের প্রতি আহ্বান জানান,\n",
      "ঢাকা বিশ্ববিদ্যালয়ের পাশে এগিয়ে আসার জন্য। \n",
      "সবাই সবার আইডি থেকে পোস্ট করুন।\n",
      "\n",
      "রণক্ষেত্রে রূপ নিয়েছে আমাদের ঢাকা বিশ্ববিদ্যালয়।\n",
      "পুরো টোকাই দিয়ে ভরে গেছে আমাদের ক্যাম্পাস।\n",
      "\n",
      "\n",
      "ধরতে গেলে পুরা ক্যাম্পাসে এরা দৌড়ায়ে দৌড়ায়ে মা*র*তেসে।\n",
      "\n",
      "প্রচুর আ*হ*ত হইসে। প্লিজ জাবির জন্য দোয়া করেন। \n",
      "\n",
      "\n",
      "6:10 pm\n",
      "\n",
      "\n",
      "Https://www.facebook.com/share/v/LZBHsKeL6xXhgtUt/?mibextid=oFDknk\n",
      "\n",
      "\n",
      "media_image\n",
      "\n",
      "\n",
      "\n",
      "media_image\n",
      "\n",
      "\n",
      "\n",
      "পুলিশ, র‍্যাব, বিজিবি, সোয়াটের সাথে লড়াই করছি আমরা। দেশবাসীর প্রতি আহ্বান, আমাদের পাশে দাঁড়ান। সারাদেশে প্রতিবাদ করুন। শেষ রক্তবিন্দু থাকা পর্যন্ত লড়াই চলবে।\n",
      "\n",
      "\n",
      "media_image\n",
      "জাবিতে গুলিবিদ্ধ শিক্ষার্থী\n",
      "\n",
      "\n",
      "media_video\n",
      "জাহাঙ্গীরনগর বিশ্ববিদ্যালয় রণক্ষেত্র। শিক্ষার্থীদের উপর একসাথে হামলা চালিয়েছে ছাত্রলীগ-পুলিশ-র‍্যাব। আশপাশের সবাইকে ক্যাম্পাসের শিক্ষার্থীদের রক্ষায় এগিয়ে আসার আহবান।\n",
      "\n",
      "\n",
      "প্রিয় দেশবাসী, \n",
      "আজ আপনাদের সাহায্য খুবই প্রয়োজন। \n",
      "\n",
      "ছাত্রদের পাশে দাড়ান।\n",
      "\n",
      "আমাদের এই গ্রুপের সকল পোস্ট সারাদেশে ছড়িয়ে দিন। আপনারাই হোন আমাদের কণ্ঠ। আপনারাই হোন আমাদের মিডিয়া। জাতির এ বিজয়লগ্নে আসুন স্লোগান তুলি, এ দেশ কারো বাপের না।\n",
      "\n",
      "Link:\n",
      "https://t.me/bdreformquota\n",
      "\n",
      "\n",
      "media_image\n",
      "জাবি\n",
      "\n",
      "\n",
      "এই মূহুর্তে রাজশাহী বিশ্ববিদ্যালয়ে কাজলা গেট দিয়ে বিপুল সংখ্যক পুলিশ প্রবেশ করছে।\n",
      "\n",
      "ঢাবির পর কি তাহলে রাবিও এইবার রক্তাক্ত হতে যাচ্ছে?\n",
      "\n",
      "\n",
      "media_image\n",
      "এই হাত দিয়ে  এখনো কত স্বপ্ন লেখা বাকি ছিলো 🙂\n",
      "\n",
      "\n",
      "আপনারা দয়া করে ঢাকা বিশ্ববিদ্যালয়ের দিকে আসেন। সবাই প্লিজ না হয় গণ কবর দিতে হবে কিছু সময় পরে!!\n",
      "\n",
      "\n",
      "সাউন্ড গ্রে*নে*ড মারতেসে এখন\n",
      "\n",
      "আবাসিক বিশ্ববিদ্যালয়! বাহ!\n",
      "\n",
      "\n",
      "\n",
      "\n",
      "media_image\n",
      "শিক্ষার্থীদের উপর হামলা চালাতে উস্কে দিয়েছেন যেসব শিক্ষক। চিনে রাখুন। \n",
      "এদের কারণে আমার ভাইয়ের রক্তে রঞ্জিত হচ্ছে জাবি ক্যাম্পাস\n",
      "\n",
      "\n",
      "@JU-Update\n",
      "\n",
      "\n",
      "media_image\n",
      "\n",
      "\n",
      "\n",
      "media_image\n",
      "\n",
      "\n",
      "\n",
      "media_image\n",
      "\n",
      "\n",
      "\n",
      "ঢাবিকে ক্র‍্যাকডাউন থেকে রক্ষা করতে রাস্তায় নেমে আসুন৷ ইন্টারনেট সংযোগ বিচ্ছিন্ন করে ইতিমধ্যে ছাত্রদের বিচ্ছিন্ন ও অবরুদ্ধ করে রাখা হয়েছে৷ ইন্টারনেট সংযোগ বন্ধ বলে বিবিসি বাংলাকে তাদের ফেসবুক লাইভ ক্যাম্পাসের বাইরে এসে করতে হয়েছে। তবুও নেট অনেকাংশেই ডাউন। \n",
      "\n",
      "ভিতরে কি হচ্ছে কি হবে সব অন্ধকারে রাখার পরিকল্পনা। \n",
      "ছাত্ররা চেষ্টা করছে এখন নাগরিক হিসেবে বাকি দায় আমার আপনার৷\n",
      "\n",
      "\n",
      "media_image\n",
      "তাহলে উনার দরকার কী\n",
      "\n",
      "\n",
      "Jahangirnagar University needs help!\n",
      "আশে পাশে যারা আছেন, দয়া করে এগিয়ে আসুন।\n",
      "অন্তত পক্ষে ৫০০শ পুলিশ রয়েছে,ক্যাম্পাসের ভিতর নেটওয়ার্ক নেই,আমরা যারা বাইরে আছি এই খবর ছড়িয়ে দেই,আমাদের ভার্সিটিতে একদম নেটওয়ার্ক নেই।\n",
      "\n",
      "সাভার কলেজ, city University,  DIU, আজকে আমাদের দরকার আপনাদেরকে, এগিয়ে আসুন! সবার নেট অফ,  কোথাও নেট নাই ।\n",
      "\n",
      "- ছাত্রছাত্রী ভাইদের অনুরোধ করছি।\n",
      "-Sadique Ahmed,JU\n",
      "\n",
      "\n",
      "media_image\n",
      "\n",
      "\n",
      "\n",
      "media_video\n",
      "রাজশাহী বিশ্ববিদ্যালয়ের বর্তমান অবস্থা।ক্যাম্পাস জুড়ে র‍্যাব ও পুলিশ অবস্থান নিয়েছে।\n",
      "\n",
      "\n",
      "media_image\n",
      "শাবিপ্রবিতে হল তল্লাসি করে পাওয়া গেলো বিপুল খাতা-কলম।\n",
      "\n",
      "\n",
      "পুলিশি নিরাপত্তায় জাবি ভিসি এই মাত্র পালিয়েছে রেজিস্ট্রার ভবন থেকে।\n",
      "\n",
      "\n",
      "01716153075\n",
      "লাল স্যার, প্রত্নতত্ত্ব বিভাগ, যারা আটকা পড়েছে, স্যার কে একটু কল দিয়ে লোকেশান জানাক, স্যার বের করবেন।(জাবি)\n",
      "\n",
      "\n",
      "media_image\n",
      "ভিসির অনুমতিক্রমে ঢাবির মিছিল ছত্রভঙ্গ করা হয়েছে: পুলিশ\n",
      "\n",
      "\n",
      "media_image\n",
      "\n",
      "\n",
      "\n",
      "media_video\n",
      "\n",
      "\n",
      "\n",
      "media_image\n",
      "কালো শোকের রঙ\n",
      "\n",
      "\n",
      "media_video\n",
      "\n",
      "\n",
      "\n",
      "media_video\n",
      "রাজশাহী বিশ্ববিদ্যালয়ে পুলিশের তান্ডব শুরু হয়ে গিয়েছে।\n",
      "\n",
      "\n",
      "media_image\n",
      "রাজশাহী বিশ্ববিদ্যালয়ও যেন রণক্ষেত্র।বিপুল সংখ্যক পুলিশের এই বহর দেখলেই বুঝতে পারবেন।\n",
      "\n",
      "ছবি: কাজলা গেট,রাবি\n",
      "\n",
      "\n",
      "র-এর এজেন্ট হিসেবে পরিচিত ছাত্রলীগ নেতাদের খাবারে পয়জনিং করে হত্যা করতে কাজ করছে ভারতের একটি ইনটেলিজেন্স টিম। পরবর্তীতে দায়ভার আন্দোলনরত শিক্ষার্থীদের উপর চাপিয়ে পুরো আন্দোলন নিয়ন্ত্রণ করার পরিকল্পনা সরকারের।\n",
      "-গোয়েন্দা সূত্র\n",
      "\n",
      "\n",
      "একদিকে নেত্রী ভাষন দিচ্ছে অন্যদিকে রাবিতে হামলা হচ্ছে! এ কেমন সমাধান?\n",
      "\n",
      "\n",
      "RU under attack. Pray for them.\n",
      "\n",
      "\n",
      "media_video\n",
      "পুলিশ যখন শিক্ষার্থীদের উপর গুলি বর্ষন করে রক্তাক্ত করছে তখন কিছু কুলাঙ্গার শিক্ষক উপাচার্যসহ, যারা  নতুন রেজিস্টারে বিরিয়ানি খাবে। তাদের জন্য গাড়িতে করে বিরিয়ানি নিয়ে আসা হয়েছে।\n",
      "\n",
      "\n",
      "media_image\n",
      "জাবি'র শিক্ষক। এরে শিক্ষক বললে ভুল হবে।\n",
      "\n",
      "\n",
      "media_image\n",
      "বৃহস্পতিবার সারা দেশে ‘কমপ্লিট শাটডাউন’ ঘোষণা বৈষম্যবিরোধী ছাত্র আন্দোলনের।\n",
      "\n",
      "\n",
      "media_video\n",
      "সত্যিকারের শিক্ষক এরা।\n",
      "\n",
      "\n",
      "আজকে আমার সম্মানিত শিক্ষক মহোদয়দের উপহার:\n",
      "১. শান্তিপূর্ণভাবে অবস্থান করা শিক্ষার্থীদের উপর উপুর্যুপরি গু*লি চালানো হয়েছে কোন উস্কানি ছাড়াই। \n",
      "২. বঙ্গবন্ধু হলের ভেতরে পর্যন্ত টিয়ারগ্যায়া মারা হইসে।\n",
      "৩. চতুর্দিক থেকে শিক্ষার্থীদেরর ঘিরে ফেলা হইসিলো।\n",
      "৪. বাদ যায় নাই একাডেমিক ভবন, নতুন কলাও। এর ভেতরে টিয়ারগ্যাস মারা হইসে। \n",
      "৫. ক্যাম্পাসের ভেতর সাউন্ড গ্রে*নে*ড মারা হইসে। \n",
      "৬. হ%তা%হ%তের সংখ্যা আনুমানিক দুই শতাধিক। গুরুতর আ%হত আমরা অনুমান করছি ৫০+। \n",
      "সবকিছুর জন্য ধন্যবাদ আপনাদের।\n",
      "\n",
      "\n",
      "আপনারা অনেকে আমাদেরকে বারবার আন্দোলন করতে বলতেছেন, রাস্তায় নামতে বলতেছেন। আপনারা কি আমাদের মানুষ মনে করেন নাকি রোবট?? ২-৩ দিন ধরে টানা লড়াই করে গেছে ছেলে-মেয়েগুলা। পুলিশের গু★*লি মানে বুঝেন?? গু★**লির সাথে লাঠি নিয়া পারা যায়? কতক্ষন লড়া যায়?  খাওয়া নাই, ঘুম নাই আমাদের। আমাদের জায়গায় আপনারা থাকলে ৫ মিনিটও টিকতে পারতেন না ভাই। জাবির বাতাসে এখনও দাঁড়ানো যাচ্ছেনা টি.আর গ্যাসের কারনে। \n",
      "\n",
      "We tried our best. \n",
      "\n",
      "\n",
      "\n",
      "\n",
      "media_image\n",
      "DU tragedy.\n",
      "\n",
      "\n",
      "media_image\n",
      "\n",
      "\n",
      "\n",
      "media_image\n",
      "\n",
      "\n",
      "\n",
      "media_image\n",
      "\n",
      "\n",
      "\n",
      "media_image\n",
      "\n",
      "\n",
      "\n",
      "ব্রেকিং..\n",
      "\n",
      "রাবি ক্যাম্পাসে ছাত্র রাজনীতি স্থগিত\n",
      "- উপাচার্য\n",
      "\n",
      "\n",
      "media_video\n",
      "শিক্ষার্থীদের উপর হা-মলা-নিহ-তের প্রতিবাদে বাংলাদেশ কৃষি বিশ্ববিদ্যালয়, ময়মনসিংহে মশাল মি-ছিল\n",
      "\n",
      "\n",
      "media_video\n",
      "রাজশাহী বিশ্ববিদ্যালয়ে পুলিশের এটাক।\n",
      "\n",
      "\n",
      "media_image\n",
      "রাবির ভিসির বক্তব্য।মির্জাফর..\n",
      "\n",
      "\n",
      "media_image\n",
      "যাত্রাবাড়ী এবং শনির আখড়া ছাত্রদের দখলে। \n",
      "ঢাকা-চট্টগ্রাম মহাসড়ক ব্লকট। টোল প্লাজা জ্বালিয়ে দেওয়া হয়েছে।\n",
      "\n",
      "\n",
      "media_image\n",
      "\n",
      "\n",
      "\n",
      "media_video\n",
      "নীলক্ষেত মোড়ে পুলিশের শক্ত অবস্থান।\n",
      "\n",
      "\n",
      "media_image\n",
      "রায়েরবাগ থেকে যাত্রাবাড়ি লীগ অফিস, পুলিশ বক্স দখল ফুটপাত সব কিছু ছাত্ররা গুঁড়িয়ে দিচ্ছে। \n",
      "\n",
      "ছাত্রদের উপর গুলি এবং কাঁদানী গ্যাসের কারণে ২০+ হসপিটালে। ওই এলাকার সাধারণ মানুষ সব ছাত্রদের সাথে যোগ দিয়েছে\n",
      "\n",
      "\n",
      "media_video\n",
      "জাহাঙ্গীরনগর বিশ্ববিদ্যালয়ে পুলিশের অবস্থান...\n",
      "\n",
      "\n",
      "media_video\n",
      "এইমাত্র পাওয়া-\n",
      "\n",
      "ঢাকা বিশ্ববিদ্যালয় এলাকায় পুলিশ এখনো টিয়ারশেল, রাবার বুলেট ছুঁড়তেছে।\n",
      "\n",
      "\n",
      "media_video\n",
      "রাসেল টাওয়ারের সামনে টুকাই এবং পুলিশ সংঘর্ষ\n",
      "\n",
      "\n",
      "media_image\n",
      "\n",
      "\n",
      "\n",
      "পালিয়েছে জাবি ভিসি। \n",
      "সব বিশ্ববিদ্যালয়ের ভিসির পালানোর সময়ও চলে আসছে। \n",
      "তবে জাবি ও রাবি ক্যাম্পাসে কি হতে চলেছে কেবল আল্লাহ জানেন।\n",
      "\n",
      "\n",
      "media_video\n",
      "রাজধানীর শনির আখড়ায় ভয়াবহ সংঘর্ষের চিত্র। যেন যুদ্ধ চলছে!\n",
      "\n",
      "\n",
      "media_image\n",
      "হানিফ ফ্লাইওভারের টোলপ্লাজা।\n",
      "\n",
      "\n",
      "media_video\n",
      "যাত্রাবাড়ি স্থানীয় সবাই নেমে আসছে\n",
      "\n",
      "সঙ্গে কওমি মাদরাসা আছে\n",
      "\n",
      "কোটা সংস্কার আন্দোলনকারীরা শহিদ মিনারে জড়ো হচ্ছে\n",
      "\n",
      "\n",
      "সারাদেশে ২৫শে মার্চের মতো নারকীয় তাণ্ডব চলছে। শিক্ষার্থীদের বাঁচাতে জীবনের পরোয়া না করে আমজনতা রাস্তায় নেমে আসছে।\n",
      "\n",
      "আর কবে মূল রাজনৈতিক দলের ঘুম ভাঙবে??\n",
      "\n",
      "\n",
      "media_video\n",
      "কাঁদো জাতি কাঁদো!!!\n",
      "\n",
      "\n",
      "media_image\n",
      "তাকে ছেড়ে দেওয়াটাই সবচেয়ে বড় ভুল হয়েছে\n",
      "\n",
      "\n",
      "media_image\n",
      "\n",
      "\n",
      "\n",
      "আপনারা যারা আমাদের দিকে তাকিয়ে আছেন আপডেট পেতে,\n",
      "\n",
      "বিশ্বাস করুন আর পারছিনা।  এ দৃশ্যগুলো দেখে আর সহ্য করতে পারছিনা। দম টা বন্ধ হয়ে আসে। জীবনটা ব্যর্থ ব্যর্থ লাগে। আমার সহপাঠী বন্ধুরা, আমার সিনিয়র জুনিয়র ভাইবোনেরা নৃশংস বর্বরতার শিকার। এ খবর গুলো প্রচার, ছবি গুলো দেখার, শেয়ার করতে করতে বুক টা ফেটে যায়!\n",
      "\n",
      "\n",
      "ও আল্লাহ!!!\n",
      "\n",
      "[তবে, আমাদের পেরেশানি আছে। হতাশা নেই]\n",
      "\n",
      "\n",
      "media_image\n",
      "\n",
      "\n",
      "\n",
      "media_video\n",
      "জানালা দিয়ে গুলি মারছে.. \n",
      "শেখ রাসেল টাওয়ার, ঢাবি\n",
      "\n",
      "\n",
      "আমি ঢাবি।\n",
      "আজ আমার খুব কষ্ট।\n",
      "সেদিন ভিনদেশী শকুনেরা আমার ওপর ঝাপিয়ে পড়েছিলো। রক্তাক্ত হয়েছি। কিন্তু কাঁদিনি।\n",
      "কিন্তু আজ!\n",
      "আজ আমার সন্তানেরা\n",
      "আমার বুক থেকে আরেক সন্তান কেড়ে নেওয়ার জন্য\n",
      "আমার বুককে ঝাঁঝরা করলো।\n",
      "আমারই সামনে আমার সন্তান তার ভাইকে হত্যা করলো।\n",
      "\n",
      "আমি ঢাবি।\n",
      "আমি আমার সন্তানদের মানুষ করার জন্য\n",
      "দিন রাত ঘাম ঝড়াই।\n",
      "কিজানি কোন রক্ত পিপাসুর তেষ্টা মেটাতে\n",
      "আমার সন্তানেরা আজ\n",
      "আমার বুকে রক্ত ঝরায়।\n",
      "\n",
      "আমি ঢাবি।\n",
      "একটি দেশের আশা ভরসার প্রতীক।\n",
      "কিন্তু আজ আমি\n",
      "ছত্রিশ কোটি চোখের নোনা অশ্রু।\n",
      "এই অশ্রুর ভার আমি নিতে পারছি না।\n",
      "কারণ আমার বুক আজ ঝাঁঝরা।\n",
      "\n",
      "আমি ঢাবি।\n",
      "আমার হৃদয় আজ ক্ষত বিক্ষত।\n",
      "সেদিনের মতো আজও আমি কাঁদবো না।\n",
      "যদি কথা দাও কালুর ঘাটের মতো ভেসে আসবে\n",
      "আরেকটি কণ্ঠস্বর।\n",
      "যদি কথা দাও\n",
      "আরেকটি অসহযোগ বন্দ করে দিবে ঘাতকের রসদ।\n",
      "যদি কথা দাও\n",
      "আমার বুকে গুলির চালানোর একটা পয়সা দিবে না।\n",
      "যদি কথা দাও\n",
      "আমার কন্যার আর্তচিৎকার শুনে বসে থাকবে না।\n",
      "\n",
      "আমি কাঁদবো না।\n",
      "তোমরা আমাকে আর কাঁদিও না।\n",
      "\n",
      "\n",
      "তাহা বিন তৈয়ব\n",
      "১৭.০৭.২০২৪\n",
      "\n",
      "\n",
      "আপডেট।\n",
      "বুয়েটের এই দিকে গোলাগুলি চলতেছে!\n",
      "ককটেল ফুটতেছে।\n",
      "\n",
      "\n",
      "media_video\n",
      "এরাই আমাদের শিক্ষক। (জাবি)\n",
      "\n",
      "\n",
      "media_image\n",
      "এতদিন বাংলাদেশ ঢাকা বিশ্ববিদ্যালয়ের দিকে তাকিয়ে ছিলো, আজ ঢাকা বিশ্ববিদ্যালয় বাংলাদেশের দিকে তাকিয়ে আছে।।\n",
      "দেশের দল মত নির্বিশেষে সকল শ্রেণির সবাইকে আমরা আহবান করছি, আমাদের পাশে দাঁড়ান।\n",
      "\n",
      "\n",
      "media_image\n",
      "জাহাঙ্গীরনগর বিশ্ববিদ্যালয়।\n",
      "\n",
      "\n",
      "media_image\n",
      "যুক্তরাষ্ট্রের ওহাইও স্টেট ইউনিভার্সিটিতে বাংলাদেশের শিক্ষার্থীদের উপর হামলার প্রতিবাদ\n",
      "\n",
      "\n",
      "media_image\n",
      "ছাত্রলীগে গেলেই কি সব সন্ত্রাসী হয়ে যায়? \n",
      "\n",
      "post: https://www.facebook.com/share/p/4WN8xYA6H4nxXG4G/?mibextid=oFDknk\n",
      "\n",
      "\n",
      "media_image\n",
      "\n",
      "\n",
      "\n",
      "media_image\n",
      "\n",
      "\n",
      "\n",
      "media_image\n",
      "\n",
      "\n",
      "\n",
      "media_image\n",
      "\n",
      "\n",
      "\n",
      "media_image\n",
      "\n",
      "\n",
      "\n",
      "media_image\n",
      "\n",
      "\n",
      "\n",
      "media_image\n",
      "\n",
      "\n",
      "\n",
      "media_image\n",
      "\n",
      "\n",
      "\n",
      "media_image\n",
      "\n",
      "\n",
      "\n",
      "media_image\n",
      "\n",
      "\n",
      "\n",
      "media_image\n",
      "\n",
      "\n",
      "\n",
      "media_image\n",
      "\n",
      "\n",
      "\n",
      "media_image\n",
      "\n",
      "\n",
      "\n",
      "media_image\n",
      "\n",
      "\n",
      "\n",
      "media_image\n",
      "\n",
      "\n",
      "\n",
      "media_image\n",
      "\n",
      "\n",
      "\n",
      "media_image\n",
      "\n",
      "\n",
      "\n",
      "media_image\n",
      "\n",
      "\n",
      "\n",
      "media_image\n",
      "\n",
      "\n",
      "\n",
      "media_image\n",
      "\n",
      "\n",
      "\n",
      "media_image\n",
      "\n",
      "\n",
      "\n",
      "media_image\n",
      "\n",
      "\n",
      "\n",
      "media_image\n",
      "\n",
      "\n",
      "\n",
      "media_image\n",
      "\n",
      "\n",
      "\n",
      "media_image\n",
      "\n",
      "\n",
      "\n",
      "media_image\n",
      "\n",
      "\n",
      "\n",
      "জাবিতে\n",
      "অন্ধকার।\n",
      "\n",
      "বিদ্যুৎ নিয়া গেছে।\n",
      "\n",
      "\n",
      "নিজের দেশে শান্তি নাই \n",
      "শান্তি রক্ষায় বিদেশ যাই। \n",
      "\n",
      "এটাই বাংলাদেশ সেনাবাহিনী 🥴\n",
      "\n",
      "\n",
      "🔥Breaking News🔥\n",
      "\"বিশ্বের সবচেয়ে বড় ছাত্র আন্দোলন\n",
      "হতে চলেছে আগামীকাল,\n",
      "যোগ দেবে সর্বস্তরের মানুষ\"\n",
      "\n",
      "Click Here ➡️ \n",
      "\n",
      "\n",
      "media_image\n",
      "সারাদেশে আন্দোলনরত শিক্ষার্থীদের উপর পুলিশ ও ছাত্রলীগের হাম'লা, গুলিব'র্ষণ ও গ্রেফতা'রের প্রতিবাদ ও শহীদদের স্মরণে মোমবাতি প্রজ্বলন করে জগন্নাথ বিশ্ববিদ্যালয় বেগম ফজিলাতুন্নেছা মুজিব হলের ছাত্রীরা।\n",
      "\n",
      "Click Here ➡️ \n",
      "\n",
      "\n",
      "কুষ্টিয়া মেডিকেল কলেজ ছাত্রলীগের সভাপতি সাধারণ সম্পাদক বাদে সকল নেতা পদত্যাগ করেছে।\n",
      "\n",
      "\n",
      "ছাত্রলীগ পরিচয় যেন আজ লজ্জার কারণ হয়ে দাড়িয়েছে, যেন তা বোঝা হয়ে দাড়িয়েছে। শিক্ষার্থীরা ছাত্রলীগ তাড়াচ্ছে। সহপাঠীরা বয়কট করছে। সমাজবাসী থুতু দিচ্ছে। আহ, কতটা নিচে নামলে এরপরেও দুই একটা পাতিনেতা উপরমহলের পা চাটতে ফেসবুকে 'তুমি কে আমি কে বাঙালি বাঙালি' লিখে পোস্ট করতে পারে!!\n",
      "\n",
      "\n",
      "ঢাবির বর্তমান অবস্থা। \n",
      "বাহিরে পুলিশ বিজিবি আছে \n",
      "কিন্তু আপাতত কোনো হা'ম লা ধাওয়া পালটা ধাওয়া হচ্ছেনা, বলতে গেলে পরিস্থিতি নরমাল।\n",
      "এটি সর্বশেষ আপডেট।\n",
      "\n",
      "Click Here ➡️ \n",
      "\n",
      "\n",
      "media_image\n",
      "Wow script\n",
      "\n",
      "\n",
      "media_image\n",
      "\n",
      "\n",
      "\n",
      "media_video\n",
      "যুদ্ধারা..❤️\n",
      "\n",
      "\n",
      "হল ভ্যাকেন্ট যদি হয়ও আমাদের নিরাপত্তা নিশ্চিত না হওয়া পর্যন্ত ও আক্রান্ত ভাই বোনদের বিচার হওয়ার আগ পর্যন্ত হল ছাড়বো না\n",
      "\n",
      "- Arif Sohel, সমন্বয়কারী, বৈষম্যেবিরোধী ছাত্র আন্দোলন, জাবি\n",
      "\n",
      "\n",
      "চুয়েটের বাসে ঢুকে ছাত্রীদের পে**টাল ছাত্রলীগ, ৩০ জন আহত\n",
      "\n",
      "রাত ১১ টা\n",
      "\n",
      "\n",
      "জগন্নাথ বিশ্ববিদ্যালয়ের মার্কেটিং বিভাগের শিক্ষার্থী অনিক এখন প্রায় তিনঘণ্টা নাগাদ ঢামেকের অপারেশন থিয়েটারে। গুলিতে খাদ্যনালী ফুটো হয়ে গেছে। সবাই ওর জন্য দোয়া করবেন।\n",
      "\n",
      "\n",
      "ঘোষণা 🚨📢📣\n",
      "\n",
      "আজকে পুলিশ ও ছাত্রলীগের যৌথ হামলা ও গুলিবর্ষণে শহীদ ভাইদের জন্য আগামীকাল ১৭ জুলাই দুপুর ২:০০ টায় রাজু ভাষ্কর্যের পাদদেশে \"গায়েবানা জানাযা ও কফিন মিছিল\" অনুষ্ঠিত হবে। \n",
      "\n",
      "আপনারা সকল শিক্ষাপ্রতিষ্ঠান ও জেলায় জেলায় গায়েবানা জানাযা ও কফিন মিছিল পালন করুন। ঢাকায় অবস্থানরত সকলে রাজু ভাষ্কর্যের পাদদেশে সময়মতো চলে আসুন।\n",
      "\n",
      "\n",
      "আপডেট ১২:০৪ \n",
      "রোকেয়া হলের ছাত্রলীগ নেত্রীরা সাধারণ শিক্ষার্থীদের উপর হামলা করতে আসায় শিক্ষার্থীরা এবং হলের ম্যামরা মিলে সবাইকে জুতা মেরে হল থেকে বের করে দেয়।\n",
      "\n",
      "\n",
      "media_video\n",
      "এভাবেই ঘাড়ে ধরে বের করে দেওয়া হয়েছে ছাত্রলীগের নেত্রীদের\n",
      "\n",
      "\n",
      "media_video\n",
      "রক্ত টগবগিয়ে উঠবে.. কথা গুলো শুনোন\n",
      "\n",
      "\n",
      "রোকেয়া হল ছাত্রলীগ মুক্ত✊\n",
      "\n",
      "সবগুলারে লাথি মেরে বের করে দিয়েছে সাধারণ শিক্ষার্থী\n",
      "\n",
      "\n",
      "media_image\n",
      "\n",
      "\n",
      "\n",
      "media_image\n",
      "কবি নজরুল সরকারি কলেজ ছাত্রলীগের \n",
      "সাবেক পাঠাগার বিষায়ক সম্পাদক, \n",
      "মেহেদী হাসান বিজয় মাথায় মানচিত্র\n",
      "\n",
      "\n",
      "media_image\n",
      "\n",
      "\n",
      "\n",
      "media_image\n",
      "ঢাবির রোকেয়া হল স্বাধীন \n",
      " বাঘিনীদের অভিনন্দন 🌸\n",
      "\n",
      "\n",
      "ঢাকা কলেজ ছাত্রলীগের কর্মী সবুজ আলী কিছুক্ষন আগে ঢাকা মেডিকেলে মারা গেছেন\n",
      "\n",
      "\n",
      "media_image\n",
      "খুলনা বিশ্ববিদ্যালয়ের ক্যাম্পাসে অনাকাঙ্ক্ষিত ঘটনা ঘটার আভাস।।\n",
      "শিক্ষার্থীরা সতর্ক অবস্থায় আছে।\n",
      "\n",
      "\n",
      "media_image\n",
      "১৭ জুলাই,২০২৪|রাত ১ টা৫৩ মিনিট \n",
      " \n",
      "MH হলের গেইটে তালা দেয়া|হলের মুখেই প্রচুর ইট রেডি করা আছে। ছাদেও পোলাপান পাহারায় আছে। বাকি যে যার রুমে রেডি, কিন্তু ঘুমায় নাই। অর্থাৎ যেকোন হামলা মোকাবেলায় সবাইকে প্রস্তুত দেখা গেছে|\n",
      "\n",
      "\n",
      "media_image\n",
      "\n",
      "\n",
      "\n",
      "Badruzzaman Bhuiyan Kanchan স্যার \n",
      " ভাইস চ্যান্সেলর \n",
      " বরিশাল বিশ্ববিদ্যালয় \n",
      "\n",
      "সময় :(রাত ১ টা ২০মিনিট)\n",
      "শিক্ষার্থীদের নিরাপত্তার জন্য শিক্ষার্থীদের সাথেই হলে অবস্থান। \n",
      "\n",
      "স্যালুট স্যার।🫡\n",
      "\n",
      "\n",
      "আপডেট \n",
      "১। বিএম কলেজের সমন্বয়ক মহিউদ্দিন মহারাজ কে তার মেস বাসা থেকে ছাত্রলীগ তুলে নিয়ে গেছে।\n",
      "২। সিলেট কৃষি বিশ্ববিদ্যালয়র হলে আন্দোলনকারীদের একজন একজন করে ধরে নিয়ে গিয়ে পিটাচ্ছে ছাত্রলীগ\n",
      "\n",
      "\n",
      "আপডেট: রাত ১.৫৭\n",
      "\n",
      "পরিস্থিতি শান্ত। আমরা আলহামদুলিল্লাহ সবাই সেইফ আছি। তবে সবাই সতর্ক আছি। সকল ধরনের প্রস্তুতি আমাদের আছে। আপনারা চিন্তা করবেন না। আপনাদের দোয়া আর ভালোবাসার জন্য আমরা অন্তরের অন্তস্তল থেকে কৃতজ্ঞ। \n",
      "\n",
      "জাবি\n",
      "\n",
      "\n",
      "ঢাবি ছাত্রলীগ সভাপতি শয়নের রুম ভাঙচুর। সূর্য সেন হল থেকে........\n",
      "\n",
      "\n",
      "media_image\n",
      "\n",
      "\n",
      "\n",
      "টিভিতে যাদের হল ছাড়তে দেখেছেন,\n",
      "ওরা বেইমান, এত আন্দোলনের মাঝে ওরা আগেও রুম থেকে বের হয়নি, যে ভাইয়েরা আন্দোলন করেছে,তারা হল ছাড়ছে না,আর তাদের সংখ্যা অনেক অনেক বেশী...\n",
      "\n",
      "\n",
      "media_image\n",
      "ঢাবির সব হল থেকে মোটামুটি ছাত্রলীগদের পিটিয়ে বের করে দিয়েছে সাধারণ শিক্ষার্থীরা।\n",
      "\n",
      "\n",
      "এখন পর্যন্ত সন্ত্রাস-শুয়োর মুক্ত হল:\n",
      "\n",
      "১. জহু হল।\n",
      "২. একুশে হল।\n",
      "৩. শহীদুল্লাহ হল।\n",
      "৪. এফ এইচ হল।\n",
      "৫. মুহসীন হল।\n",
      "৬. রোকেয়া হল।\n",
      "৭. শামসুন নাহার হল।\n",
      "৮. কুয়েত-মৈত্রী হল।\n",
      "৯. ফজিলাতুন্নেছা মুজিব হল।\n",
      "১০. সুফিয়া কামাল হল।\n",
      "১১. বঙ্গবন্ধু হল।\n",
      "১২. জিয়া হল।\n",
      "\n",
      "আপডেট:\n",
      "১৩. সূর্যসেন হল\n",
      "\n",
      "\n",
      "media_image\n",
      "\n",
      "\n",
      "\n",
      "আগে কখনো ভেবেছেন সাধারন শিক্ষার্থীরা ছাত্রলীগের কর্মীদের গায়ে হাত দিবে বা তাদের হল থেকে বের করে দেওয়ার মত দু:সাহস দেখাবে। এই যে একটা রীতি আপনাদের কারনে চালু হলো এটা খুবই ভয়াবহ  হবে ছাত্রলীগের জন্য ভবিষ্যতে । \n",
      "এর পিছনে দায়ী আপনারই মুক্তিযুদ্ধের  চেতনা বেঁচে আর কত খাবেন। কথায় কথায় বিএনপি  জামাত ট্যাগ দিয়ে আর কতজনকে দবায় রাখবেন।দেওয়ালে পিঠ ঠেকে গেলে এভাবেই মানুষ প্রতিরোধ গড়ে তোলে।লেবু বেশি চিপলে ফলাফল একটাই তেতো হবেই। \n",
      "\n",
      "আওয়ামী হাই কমান্ড আপনারা বরাবরই মতই ছাত্রলীগকে ব্যবহার করলেন তাদের  পুরা জাতির কাছে ঘৃনীত  করে তুললেন। তাদের অনেকেই হল ছাড়া কিন্তু আপনারা এসির মধ্যে দিব্যি নাক ডেকে ঘুমাইতেছেন।\n",
      "same on you🙂\n",
      "\n",
      "\n",
      "media_video\n",
      "অনুমান করে জিতে নিন পুরস্কার, বলতে হবে এখানে কাকে পিটানো হচ্ছে?\n",
      "\n",
      "\n",
      "সকাল থেকে বিভিন্ন মিডিয়ায় যে দেখছেন, \"শিক্ষার্থীরা হল ছাড়ছে\" এইটা একটা গুজব ও ভূয়া নিউজ। টোকাইলীগ বাদে কেউই ক্যাম্পাস ছাড়তেছে না। যারা ক্যাম্পাস ছাড়তেছে ব্যাগ নিয়ে সব চেনা মুখের ছাত্রলীগের টোকাই।এইসব নিউজ ছড়ানো হচ্ছে আমাদের মোরাল ডাউন করার জন্য। এইসব গুজব রটনাকারী নিউজ মিডিয়া থেকে সাবধান।\n",
      "\n",
      "\n",
      "কিছু মিডিয়া গুজব ছড়াচ্ছে যে শিক্ষার্থীরা হল ছাড়ছে। অথচ সারা রাত ধরে তারা ঢাকা বিশ্ববিদ্যালয়ের হল স্বাধীন করেছে। অভিনন্দন..\n",
      "\n",
      "কমসেন্স খাটান যারা হল স্বাধীন করলো✊ তারা নাকি হল ছাড়ছে?\n",
      "\n",
      "\n",
      "media_image\n",
      "সাবাস বঙ্গবন্ধু হল, ঢাকা বিশ্ববিদ্যালয়!!!\n",
      "\n",
      "\n",
      "কার্জন হল থেকে ছাত্ররা সিনেট ভবন ঘেরাও করতে আসতেছে।যাতে আত্মঘাতী কোনো সিদ্ধান্ত নিতে না পারে।\n",
      "\n",
      "\n",
      "সিন্ডিকেট মিটিংয়ে শিক্ষার্থীদের পরিপন্থী কোন সিদ্ধান্ত নেওয়া যাবে না। সবাই সিনেটের দিকে আসুন, সিনেট ঘেরাও হবে।\n",
      "\n",
      "\n",
      "বরিশালে শিক্ষার্থীদের ঢাকা-বরিশাল মহাসড়ক অবরোধ\n",
      "\n",
      "\n",
      "media_video\n",
      "শহীদ আবু সাইদ ভাইয়ের পরিবারের বক্তব্য টা একবার শুনোন।।এর পরেও যদি মনে করেন ঘড়ে বসে থাকবেন থাকেন,আপনাদের আর কিছু বলার নাই..\n",
      "ভিডিও সব জায়গায় শেয়ার করে দিন...\n",
      "\n",
      "\n",
      "এফ রহমান হল দখল করতে গিয়ে ব্যাপক মারামারি হচ্ছে।কয়েকটা হল থেকে পোলাপান পাঠান।এটা লাস্ট হল।মাস্ট দখল করতে হবে।\n",
      "\n",
      "এটা দখল হলেই সন্ত্রাসীদের দুর্গ ভেঙে যাবে চরমভাবে।\n",
      "\n",
      "\n",
      "media_image\n",
      "ইডেনের পিও অবিভাবক 😀\n",
      "\n",
      "(ছাত্রলীগ নেত্রী)\n",
      "\n",
      "ডায়ালগ বলে যান একটা😅\n",
      "\n",
      "\n",
      "media_image\n",
      "\n",
      "\n",
      "\n",
      "media_image\n",
      "সারা বাংলাদেশের ছাত্রলীগের সভাপতি জনাব সাদ্দাম হোসেনের রুমের সর্বশেষ আপডেট জানিয়েছেন এফআর হলের শিক্ষার্থীরা। আশা করি জারুল ফুলের একটা ছোট্ট গাছ টবে করে এখানে লাগবে শিক্ষার্থীরা।\n",
      "\n",
      "\n",
      "বন্ধের সিদ্ধান্ত ছাড়াই ঢাকা বিশ্ববিদ্যালয়ের জরুরি সিন্ডিকেট সভা শেষ\n",
      "\n",
      "  \n",
      "\n",
      "\n",
      "media_image\n",
      "ঢাকা বিশ্ববিদ্যালয়ের সূর্যসেন হলের সাংগঠনিক সম্পাদক তুষারের রুমে পাওয়া গেল দুর্লভ কিছু বস্তু। জাদুঘরে রাখা উচিত।\n",
      "\n",
      "\n",
      "গাইবান্ধায় ছাত্র বিক্ষোভ মিছিল\n",
      "\n",
      "\n",
      "media_image\n",
      "জাতির জনক বঙ্গবন্ধু হল ছাত্রলীগ মুক্ত\n",
      "\n",
      "\n",
      "ফেনীতে ছাত্রলীগের সাথে কোটা বিরোধী শিক্ষার্থীদের সংঘর্ষ\n",
      "\n",
      "\n",
      "media_video\n",
      "ইডেন কলেজের বঙ্গমাতা হলের একটি কক্ষ থেকে দেশীয় অস্ত্র উদ্ধার\n",
      "\n",
      "\n",
      "বয়কট খুব শক্তিশালী জিনিস..\n",
      "মানুষ ছাত্রলীগ যেভাবে বয়কট করা শুরু করছে,কখন জানি শুনি সরকার বয়কট শুরু করে..\n",
      "\n",
      "\n",
      "media_image\n",
      "সিন্ডিকেটের বাইরে শিক্ষার্থীদের অবস্থান\n",
      "\n",
      "ঢাবি হল ভ্যাকেন্ট দেয় নাই। জাবি দিলেও আমরা মানবো না\n",
      "\n",
      "\n",
      "media_image\n",
      "Data temporarily turned off by operator 🙂\n",
      "\n",
      "জাবিতে মোবাইল ডাটা অফ করে দিয়েছে.. কল দিয়ে দিয়ে আপডেট জানায় দেওয়া হবে আপনাদের\n",
      "\n",
      "\n",
      "এই মুহুর্তে ঢাকা বিশ্ববিদ্যালয়ে এমন কারো বুকের পাঠা নেই যে সাধারণ ছাত্রদের সাথে লাগতে আসবে।পুরো বিশ্ববিদ্যালয় আবার নতুন করে স্বাধীন হলো।\n",
      "\n",
      "\n",
      "media_image\n",
      "ইনান-সাদ্দাম-শয়নের পর..\n",
      "\n",
      "ঢাকা বিশ্ববিদ্যালয় ছাত্রলীগের সাধারণ সম্পাদক তানভীর হাসান সৈকত রুমের অবস্থা।\n",
      "\n",
      "\n",
      "৭১ এর প্রতিটা জেলা স্বাধীন হওয়ার মতোন, ঢাবির প্রতিটা হলের স্বাধীন হওয়ার ফিল পাচ্ছি!🔥\n",
      "\n",
      "\n",
      "media_image\n",
      "\n",
      "\n",
      "\n",
      "media_image\n",
      "\n",
      "\n",
      "\n",
      "media_image\n",
      "\n",
      "\n",
      "\n",
      "media_image\n",
      "ময়মনসিংহ জংশন...  রেললাইন অবরোধ \n",
      "১২.১২\n",
      "\n",
      "\n",
      "media_image\n",
      "\n",
      "\n",
      "\n",
      "media_image\n",
      "\n",
      "\n",
      "\n",
      "media_image\n",
      "\n",
      "\n",
      "\n",
      "জাবি হল ভ্যাকেন্ট\n",
      "\n",
      "রেজিস্ট্রার ভবন ভাঙচুর করছে শিক্ষার্থীরা\n",
      "\n",
      "\n",
      "media_image\n",
      "\n",
      "\n",
      "\n",
      "গাইবান্ধা উত্তপ্ত\n",
      "আওয়ামীলীগের পার্টি অফিস পুড়িয়ে দিছে ছাত্ররা।\n",
      "\n",
      "\n",
      "media_image\n",
      "রাজশাহী বিশ্ববিদ্যালয়ের প্রশাসনিক ভবন ঘেরাও করছে সাধারণ শিক্ষার্থীরা।\n",
      "\n",
      "\n",
      "ক্যাম্পাসে পুলিশ ঢুকছে আপনারা দ্রুত বের হয়ে আসেন প্লিজ...\n",
      "\n",
      "জাবি\n",
      "\n",
      "\n",
      "ব্রেকিং নিউজ \n",
      "পদ্মা সেতু ব*ন্ধ করে দিয়েছে মুন্সিগঞ্জ ও শরীয়তপুরের শিক্ষার্থীরা।\n",
      "\n",
      "\n",
      "অনির্দিষ্টকালের জন্য বন্ধ ঘোষণা ঢাবি।\n",
      "সন্ধ্যার মধ্যে হল ছাড়ার নির্দেশ।\n",
      "\n",
      "\n",
      "বিকেল চারটার মধ্যে হল ত্যাগের নির্দেশ জবি প্রশাসনের।\n",
      "\n",
      "\n",
      "media_image\n",
      "\n",
      "\n",
      "\n",
      "শহীদ ভাইদের জানাযায় বেশি সময় নেই। সবাই রাজুতে চলে আসুন। ঢাকায় যারা আছেন রাজুতে আসুন।\n",
      "\n",
      "\n",
      "৫ গাড়ি পুলিশ এসেছে। শহিদ মিনার-মুরাদ চত্ত্বর এলাকায় জমায়েত হয়েছে শত শত শিক্ষার্থী। মাইকে ঘোষণা করছে আমরা হল ভ্যাকেন্ট মানি না। \n",
      "\n",
      "\n",
      "\n",
      "\n",
      "ঢাবি ক্যাম্পাসে একাধিক র্যারের গাড়ি প্রবেশ.\n",
      "\n",
      "\n",
      "\n",
      "\n",
      "আপডেটঃ\n",
      "যারা হলে থাকতে চায় তারা থাকতে পারবে আর যারা চায় না তারা চলে যেতে পারবে। গ্যাস, পানি, বিদ্যুৎ স্বাভাবিক থাকবে- প্রাধ্যাক্ষ , জবি ছাত্রী হল।\n",
      "\n",
      "\n",
      "\n",
      "\n",
      "ঢাকার যে যেখানে আছেন, স্বাধীন ঢাকা বিশ্ববিদ্যালয়ে আমাদের শহীদ ভাইদের সম্মানে জানাযায় অংশগ্রহণ করতে আসুন।\n",
      "\n",
      "\n",
      "\n",
      "\n",
      "জাবি ক্যাম্পাসের আশেপাশে যত শিক্ষার্থী আছেন সবাই প্রস্তুত থাকুন। জাবিয়ানদের সাথে যেকোন মুহূর্তে যোগ দেয়ার জন্য বলা হতে পারে ।\n",
      "\n",
      "\n",
      "\n",
      "\n",
      "media_image\n",
      "পাল্টা নোটিশ প্রদান করা হয়ে হয়েছে ঢাবি প্রশাসন কে..\n",
      "\n",
      " \n",
      "\n",
      "\n",
      "media_image\n",
      "বর্তমান পরিস্থিতি জাবি\n",
      "  \n",
      "\n",
      "\n",
      "media_image\n",
      "\n",
      "\n",
      "\n",
      "media_image\n",
      "জগন্নাথ বিশ্ববিদ্যালয় নৃবিজ্ঞান বিভাগের সহকারী অধ্যাপক কামরুন্নাহার লিপিকে বয়কট করেছে বিভাগের শিক্ষার্থীরা। এই শিক্ষকের সকল ক্লাস বর্জন সহ বিভাগে প্রবেশেও নিষেধাজ্ঞা দিয়েছে শিক্ষার্থীরা।\n",
      "\n",
      "  \n",
      "\n",
      "\n",
      "media_image\n",
      "\n",
      "\n",
      "\n",
      "media_image\n",
      "watch tower\n",
      "\n",
      "\n",
      "\n",
      "২ ঢাবি শিক্ষার্থীকে শাহবাগ থানা থেকে মুক্ত করে আনলেন শিক্ষকরা\n",
      "\n",
      "   \n",
      "\n",
      "\n",
      "media_image\n",
      "জবি হল প্রভোস্টের রুমে তালা.....\n",
      "\n",
      "\n",
      "\n",
      "\n",
      " \n",
      "\n",
      "\n",
      "media_image\n",
      "\n",
      " \n",
      "\n",
      "\n",
      "জাবিতে মুখোমুখি অবস্থানে পুলিশ ও আন্দোলনকারীরা\n",
      " \n",
      "\n",
      "\n",
      "গণ বিশ্ববিদ্যালয় \n",
      "ডেফোডিল বিশ্ববিদ্যালয় \n",
      "সাভার সরকারি কলেজ\n",
      "জাবি স্কুল এন্ড কলেজ\n",
      "ধামরাই কলেজ\n",
      "সাভার মডেল কলেজ\n",
      "মির্জা কলেজ \n",
      "BPATC স্কুল এন্ড কলেজে এবং অন্যান্য সকল শিক্ষাপ্রতিষ্ঠানের ভাইয়েরা এখন জাবি ক্যাম্পাসে তোমার দরকার   । তোমাদের সাহায্য লাগবে আমাদের..\n",
      "\n",
      "  \n",
      "\n",
      "\n",
      "আনন্দমোহন কলেজে ছাত্রলীগ হামলা চালিয়েছে সাধারণ শিক্ষার্থীর উপর। \n",
      "আশেপাশে যারা আছেন দ্রুত তাদেরকে সহায়তা করুন 🙏\n",
      "\n",
      "   \n",
      "\n",
      "\n",
      "media_image\n",
      "শুভ দুপুর ব্রাহ্মণবাড়িয়া।\n",
      "\n",
      "বাঘিনিরা শুরু করেছিলো সকাল\n",
      "বাঘরা রাঙিয়েছে দুপুর। ✊\n",
      "  \n",
      "\n",
      "\n",
      "media_image\n",
      "\n",
      "\n",
      "\n",
      "media_image\n",
      "\n",
      "\n",
      "\n",
      "media_image\n",
      "\n",
      "\n",
      "\n",
      "media_image\n",
      "জগন্নাথ বিশ্ববিদ্যালয় আন্দোলনকারীরা..\n",
      "https://t.me/antiquotadu\n",
      "   \n",
      "\n",
      "\n",
      "বরিশালের চৌমাথায় শিক্ষার্থীদের সাথে পুলি-শের সংঘ-র্ষ  চলছে!\n",
      "দুপুর ২:৩০\n",
      "\n",
      "  \n",
      "\n",
      "\n",
      "media_video\n",
      "নিজ উদ্যোগে স্কুল কলেজের ছেলেরা..\n",
      "ঘাটাইল, টাংগাইল\n",
      "  \n",
      "\n",
      "\n",
      "media_video\n",
      "সর্বশেষ: জাবিতে কোন হা%ম%লা হয় নি শেষ পর্যন্ত । কেউ গু-জ-বে কান দিবেন না। পুলিশ, আন্দোলনকারী সবাই রেস্ট নিচ্ছে।\n",
      "\n",
      "   \n",
      "\n",
      "\n",
      "media_video\n",
      "সিলেটে বন্দর ও জিন্দাবাজার এলাকায় পুলিশ সিআরটি র সাথে ছাত্রদের সংঘর্ষ, পুলিশের গুলি বর্ষন।\n",
      "\n",
      "    https://t.me/antiquotadu\n",
      "   \n",
      "\n",
      "\n",
      "ব্রেকিং নিউজ 📣\n",
      "পদ্মা সেতু ব*ন্ধ করে দিয়েছে মুন্সিগঞ্জের শিক্ষার্থীরা। 🔥..\n",
      "\n",
      "  https://t.me/antiquotadu    \n",
      "\n",
      "\n",
      "গায়েবানা জানাজা শেষ হলো। আন্দোলন আবার শুরু। প্রথম দাবি ১২ ঘন্টার মধ্যে জগন্নাথ বিশ্ববিদ্যালয়ে ছাত্র রাজনীতি বন্ধের বিজ্ঞপ্তি প্রকাশ করতে হবে।\n",
      "\n",
      "      \n",
      "\n",
      "\n",
      "media_video\n",
      "কোটা সংস্কার আন্দোলন (দুপুর ২:৪০ বুধবার) 😰😰\n",
      "্রাহ্মনবাড়িয়া       \n",
      "\n",
      "\n",
      "media_video\n",
      "হল ছাড়ছেন না রাজশাহী বিশ্ববিদ্যালয়ের শিক্ষার্থীরা।\n",
      "হলে হলে দূর্গ গড়ে তোলার আহ্বান সাধারণ শিক্ষার্থীদের।\n",
      "      \n",
      "\n",
      "\n",
      "media_image\n",
      "তাকে কিছু বলে যান\n",
      "      \n",
      "\n",
      "\n",
      "media_video\n",
      "মাওয়া টোল প্লাজায় ছাত্র পুলিশ সংঘর্ষ মুন্সিগঞ্জ\n",
      "\n",
      "      \n",
      "\n",
      "\n",
      "media_image\n",
      "এম্নে মেরুদণ্ড সোজা রেখে কথা বলতে শিখো পিও\n",
      "\n",
      "      \n",
      "\n",
      "\n",
      "media_image\n",
      "ভাইয়েরা প্লিজ কেউ হল ছাড়বেন না, আমরা একদম বিজয়ের সন্নিকটে অবস্থান করছি। ঢাবির সবগুলো হল থেকে ছাত্রলীগকে বিতাড়িত করেছি। এখন যদি সবাই হল ছেড়ে দেই, আমার শহীদ ভাইদের কাছে কী জবাব দিবো!? আছে কোনো জবাব!!?      \n",
      "\n",
      "\n",
      "media_video\n",
      "আমাদের সহযোগিতায় এগিয়ে আসুন, ঢাকায় আন্দোলনরত সকল শিক্ষার্থী ও জনতাকে আহ্বান জানাচ্ছি। বিকেলে ঢাবির দিকে অগ্রসর হোন।\n",
      "\n",
      "      \n",
      "\n",
      "\n",
      "media_image\n",
      "পাল্টা নোটিশ প্রদান করা হয়ে হয়েছে - জাহাঙ্গীরনগর বিশ্ববিদ্যালয়\n",
      "প্রশাসন কে..\n",
      "\n",
      "      \n",
      "\n",
      "\n",
      "media_image\n",
      "ছাত্রীদের দাবির মুখে হল খোলা রাখতে বাধ্য হলো জগন্নাথ বিশ্ববিদ্যালয় প্রশাসন।\n",
      "\n",
      "      \n",
      "\n",
      "\n",
      "media_image\n",
      "জগন্নাথ বিশ্ববিদ্যালয় প্রশাসনের প্রতি সাধারণ শিক্ষার্থীদের জরুরি বিজ্ঞপ্তি।\n",
      "\n",
      "      \n",
      "\n",
      "\n",
      "media_image\n",
      "কুইজ ভাইয়া ও আপুরা\n",
      "\n",
      "পারলে গিফট আছে।\n",
      "\n",
      "কান ধরল কেন এরা?\n",
      "\n",
      "      \n",
      "\n",
      "\n",
      "media_image\n",
      "রোকেয়া বিশ্ববিদ্যালয় ২ নং গেট এবং পার্কের মোড়ের নাম পরিবর্তন করে রাখা হয়েছে - শহীদ আবু সাঈদ ভাইয়ের নামে\n",
      "      \n",
      "\n",
      "\n",
      "media_image\n",
      "\n",
      "\n",
      "\n",
      "media_image\n",
      "আজকেও কোটা সংস্কার আন্দোলনে উত্তাল চাঁদপুর। \n",
      "      \n",
      "\n",
      "\n",
      "media_image\n",
      "\n",
      "\n",
      "\n",
      "media_image\n",
      "যে শহীদ আবু সাঈদ কে গুলি করেছিল এর বাসা আমাদের লালমনিরহাট জেলার পাটগ্রাম থানার আউলিয়ার হাট এলাকার, শ্রীরামপুর ইউনিয়ন ৫ নং ওয়াড।\n",
      "\n",
      "চিনে রাখুন এই ঘাতক সন্ত্রাসী কে।\n",
      "\n",
      "      \n",
      "\n",
      "\n",
      "media_image\n",
      "রক্তক্তা শেরপুর\n",
      "\n",
      "      \n",
      "\n",
      "\n",
      "media_video\n",
      "গণজোয়ারে ভাসছে.ইসলামী বিশ্ববিদ্যালয়, কুষ্টিয়া\n",
      "\n",
      "      \n",
      "\n",
      "\n",
      "শিক্ষার্থীদের তোপের মুখে সিদ্ধান্ত বদল শাবিপ্রবির, হল ছাড়তে বাধ্যবাধকতা নেই।\n",
      "\n",
      "      \n",
      "\n",
      "\n",
      "media_video\n",
      "এই মুহুর্তের আপডেট: \n",
      "মুরাদে অবস্থান নিয়ে স্লোগান দিচ্ছে জাবিয়ান বোনেরা। \n",
      "\n",
      "এখনো মুরাদ-চত্ত্বর শহিদ মিনার এলাকায় অবস্থান করছে আন্দোলনকারীরা। এখনো অবরুদ্ধ ভিসি প্রক্টরসহ প্রশাসনের কর্তাব্যক্তিরা। \n",
      "\n",
      "      \n",
      "\n",
      "\n",
      "media_video\n",
      "বদরুন্নেসা কলেজে ছাত্রলীগ নেত্রীদের বেধে রেখেছে ছাত্রীরা\n",
      "\n",
      "      \n",
      "\n",
      "\n",
      "media_image\n",
      "সাধারণ শিক্ষার্থীদের ছয় দফা দাবি..\n",
      "\n",
      "      \n",
      "\n",
      "\n",
      "media_image\n",
      "বৈষম্য বিরোধী আন্দোলনে শহীদ সকল ভাইদের গায়েবানা জানাজা চলছে।\n",
      "ভিসি চত্ত্বর, ঢাকা বিশ্ববিদ্যালয়।\n",
      "\n",
      "      \n",
      "\n",
      "\n",
      "media_image\n",
      "\n",
      "\n",
      "\n",
      "media_video\n",
      "শিক্ষার্থীদের তোপের মুখে ক্যাম্পাস ছাড়তেছে বিজিবি।\n",
      "\n",
      "      \n",
      "\n",
      "\n",
      "media_video\n",
      "আমরা জানাজার নামাজ শেষে কফিন মিছিল নিয়ে রাজু ভাস্কর্যের দিকে যাচ্ছিলাম। আমাদেরকে পুলিশ+ বিজিবি স্যান্ডুইচ করে আমাদের উপর রাবার বুলেট, সাউন্ড গ্রেনেড আর টিয়ারশেল মেরেছে। শয়ে শয়ে টিয়ারশেল মেরেছে, রাবার বুলেট মেরেছে। আমার হাজার ভাই আহত, শত বোন আহত, অনেকেরই হাতপা ভেঙে গেছে, অনেকগুলো ভাইবোন সেন্সলেস। আমি নিজের চোখে ১০ এর অধিক সাংবাদিককে আহত হতে দেখেছি। দু'জন নারী সাংবাদিকদের অবস্থা আশঙ্কাজনক। ঢাকার যে যেখানে আছেন সবাই ঢাকা বিশ্ববিদ্যালয়ে আসেন, আমাদেরকে বাচান। বাংলাদেশের সকল জেলাশহর, সকল শিক্ষা প্রতিষ্ঠানে দেসগের আপামর জনসাধারণ রাস্তায় নেমে আসুন। মুক্তি নয় মৃত্যু\n",
      "\n",
      "      \n",
      "\n",
      "\n",
      "আবারো রণক্ষেত্র ঢাকা বিশ্ববিদ্যালয়\n",
      "\n",
      "\n",
      "media_video\n",
      "আবারো রণক্ষেত্র ঢাকা বিশ্ববিদ্যালয়..\n",
      "\n",
      "চারদিকে শুধু গুলির শব্দ।।\n",
      "\n",
      "      \n",
      "\n",
      "\n",
      "media_video\n",
      "রাজু ভাস্কর্যের সামনে সাংবাদিকদের উদ্দেশ্য করে সাউন গ্রে নে ড ছোড়ে পুলিশ! সাংবাদিকদের উদেশ্য করে  কেন এমন হলো হলো, জবাব চাইতে গেলে পুলিশ কোন উত্তর না দিয়ে আবারো গ্রে নে ড ছো'ড়ে পুলিশ!\n",
      "      \n",
      "\n",
      "\n",
      "media_image\n",
      "প্রথমে দায়িত্ব দিলো ছাত্রলীগকে। তারা পারলো না তাই এখন পুরো আওয়ামীলীগকে লেলিয়ে দিচ্ছে এই দেশবিরোধী পিশাচ। ছাত্রদের আন্দোলনে তাদের কর্মীদের জড়িত করছে। ছাত্রদের রক্ষা করতে, দেশের স্বাধীনতার পুনরুদ্ধারে তাই এখন সমগ্র দেশবাসীকে এগিয়ে আসতে হবে। শক্ত অবস্থান নিতে হবে পুরো জাতিকে।\n",
      "\n",
      "      \n",
      "\n",
      "\n",
      "রণক্ষেত্রে পরিনত হয়েছে ঢাকা বিশ্ববিদ্যালয় ক্যাম্পাস।টিয়ারগ্যাস আর বুলেটে আহত শত শত ছাত্র ছাত্রী। অনেকে সেন্সলেস।\n",
      "\n",
      "      \n",
      "\n",
      "\n",
      "ঢাকা বিশ্ববিদ্যালয়ের ক্যাম্পাসে ইন্টারনেট  ডাউন।..\n",
      "\n",
      "\n",
      "      \n",
      "\n",
      "\n",
      "ফেইসবুক গ্রুপ সহ ঢাকা বিশ্ববিদ্যালয় কেন্দ্রিক যত পেইজ আছে,আপাতত কোন আপডেট ঐ খান থেকে পাবেন না। সংবাদ কর্মী দের সাউন্ড গ্রেনেড হামলা করেছে,তারা সরে গিয়েছে।\n",
      "\n",
      "আল্লাহ জানে ওরা কি মিশন নিয়ে নামতে যাচ্ছে।\n",
      "\n",
      "সকল আপডেট ফোন করে এখানে লিখে জানানো হবে,\n",
      "\n",
      "আমাদের সাথেই থাকুক  \n",
      "\n",
      " \n",
      "\n",
      "\n",
      "media_video\n",
      "      \n",
      "\n",
      "\n",
      "অন্য দিকে Update:।\n",
      "\n",
      "জাবিতে পুলিশের হাম★লা চলছে। প্রচুর রাবার বু-লে*ট মা*রতে**ছে।  শিক্ষার্থীদের মুরাদ চত্ত্বর থেকে দূরে সরিয়ে দিয়েছে। \n",
      "\n",
      "      \n",
      "\n",
      "\n",
      "media_video\n",
      "জাবি আবার আক্রান্ত \n",
      "চারদিক থেকে এগিয়ে আসুন..\n",
      "\n",
      "      \n",
      "\n",
      "\n",
      "media_video\n",
      "সাবেক ডাকসু নেতা আখতারকে তুলে নিয়ে গেছে পুলিশ\n",
      "\n",
      "      \n",
      "\n",
      "\n",
      "media_image\n",
      "রণক্ষেত্রে পরিনত ঢাবি,এর শেষ কোথায়?\n",
      "\n",
      "\n",
      "ক্যাম্পাসে কলাভবন, টিএসসি এলাকায় পুলিশ টিয়ারসেল, রাবার বুলেট ছুড়ছে! ওখানে কোনো নেট কাজ করছেনা।\n",
      "      \n",
      "\n",
      "\n",
      "media_image\n",
      "- সাইদ, আসিফ ওয়াসিম, আদনান!\n",
      "- আচ্ছা, তারপর? আরে থামলে কেন!\n",
      "      \n",
      "\n",
      "\n",
      "media_video\n",
      "      \n",
      "\n",
      "\n",
      "আমাদের টিয়ারগ্যাস মারছে। আমাদের নিশ্বাস বন্ধ হয়ে আসতেছিলো সবার।\n",
      "আমরা বঙ্গবন্ধু হলে আটকে আছি।\n",
      "\n",
      "      \n",
      "\n",
      "\n",
      "কারবালার প্রকৃত দৃশ্যের অবতারণা হয়েছে ঢাকা বিশ্ববিদ্যালয় ক্যাম্পাসে!\n",
      "\n",
      "      \n",
      "\n",
      "\n",
      "media_image\n",
      "গুলিবিদ্ধ শিক্ষার্থী JU\n",
      "\n",
      "      \n",
      "\n",
      "\n",
      "media_video\n",
      "ঢাকা বিশ্ববিদ্যালয়কে একমুহুর্তেই রণক্ষেত্র বানিয়ে ফেললো ওরা।\n",
      "      \n",
      "\n",
      "\n",
      "media_video\n",
      "From: Jahangirnagar University\n",
      "\n",
      "      \n",
      "\n",
      "\n",
      "media_image\n",
      "JU\n",
      "পুলিশ আতর্কিতে হামলা চালাইছে। \n",
      "সমানে টিয়ারশেল ছূড়তেছে। কোনো মতেই রাবার বুলেট টিয়ারশেল ছোড়া বন্ধ করতেছে না।\n",
      "জল কামান ছুড়তেছে সমানে।\n",
      "অলরেডি আহত হইতেছে। \n",
      "\n",
      "পুরো ক্যাম্পাসে পুলিশ ছড়ায় গেছে। \n",
      "স্ক্যাম্পাসে কারেন্ট নেট কিচ্ছু নেই।\n",
      "যে যতো পারেন, হ্যাগ ট্যাগ দেন। \n",
      "\n",
      "নতুন কলা, কেমীস্ট্রী আটকে পড়ে আছে। তারা সাহায্য চাচ্ছে।\n",
      "      \n",
      "\n",
      "\n",
      "ঢাকা কলেজ, ইডেন কলেজ, সিটি কলেজ, শেখ বোরহানউদ্দিন কলেজ এর শিক্ষার্থীরা অতি শীঘ্রই ঢাবিতে চলে আসুন। পরিস্থিতি খুব ভয়াবহ 🥲\n",
      "      \n",
      "\n",
      "\n",
      "সাউন্ড গ্রে*নে*ড মারতেসে এখন\n",
      "\n",
      "আবাসিক বিশ্ববিদ্যালয়! বাহ!\n",
      "\n",
      "      \n",
      "\n",
      "\n",
      "আপনারা দয়া করে ঢাকা বিশ্ববিদ্যালয়ের দিকে আসেন। সবাই প্লিজ না হয় গণ কবর দিতে হবে কিছু সময় পরে!!\n",
      "\n",
      "      \n",
      "\n",
      "\n",
      "media_image\n",
      "শাবিপ্রবিতে হল তল্লাসি করে পাওয়া গেলো খাতা-কলম।\n",
      "      \n",
      "\n",
      "\n",
      "১৯৭১ সালে  বাঙালিরা যখন পাকহানাদার বাহিনীর বিরুদ্ধে যুদ্ধ করেছিল  তখনো তারা  অস্ত্র ব্যবহার করেছিল  কিন্তু এই যুদ্ধে  নিরস্ত্র  সাধারণ শিক্ষার্থীরা কি করতে পারবে?    এখানে শুধু  মরতেই হবে...\n",
      "\n",
      "      \n",
      "\n",
      "\n",
      "জাবিতে ইন্টারনেট ব্ল্যাক আ্উট করে দিয়ে পুলিশের মুর্হূ মুহু গু/লি চলছে । জাবি প্রক্টর ভিসি শিক্ষকদের উদ্দেশ্যে একটা কথা স্পষ্ট করে বলতে চাই। পুলিশ চলে যাবে আপনাদেরকে কিন্তু পানধোয়া, ইসলাম নগর, ধামরাই সাথে নিয়ে থাকতে হবে। একটা ছেলে মেয়ের কিছু হলে বিশ্ববিদ্যালয় এলাকায় চাকরি করে কেমনে খান, স্থানীয় জনগণ দেখে নিবে ।\n",
      "      \n",
      "\n",
      "\n",
      "সর্বশেষ আপডেট \n",
      "সমন্বয়কদেরকে পুলিশ নিয়ে গেছে \n",
      "প্রত্যেক হলে সিনিয়র ভাইদের মধ্য থেকে সমন্বয়ক নির্বাচন করুন দ্রুত \n",
      "তাড়াতাড়ি লাইভে এসে হল না ছাড়ার অনুরোধ করুন\n",
      "\n",
      "      \n",
      "\n",
      "\n",
      "media_image\n",
      "ধিক্কার  শিক্ষকরুপি জানোয়ারদের,  প্রক্টর নির্দেশগুলি  গুলি চলছে   জাহাঙ্গীরনগর বিশ্ববিদ্যালয়\n",
      "      \n",
      "\n",
      "\n",
      "media_image\n",
      "\n",
      "\n",
      "\n",
      "ঢাবির অবস্থা থমথমে।\n",
      "বাহিরে ছাত্রলীগ, ভিতরে সাধারণ ছাত্ররা।\n",
      "বের হতে গেলেই মা*ইর দিচ্ছে।\n",
      "\n",
      "      \n",
      "\n",
      "\n",
      "আম্মু যে একটা স্ক্রিপ্ট দেইখা নাটক দেখাইলো উনি একটা অস্কার পেতেই পারেন। অনেক চেষ্টা করছে চোখে পানি আনার, কিন্তু আসে নাই। \n",
      "      \n",
      "\n",
      "\n",
      "এই মুহূর্তের আপডেট: জাবি\n",
      "মুরগি চত্ত্বরে অবস্থানরত পু*লিশদের ধাওয়া দিয়ে পাঠিয়ে দেয়া হয়েছে। এখন আশেপাশে পু*লিশ নেই। এখন শিক্ষার্থীরা মুরাদ চত্ত্বরে অবস্থান করছেন। এক রণক্ষেত্র বানিয়ে দিয়ে গেলো এরা।\n",
      "      \n",
      "\n",
      "\n",
      "কেন্দ্র থেকে আপডেট  সারা বাংলাদেশের জন্য\n",
      "\n",
      "শিক্ষার্থীদের শান্তিপূর্ণ আন্দোলনে উপর পুলিশ, বিজিবি, র‍্যাব, সোয়াটের ন্যাক্কারজনক হামলা, খুনের প্রতিবাদ, খুনিদের বিচার, সন্ত্রাসমুক্ত ক্যাম্পাস নিশ্চিত ও এক দফা দাবিতে আগামীকাল ১৮ই জুলাই সারাদেশে \"কমপ্লিট  শাটডাউন\" ঘোষণা করছি। \n",
      "শুধুমাত্র হাসপাতাল ও জরুরি সেবা ব্যতীত কোন প্রতিষ্ঠানের দরজা খুলবে না, এ্যাম্বুলেন্স ব্যতীত সড়কে কোন গাড়ি চলবে না। সারাদেশের প্রতিটি স্কুল, কলেজ, বিশ্ববিদ্যালয়, প্রাইভেট বিশ্ববিদ্যালয়, মাদরাসা শিক্ষার্থীদের আহ্বান জানাচ্ছি আগামীকালকের কর্মসূচি সফল করুন। \n",
      "আমাদের অভিভাবকদের বলছি, আমরা আপনাদেরই সন্তান। আমাদের পাশে দাঁড়ান, রক্ষা করুন। এই লড়াইটা শুধু ছাত্রদের না, দলমত নির্বিশেষে এদেশের আপামর জনসাধারণের। \n",
      "বৈষম্যবিরোধী ছাত্র আন্দোলন।\n",
      "\n",
      "      \n",
      "\n",
      "\n",
      "ঢাবি আপডেট। \n",
      "গুজব থেকে সাবধান হোন,  অনেক পেইজে দিচ্ছে শত শত জনতা ঢাবিতে আসছে আর পুলিশ ধাওয়া খেয়েছে, আমি আবার বলতেছি ঢাবিতে এখনো কেউ আসেনি। ঢাবি এখনো রণক্ষেত্র। \n",
      "গুজব এডিয়ে চলুন।\n",
      "\n",
      "\n",
      "      \n",
      "\n",
      "\n",
      "media_image\n",
      "জাবির শিক্ষক \n",
      "\n",
      "      \n",
      "\n",
      "\n",
      "media_video\n",
      "পুলিশ যখন শিক্ষার্থীদের উপর গুলি বর্ষন করে রক্তাক্ত করছে তখন কিছু কুলাঙ্গার শিক্ষক উপাচার্যসহ, যারা  নতুন রেজিস্টারে বিরিয়ানি খাবে। তাদের জন্য গাড়িতে করে বিরিয়ানি নিয়ে আসা হয়েছে।\n",
      "\n",
      "      \n",
      "\n",
      "\n",
      "ঢাবি আপডেট। \n",
      "ক‌্যাম্পাস প‌রি‌স্থি‌তি এখন স্বাভা‌বিক।\n",
      "\n",
      "      \n",
      "\n",
      "\n",
      "media_image\n",
      "আমার ভাইয়ের বুক ঝাজড়া কর ফেলা হইসে। \n",
      "শাকিল (ইতিহাস ৪৮) এর অবস্থা আশঙ্কাজনক। ওকে ওটি থেকে আইসিইউ তে নেয়া হয়েছে। সবাই দোয়া করবেন। \n",
      "      \n",
      "\n",
      "\n",
      "media_image\n",
      "\n",
      "\n",
      "\n",
      "media_image\n",
      "সকল স্তরের মানুষ, শিক্ষার্থী, জনতা, গ্রাম থেকে শহর, সবাই রাস্তায় নেমে আসুন\n",
      "যারা যারা যু'দ্ধে যাওয়ার জন্য ফি'লি'স্তি'ন যাওয়ার ইচ্ছে করতেন তাদের সামনে একটা ভাল সুযোগ এসেছে। আগামীকাল সবাই নেমে আসুন। \n",
      "      \n",
      "\n",
      "\n",
      "media_video\n",
      "কোনো সর্তক বার্তা না দিয়েই অতর্কিতভাবে সাধারণ শিক্ষার্থীদের উপর পুলিশের হা*ম*লা!\n",
      "আমার ভাইবোনদের কিছু হলে এর দ্বায় এই নতজানু প্রশাসনকেই নিতে হবে। কার নির্দেশে, কি অপরাধে আমাদের উপর হামলা??\n",
      "\n",
      "      \n",
      "\n",
      "\n",
      "আজকে আমার সম্মানিত শিক্ষক মহোদয়দের উপহার:\n",
      "১. শান্তিপূর্ণভাবে অবস্থান করা শিক্ষার্থীদের উপর উপুর্যুপরি গু*লি চালানো হয়েছে কোন উস্কানি ছাড়াই। \n",
      "২. বঙ্গবন্ধু হলের ভেতরে পর্যন্ত টিয়ারগ্যায়া মারা হইসে।\n",
      "৩. চতুর্দিক থেকে শিক্ষার্থীদেরর ঘিরে ফেলা হইসিলো।\n",
      "৪. বাদ যায় নাই একাডেমিক ভবন, নতুন কলাও। এর ভেতরে টিয়ারগ্যাস মারা হইসে। \n",
      "৫. ক্যাম্পাসের ভেতর সাউন্ড গ্রে*নে*ড মারা হইসে। \n",
      "৬. হ%তা%হ%তের সংখ্যা আনুমানিক দুই শতাধিক। গুরুতর আ%হত আমরা অনুমান করছি ৫০+। \n",
      "সবকিছুর জন্য ধন্যবাদ আপনাদের 😊\n",
      "\n",
      "      \n",
      "\n",
      "\n",
      "ব্রেকিং..\n",
      "\n",
      "রাবি ক্যাম্পাসে ছাত্র রাজনীতি স্থগিত\n",
      "- উপাচার্য\n",
      "\n",
      "      \n",
      "\n",
      "\n",
      "media_image\n",
      "University of Dhaka.\n",
      "17 July, 2024.\n",
      "      \n",
      "\n",
      "\n",
      "media_video\n",
      "এভাবেই আজকে পুলিশদের হাত থেকে রক্ষা পেতে টিনের ঢাল তৈরি করেছিলো..\n",
      "BEYOND BARRICADE.\n",
      "\n",
      "📍Jahangirnagar\n",
      "\n",
      "      \n",
      "\n",
      "\n",
      "media_video\n",
      "রাবিতে পুলিশের এট্যাক, আতংকে শিক্ষার্থীরা..\n",
      "\n",
      "\n",
      "\n",
      "      \n",
      "\n",
      "\n",
      "media_video\n",
      "বর্তমানে জাহাঙ্গীরনগর_বিশ্ববিদ্যালয়ের পুলিশের অবস্থা ….\n",
      " \n",
      "      \n",
      "\n",
      "\n",
      "media_image\n",
      "ঢাকা বিশ্ববিদ্যালয়।\n",
      "শিক্ষার্থীদের উপর আজকে যা ঘটেছে।\n",
      "১৭ জুলাই | ২০২৪\n",
      " \n",
      "      \n",
      "\n",
      "\n",
      "media_image\n",
      "\n",
      "\n",
      "\n",
      "media_image\n",
      "\n",
      "\n",
      "\n",
      "media_image\n",
      " \n",
      "      \n",
      "\n",
      "\n",
      "media_image\n",
      "দৌড়ে বের হয়ে অনেক দূর গিয়ে তিনি একটি গাড়িতে উঠেছেন।\n",
      "\n",
      " \n",
      "      \n",
      "\n",
      "\n",
      "media_video\n",
      "রাজধানীর শনির আখড়ায় ভয়াবহ সংঘর্ষের চিত্র। যেন যুদ্ধ চলছে! \n",
      "\n",
      "       \n",
      "\n",
      "\n",
      "media_image\n",
      "তামিম ইকবাল খান..\n",
      "       \n",
      "\n",
      "\n",
      "media_video\n",
      "কখনো যুদ্ধ ক্ষেত্র দেখেছেন?\n",
      "পুলিশ সড়ে যাওয়ার পর মুরাদ থেকে কামালউদ্দিন হল পর্যন্ত\n",
      "\n",
      " \n",
      "      \n",
      "\n",
      "\n",
      "media_video\n",
      "ময়মনসিংহে মশাল মিছিল বের করেছে বাংলাদেশ কৃষি বিশ্ববিদ্যালয়ের শিক্ষার্থীরা।\n",
      " \n",
      "\n",
      "      \n",
      "\n",
      "\n",
      "media_image\n",
      "হানিফ ফ্লাইওভারের টোলপ্লাজা।\n",
      "ছাত্র-ছাত্রীদের সমর্থনে রাস্তায় নেমেছেন রাজধানী ঢাকার কাজলা-শনিরআখড়া এলাকার সাধারণ মানুষ।\n",
      " \n",
      "\n",
      "      \n",
      "\n",
      "\n",
      "media_video\n",
      "জানালা দিয়ে গুলি মারছে.. \n",
      "শেখ রাসেল টাওয়ার, ঢাবি\n",
      "\n",
      " \n",
      "\n",
      "      \n",
      "\n",
      "\n",
      "media_image\n",
      "Click Here ➡️  \n",
      "          \n",
      "\n",
      "\n",
      "আপডেট।\n",
      "বুয়েটের এই দিকে গোলাগুলি চলতেছে!\n",
      "ককটেল ফুটতেছে\n",
      "\n",
      "Click Here ➡️  \n",
      "          \n",
      "\n",
      "\n",
      "শনির আখড়াই আন্দোলকারীদের সাথে এলাকাবাসী ও নেমে গেছে।\n",
      "বুঝেন কি ক্ষোভ।\n",
      "\n",
      "Click Here ➡️  \n",
      "\n",
      "          \n",
      "\n",
      "\n",
      "media_video\n",
      "একজন মেরুদণ্ড ওয়ালা স্যার..\n",
      "জাবি\n",
      "\n",
      "Click Here ➡️  \n",
      "\n",
      "          \n",
      "\n",
      "\n",
      "media_image\n",
      "ঢাবির ভিসির নির্দেশে গুলি চালিয়েছে পুলিশ আজ..\n",
      "Click Here ➡️  \n",
      "\n",
      "          \n",
      "\n",
      "\n",
      "media_video\n",
      "বাইরে থেকে ঢাবিতে প্রবেশ করতে চেয়েছিলো,ঢাবির শিক্ষার্থীদের সাহায্যের জন্য.. কিন্তু পুলি তাদের উপর গুলি চালায়...\n",
      "\n",
      "Click Here ➡️  \n",
      "\n",
      "          \n",
      "\n",
      "\n",
      "ঢাবি আপডেট।\n",
      "স্বাভাবিক। কেউ হলে আছে,কেউ চলে গেছে। ভিসি চত্ত্বরে পুলিশ-বিজিবি-সাংবাদিক আছে।\n",
      "\n",
      "Click Here ➡️  \n",
      "\n",
      "          \n",
      "\n",
      "\n",
      "জাবি তে কারেন্ট চলে গেলো।\n",
      "মনে হয় নিয়া গেছে।\n",
      "\n",
      "Click Here ➡️  \n",
      "          \n",
      "\n",
      "\n",
      "\"যারা হল ছাড়তে বাধ্য হচ্ছো কিন্তু থাকার জায়গা নেই তারা আমার বাসায় আসতে পারো \" ঢাবি শিক্ষক তাসনিম সিরাজ।\n",
      "Click Here ➡️  \n",
      "\n",
      "\n",
      "          \n",
      "\n",
      "\n",
      "🔥Breaking News🔥\n",
      "\"বিশ্বের সবচেয়ে বড় ছাত্র আন্দোলন\n",
      "হতে চলেছে আগামীকাল,\n",
      "যোগ দেবে সর্বস্তরের মানুষ\"\n",
      "\n",
      "Click Here ➡️  \n",
      "\n",
      "          \n",
      "\n",
      "\n",
      "media_image\n",
      "সারাদেশে আন্দোলনরত শিক্ষার্থীদের উপর পুলিশ ও ছাত্রলীগের হাম'লা, গুলিব'র্ষণ ও গ্রেফতা'রের প্রতিবাদ ও শহীদদের স্মরণে মোমবাতি প্রজ্বলন করে জগন্নাথ বিশ্ববিদ্যালয় বেগম ফজিলাতুন্নেছা মুজিব হলের ছাত্রীরা।\n",
      "\n",
      "Click Here ➡️  \n",
      "\n",
      "\n",
      "          \n",
      "\n",
      "\n",
      "ঢাবির বর্তমান অবস্থা। \n",
      "বাহিরে পুলিশ বিজিবি আছে \n",
      "কিন্তু আপাতত কোনো হা'ম লা ধাওয়া পালটা ধাওয়া হচ্ছেনা, বলতে গেলে পরিস্থিতি নরমাল।\n",
      "এটি সর্বশেষ আপডেট।\n",
      "\n",
      "Click Here ➡️  \n",
      "\n",
      "\n",
      "          \n",
      "\n",
      "\n",
      "দুর্ঘটনা  কবলিত মোটামুটি সব বিশ্ববিদ্যালয়ের খোঁজখবর নেওয়া হলো  সব জায়গায়  স্বাভাবিক  পরিবেশ বিরাজ করছে  আপাতত কোন ঝামেলা নেই  \n",
      "-রাত সাড়ে ১১ টা\n",
      "\n",
      "Click Here ➡️  \n",
      "\n",
      "\n",
      "          \n",
      "\n",
      "\n",
      "শিক্ষার্থীদের উপর সাউন্ড গ্রে\"নেড ছুঁড়তে গিয়ে নিজের হাতেই বি\"স্ফো\"রণ ঘটালো এক পুলিশ কনস্টেবল\n",
      "ক\"ব্জি উ*ড়ে গেছে 🙂\n",
      "ছবি দেখার মত না তাই দিলাম না\n",
      "\n",
      "Click Here ➡️  \n",
      "\n",
      "\n",
      "          \n",
      "\n",
      "\n",
      "ঢাবির আপডেট, \n",
      "★ ক্যাম্পাসের পরিস্থিতি এখন থমথমে। \n",
      "★ সবগুলো প্রবেশ পথে ব্যারিকেড দেয়া। \n",
      "★ প্রচুরসংখ্যক পুলিশ এখনো অবস্থান করছে ক্যাম্পাসে।\n",
      "★ বেশিরভাগ হলের শিক্ষার্থীরাই হল ত্যাগ করতে বাধ্য হয়েছে। \n",
      "★ অনেকে এখনো হলেই আছে, বিশেষত সাইন্সের হলগুলোতে। \n",
      "★ ক্যাম্পাসের আশেপাশের বিভিন্ন মোড়ে ছাত্রলীগের অবস্থান রয়েছে। \n",
      "★ এপর্যন্ত আহত সংখ্যা ২০০ এর কাছাকাছি, গুরুতর আহত ৫০। (আনুমানিক) \n",
      "[ শিক্ষার্থীদের উপর সরাসরি গুলি, টিয়ারগ্যাস, সাউন্ড গ্রেনেড ইত্যাদি নিয়ে হামলা করেছে পুলিশ। হামলা শুরু হয় জানাজা আদায়ের পরপরই। বঙ্গবন্ধু, রোকেয়া সহ কয়েকটা হল এবং কলাভবনের ভেতরেও টিয়ারগ্যাস নিক্ষেপ করেছে পুলিশ।\n",
      "\n",
      "Click Here ➡️  \n",
      "\n",
      "\n",
      "          \n",
      "\n",
      "\n",
      "ঢাবির আপডেট, \n",
      "গুজবে কান দিবেননা,  অনেকে বিভ্রান্ত ছড়াচ্ছে,\n",
      "হলে নাকি বিদ্যুৎ নেই, পুলিশ-বিজিবি এবং ছাত্রলীগ অবস্থান করছে, গণহত্যা নাকি হবে? এসব সম্পূর্ণ গুজব ভাইয়েরা।\n",
      "আবারো বলছি গুজব এটা।\n",
      "Click Here ➡️  \n",
      "\n",
      "\n",
      "          \n",
      "\n",
      "\n",
      "media_video\n",
      "সেনআউলিয়া থেকে ট্রাক ভর্তি পোলাপান জাবি ক্যাম্পাসের দিকে ডুকছে..🙂\n",
      "\n",
      "Click Here ➡️  \n",
      "\n",
      "\n",
      "          \n"
     ]
    }
   ],
   "source": [
    "print(combined_main.groupby(combined_main['date'].dt.date)['text_plain'].agg(lambda x: \"\\n\\n\\n\".join(x)).iloc[2])"
   ]
  },
  {
   "cell_type": "code",
   "execution_count": 69,
   "metadata": {},
   "outputs": [],
   "source": [
    "\n",
    "from openai import OpenAI\n",
    "from dotenv import load_dotenv"
   ]
  },
  {
   "cell_type": "code",
   "execution_count": 70,
   "metadata": {},
   "outputs": [],
   "source": [
    "\n",
    "client = OpenAI()"
   ]
  },
  {
   "cell_type": "code",
   "execution_count": 72,
   "metadata": {},
   "outputs": [],
   "source": [
    "\n",
    "a = client.batches.retrieve('batch_68690477ef788190a1452cbe5de8956d')"
   ]
  },
  {
   "cell_type": "code",
   "execution_count": 93,
   "metadata": {},
   "outputs": [
    {
     "data": {
      "text/plain": [
       "'file-V4eCq4y5LLe9nXsyd3wEaU'"
      ]
     },
     "execution_count": 93,
     "metadata": {},
     "output_type": "execute_result"
    }
   ],
   "source": [
    "# str(a)\n",
    "a.output_file_id"
   ]
  },
  {
   "cell_type": "code",
   "execution_count": 78,
   "metadata": {},
   "outputs": [],
   "source": [
    "from openai import OpenAI\n",
    "from dotenv import load_dotenv\n",
    "import json\n",
    "import io\n",
    "from PIL import Image, ImageOps\n",
    "import base64\n",
    "\n",
    "load_dotenv()\n",
    "\n",
    "def count_openai_embedding_tokens(text: str) -> int:\n",
    "    \"\"\"Counts the number of tokens in a text string for OpenAI embedding models.\"\"\"\n",
    "    encoding = tiktoken.get_encoding(\"cl100k_base\")\n",
    "    num_tokens = len(encoding.encode(text))\n",
    "    return num_tokens\n",
    "\n",
    "\n",
    "system_prompt = \"\"\"You are an expert emotion analysis AI. Your task is to analyze the provided Telegram post and identify the **primary Ekman emotion** expressed.\n",
    "\n",
    "The Ekman emotions you must choose from are:\n",
    "- **Anger**: Feeling of antagonism provoked by ill-treatment or opposition.\n",
    "- **Disgust**: Feeling of revulsion or strong disapproval aroused by something unpleasant or offensive.\n",
    "- **Fear**: Unpleasant emotion caused by the belief that someone or something is dangerous, likely to cause pain, or a threat.\n",
    "- **Happiness**: State of well-being and contentment; joy.\n",
    "- **Sadness**: Emotional pain associated with, or characterized by, feelings of disadvantage, loss, despair, grief, helplessness, disappointment, and sorrow.\n",
    "- **Surprise**: Feeling caused by something unexpected or unusual.\n",
    "\n",
    "Please analyze the following telegram post and provide the primary Ekman emtion.\n",
    "\n",
    "**If the primary emotion doesn't match any of the Ekman emotion then please provide the closest emotion outside the Ekman classification.\n",
    "\n",
    "If no emotion could be found at all, then please return 'NA'.\"\"\"\n",
    "\n",
    "# system_prompt = \"\"\"You are an expert emotion analysis AI. Your task is to analyze the provided Telegram post and identify the **primary Ekman emotion** expressed.\n",
    "\n",
    "# The Ekman emotions you must choose from are:\n",
    "# - **Anger**: Feeling of antagonism provoked by ill-treatment or opposition.\n",
    "# - **Disgust**: Feeling of revulsion or strong disapproval aroused by something unpleasant or offensive.\n",
    "# - **Fear**: Unpleasant emotion caused by the belief that someone or something is dangerous, likely to cause pain, or a threat.\n",
    "# - **Happiness**: State of well-being and contentment; joy.\n",
    "# - **Sadness**: Emotional pain associated with, or characterized by, feelings of disadvantage, loss, despair, grief, helplessness, disappointment, and sorrow.\n",
    "# - **Surprise**: Feeling caused by something unexpected or unusual.\n",
    "\n",
    "# Please analyze the following telegram post and return the dominant Ekman emotion in structured JSON format. If no emotion could be found, then please return 'N/A'. In addition to the emotion label, provide a short explanation for why this emotion was identified.\n",
    "\n",
    "# Format your output as a valid JSON object with the following fields:\n",
    "# {\n",
    "#   \"explanation\": \"<brief explanation (1-2 sentences) of which Ekman emotion is most dominant in the post>\"\n",
    "#   \"emotion\": \"<one of: Anger, Disgust, Fear, Happiness, Sadness, Surprise, N/A>\",\n",
    "# }\n",
    "# Ensure the output is strictly valid JSON.\"\"\"\n",
    "\n",
    "\n",
    "# response_format = {\n",
    "#     \"type\": \"json_schema\",\n",
    "#     \"name\": \"ekman_emotion\",\n",
    "#     \"schema\": {\n",
    "#         \"type\": \"object\",\n",
    "#         \"properties\": {\n",
    "#             \"emotion\": {\n",
    "#                 \"type\": \"string\",\n",
    "#                 \"description\": \"The primary Ekman emotion expressed in the text.\",\n",
    "#                 \"enum\": [\n",
    "#                     \"Anger\",\n",
    "#                     \"Disgust\",\n",
    "#                     \"Fear\",\n",
    "#                     \"Happiness\",\n",
    "#                     \"Sadness\",\n",
    "#                     \"Surprise\",\n",
    "#                     \"NA\",\n",
    "#                 ],\n",
    "#             }\n",
    "#         },\n",
    "#         \"required\": [\"emotion\"],\n",
    "#         \"additionalProperties\": False,\n",
    "#     },\n",
    "#     \"strict\": True,\n",
    "# }\n",
    "\n",
    "tool = [\n",
    "      {\n",
    "        \"type\": \"function\",\n",
    "        \"function\": {\n",
    "          \"name\": \"classify_ekman_emotion\",\n",
    "          \"description\": \"Classify the dominant Ekman emotion from a Telegram post\",\n",
    "          \"parameters\": {\n",
    "            \"type\": \"object\",\n",
    "            \"properties\": {\n",
    "              \"explanation\": {\n",
    "                \"type\": \"string\",\n",
    "                \"description\": \"A brief explanation for which Ekman emotion is dominant\"\n",
    "              },\n",
    "              \"emotion\": {\n",
    "                \"type\": \"string\",\n",
    "                # \"enum\": [\n",
    "                #     \"Anger\",\n",
    "                #     \"Disgust\",\n",
    "                #     \"Fear\",\n",
    "                #     \"Happiness\",\n",
    "                #     \"Sadness\",\n",
    "                #     \"Surprise\",\n",
    "                #     \"NA\",\n",
    "                # ],\n",
    "                \"description\": \"The dominant Ekman emotion\"\n",
    "              },\n",
    "            },\n",
    "            \"required\": [\"explanation\", \"emotion\"]\n",
    "          }\n",
    "        }\n",
    "      }\n",
    "    ]\n",
    "\n",
    "my_texts = [\"some text\", \"Doesn't look fun at all\", \"some other text\", \"This is so fun\", \"That is repulsive\"]\n",
    "\n",
    "# with open(\"my_test.jsonl\", \"w\") as f:\n",
    "#     for i, x in enumerate(my_texts):\n",
    "#         json.dump(\n",
    "#             {\n",
    "#                 \"custom_id\": f\"random_id{i}\",\n",
    "#                 \"method\": \"POST\",\n",
    "#                 \"url\": \"/v1/chat/completions\",\n",
    "#                 \"body\": {\n",
    "#                     \"model\": \"gpt-4.1-nano\",\n",
    "#                     \"messages\": [\n",
    "#                         {\"role\": \"system\", \"content\": system_prompt},\n",
    "#                         {\"role\": \"user\", \"content\": x},\n",
    "#                     ],\n",
    "#                 \"tools\":tool,\n",
    "#                 \"tool_choice\":'required'\n",
    "                \n",
    "#                 },\n",
    "#             },\n",
    "#             f,\n",
    "#         )\n",
    "#         f.write(\"\\n\")\n",
    "\n",
    "for i in range(0, len(my_texts), 2):\n",
    "  \n",
    "  with open(f\"test_jsonl/antiquotadu_discuss_{i}_{i+2-1}.jsonl\", \"w\") as f:\n",
    "      for j, row in enumerate(my_texts[i:i+2]):\n",
    "      # for i, x in enumerate(my_texts):\n",
    "        #   if pd.isnull(row['image_address']):\n",
    "        json.dump(\n",
    "            {\n",
    "                \"custom_id\": f\"antiquotadu_discuss_{j}\",\n",
    "                \"method\": \"POST\",\n",
    "                \"url\": \"/v1/chat/completions\",\n",
    "                \"body\": {\n",
    "                    \"model\": \"gpt-4.1-nano\",\n",
    "                    \"messages\": [\n",
    "                        {\"role\": \"system\", \"content\": system_prompt},\n",
    "                        {\"role\": \"user\", \"content\": row},\n",
    "                    ],\n",
    "                \"tools\":tool,\n",
    "                \"tool_choice\":'required'\n",
    "                \n",
    "                },\n",
    "            },\n",
    "            f,\n",
    "        )\n",
    "        #   else:\n",
    "        #     img = Image.open(row['image_address'])\n",
    "            \n",
    "        #     min_size = min(img.size)\n",
    "        #     buffer = io.BytesIO()\n",
    "        #     if min_size > 128:\n",
    "        #       img_small = ImageOps.scale(img, 128/min_size)\n",
    "        #       img_small.save(buffer, format=\"jpeg\")\n",
    "        #     else:\n",
    "        #       img.save(buffer, format='jpeg')\n",
    "\n",
    "\n",
    "\n",
    "            # encoded_img = base64.b64encode(buffer.getvalue()).decode(\"utf-8\")\n",
    "            \n",
    "            # json.dump(\n",
    "            #     {\n",
    "            #         \"custom_id\": f\"antiquotadu_discuss_{row['id']}\",\n",
    "            #         \"method\": \"POST\",\n",
    "            #         \"url\": \"/v1/chat/completions\",\n",
    "            #         \"body\": {\n",
    "            #             \"model\": \"gpt-4.1-nano\",\n",
    "            #             \"messages\": [\n",
    "            #                 {\"role\": \"system\", \"content\": system_prompt},\n",
    "            #                 {\"role\": \"user\", \"content\": [{\"type\":\"text\", \"text\":row['Text_Emotion']},\n",
    "            #                                             {\"type\":\"image_url\", \"image_url\": {\"url\": f\"data:image/jpeg;base64,{encoded_img}\"}}]},\n",
    "            #             ],\n",
    "            #         \"tools\":tool,\n",
    "            #         \"tool_choice\":'required'\n",
    "                    \n",
    "            #         },\n",
    "            #     },\n",
    "            #     f,\n",
    "            # )\n",
    "        f.write(\"\\n\")\n",
    "\n",
    "# client = OpenAI()\n"
   ]
  },
  {
   "cell_type": "code",
   "execution_count": 106,
   "metadata": {},
   "outputs": [
    {
     "data": {
      "text/plain": [
       "['discuss_aqd/antiquotadu_discuss_8000_8999.jsonl',\n",
       " 'discuss_aqd/antiquotadu_discuss_30000_30999.jsonl',\n",
       " 'discuss_aqd/antiquotadu_discuss_3000_3999.jsonl',\n",
       " 'discuss_aqd/antiquotadu_discuss_14000_14999.jsonl',\n",
       " 'discuss_aqd/antiquotadu_discuss_17000_17999.jsonl',\n",
       " 'discuss_aqd/antiquotadu_discuss_1000_1999.jsonl',\n",
       " 'discuss_aqd/antiquotadu_discuss_26000_26999.jsonl',\n",
       " 'discuss_aqd/antiquotadu_discuss_19000_19999.jsonl',\n",
       " 'discuss_aqd/antiquotadu_discuss_23000_23999.jsonl',\n",
       " 'discuss_aqd/antiquotadu_discuss_12000_12999.jsonl',\n",
       " 'discuss_aqd/antiquotadu_discuss_31000_31999.jsonl',\n",
       " 'discuss_aqd/antiquotadu_discuss_16000_16999.jsonl',\n",
       " 'discuss_aqd/antiquotadu_discuss_27000_27999.jsonl',\n",
       " 'discuss_aqd/antiquotadu_discuss_22000_22999.jsonl',\n",
       " 'discuss_aqd/antiquotadu_discuss_34000_34999.jsonl',\n",
       " 'discuss_aqd/antiquotadu_discuss_0_999.jsonl',\n",
       " 'discuss_aqd/antiquotadu_discuss_13000_13999.jsonl',\n",
       " 'discuss_aqd/antiquotadu_discuss_6000_6999.jsonl',\n",
       " 'discuss_aqd/antiquotadu_discuss_20000_20999.jsonl',\n",
       " 'discuss_aqd/antiquotadu_discuss_10000_10999.jsonl',\n",
       " 'discuss_aqd/antiquotadu_discuss_21000_21999.jsonl',\n",
       " 'discuss_aqd/antiquotadu_discuss_18000_18999.jsonl',\n",
       " 'discuss_aqd/antiquotadu_discuss_11000_11999.jsonl',\n",
       " 'discuss_aqd/antiquotadu_discuss_32000_32999.jsonl',\n",
       " 'discuss_aqd/antiquotadu_discuss_5000_5999.jsonl',\n",
       " 'discuss_aqd/antiquotadu_discuss_28000_28999.jsonl',\n",
       " 'discuss_aqd/antiquotadu_discuss_4000_4999.jsonl',\n",
       " 'discuss_aqd/antiquotadu_discuss_29000_29999.jsonl',\n",
       " 'discuss_aqd/antiquotadu_discuss_25000_25999.jsonl',\n",
       " 'discuss_aqd/antiquotadu_discuss_2000_2999.jsonl',\n",
       " 'discuss_aqd/antiquotadu_discuss_33000_33999.jsonl',\n",
       " 'discuss_aqd/antiquotadu_discuss_24000_24999.jsonl',\n",
       " 'discuss_aqd/antiquotadu_discuss_15000_15999.jsonl',\n",
       " 'discuss_aqd/antiquotadu_discuss_7000_7999.jsonl',\n",
       " 'discuss_aqd/antiquotadu_discuss_9000_9999.jsonl']"
      ]
     },
     "execution_count": 106,
     "metadata": {},
     "output_type": "execute_result"
    }
   ],
   "source": [
    "from glob import glob\n",
    "\n",
    "filenames = []\n",
    "\n",
    "for f in glob('discuss_aqd/*.jsonl'):\n",
    "    filenames.append(f)\n",
    "\n",
    "filenames"
   ]
  },
  {
   "cell_type": "code",
   "execution_count": 107,
   "metadata": {},
   "outputs": [],
   "source": [
    "import pandas as pd\n",
    "import numpy as np\n",
    "\n",
    "check_df = pd.DataFrame({'filenames':filenames, 'input_file_id':np.nan, 'batch_id':np.nan, 'output_file_id':np.nan}, dtype=str)\n",
    "check_df.to_csv(\"check_df.csv\", index=False)"
   ]
  },
  {
   "cell_type": "code",
   "execution_count": 101,
   "metadata": {},
   "outputs": [],
   "source": [
    "import time\n",
    "\n",
    "check_df = pd.read_csv('check_df.csv', dtype=str)\n",
    "filenames = check_df['filenames'].tolist()\n",
    "# client = OpenAI_stuff()\n",
    "\n",
    "\n",
    "for file in filenames:\n",
    "    row = check_df[check_df['filenames']==file].iloc[0]\n",
    "    # print(row)\n",
    "    # print(check_df)\n",
    "# for _, row in check_df.iterrows():\n",
    "    if pd.isnull(row['input_file_id']):\n",
    "        # batch_input_file = client.files.create(\n",
    "        #     file=open(row[\"filenames\"], \"rb\"), purpose=\"batch\"\n",
    "        # )\n",
    "        # batch_input_file_id = batch_input_file.id\n",
    "        batch_input_file_id = file + \"_input\"\n",
    "        check_df.loc[check_df['filenames']==file, 'input_file_id'] = batch_input_file_id\n",
    "        check_df.to_csv('check_df.csv', index=False)\n",
    "        row = check_df[check_df['filenames']==file].iloc[0]\n",
    "        print(file + 'in')\n",
    "    if pd.isnull(row['batch_id']):\n",
    "        # batch_obj = client.batches.create(\n",
    "        #     input_file_id=row['input_file_id'],\n",
    "        #     endpoint=\"/v1/chat/completions\",\n",
    "        #     completion_window=\"24h\",\n",
    "        #     metadata={\"description\": f\"Antiquotadu discuss emotion analysis_{file}\"},\n",
    "        # )\n",
    "        # batch_id = batch_obj.id\n",
    "        batch_id = file + \"_batch\"\n",
    "        check_df.loc[check_df['filenames']==file, 'batch_id'] = batch_id\n",
    "        check_df.to_csv('check_df.csv', index=False)\n",
    "        row = check_df[check_df['filenames']==file].iloc[0]\n",
    "        print(file + \"batch\")\n",
    "    if pd.isnull(row['output_file_id']):\n",
    "        # while True:\n",
    "        #     batch_obj = client.batches.retrieve(row['batch_id'])\n",
    "        #     if batch_obj.status == 'completed':\n",
    "        #         break\n",
    "        #     if batch_obj.status in ['failed', 'expired', 'cancelled']:\n",
    "        #         raise Exception(str(batch_obj))\n",
    "        #     time.sleep(3600)\n",
    "        check_df.loc[check_df['filenames']==file, 'output_file_id'] = file + \"output\" # batch_obj.output_file_id\n",
    "        check_df.to_csv('check_df.csv', index=False)\n",
    "        print(file + \"out\")\n",
    "        \n",
    "        \n",
    "\n",
    "        \n",
    "    #     pass\n",
    "    # elif pd.isnull()"
   ]
  },
  {
   "cell_type": "code",
   "execution_count": 99,
   "metadata": {},
   "outputs": [
    {
     "data": {
      "text/html": [
       "<div>\n",
       "<style scoped>\n",
       "    .dataframe tbody tr th:only-of-type {\n",
       "        vertical-align: middle;\n",
       "    }\n",
       "\n",
       "    .dataframe tbody tr th {\n",
       "        vertical-align: top;\n",
       "    }\n",
       "\n",
       "    .dataframe thead th {\n",
       "        text-align: right;\n",
       "    }\n",
       "</style>\n",
       "<table border=\"1\" class=\"dataframe\">\n",
       "  <thead>\n",
       "    <tr style=\"text-align: right;\">\n",
       "      <th></th>\n",
       "      <th>filenames</th>\n",
       "      <th>input_file_id</th>\n",
       "      <th>batch_id</th>\n",
       "      <th>output_file_id</th>\n",
       "    </tr>\n",
       "  </thead>\n",
       "  <tbody>\n",
       "    <tr>\n",
       "      <th>0</th>\n",
       "      <td>test_jsonl/antiquotadu_discuss_2_3.jsonl</td>\n",
       "      <td>test_jsonl/antiquotadu_discuss_2_3.jsonl_input</td>\n",
       "      <td>test_jsonl/antiquotadu_discuss_2_3.jsonl_batch</td>\n",
       "      <td>test_jsonl/antiquotadu_discuss_2_3.jsonloutput</td>\n",
       "    </tr>\n",
       "    <tr>\n",
       "      <th>1</th>\n",
       "      <td>test_jsonl/antiquotadu_discuss_0_1.jsonl</td>\n",
       "      <td>test_jsonl/antiquotadu_discuss_0_1.jsonl_input</td>\n",
       "      <td>test_jsonl/antiquotadu_discuss_0_1.jsonl_batch</td>\n",
       "      <td>test_jsonl/antiquotadu_discuss_0_1.jsonloutput</td>\n",
       "    </tr>\n",
       "    <tr>\n",
       "      <th>2</th>\n",
       "      <td>test_jsonl/antiquotadu_discuss_4_5.jsonl</td>\n",
       "      <td>test_jsonl/antiquotadu_discuss_4_5.jsonl_input</td>\n",
       "      <td>test_jsonl/antiquotadu_discuss_4_5.jsonl_batch</td>\n",
       "      <td>test_jsonl/antiquotadu_discuss_4_5.jsonloutput</td>\n",
       "    </tr>\n",
       "  </tbody>\n",
       "</table>\n",
       "</div>"
      ],
      "text/plain": [
       "                                  filenames  \\\n",
       "0  test_jsonl/antiquotadu_discuss_2_3.jsonl   \n",
       "1  test_jsonl/antiquotadu_discuss_0_1.jsonl   \n",
       "2  test_jsonl/antiquotadu_discuss_4_5.jsonl   \n",
       "\n",
       "                                    input_file_id  \\\n",
       "0  test_jsonl/antiquotadu_discuss_2_3.jsonl_input   \n",
       "1  test_jsonl/antiquotadu_discuss_0_1.jsonl_input   \n",
       "2  test_jsonl/antiquotadu_discuss_4_5.jsonl_input   \n",
       "\n",
       "                                         batch_id  \\\n",
       "0  test_jsonl/antiquotadu_discuss_2_3.jsonl_batch   \n",
       "1  test_jsonl/antiquotadu_discuss_0_1.jsonl_batch   \n",
       "2  test_jsonl/antiquotadu_discuss_4_5.jsonl_batch   \n",
       "\n",
       "                                   output_file_id  \n",
       "0  test_jsonl/antiquotadu_discuss_2_3.jsonloutput  \n",
       "1  test_jsonl/antiquotadu_discuss_0_1.jsonloutput  \n",
       "2  test_jsonl/antiquotadu_discuss_4_5.jsonloutput  "
      ]
     },
     "execution_count": 99,
     "metadata": {},
     "output_type": "execute_result"
    }
   ],
   "source": [
    "check_df"
   ]
  },
  {
   "cell_type": "code",
   "execution_count": null,
   "metadata": {},
   "outputs": [],
   "source": []
  }
 ],
 "metadata": {
  "kernelspec": {
   "display_name": "llm_env",
   "language": "python",
   "name": "python3"
  },
  "language_info": {
   "codemirror_mode": {
    "name": "ipython",
    "version": 3
   },
   "file_extension": ".py",
   "mimetype": "text/x-python",
   "name": "python",
   "nbconvert_exporter": "python",
   "pygments_lexer": "ipython3",
   "version": "3.11.9"
  }
 },
 "nbformat": 4,
 "nbformat_minor": 2
}
